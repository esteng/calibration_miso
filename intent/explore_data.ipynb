{
 "cells": [
  {
   "cell_type": "code",
   "execution_count": 1,
   "source": [
    "from datasets import load_dataset\n",
    "import seaborn as sns\n",
    "import numpy as np\n",
    "from matplotlib import pyplot as plt \n",
    "import json\n",
    "import pathlib "
   ],
   "outputs": [],
   "metadata": {}
  },
  {
   "cell_type": "code",
   "execution_count": 5,
   "source": [
    "dataset = load_dataset(\"nlu_evaluation_data\")['train']"
   ],
   "outputs": [
    {
     "output_type": "stream",
     "name": "stderr",
     "text": [
      "Using custom data configuration default\n",
      "Reusing dataset nlu_evaluation_data (/home/estengel/.cache/huggingface/datasets/nlu_evaluation_data/default/1.1.0/0416a5876d8240bd571f2bc2ad421cf6e6e88d938f8dcb5fd87b5af6033d6282)\n"
     ]
    }
   ],
   "metadata": {}
  },
  {
   "cell_type": "code",
   "execution_count": 13,
   "source": [
    "from collections import Counter\n",
    "\n",
    "label_dist = [x['label'] for x in dataset]\n",
    "\n",
    "sns.histplot(label_dist, stat=\"percent\", discrete=True)\n",
    "\n",
    "\n",
    "label_count = Counter(label_dist)\n",
    "print(label_count[50])\n",
    "print(label_count[49])\n",
    "print(label_count)"
   ],
   "outputs": [
    {
     "output_type": "stream",
     "name": "stdout",
     "text": [
      "551\n",
      "379\n",
      "Counter({9: 1451, 48: 1205, 27: 1088, 67: 1062, 53: 1052, 7: 1002, 25: 939, 45: 877, 26: 785, 15: 759, 17: 694, 22: 684, 13: 626, 28: 585, 18: 554, 50: 551, 20: 550, 59: 541, 8: 533, 52: 504, 21: 450, 11: 415, 63: 399, 49: 379, 51: 378, 39: 369, 40: 330, 56: 324, 19: 320, 2: 297, 38: 294, 43: 276, 55: 270, 57: 257, 33: 246, 46: 241, 65: 239, 47: 237, 31: 224, 16: 221, 62: 215, 42: 204, 0: 203, 66: 200, 61: 199, 30: 198, 60: 186, 64: 185, 29: 172, 54: 166, 4: 163, 6: 145, 35: 142, 32: 126, 1: 123, 24: 122, 58: 112, 36: 100, 12: 97, 14: 90, 44: 80, 3: 80, 37: 80, 34: 39, 23: 25, 41: 25, 5: 24, 10: 6})\n"
     ]
    },
    {
     "output_type": "display_data",
     "data": {
      "image/png": "[encoded data removed]",
      "text/plain": [
       "<Figure size 432x288 with 1 Axes>"
      ]
     },
     "metadata": {
      "needs_background": "light"
     }
    }
   ],
   "metadata": {}
  },
  {
   "cell_type": "code",
   "execution_count": 20,
   "source": [
    "big_xs = [5000, 10000, 20000, 50000, 100000, 120000]\n",
    "big_ys = [50, 100, 200, 500]\n",
    "\n",
    "total_small_data = 18000\n",
    "total_big_data = 120000\n",
    "\n",
    "small_xs_ys = []\n",
    "small_ys = []\n",
    "\n",
    "for bx in big_xs:\n",
    "    for by in big_ys:\n",
    "        perc_of_data = float(bx)/total_big_data\n",
    "        ratio = float(by)/bx\n",
    "\n",
    "        sx = int(perc_of_data * total_small_data) \n",
    "        sy = int(ratio * sx)\n",
    "        small_xs_ys.append((sx, sy))\n",
    "\n",
    "\n",
    "print(small_xs_ys)\n",
    "\n",
    "\n",
    "\n"
   ],
   "outputs": [
    {
     "output_type": "stream",
     "name": "stdout",
     "text": [
      "[(750, 7), (750, 15), (750, 30), (750, 75), (1500, 7), (1500, 15), (1500, 30), (1500, 75), (3000, 7), (3000, 15), (3000, 30), (3000, 75), (7500, 7), (7500, 15), (7500, 30), (7500, 75), (15000, 7), (15000, 15), (15000, 30), (15000, 75), (18000, 7), (18000, 15), (18000, 30), (18000, 75)]\n"
     ]
    }
   ],
   "metadata": {}
  },
  {
   "cell_type": "code",
   "execution_count": null,
   "source": [
    "small_xs = [760]"
   ],
   "outputs": [],
   "metadata": {}
  }
 ],
 "metadata": {
  "orig_nbformat": 4,
  "language_info": {
   "name": "python",
   "version": "3.6.13",
   "mimetype": "text/x-python",
   "codemirror_mode": {
    "name": "ipython",
    "version": 3
   },
   "pygments_lexer": "ipython3",
   "nbconvert_exporter": "python",
   "file_extension": ".py"
  },
  "kernelspec": {
   "name": "python3",
   "display_name": "Python 3.6.13 64-bit ('miso': conda)"
  },
  "interpreter": {
   "hash": "fd396659589a650ce70559ba8cfa1a7ea39d84c4037259c7552d1d18a7b58af9"
  }
 },
 "nbformat": 4,
 "nbformat_minor": 2
}