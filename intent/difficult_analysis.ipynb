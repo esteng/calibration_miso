{
 "cells": [
  {
   "cell_type": "code",
   "execution_count": 1,
   "metadata": {},
   "outputs": [],
   "source": [
    "import seaborn as sns\n",
    "import json\n",
    "import pandas as pd \n",
    "import numpy as np\n",
    "from matplotlib import pyplot as plt \n"
   ]
  },
  {
   "cell_type": "code",
   "execution_count": 4,
   "metadata": {},
   "outputs": [],
   "source": [
    "def get_accuracy(pred_file):\n",
    "    with open(pred_file) as f1:\n",
    "        pred_data = json.load(f1)\n",
    "    total = len(pred_data)\n",
    "    correct_examples = []\n",
    "    incorrect_examples = []\n",
    "\n",
    "    for example in pred_data:\n",
    "        max_pred = np.argmax(example['pred'])\n",
    "        true_label = example['true']\n",
    "        if max_pred == true_label: \n",
    "            correct_examples.append(example)\n",
    "        else:\n",
    "            incorrect_examples.append(example)\n",
    "\n",
    "    acc = len(correct_examples) / total \n",
    "    return acc, correct_examples, incorrect_examples"
   ]
  },
  {
   "cell_type": "code",
   "execution_count": 26,
   "metadata": {},
   "outputs": [],
   "source": [
    "\n",
    "acc_dataframe = pd.DataFrame(columns=['train', 'function', 'variable', 'value'], dtype='object')\n",
    "acc_upsample = []\n",
    "\n",
    "for seed in [12]:\n",
    "    for num in [750, 1500, 3000, 7500, 15000, 18000]:\n",
    "        for fxn_num in [15]:\n",
    "            acc, correct, incorrect = get_accuracy(f\"/brtx/603-nvme1/estengel/intent/50/{seed}_seed/{num}_{fxn_num}/{num}_{fxn_num}_{seed}_seed_predictions.json\")\n",
    "            acc_up, __, __ = get_accuracy(f\"/brtx/605-nvme1/estengel/intent_upsample_32.0/50/{seed}_seed/{num}_{fxn_num}/{num}_{fxn_num}_{seed}_seed_predictions.json\") \n",
    "            acc_rem, __, __ = get_accuracy(f\"/brtx/604-nvme1/estengel/intent_no_source_triggers/50/{seed}_seed/{num}_{fxn_num}/{num}_{fxn_num}_{seed}_seed_predictions.json\") \n",
    "            acc_dataframe = acc_dataframe.append({\"train\": str(num), \"function\": fxn_num, \"variable\": \"no upsample\", \"value\": acc}, ignore_index=True)\n",
    "            acc_dataframe = acc_dataframe.append({\"train\": str(num), \"function\": fxn_num, \"variable\": \"upsample\", \"value\": acc_up}, ignore_index=True)\n",
    "            acc_dataframe = acc_dataframe.append({\"train\": str(num), \"function\": fxn_num, \"variable\": \"remove\", \"value\": acc_rem}, ignore_index=True)\n",
    "\n",
    "            #acc_no_upsample.append(acc)\n",
    "#print(f\"accuracy: {acc:.2%}\")"
   ]
  },
  {
   "cell_type": "code",
   "execution_count": 27,
   "metadata": {},
   "outputs": [
    {
     "data": {
      "text/plain": [
       "<AxesSubplot:xlabel='train', ylabel='value'>"
      ]
     },
     "execution_count": 27,
     "metadata": {},
     "output_type": "execute_result"
    },
    {
     "data": {
      "image/png": "[encoded data removed]",
      "text/plain": [
       "<Figure size 432x288 with 1 Axes>"
      ]
     },
     "metadata": {
      "needs_background": "light"
     },
     "output_type": "display_data"
    }
   ],
   "source": [
    "\n",
    "sns.lineplot(data=acc_dataframe[acc_dataframe['function'] == 15], x = \"train\", y = \"value\", hue=\"variable\")"
   ]
  },
  {
   "cell_type": "code",
   "execution_count": 33,
   "metadata": {},
   "outputs": [
    {
     "name": "stderr",
     "output_type": "stream",
     "text": [
      "Using custom data configuration default\n",
      "Reusing dataset nlu_evaluation_data (/home/estengel/.cache/huggingface/datasets/nlu_evaluation_data/default/1.1.0/0416a5876d8240bd571f2bc2ad421cf6e6e88d938f8dcb5fd87b5af6033d6282)\n"
     ]
    },
    {
     "name": "stdout",
     "output_type": "stream",
     "text": [
      "lock path /home/estengel/.cache/huggingface/datasets/_home_estengel_.cache_huggingface_datasets_nlu_evaluation_data_default_1.1.0_0416a5876d8240bd571f2bc2ad421cf6e6e88d938f8dcb5fd87b5af6033d6282.lock\n"
     ]
    },
    {
     "data": {
      "application/vnd.jupyter.widget-view+json": {
       "model_id": "0ca359bbf175478f969dae16fb6fa8c1",
       "version_major": 2,
       "version_minor": 0
      },
      "text/plain": [
       "  0%|          | 0/1 [00:00<?, ?it/s]"
      ]
     },
     "metadata": {},
     "output_type": "display_data"
    },
    {
     "name": "stdout",
     "output_type": "stream",
     "text": [
      "[(27, 0.1997549019607843), (16, 0.24585218702865763), (62, 0.26356589147286824), (4, 0.278118609406953), (7, 0.2791084497671324), (57, 0.28793774319066145), (52, 0.291005291005291), (46, 0.2918395573997234), (11, 0.2955823293172691), (9, 0.3018607856650586), (53, 0.30259822560202787), (44, 0.3041666666666667), (67, 0.31889516635279347), (35, 0.3380281690140845), (45, 0.354618015963512), (48, 0.3607192254495159), (60, 0.36379928315412186), (15, 0.3759332454984629), (59, 0.3764633394947628), (42, 0.37745098039215685), (56, 0.3806584362139918), (6, 0.38390804597701145), (58, 0.38392857142857145), (10, 0.38888888888888884), (54, 0.38955823293172687), (61, 0.40033500837520936), (8, 0.4127579737335835), (3, 0.4208333333333334), (50, 0.4216575922565033), (47, 0.4219409282700422), (32, 0.42328042328042326), (1, 0.4363143631436315), (51, 0.43915343915343913), (23, 0.44), (64, 0.4468468468468469), (43, 0.44806763285024154), (49, 0.45382585751978893), (5, 0.4583333333333333), (31, 0.46428571428571425), (39, 0.4652213188798555), (24, 0.4726775956284153), (63, 0.47451963241436923), (29, 0.4767441860465116), (55, 0.48641975308641977), (18, 0.49277978339350187), (66, 0.49833333333333335), (0, 0.51559934318555), (41, 0.52), (30, 0.5202020202020202), (40, 0.5232323232323233), (13, 0.5420660276890308), (38, 0.5544217687074829), (12, 0.570446735395189), (21, 0.5777777777777778), (34, 0.6068376068376068), (26, 0.6131634819532908), (2, 0.6139169472502806), (37, 0.625), (14, 0.6333333333333333), (17, 0.6570605187319885), (36, 0.66), (22, 0.6637426900584795), (25, 0.6794462193823216), (33, 0.6842818428184282), (19, 0.7104166666666667), (28, 0.7242165242165242), (65, 0.7656903765690376), (20, 0.8406060606060607)]\n"
     ]
    }
   ],
   "source": [
    "from source_lookup import get_data, tokenize, get_probs, get_max_probs\n",
    "\n",
    "\n",
    "\n",
    "data = tokenize(get_data())\n",
    "__, probs = get_probs(data, exclude_function=True)\n",
    "max_probs = get_max_probs(probs, 3)\n",
    "\n",
    "avg_dict = {k: np.mean([x[1] for x in v]) for k, v in max_probs.items()}\n",
    "avg_items = sorted(avg_dict.items(), key = lambda x: x[1])\n",
    "print(avg_items)\n",
    "\n",
    "# print(max_probs)  \n"
   ]
  },
  {
   "cell_type": "code",
   "execution_count": 36,
   "metadata": {},
   "outputs": [
    {
     "name": "stdout",
     "output_type": "stream",
     "text": [
      "[('to', 0.18106617647058823), ('you', 0.18290441176470587), ('i', 0.23529411764705882)]\n",
      "[('contact', 0.2171945701357466), ('is', 0.2579185520361991), ('number', 0.26244343891402716)]\n"
     ]
    }
   ],
   "source": [
    "print(max_probs[27])\n",
    "print(max_probs[16])"
   ]
  },
  {
   "cell_type": "code",
   "execution_count": null,
   "metadata": {},
   "outputs": [],
   "source": []
  }
 ],
 "metadata": {
  "interpreter": {
   "hash": "fc54b65ffbdc4499b5f7873750f71079eae7c3f2c532c2a95bb361b39674f403"
  },
  "kernelspec": {
   "display_name": "Python 3.6.13 64-bit ('miso': conda)",
   "name": "python3"
  },
  "language_info": {
   "codemirror_mode": {
    "name": "ipython",
    "version": 3
   },
   "file_extension": ".py",
   "mimetype": "text/x-python",
   "name": "python",
   "nbconvert_exporter": "python",
   "pygments_lexer": "ipython3",
   "version": "3.6.13"
  },
  "orig_nbformat": 4
 },
 "nbformat": 4,
 "nbformat_minor": 2
}
