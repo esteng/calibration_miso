{
 "cells": [
  {
   "cell_type": "code",
   "execution_count": 1,
   "metadata": {},
   "outputs": [],
   "source": [
    "import seaborn as sns\n",
    "import json\n",
    "import pandas as pd \n",
    "import numpy as np\n",
    "from matplotlib import pyplot as plt \n",
    "import re\n",
    "import pathlib \n",
    "\n",
    "from data import get_source_triggers, split_by_intent\n",
    "\n",
    "colors = ['#7f3b08','#b35806','#e08214','#fdb863','#8e0152','#d73027','#4575b4','#b2abd2','#8073ac','#542788','#2d004b']\n",
    "# intents_and_functions = ['play_radio', \"FindManager\", 'email_query', \"Tomorrow\", 'email_querycontact', \"PlaceHasFeature\", 'general_quirky', \"DoNotConfirm\", 'traffic', \"FenceAttendee\", \"total\"]\n",
    "intents_and_functions = [50, \"FindManager\", 15, \"Tomorrow\", 16, \"PlaceHasFeature\", 27, \"DoNotConfirm\", 66, \"FenceAttendee\", \"total\"]\n",
    "color_mapping = {k:v for k,v in zip(intents_and_functions, colors)}\n"
   ]
  },
  {
   "cell_type": "code",
   "execution_count": 2,
   "metadata": {},
   "outputs": [],
   "source": [
    "from dataflow.core.lispress import parse_lispress, render_compact\n",
    "from dataflow.leaderboard.evaluate import evaluate_prediction_exact_match \n",
    "from dataflow.core.turn_prediction import TurnPrediction, TurnAnswer\n",
    "from dataflow.core.dialogue import TurnId, ProgramExecutionOracle\n",
    "\n",
    "def get_accuracy_intent(pred_file, intent, triggers, invert=False):\n",
    "    try:\n",
    "        with open(pred_file) as f1:\n",
    "            pred_data = json.load(f1)\n",
    "    except FileNotFoundError:\n",
    "        print(f\"file {pred_file} doesn't exist\")\n",
    "        return np.nan, [], [], 0\n",
    "    #with open(data_file) as f1:\n",
    "    \n",
    "    total = 0\n",
    "    correct_examples = []\n",
    "    incorrect_examples = []\n",
    "\n",
    "    for example in pred_data:\n",
    "        true_label = example['true']\n",
    "        source = re.split(\"\\s+\", example['input']) \n",
    "        has_trigger = any([t in source for t in triggers])\n",
    "        \n",
    "        if not invert:\n",
    "            if true_label != intent and has_trigger: \n",
    "                max_pred = np.argmax(example['pred'])\n",
    "                total += 1\n",
    "                if max_pred == true_label: \n",
    "                    correct_examples.append(example)\n",
    "                else:\n",
    "                    incorrect_examples.append(example)\n",
    "        \n",
    "            else:\n",
    "                continue\n",
    "        else:\n",
    "            if true_label == intent or not has_trigger: \n",
    "                max_pred = np.argmax(example['pred'])\n",
    "                total += 1\n",
    "                if max_pred == true_label: \n",
    "                    correct_examples.append(example)\n",
    "                else:\n",
    "                    incorrect_examples.append(example)\n",
    "        \n",
    "            else:\n",
    "                continue\n",
    "\n",
    "\n",
    "    try:\n",
    "        acc = len(correct_examples)/total \n",
    "    except ZeroDivisionError:\n",
    "        return np.nan, [], [], 0\n",
    "    # print(f\"{pred_file} has total {total}\")\n",
    "    return acc, correct_examples, incorrect_examples, total\n",
    "\n",
    "def get_accuracy_calflow(pred_tgt, true_src, true_tgt, fxn, triggers, invert=False):\n",
    "    # print(len(true_src), len(true_tgt), len(pred_tgt))\n",
    "    assert(len(true_src) == len(true_tgt) == len(pred_tgt))\n",
    "\n",
    "    total = 0\n",
    "    correct_examples = []\n",
    "    incorrect_examples = []\n",
    "\n",
    "    for pred, src, tgt in zip(pred_tgt, true_src, true_tgt):\n",
    "        pred, src, tgt = pred.strip(), src.strip(), tgt.strip() \n",
    "        try:\n",
    "            pred_str = render_compact(parse_lispress(pred))\n",
    "        except:\n",
    "            pred_str = \"(ERROR)\"\n",
    "        true_str = render_compact(parse_lispress(tgt))\n",
    "        pred = TurnPrediction(TurnId(\"test\", 0), src, pred_str)\n",
    "        true = TurnAnswer(TurnId(\"test\", 0), src, true_str, ProgramExecutionOracle(False, True))\n",
    "\n",
    "        match, match_no_refer = evaluate_prediction_exact_match(pred, true)\n",
    "\n",
    "        is_correct = match\n",
    "\n",
    "        tgt_tok = re.split(\"\\s+\", tgt)\n",
    "        src_tok = re.split(\"\\s+\", src)\n",
    "        has_fxn = fxn in tgt_tok\n",
    "        has_trigger = any([t in src_tok for t in triggers])\n",
    "        if not invert:\n",
    "            if not has_fxn and has_trigger:\n",
    "                total += 1\n",
    "                if is_correct:\n",
    "                    correct_examples.append((pred, src, tgt))\n",
    "                else:\n",
    "                    incorrect_examples.append((pred, src, tgt))\n",
    "        else:\n",
    "            if has_fxn and not has_trigger:\n",
    "                total += 1\n",
    "                if is_correct:\n",
    "                    correct_examples.append((pred, src, tgt))\n",
    "                else:\n",
    "                    incorrect_examples.append((pred, src, tgt))\n",
    "\n",
    "    try:\n",
    "        acc = len(correct_examples)/total \n",
    "    except ZeroDivisionError:\n",
    "        return np.nan, [], [], 0\n",
    "    return acc, correct_examples, incorrect_examples, total  "
   ]
  },
  {
   "cell_type": "code",
   "execution_count": 9,
   "metadata": {},
   "outputs": [],
   "source": [
    "%%capture \n",
    "\n",
    "def collect_intent(paths_and_types, splits = [750, 1500, 3000, 7500, 15000, 18000], fxn_splits = [15, 30, 75], intents=[50, 66, 16, 27, 15], seeds=[12, 31, 64], \n",
    "                    train_data_path = \"/home/estengel/incremental-function-learning/intent/data/nlu_eval_data/\"):\n",
    "\n",
    "    df = pd.DataFrame(columns=[\"fxn\", \"type\", \"train\", \"examples\", \"seed\", \"acc\", \"total\"], dtype=object) \n",
    "    lookup={\"15\": \"email_q\", \"16\": \"email_qc\", \"27\": \"quirky\", \"50\": \"radio\", \"66\": \"traffic\" }\n",
    "\n",
    "    for path, type_name in paths_and_types:\n",
    "        path = pathlib.Path(path)\n",
    "        for intent in intents:\n",
    "            for seed in seeds:\n",
    "                for split in splits:\n",
    "                    for fxn_split in fxn_splits:\n",
    "                        pred_path = path.joinpath(str(intent), f\"{seed}_seed\", f\"{split}_{fxn_split}\", \"test_predictions.json\")\n",
    "                        train_data, __, __ = split_by_intent(train_data_path, intent, split, fxn_split)\n",
    "                        triggers = get_source_triggers(train_data, intent)\n",
    "                        acc_has_trigger_no_fxn, correct, incorrect, total = get_accuracy_intent(pred_path, intent, triggers)\n",
    "                        acc_no_trigger_has_fxn, correct, incorrect, total = get_accuracy_intent(pred_path, intent, triggers,invert=True)\n",
    "                        \n",
    "                        df = df.append({\"fxn\": lookup[str(intent)], \"train\": str(split), \"examples\": fxn_split, \"type\": type_name, \"seed\": seed, \"acc_has_trigger_no_fxn\": acc_has_trigger_no_fxn, \"acc_no_trigger_has_fxn\": acc_no_trigger_has_fxn, \"total\": total}, ignore_index=True)\n",
    "    return df \n",
    "\n",
    "\n",
    "df2 = collect_intent([(\"/brtx/603-nvme1/estengel/intent_fixed_test/intent/\", \"baseline\"), \n",
    "                     (\"/brtx/603-nvme1/estengel/intent_fixed_test/intent_no_source/\", \"no dilution\")])\n"
   ]
  },
  {
   "cell_type": "code",
   "execution_count": 10,
   "metadata": {},
   "outputs": [],
   "source": [
    "%%capture  \n",
    "\n",
    "trigger_lookup = {\"FindManager\": [\"boss\", \"manager\", \"supervisor\"],\n",
    "                  \"Tomorrow\": [\"tomorrow\"],\n",
    "                  \"DoNotConfirm\": [\"cancel\", \"n't\", \"no\"],  \n",
    "                  \"PlaceHasFeature\": [\"takeout\",\"casual\",\"waiter\"],\n",
    "                  \"FenceAttendee\": [\"mom\", \"meet\"]}\n",
    "\n",
    "def collect_calflow(paths_and_types, splits = [5000, 10000, 20000, 50000, 100000, \"max\"], fxn_splits = [100], fxns=[\"FindManager\", \"Tomorrow\", \"DoNotConfirm\", \"FenceAttendee\", \"PlaceHasFeature\"], seeds=[12, 31, 64], \n",
    "                    train_data_path = \"/brtx/601-nvme1/estengel/resources/data/smcalflow.agent.data/\"):\n",
    "\n",
    "    df = pd.DataFrame(columns=[\"fxn\", \"type\", \"train\", \"examples\", \"seed\", \"acc\", \"total\"], dtype=object) \n",
    "\n",
    "    train_data_path = pathlib.Path(train_data_path)    \n",
    "\n",
    "    true_tgt_path = train_data_path.joinpath(\"test_valid.tgt\")\n",
    "    true_src_path = train_data_path.joinpath(\"test_valid.src\")\n",
    "    with open(true_src_path) as tsf, open(true_tgt_path) as ttf:\n",
    "        true_src = tsf.readlines()\n",
    "        true_tgt = ttf.readlines()\n",
    "\n",
    "    for path, type_name in paths_and_types:\n",
    "        path = pathlib.Path(path)\n",
    "        for fxn in fxns:\n",
    "            for seed in seeds:\n",
    "                for split in splits:\n",
    "                    for fxn_split in fxn_splits:\n",
    "                        pred_tgt_path = path.joinpath(f\"{fxn}_{split}_{fxn_split}_{seed}_seed_test_valid.tgt\") \n",
    "                        if not pred_tgt_path.exists():\n",
    "                            pred_tgt_path = path.joinpath(f\"{fxn}_{seed}_{split}_{fxn_split}_test_valid.tgt\") \n",
    "                            if not pred_tgt_path.exists():\n",
    "                                print(f\"Missing {pred_tgt_path}\")\n",
    "                                continue\n",
    "                        with open(pred_tgt_path) as ptf:\n",
    "                            pred_tgt = ptf.readlines()\n",
    "                        triggers = trigger_lookup[fxn]\n",
    "                        acc_has_trigger_no_fxn, correct, incorrect, total = get_accuracy_calflow(pred_tgt, true_src, true_tgt, fxn, triggers)\n",
    "                        acc_no_trigger_has_fxn, correct, incorrect, total = get_accuracy_calflow(pred_tgt, true_src, true_tgt, fxn, triggers, invert=True)\n",
    "                        # if np.isnan(acc_no_trigger_has_fxn): \n",
    "                        #     acc_no_trigger_has_fxn = -1 \n",
    "\n",
    "                        df = df.append({\"fxn\": fxn, \"train\": str(split), \"examples\": fxn_split, \"type\": type_name, \"seed\": seed, \"acc_has_trigger_no_fxn\": acc_has_trigger_no_fxn, \"acc_no_trigger_has_fxn\": acc_no_trigger_has_fxn, \"total\": total}, ignore_index=True)\n",
    "    return df \n",
    "\n",
    "\n",
    "collect_calflow([(\"/home/estengel/papers/incremental_function_learning/results/transformer\", \"baseline\"),\n",
    "                              (\"/home/estengel/papers/incremental_function_learning/results/no_source\", \"no_source\")], \n",
    "                              fxns=['PlaceHasFeature'])\n",
    "                            #   fxns=[\"FenceAttendee\", \"FindManager\", \"DoNotConfirm\", \"PlaceHasFeature\", \"Tomorrow\"])\n",
    "\n",
    "# calflow_df = pd.read_csv(\"/home/estengel/papers/incremental_function_learning/results/calflow_df.csv\")"
   ]
  },
  {
   "cell_type": "code",
   "execution_count": null,
   "metadata": {},
   "outputs": [],
   "source": [
    "# calflow_df.to_csv(\"/home/estengel/papers/incremental_function_learning/results/PlaceHasFeature_calflow_df.csv\")\n",
    "calflow_df = pd.read_csv(\"/home/estengel/papers/incremental_function_learning/results/PlaceHasFeature_calflow_df.csv\")"
   ]
  },
  {
   "cell_type": "code",
   "execution_count": 39,
   "metadata": {},
   "outputs": [
    {
     "data": {
      "image/png": "[encoded data removed]",
      "text/plain": [
       "<Figure size 360x147.6 with 1 Axes>"
      ]
     },
     "metadata": {
      "needs_background": "light"
     },
     "output_type": "display_data"
    }
   ],
   "source": [
    "\n",
    "fig, ax = plt.subplots(1,1, figsize=(5,2.05), sharex=True, sharey=True)\n",
    "\n",
    "intent_df = df2[df2['examples']==30]\n",
    "\n",
    "sns.barplot(data=intent_df,  x=\"fxn\", y = \"acc_has_trigger_no_fxn\", hue=\"type\", ax=ax) #, palette=color_mapping)\n",
    "# sns.barplot(data=intent_df,  x=\"fxn\", y = \"acc_no_trigger_has_fxn\", hue=\"type\", ax=ax[1]) #, palette=color_mapping)\n",
    "ax.set_ylim(0.4, 0.9)\n",
    "# ax[1].set_ylim(0.4, 0.9)\n",
    "ax.set_xlabel(\"\")\n",
    "# ax[0].legend([],[])\n",
    "ax.legend(**{\"fontsize\": 11, \"frameon\": False, \"ncol\": 2, \"loc\": 1, \"bbox_to_anchor\": (0.85, 1.3)})\n",
    "sns.despine()\n",
    "\n",
    "\n",
    "ax.set_ylabel(\"\")\n",
    "# ax[1].set_ylabel(\"-trigger, +intent\")\n",
    "# ax[1].set_xlabel(\"\")\n",
    "\n",
    "# plt.xticks(rotation=45)\n",
    "\n",
    "\n",
    "plt.tight_layout()\n",
    "plt.savefig(\"/home/estengel/papers/incremental_function_learning/figures/for_paper/difficult_examples_intent.pdf\",  bbox_inches='tight')\n"
   ]
  },
  {
   "cell_type": "code",
   "execution_count": 41,
   "metadata": {},
   "outputs": [
    {
     "data": {
      "image/png": "[encoded data removed]",
      "text/plain": [
       "<Figure size 288x288 with 1 Axes>"
      ]
     },
     "metadata": {
      "needs_background": "light"
     },
     "output_type": "display_data"
    },
    {
     "data": {
      "image/png": "[encoded data removed]",
      "text/plain": [
       "<Figure size 446.5x360 with 1 Axes>"
      ]
     },
     "metadata": {
      "needs_background": "light"
     },
     "output_type": "display_data"
    }
   ],
   "source": [
    "\n",
    "fig, ax = plt.subplots(1,1, figsize=(4,4))\n",
    "# print(calflow_df[calflow_df['type'] == 'baseline'])\n",
    "sns.catplot(data=calflow_df, kind='bar', x=\"train\", y = \"acc_no_trigger_has_fxn\", hue=\"type\") #, palette=color_mapping)\n",
    "sns.despine()\n",
    "\n",
    "plt.savefig(\"/home/estengel/papers/incremental_function_learning/figures/for_paper/difficult_examples_calflow.pdf\")\n"
   ]
  },
  {
   "cell_type": "code",
   "execution_count": 44,
   "metadata": {},
   "outputs": [
    {
     "name": "stdout",
     "output_type": "stream",
     "text": [
      "0    NaN\n",
      "1    NaN\n",
      "2    NaN\n",
      "3    NaN\n",
      "4    NaN\n",
      "5    NaN\n",
      "6    NaN\n",
      "7    NaN\n",
      "8    NaN\n",
      "9    NaN\n",
      "10   NaN\n",
      "11   NaN\n",
      "12   NaN\n",
      "13   NaN\n",
      "14   NaN\n",
      "15   NaN\n",
      "16   NaN\n",
      "17   NaN\n",
      "18   NaN\n",
      "19   NaN\n",
      "20   NaN\n",
      "21   NaN\n",
      "22   NaN\n",
      "23   NaN\n",
      "24   NaN\n",
      "25   NaN\n",
      "26   NaN\n",
      "27   NaN\n",
      "28   NaN\n",
      "29   NaN\n",
      "30   NaN\n",
      "31   NaN\n",
      "32   NaN\n",
      "33   NaN\n",
      "34   NaN\n",
      "Name: acc_has_trigger_no_fxn, dtype: float64\n"
     ]
    }
   ],
   "source": [
    "print(calflow_df['acc_has_trigger_no_fxn'])"
   ]
  },
  {
   "cell_type": "code",
   "execution_count": 46,
   "metadata": {},
   "outputs": [
    {
     "name": "stdout",
     "output_type": "stream",
     "text": [
      "78.04\n"
     ]
    }
   ],
   "source": [
    "with open(\"data/nlu_eval_data/train.json\") as f1:\n",
    "    train_data = json.load(f1) \n",
    "\n",
    "has_trigger = 0\n",
    "is_50 = 0\n",
    "for d in train_data:\n",
    "    if d['label'] == 50:\n",
    "        is_50+=1\n",
    "        for t in [\"radio\", \"fm\", \"play\"]:\n",
    "            if t in d['text'].split(' '):\n",
    "                has_trigger += 1\n",
    "                break\n",
    "\n",
    "print(f\"{has_trigger / is_50 * 100 :.2f}\")"
   ]
  },
  {
   "cell_type": "code",
   "execution_count": null,
   "metadata": {},
   "outputs": [],
   "source": []
  }
 ],
 "metadata": {
  "interpreter": {
   "hash": "fc54b65ffbdc4499b5f7873750f71079eae7c3f2c532c2a95bb361b39674f403"
  },
  "kernelspec": {
   "display_name": "Python 3.6.13 64-bit ('miso': conda)",
   "name": "python3"
  },
  "language_info": {
   "codemirror_mode": {
    "name": "ipython",
    "version": 3
   },
   "file_extension": ".py",
   "mimetype": "text/x-python",
   "name": "python",
   "nbconvert_exporter": "python",
   "pygments_lexer": "ipython3",
   "version": "3.6.13"
  },
  "orig_nbformat": 4
 },
 "nbformat": 4,
 "nbformat_minor": 2
}
