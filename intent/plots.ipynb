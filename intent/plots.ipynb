{
 "cells": [
  {
   "cell_type": "code",
   "execution_count": 1,
   "source": [
    "import seaborn as sns \n",
    "import numpy as np\n",
    "import pandas as pd \n",
    "from matplotlib import pyplot as plt \n",
    "plt.style.use('seaborn')\n",
    "plt.rcParams.update({'font.size': 18, 'lines.markeredgewidth': 5})\n",
    "# sns.set_style(style='ticks')"
   ],
   "outputs": [],
   "metadata": {}
  },
  {
   "cell_type": "code",
   "execution_count": 22,
   "source": [
    "import pathlib\n",
    "import json \n",
    "\n",
    "def get_data_from_dir(root_data_dir, fxn, seeds):\n",
    "    all_data = pd.DataFrame(columns=[\"train\", \"function\", \"seed\", \"total_acc\", \"fxn_acc\"], dtype=object)\n",
    "    root_data_dir = pathlib.Path(root_data_dir).joinpath(str(fxn))\n",
    "    for seed in seeds:\n",
    "        data_dir = root_data_dir.joinpath(f\"{seed}_seed\")\n",
    "        print(data_dir)\n",
    "        print(data_dir.glob(\"*/test_metrics.json\"))\n",
    "        for path in data_dir.glob(\"*/test_metrics.json\"):\n",
    "            data = json.load(open(path))\n",
    "            setting = path.parent.name\n",
    "            num_train, num_fxn = setting.split(\"_\")\n",
    "            num_train, num_fxn = int(num_train), int(num_fxn)\n",
    "\n",
    "            to_add = {\"train\": str(num_train), \"function\": num_fxn, \"seed\": seed, \n",
    "                     \"total_acc\": data['acc'], \"fxn_acc\": data[f\"{fxn}_acc\"]}\n",
    "            all_data = all_data.append(to_add, ignore_index=True)\n",
    "    print(all_data.head())\n",
    "    return all_data \n",
    "\n",
    "def plot(data_dir, fxn, seeds = [12, 31, 50], title=None, savepath=None, fixed_axis=False, xs = [750, 1500, 3000, 7500, 15000, 18000], ax = None):\n",
    "\n",
    "    data = get_data_from_dir(data_dir, fxn, seeds)\n",
    "    data = data[data['function'] == 15.0]\n",
    "    col_names = [\"train\", \"total_acc\", \"fxn_acc\"]\n",
    "    minor_data = data[col_names]\n",
    "    minor_data = pd.melt(minor_data, id_vars=['train'])\n",
    "\n",
    "    if ax is None:\n",
    "        fig, ax = plt.subplots()\n",
    "\n",
    "\n",
    "    sns.set_theme(font_scale = 1.1, style=\"ticks\", context = \"paper\") \n",
    "    sns.lineplot(data=minor_data, \n",
    "                x=\"train\", \n",
    "                y=\"value\",  \n",
    "                hue=\"variable\", \n",
    "                err_style=\"bars\", \n",
    "                err_kws={\"capsize\":7, \"markeredgewidth\":2,  \"elinewidth\":2}, \n",
    "                marker = \"o\", \n",
    "                markersize=7,\n",
    "                linewidth=3,\n",
    "                ax=ax)\n",
    "    sns.despine(ax=ax, top=True, right=True, left=False, bottom=False)\n",
    "    sns.set_theme(font_scale = 1.1, style=\"ticks\", context = \"paper\") \n",
    "\n",
    "    # for i, num in enumerate(xs):\n",
    "    #     for var in [f'{prefix}_em', f'{prefix}_coarse', f'{prefix}_fine']:\n",
    "    #         data_subset = minor_data[minor_data['train'] == str(num)] \n",
    "    #         data_subset = data_subset[data_subset['variable'] == var]\n",
    "    #         mean_value = data_subset.mean()['value']\n",
    "    #         ax.annotate(f\"{mean_value:.2f}\", (i, mean_value))\n",
    "\n",
    "    if fixed_axis:\n",
    "        ax.ylim(20, 100)\n",
    "\n",
    "    # sns.set(font_scale = 1.1)\n",
    "    ax.set_title(title, fontsize=14)\n",
    "    ax.set_ylabel(\"\")\n",
    "    ax.set_xlabel(\"Total Training Examples\")\n",
    "    try:\n",
    "        legend = ax.get_legend()\n",
    "        handles, labels = legend.legendHandles, legend.texts\n",
    "\n",
    "        # text_labels = []\n",
    "        # for i, text in enumerate(labels):\n",
    "        #     text_labels.append(name_lookup[text._text])\n",
    "\n",
    "        # ax.legend(handles, text_labels)\n",
    "    except AttributeError:\n",
    "        pass\n",
    "\n",
    "\n",
    "    # sns.set(font_scale = 1.1)\n",
    "\n",
    "    if savepath is not None:\n",
    "        plt.tight_layout()\n",
    "        plt.savefig(savepath)\n",
    "\n"
   ],
   "outputs": [],
   "metadata": {}
  },
  {
   "cell_type": "code",
   "execution_count": 23,
   "source": [
    "# lot(data_dir, title, savepath=None, fixed_axis=False, xs = [750, 1500, 3000, 7500, 15000, 18000], ax = None\n",
    "\n",
    "plot(\"/srv/local1/estengel/intent/\", 50, [12, 31, 64])"
   ],
   "outputs": [
    {
     "output_type": "stream",
     "name": "stdout",
     "text": [
      "/srv/local1/estengel/intent/50/12_seed\n",
      "<generator object Path.glob at 0x7fe77a6aa258>\n",
      "/srv/local1/estengel/intent/50/31_seed\n",
      "<generator object Path.glob at 0x7fe77a861258>\n",
      "/srv/local1/estengel/intent/50/64_seed\n",
      "<generator object Path.glob at 0x7fe77a861258>\n",
      "  train function seed  total_acc   fxn_acc\n",
      "0   750        7   12   0.731040  0.345611\n",
      "1   750       15   12   0.740602  0.660714\n",
      "2   750       30   12   0.740681  0.840597\n",
      "3   750       75   12   0.723647  0.847911\n",
      "4  1500        7   12   0.809069  0.469974\n"
     ]
    },
    {
     "output_type": "display_data",
     "data": {
      "image/png": "[encoded data removed]",
      "text/plain": [
       "<Figure size 576x396 with 1 Axes>"
      ]
     },
     "metadata": {}
    }
   ],
   "metadata": {}
  },
  {
   "cell_type": "code",
   "execution_count": null,
   "source": [],
   "outputs": [],
   "metadata": {}
  }
 ],
 "metadata": {
  "orig_nbformat": 4,
  "language_info": {
   "name": "python",
   "version": "3.6.13",
   "mimetype": "text/x-python",
   "codemirror_mode": {
    "name": "ipython",
    "version": 3
   },
   "pygments_lexer": "ipython3",
   "nbconvert_exporter": "python",
   "file_extension": ".py"
  },
  "kernelspec": {
   "name": "python3",
   "display_name": "Python 3.6.13 64-bit ('miso': conda)"
  },
  "interpreter": {
   "hash": "fd396659589a650ce70559ba8cfa1a7ea39d84c4037259c7552d1d18a7b58af9"
  }
 },
 "nbformat": 4,
 "nbformat_minor": 2
}