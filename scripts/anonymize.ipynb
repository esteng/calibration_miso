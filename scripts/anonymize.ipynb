{
 "cells": [
  {
   "cell_type": "code",
   "execution_count": 4,
   "source": [
    "from dataflow.core.lispress import lispress_to_program, program_to_lispress, parse_lispress, render_compact\n",
    "from dataflow.core.linearize import seq_to_lispress, lispress_to_seq\n",
    "from dataflow.core.program import ValueOp, Expression, BuildStructOp\n",
    "import pdb \n",
    "import json \n",
    "from tqdm import tqdm\n",
    "\n",
    "EXCEPTIONS={\"NextDOW\":\"DAY_OF_WEEK\",\n",
    "            \"FullMonthofMonth\": \"MONTH\"\n",
    "            }\n",
    "\n",
    "MONTHS = [\"January\", \"February\", \"March\", \"April\", \"May\", \"June\", \"July\", \"August\", \"September\", \"October\", \"November\", \"December\"]\n",
    "\n",
    "SECONDARY_EXCEPTIONS={m: \"MONTH\" for m in MONTHS}\n",
    "\n",
    "\n",
    "def anonymize(lispress_str):\n",
    "    # lispress_seq = parse_lispress(lispress_str)\n",
    "    # lispress = seq_to_lispress(lispress_seq)\n",
    "    lispress = parse_lispress(lispress_str)\n",
    "    program, __ = lispress_to_program(lispress, 0)\n",
    "    parent_lookup = {arg: expr.id for expr in program.expressions for arg in expr.arg_ids}\n",
    "    expression_lookup = {expr.id: expr for expr in program.expressions}\n",
    "\n",
    "    for i, expr in enumerate(program.expressions):\n",
    "        op = expr.op\n",
    "        if isinstance(op, ValueOp):\n",
    "            value = json.loads(op.value)\n",
    "            if value['schema'] == \"String\":\n",
    "                value['underlying'] = \"String\"\n",
    "            elif value['schema'] == \"Long\": \n",
    "                value['underlying'] = \"Long\"\n",
    "            elif value['schema'] == \"Boolean\":\n",
    "                value['underlying'] = \"Bool\"\n",
    "            elif value['schema'] == \"Number\":\n",
    "                value['underlying'] = \"Number\"\n",
    "            else:\n",
    "                pdb.set_trace()\n",
    "            new_op = ValueOp(json.dumps(value))\n",
    "            new_expr = Expression(expr.id, new_op, expr.type_args, expr.type, expr.arg_ids)\n",
    "            program.expressions[i] = new_expr \n",
    "        \n",
    "        try:\n",
    "            parent_expression = expression_lookup[parent_lookup[expr.id]]\n",
    "        except KeyError:\n",
    "            parent_expression = None\n",
    "        # Days/some months\n",
    "        if (parent_expression is not None and isinstance(parent_expression.op, BuildStructOp) \n",
    "            and parent_expression.op.op_schema in EXCEPTIONS.keys() and isinstance(op, BuildStructOp)):\n",
    "            new_name = EXCEPTIONS[parent_expression.op.op_schema]\n",
    "            new_op = BuildStructOp(f\"Value(\\\"{new_name}\\\")\", op.op_fields, op.empty_base, push_go = op.push_go)\n",
    "            new_expr = Expression(expr.id, new_op, expr.type_args, expr.type, expr.arg_ids)\n",
    "            program.expressions[i] = new_expr\n",
    "        # Months\n",
    "        if isinstance(op, BuildStructOp) and op.op_schema in SECONDARY_EXCEPTIONS.keys():\n",
    "            new_name = SECONDARY_EXCEPTIONS[op.op_schema]\n",
    "            new_op = BuildStructOp(f\"Value(\\\"{new_name}\\\")\", op.op_fields, op.empty_base, push_go = op.push_go)\n",
    "            new_expr = Expression(expr.id, new_op, expr.type_args, expr.type, expr.arg_ids)\n",
    "            program.expressions[i] = new_expr\n",
    "        # holidays\n",
    "        if isinstance(op, BuildStructOp) and op.op_schema.startswith(\"Holiday.\"):\n",
    "            new_name = \"HOLIDAY\"\n",
    "            new_op = BuildStructOp(f\"Value(\\\"{new_name}\\\")\", op.op_fields, op.empty_base, push_go = op.push_go)\n",
    "            new_expr = Expression(expr.id, new_op, expr.type_args, expr.type, expr.arg_ids)\n",
    "            program.expressions[i] = new_expr\n",
    "\n",
    "\n",
    "            \n",
    "    \n",
    "    lispress = program_to_lispress(program)\n",
    "    # seq = lispress_to_seq(lispress)\n",
    "    lispress_str = render_compact(lispress)\n",
    "    return lispress_str\n",
    "\n",
    "print(\"reading...\")\n",
    "with open(\"/srv/local1/estengel/resources/data/smcalflow.agent.data/train.tgt\") as train_f, \\\n",
    "    open(\"/srv/local1/estengel/resources/data/smcalflow.agent.data/valid.tgt\") as dev_f:\n",
    "    train_lines = train_f.readlines()\n",
    "    dev_lines = dev_f.readlines()\n",
    "\n",
    "print(\"converting train...\")\n",
    "new_train_lines = [anonymize(tl.strip()) for tl in tqdm(train_lines)]\n",
    "print(\"converting dev...\")\n",
    "new_dev_lines = [anonymize(dl.strip()) for dl in tqdm(dev_lines)]\n",
    "\n",
    "print(\"writing...\")\n",
    "with open(\"/srv/local1/estengel/resources/data/smcalflow.agent.data/train_anon.tgt\", \"w\") as train_f, \\\n",
    "    open(\"/srv/local1/estengel/resources/data/smcalflow.agent.data/valid_anon.tgt\", \"w\") as dev_f:\n",
    "    for tl in new_train_lines:\n",
    "        train_f.write(f\"{tl}\\n\")\n",
    "    for dl in new_dev_lines:\n",
    "        dev_f.write(f\"{dl}\\n\")\n",
    "\n",
    "\n"
   ],
   "outputs": [
    {
     "output_type": "stream",
     "name": "stdout",
     "text": [
      "reading...\n",
      "converting train...\n"
     ]
    },
    {
     "output_type": "stream",
     "name": "stderr",
     "text": [
      "100%|██████████| 121024/121024 [00:56<00:00, 2145.11it/s]\n"
     ]
    },
    {
     "output_type": "stream",
     "name": "stdout",
     "text": [
      "converting dev...\n"
     ]
    },
    {
     "output_type": "stream",
     "name": "stderr",
     "text": [
      "100%|██████████| 13496/13496 [00:06<00:00, 2159.38it/s]\n"
     ]
    },
    {
     "output_type": "stream",
     "name": "stdout",
     "text": [
      "writing...\n"
     ]
    }
   ],
   "metadata": {}
  },
  {
   "cell_type": "code",
   "execution_count": null,
   "source": [
    "new_train_lines[0]"
   ],
   "outputs": [],
   "metadata": {}
  },
  {
   "cell_type": "code",
   "execution_count": null,
   "source": [],
   "outputs": [],
   "metadata": {}
  }
 ],
 "metadata": {
  "orig_nbformat": 4,
  "language_info": {
   "name": "python",
   "version": "3.6.13",
   "mimetype": "text/x-python",
   "codemirror_mode": {
    "name": "ipython",
    "version": 3
   },
   "pygments_lexer": "ipython3",
   "nbconvert_exporter": "python",
   "file_extension": ".py"
  },
  "kernelspec": {
   "name": "python3",
   "display_name": "Python 3.6.13 64-bit ('miso': conda)"
  },
  "interpreter": {
   "hash": "fd396659589a650ce70559ba8cfa1a7ea39d84c4037259c7552d1d18a7b58af9"
  }
 },
 "nbformat": 4,
 "nbformat_minor": 2
}