{
 "cells": [
  {
   "cell_type": "markdown",
   "metadata": {},
   "source": [
    "## Backtranslating glosses \n",
    "The backtranslation results indicate that there are gains to be had from parsing glosses instead of parsing inputs. However, parsing + glossing + parsing requires 3x the computation, so it should only be done at low confidence. This notebook is for exploring whether that's a feasible strategy. "
   ]
  },
  {
   "cell_type": "code",
   "execution_count": 32,
   "metadata": {},
   "outputs": [],
   "source": [
    "import json \n",
    "from collections import defaultdict\n",
    "import re \n",
    "\n",
    "import numpy as np \n",
    "from dataflow.core.lispress import render_compact, parse_lispress\n",
    "\n",
    "gold_tgt_file = \"/brtx/601-nvme1/estengel/resources/data/smcalflow.agent.data.from_benchclamp/dev_all.tgt\"\n",
    "gold_src_file = \"/brtx/601-nvme1/estengel/resources/data/smcalflow.agent.data.from_benchclamp/dev_all.src_tok\"\n",
    "\n",
    "pred_from_gloss_file = \"/brtx/604-nvme1/estengel/calflow_calibration/benchclamp/lispress_to_text_context/1.0/bart-large_calflow_last_user_all_0.0001/checkpoint-10000/for_roundtrip/predicted_dev_all.tgt\"\n",
    "pred_from_input_file = \"/brtx/604-nvme1/estengel/calflow_calibration/miso/tune_roberta_tok_fix_benchclamp_data/translate_output_calibrated/dev_all.tgt\" \n",
    "\n",
    "\n",
    "def read_gold_file(file):\n",
    "    with open(file) as f:\n",
    "        if file.endswith(\".tgt\"):\n",
    "            to_ret = [render_compact(parse_lispress(line)) for line in f.readlines()]\n",
    "        else:\n",
    "            to_ret = [re.sub(\"__StartOfProgram\", \"\", x).strip() for x in f.readlines()]\n",
    "    return to_ret \n",
    "\n",
    "def read_nucleus_file(miso_pred_file, return_dict=True, n_preds = 3):\n",
    "    with open(miso_pred_file, \"r\") as f:\n",
    "        data = [json.loads(x) for x in f.readlines()]\n",
    "    to_ret = []\n",
    "    if return_dict:\n",
    "        data_by_src_str = defaultdict(list)\n",
    "        for line in data:\n",
    "            data_by_src_str[line['src_str']].append(line) \n",
    "        to_iterate = data_by_src_str.items()\n",
    "    else:\n",
    "        # chunk data into groups of n_preds\n",
    "        to_iterate = [data[i:i + n_preds] for i in range(0, len(data), n_preds)]\n",
    "    # for src_str, lines in data_by_src_str.items():\n",
    "    for item in to_iterate:\n",
    "        if return_dict:\n",
    "            src_str, lines = item\n",
    "        else:\n",
    "            lines = item\n",
    "        total_probs = [np.exp(np.sum(np.log(x['expression_probs']))) \n",
    "                                if x['expression_probs'] is not None else 0.0 \n",
    "                                    for x in lines ]\n",
    "        min_probs = []\n",
    "        for x in lines:\n",
    "            if x['expression_probs'] is not None and len(x['expression_probs']) > 0:\n",
    "                min_probs.append(np.min(x['expression_probs']))\n",
    "            else:\n",
    "                min_probs.append(0.0)\n",
    "\n",
    "        combo_lines = zip(lines, min_probs, total_probs)\n",
    "        sorted_combo_lines = sorted(combo_lines, key=lambda x: x[-1], reverse=True)\n",
    "        if return_dict:\n",
    "            data_by_src_str[src_str] = sorted_combo_lines\n",
    "        to_ret.append(sorted_combo_lines)\n",
    "    if return_dict: \n",
    "        return data_by_src_str\n",
    "    return to_ret \n"
   ]
  },
  {
   "cell_type": "markdown",
   "metadata": {},
   "source": [
    "## First, get predicted lispress from nucleus file "
   ]
  },
  {
   "cell_type": "code",
   "execution_count": 33,
   "metadata": {},
   "outputs": [
    {
     "name": "stdout",
     "output_type": "stream",
     "text": [
      "12271\n"
     ]
    }
   ],
   "source": [
    "pred_from_input = read_nucleus_file(pred_from_input_file, return_dict=False)\n",
    "top_nuc_preds = []\n",
    "for lines in pred_from_input:\n",
    "    nuc_data = lines[0][0]\n",
    "    try:\n",
    "        pred_tgt = render_compact(parse_lispress(nuc_data['tgt_str']))\n",
    "    except: \n",
    "        pred_tgt = \"(ERROR)\"\n",
    "    top_nuc_preds.append(pred_tgt)\n",
    "\n",
    "print(len(top_nuc_preds))\n",
    "with open(\"/brtx/604-nvme1/estengel/calflow_calibration/miso/tune_roberta_tok_fix_benchclamp_data/translate_output_calibrated/dev_all_just_tgt.tgt\", \"w\") as f1:\n",
    "    for line in top_nuc_preds:\n",
    "        f1.write(line + \"\\n\")"
   ]
  },
  {
   "cell_type": "markdown",
   "metadata": {},
   "source": [
    "## Backtranslate tgt file "
   ]
  },
  {
   "cell_type": "code",
   "execution_count": null,
   "metadata": {},
   "outputs": [],
   "source": [
    "!python hit/scripts/prep_for_translate.py --miso_pred_file /brtx/604-nvme1/estengel/calflow_calibration/miso/tune_roberta_tok_fix_benchclamp_data/translate_output_calibrated/dev_all.tgt --src_file /brtx/601-nvme1/estengel/resources/data/smcalflow.agent.data.from_benchclamp/dev_all.src_tok --tgt_file /brtx/601-nvme1/estengel/resources/data/smcalflow.agent.data.from_benchclamp/dev_all.tgt --n_pred 3 --out_file /brtx/604-nvme1/estengel/calflow_calibration/miso/tune_roberta_tok_fix_benchclamp_data/translate_output_calibrated/dev_all_for_backtranslate.jsonl"
   ]
  },
  {
   "cell_type": "code",
   "execution_count": 34,
   "metadata": {},
   "outputs": [
    {
     "name": "stdout",
     "output_type": "stream",
     "text": [
      "/bin/bash: ./calibration_scripts/translate_miso_output.sh: No such file or directory\n"
     ]
    }
   ],
   "source": [
    "!./calibration_scripts/translate_miso_output.sh \\\n",
    "    /brtx/604-nvme1/estengel/calflow_calibration/benchclamp/lispress_to_text_context/1.0/bart-large_calflow_last_user_all_0.0001/checkpoint-10000 \\\n",
    "    /brtx/604-nvme1/estengel/calflow_calibration/miso/tune_roberta_tok_fix_benchclamp_data/translate_output_calibrated/dev_all_for_backtranslate.jsonl \\\n",
    "    /brtx/604-nvme1/estengel/calflow_calibration/benchclamp/lispress_to_text_context/1.0/bart-large_calflow_last_user_all_0.0001/checkpoint-10000/outputs_from_nucleus_backtranslate\n",
    "    "
   ]
  },
  {
   "cell_type": "code",
   "execution_count": 2,
   "metadata": {},
   "outputs": [],
   "source": [
    "gold_tgt_data = read_gold_file(gold_tgt_file)\n",
    "gold_src_data = read_gold_file(gold_src_file)\n",
    "pred_from_gloss = read_gold_file(pred_from_gloss_file)\n",
    "# do need to re-run parsing, since currently rephrasing is not based on nucleus decoding \n",
    "pred_from_input = read_nucleus_file(pred_from_input_file)\n",
    "\n",
    "src_to_gloss_lut = {src: gloss for src, gloss in zip(gold_src_data, pred_from_gloss)}\n",
    "src_to_tgt_lut = {src: tgt for src, tgt in zip(gold_src_data, gold_tgt_data)}\n",
    "# src_to_pred_lut = {src: tgt for src, tgt in zip(gold_src_data, pred_from_input)}"
   ]
  },
  {
   "cell_type": "code",
   "execution_count": 8,
   "metadata": {},
   "outputs": [],
   "source": [
    "bin_data = []\n",
    "for src in pred_from_input.keys():\n",
    "    tgt_from_gloss = src_to_gloss_lut[src]\n",
    "    gold_tgt = src_to_tgt_lut[src]\n",
    "    nuc_data = pred_from_input[src][0][0]\n",
    "\n",
    "    try:\n",
    "        tgt_from_input = render_compact(parse_lispress(nuc_data['tgt_str']))\n",
    "    except:\n",
    "        tgt_from_input = \"(Error)\"\n",
    "\n",
    "    expr_probs = nuc_data['expression_probs']\n",
    "    if expr_probs is None or len(expr_probs) == 0:\n",
    "        continue\n",
    "    min_prob = np.min(expr_probs)\n",
    "\n",
    "    literal_correct = tgt_from_input == gold_tgt\n",
    "    gloss_correct = tgt_from_gloss == gold_tgt\n",
    "    bin_data.append({\"gloss_correct\": gloss_correct, \"literal_correct\": literal_correct, \"min_prob\": min_prob})\n",
    "    # plot_data.append({\"correct\": literal_correct,\n",
    "    #                   \"type\": \"literal\",\n",
    "    #                   \"min_prob\": min_prob})\n",
    "\n",
    "    # plot_data.append({\"correct\": gloss_correct,\n",
    "    #                   \"type\": \"gloss\",\n",
    "    #                   \"min_prob\": min_prob})\n"
   ]
  },
  {
   "cell_type": "code",
   "execution_count": 18,
   "metadata": {},
   "outputs": [],
   "source": [
    "import seaborn as sns \n",
    "import matplotlib.pyplot as plt\n",
    "import pandas as pd\n",
    "from scipy import stats \n",
    "\n",
    "bin_df = pd.DataFrame(bin_data)\n",
    "\n",
    "data_to_plot = []\n",
    "n_bins = 10\n",
    "\n",
    "(gloss_values, \n",
    "gloss_bins, \n",
    "bin_number) = stats.binned_statistic(\n",
    "    bin_df['min_prob'], \n",
    "    bin_df['gloss_correct'], \n",
    "    statistic='mean', \n",
    "    bins=n_bins)\n",
    "\n",
    "gloss_bins_to_plot = []\n",
    "for i in range(len(gloss_bins)-1): \n",
    "    bin_median = np.round((gloss_bins[i] + gloss_bins[i+1])/2.0,2)\n",
    "    data_to_plot.append({\"acc\": gloss_values[i], \"bin\": bin_median, \"type\": \"gloss\"})\n",
    "\n",
    "(literal_values, \n",
    "literal_bins, \n",
    "bin_number) = stats.binned_statistic(\n",
    "    bin_df['min_prob'], \n",
    "    bin_df['literal_correct'], \n",
    "    statistic='mean', \n",
    "    bins=n_bins)\n",
    "\n",
    "literal_bins_to_plot = []\n",
    "for i in range(len(literal_bins)-1): \n",
    "    bin_median = np.round((literal_bins[i] + literal_bins[i+1])/2.0,2)\n",
    "    data_to_plot.append({\"acc\": literal_values[i], \"bin\": bin_median, \"type\": \"literal\"})"
   ]
  },
  {
   "cell_type": "code",
   "execution_count": 22,
   "metadata": {},
   "outputs": [
    {
     "data": {
      "text/plain": [
       "Text(0.5, 0, 'Min. Expression Probability')"
      ]
     },
     "execution_count": 22,
     "metadata": {},
     "output_type": "execute_result"
    },
    {
     "data": {
      "image/png": "[encoded data removed]",
      "text/plain": [
       "<Figure size 432x288 with 1 Axes>"
      ]
     },
     "metadata": {
      "needs_background": "light"
     },
     "output_type": "display_data"
    }
   ],
   "source": [
    "\n",
    "df_to_plot = pd.DataFrame(data_to_plot)\n",
    "fix, ax = plt.subplots(1,1)\n",
    "sns.barplot(data=df_to_plot, x=\"bin\", y=\"acc\", hue=\"type\", ax=ax )\n",
    "sns.despine()\n",
    "ax.legend(frameon=False)\n",
    "ax.set_ylabel(\"EM\")\n",
    "ax.set_xlabel(\"Min. Expression Probability\")"
   ]
  },
  {
   "cell_type": "code",
   "execution_count": null,
   "metadata": {},
   "outputs": [],
   "source": []
  }
 ],
 "metadata": {
  "kernelspec": {
   "display_name": "Python 3.6.13 ('miso_new')",
   "language": "python",
   "name": "python3"
  },
  "language_info": {
   "codemirror_mode": {
    "name": "ipython",
    "version": 3
   },
   "file_extension": ".py",
   "mimetype": "text/x-python",
   "name": "python",
   "nbconvert_exporter": "python",
   "pygments_lexer": "ipython3",
   "version": "3.6.13"
  },
  "orig_nbformat": 4,
  "vscode": {
   "interpreter": {
    "hash": "9db1c0e1c59df8b57e6ccdbb7c3746bf45f553f1d28626d748c067e213df640a"
   }
  }
 },
 "nbformat": 4,
 "nbformat_minor": 2
}
