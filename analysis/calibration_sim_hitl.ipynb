{
 "cells": [
  {
   "cell_type": "code",
   "execution_count": 1,
   "metadata": {},
   "outputs": [],
   "source": [
    "import json \n",
    "import pathlib\n",
    "import seaborn as sns\n",
    "from matplotlib import pyplot as plt\n",
    "import pandas as pd \n",
    "import numpy as np\n",
    "from dataflow.core.lispress import parse_lispress, render_compact"
   ]
  },
  {
   "cell_type": "code",
   "execution_count": 2,
   "metadata": {},
   "outputs": [],
   "source": [
    "def read_jsonl(path):\n",
    "    with open(path, \"r\") as f:\n",
    "        lines = f.readlines()\n",
    "    return [json.loads(line) for line in lines]\n",
    "\n",
    "def read_tgt(path):\n",
    "    with open(path) as f1:\n",
    "        return [line.strip() for line in f1.readlines()]"
   ]
  },
  {
   "cell_type": "code",
   "execution_count": 3,
   "metadata": {},
   "outputs": [],
   "source": [
    "\n",
    "\n",
    "def get_data_from_file(path, do_print=False):\n",
    "    tgt_path = \"/brtx/601-nvme1/estengel/resources/data/smcalflow.agent.data.from_benchclamp/dev_all.tgt\"\n",
    "    gold_tgts = read_tgt(tgt_path)\n",
    "    pred_data = read_jsonl(path)\n",
    "\n",
    "    correct = 0\n",
    "    total = 0\n",
    "\n",
    "    total_rewritten = 0\n",
    "    total_chosen = 0\n",
    "    total_uncertain = 0\n",
    "    total_tokens = 0\n",
    "    skipped = 0\n",
    "    for gold_tgt, pred in zip(gold_tgts, pred_data):\n",
    "        pred_lispress = render_compact(parse_lispress(pred['tgt_str']))\n",
    "        gold_lispress = render_compact(parse_lispress(gold_tgt))\n",
    "\n",
    "        if pred_lispress == gold_lispress:\n",
    "            correct += 1\n",
    "        total += 1\n",
    "        try:\n",
    "            n_uncertain = np.sum(pred['low_conf_tokens'])\n",
    "            n_chosen = np.sum(pred['ann_chose_from_top_k'])\n",
    "            n_rewritten = np.sum(pred['ann_manually_inserted'])\n",
    "            n_tokens_predicted = np.sum(pred['tokens_predicted'])\n",
    "            total_rewritten += n_rewritten\n",
    "            total_chosen += n_chosen\n",
    "            total_uncertain += n_uncertain\n",
    "            total_tokens += n_tokens_predicted\n",
    "        except KeyError:\n",
    "            skipped+=1\n",
    "            # print(pred)\n",
    "\n",
    "\n",
    "    em = correct / total\n",
    "    total_tokens = int(total_tokens)\n",
    "    total_low_confidence = int(total_uncertain)\n",
    "    perc_low_confidence = total_low_confidence / total_tokens\n",
    "    total_chosen = int(total_chosen)\n",
    "    perc_chosen = total_chosen / total_low_confidence \n",
    "    total_rewritten = int(total_rewritten)\n",
    "    perc_rewritten = total_rewritten / total_low_confidence\n",
    "    if do_print:\n",
    "        print(f\"Exact match: {correct}/{total} = {correct/total*100:.2f}\")\n",
    "        print(f\"total tokens: {int(total_tokens)}\")\n",
    "        print(f\"total low confidence: {int(total_uncertain)}: {total_uncertain/total_tokens*100:.2f}% of total tokens\")\n",
    "        print(f\"total chosen from top k: {int(total_chosen)}: {total_chosen/total_uncertain*100:.2f}% of uncertain tokens\")\n",
    "        print(f\"total manually rewritten: {int(total_rewritten)}: {total_rewritten/total_uncertain*100:.2f}% of uncertain tokens\")\n",
    "\n",
    "    return {\"em\": em,\n",
    "            \"total_tokens\": total_tokens,\n",
    "            \"total_low_confidence\": total_low_confidence,\n",
    "            \"perc_low_confidence\": perc_low_confidence,\n",
    "            \"total_chosen\": total_chosen,\n",
    "            \"perc_chosen\": perc_chosen,\n",
    "            \"total_rewritten\": total_rewritten,\n",
    "            \"perc_rewritten\": perc_rewritten,}"
   ]
  },
  {
   "cell_type": "code",
   "execution_count": 4,
   "metadata": {},
   "outputs": [],
   "source": [
    "df_to_plot = []\n",
    "root_dir  = pathlib.Path(\"/brtx/604-nvme1/estengel/calflow_calibration/miso/tune_roberta_tok_fix_benchclamp_data/translate_output_hitl/\")\n",
    "\n",
    "for thresh in [0.1, 0.2, 0.3, 0.4, 0.5, 0.6, 0.7, 0.8, 0.9]:\n",
    "    path = root_dir / f\"dev_all_{thresh}.tgt\"\n",
    "    try:\n",
    "        data = get_data_from_file(path)\n",
    "    except FileNotFoundError:\n",
    "        print(f\"Missing: {path}\")\n",
    "        continue\n",
    "    data['threshold'] = thresh\n",
    "    df_to_plot.append(data) "
   ]
  },
  {
   "cell_type": "code",
   "execution_count": 5,
   "metadata": {},
   "outputs": [
    {
     "data": {
      "image/png": "[encoded data removed]",
      "text/plain": [
       "<Figure size 504x216 with 3 Axes>"
      ]
     },
     "metadata": {
      "needs_background": "light"
     },
     "output_type": "display_data"
    }
   ],
   "source": [
    "df = pd.DataFrame(df_to_plot)\n",
    "\n",
    "df['em'] *= 100\n",
    "df['perc_chosen'] *= 100\n",
    "df['perc_low_confidence'] *= 100\n",
    "fig, ax = plt.subplots(1, 3, figsize=(7, 3), sharex=True)\n",
    "sns.lineplot(data=df, x=\"threshold\", y=\"em\", ax = ax[0], linewidth=5)\n",
    "ax[0].set_xticks([0.1,  0.3, 0.5,  0.7, 0.9])\n",
    "ax[0].set_title(\"Exact Match\")\n",
    "ax[0].set_ylabel(\"\")\n",
    "ax[0].set_ylim(80, 90)\n",
    "ax[0].set_xlabel(\"\")\n",
    "\n",
    "sns.lineplot(data=df, x=\"threshold\", y=\"perc_low_confidence\", ax = ax[1], linewidth=5)\n",
    "ax[1].set_ylabel(\"\")\n",
    "ax[1].set_title(\"% User Interactions\")\n",
    "\n",
    "sns.lineplot(data=df, x=\"threshold\", y=\"perc_chosen\", ax = ax[2], linewidth=5)\n",
    "ax[2].set_ylabel(\"\")\n",
    "ax[2].set_title(\"% Chosen from Top 5\")\n",
    "ax[2].set_xlabel(\"\")\n",
    "sns.despine() \n",
    "\n",
    "plt.tight_layout()\n",
    "plt.savefig(\"/home/estengel/papers/did-you-mean-2022/figures/sim_hitl_results.pdf\") "
   ]
  },
  {
   "cell_type": "code",
   "execution_count": null,
   "metadata": {},
   "outputs": [],
   "source": []
  }
 ],
 "metadata": {
  "kernelspec": {
   "display_name": "Python 3.6.13 ('miso_new')",
   "language": "python",
   "name": "python3"
  },
  "language_info": {
   "codemirror_mode": {
    "name": "ipython",
    "version": 3
   },
   "file_extension": ".py",
   "mimetype": "text/x-python",
   "name": "python",
   "nbconvert_exporter": "python",
   "pygments_lexer": "ipython3",
   "version": "3.6.13"
  },
  "orig_nbformat": 4,
  "vscode": {
   "interpreter": {
    "hash": "9db1c0e1c59df8b57e6ccdbb7c3746bf45f553f1d28626d748c067e213df640a"
   }
  }
 },
 "nbformat": 4,
 "nbformat_minor": 2
}
