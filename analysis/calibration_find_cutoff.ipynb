{
 "cells": [
  {
   "cell_type": "code",
   "execution_count": 7,
   "metadata": {},
   "outputs": [],
   "source": [
    "import json\n",
    "import pathlib\n",
    "from collections import defaultdict\n",
    "import numpy as np \n",
    "import re \n",
    "from tqdm import tqdm\n",
    "from dataflow.core.lispress import parse_lispress, render_compact\n",
    "from dataflow.core.linearize import lispress_to_seq"
   ]
  },
  {
   "cell_type": "code",
   "execution_count": 2,
   "metadata": {},
   "outputs": [],
   "source": [
    "def read_nucleus_file(miso_pred_file):\n",
    "    with open(miso_pred_file, \"r\") as f:\n",
    "        data = [json.loads(x) for x in f.readlines()]\n",
    "    to_ret = []\n",
    "    data_by_idx = defaultdict(list)\n",
    "    data_by_src_str = defaultdict(list)\n",
    "    for line in data:\n",
    "        data_by_src_str[line['src_str']].append(line) \n",
    "        data_by_idx[line['line_idx']].append(line) \n",
    "\n",
    "    for src_str, lines in data_by_src_str.items():\n",
    "        total_probs = [np.exp(np.sum(np.log(x['expression_probs']))) \n",
    "                                if x['expression_probs'] is not None else 0.0 \n",
    "                                    for x in lines ]\n",
    "        mean_probs = [np.mean(x['expression_probs']) \n",
    "                                if x['expression_probs'] is not None and np.sum(x['expression_probs']) > 0.0 \n",
    "                                else 0.0 for x in lines ]\n",
    "        min_probs = []\n",
    "        for x in lines:\n",
    "            if x['expression_probs'] is not None and len(x['expression_probs']) > 0:\n",
    "                min_probs.append(np.min(x['expression_probs']))\n",
    "            else:\n",
    "                min_probs.append(0.0)\n",
    "\n",
    "        combo_lines = zip(lines, min_probs, mean_probs, total_probs)\n",
    "        sorted_combo_lines = sorted(combo_lines, key=lambda x: x[-1], reverse=True)\n",
    "\n",
    "        data_by_src_str[src_str] = sorted_combo_lines\n",
    "        idx = lines[0]['line_idx']\n",
    "        data_by_idx[idx] = sorted_combo_lines\n",
    "    return data_by_src_str, data_by_idx\n",
    "\n",
    "def read_gold_file(file):\n",
    "    with open(file) as f:\n",
    "        if file.endswith(\".tgt\"):\n",
    "            to_ret = [render_compact(parse_lispress(line)) for line in f.readlines()]\n",
    "        else:\n",
    "            to_ret = [re.sub(\"__StartOfProgram\", \"\", x).strip() for x in f.readlines()]\n",
    "    return to_ret \n"
   ]
  },
  {
   "cell_type": "code",
   "execution_count": 3,
   "metadata": {},
   "outputs": [],
   "source": [
    "\n",
    "calflow_miso = \"/brtx/604-nvme1/estengel/calflow_calibration/miso/tune_roberta_tok_fix_benchclamp_data/translate_output_calibrated/dev_all.tgt\"\n",
    "\n",
    "gold_path = \"/brtx/601-nvme1/estengel/resources/data/smcalflow.agent.data.from_benchclamp\"\n",
    "\n",
    "gold_src = read_gold_file(f\"{gold_path}/dev_all.src_tok\")\n",
    "gold_tgt = read_gold_file(f\"{gold_path}/dev_all.tgt\")\n",
    "gold_idx = read_gold_file(f\"{gold_path}/dev_all.idx\")\n",
    "gold_tgt_by_idx = {idx: gold for idx, gold in zip(gold_idx, gold_tgt)}\n",
    "\n",
    "__, nuc_data = read_nucleus_file(calflow_miso)"
   ]
  },
  {
   "cell_type": "code",
   "execution_count": 4,
   "metadata": {},
   "outputs": [],
   "source": [
    "\n",
    "# go through examples, get min prob and pred tgt \n",
    "# compare pred to gold tgt \n",
    "\n",
    "def get_f1(nuc_data, gold_tgt_by_idx, cutoff):\n",
    "    counts = {\"tp\": 0, \"fp\": 0, \"fn\": 0, \"tn\": 0}\n",
    "    for idx, ex in nuc_data.items():\n",
    "        try:\n",
    "            min_prob = ex[0][1]\n",
    "        except:\n",
    "            min_prob = np.min(ex[0]['expression_probs'])\n",
    "        try:\n",
    "            pred_str = ex[0][0]['tgt_str']\n",
    "        except KeyError:\n",
    "            pred_str = ex[0]['tgt_str']\n",
    "        gold_str = gold_tgt_by_idx[idx]\n",
    "        try:\n",
    "            pred_tgt = render_compact(parse_lispress(pred_str))\n",
    "        except (AssertionError, IndexError) as e:\n",
    "            pred_tgt = \"(Error)\"\n",
    "        gold_tgt = render_compact(parse_lispress(gold_str))\n",
    "        is_correct = pred_tgt == gold_tgt \n",
    "\n",
    "        if min_prob < cutoff and is_correct:\n",
    "            counts['fn'] += 1\n",
    "        elif min_prob > cutoff and is_correct:\n",
    "            counts['tp'] += 1\n",
    "        elif min_prob < cutoff and not is_correct:\n",
    "            counts['tn'] += 1\n",
    "        elif min_prob > cutoff and not is_correct:\n",
    "            counts['fp'] += 1 \n",
    "    precision = counts['tp'] / (counts['tp'] + counts['fp'])\n",
    "    recall = counts['tp'] / (counts['tp'] + counts['fn'])\n",
    "    f1 = 2 * (precision * recall) / (precision + recall)\n",
    "    return f1, precision, recall, counts"
   ]
  },
  {
   "cell_type": "code",
   "execution_count": 10,
   "metadata": {},
   "outputs": [
    {
     "name": "stderr",
     "output_type": "stream",
     "text": [
      "100%|██████████| 20/20 [01:48<00:00,  5.41s/it]"
     ]
    },
    {
     "name": "stdout",
     "output_type": "stream",
     "text": [
      "[(0.9116738111853254, 0.8681412568824758, 0.9598026868178001, {'tp': 9145, 'fp': 1389, 'fn': 383, 'tn': 1354}), (0.9114770459081838, 0.868816590563166, 0.9585432409739715, {'tp': 9133, 'fp': 1379, 'fn': 395, 'tn': 1364}), (0.911425288504771, 0.8696729907522166, 0.9573887489504618, {'tp': 9122, 'fp': 1367, 'fn': 406, 'tn': 1376}), (0.9115101795808115, 0.8707827582911211, 0.9562342569269522, {'tp': 9111, 'fp': 1352, 'fn': 417, 'tn': 1391}), (0.9114405930675215, 0.8717899578382522, 0.9548698572628044, {'tp': 9098, 'fp': 1338, 'fn': 430, 'tn': 1405}), (0.9118074705439959, 0.8729000671978496, 0.9543450881612091, {'tp': 9093, 'fp': 1324, 'fn': 435, 'tn': 1419}), (0.9122120162626111, 0.8741702741702742, 0.9537153652392947, {'tp': 9087, 'fp': 1308, 'fn': 441, 'tn': 1435}), (0.9122260205107582, 0.8754341952913933, 0.9522460117548279, {'tp': 9073, 'fp': 1291, 'fn': 455, 'tn': 1452}), (0.9121199919468491, 0.8763056092843327, 0.9509865659109992, {'tp': 9061, 'fp': 1279, 'fn': 467, 'tn': 1464}), (0.9122329705763804, 0.8772286821705426, 0.9501469353484466, {'tp': 9053, 'fp': 1267, 'fn': 475, 'tn': 1476}), (0.9122453096631027, 0.8780582524271845, 0.9492023509655751, {'tp': 9044, 'fp': 1256, 'fn': 484, 'tn': 1487}), (0.9118820380750392, 0.8787347931873479, 0.9476280436607892, {'tp': 9029, 'fp': 1246, 'fn': 499, 'tn': 1497}), (0.9117200930326627, 0.879609756097561, 0.9462636439966414, {'tp': 9016, 'fp': 1234, 'fn': 512, 'tn': 1509}), (0.9115115925888428, 0.8804028945824369, 0.9448992443324937, {'tp': 9003, 'fp': 1223, 'fn': 525, 'tn': 1520}), (0.9117184726940825, 0.8819778279211223, 0.9435348446683459, {'tp': 8990, 'fp': 1203, 'fn': 538, 'tn': 1540}), (0.9113525588952072, 0.8826711250983478, 0.94196053736356, {'tp': 8975, 'fp': 1193, 'fn': 553, 'tn': 1550}), (0.9110873875247827, 0.883466430050281, 0.9404911838790933, {'tp': 8961, 'fp': 1182, 'fn': 567, 'tn': 1561}), (0.9109324104234527, 0.8842885375494071, 0.9392317380352645, {'tp': 8949, 'fp': 1171, 'fn': 579, 'tn': 1572}), (0.9110091743119265, 0.8855529131985731, 0.9379722921914357, {'tp': 8937, 'fp': 1155, 'fn': 591, 'tn': 1588}), (0.9105939987752603, 0.8861740166865316, 0.9363979848866498, {'tp': 8922, 'fp': 1146, 'fn': 606, 'tn': 1597})]\n"
     ]
    },
    {
     "name": "stderr",
     "output_type": "stream",
     "text": [
      "\n"
     ]
    }
   ],
   "source": [
    "all_scores = []\n",
    "all_thresh = [x/100 for x in list(range(30, 50))]\n",
    "for thresh in tqdm(all_thresh):\n",
    "    f1_score = get_f1(nuc_data, gold_tgt_by_idx, thresh)\n",
    "    all_scores.append(f1_score)\n",
    "\n",
    "print(all_scores)"
   ]
  },
  {
   "cell_type": "code",
   "execution_count": 11,
   "metadata": {},
   "outputs": [
    {
     "name": "stdout",
     "output_type": "stream",
     "text": [
      "Best F1: 0.9122453096631027 at 0.4\n"
     ]
    }
   ],
   "source": [
    "just_f1 = [x[0] for x in all_scores]\n",
    "best_idx = np.argmax(just_f1)\n",
    "best_thresh = all_thresh[best_idx]\n",
    "best_f1 = just_f1[best_idx]\n",
    "print(f\"Best F1: {best_f1} at {best_thresh}\")\n"
   ]
  },
  {
   "cell_type": "code",
   "execution_count": 15,
   "metadata": {},
   "outputs": [
    {
     "name": "stdout",
     "output_type": "stream",
     "text": [
      "[0.38, 0.39, 0.4, 0.41]\n",
      "[0.9121199919468491, 0.9122329705763804, 0.9122453096631027, 0.9118820380750392]\n",
      "10\n"
     ]
    }
   ],
   "source": [
    "print(all_thresh[8:12])\n",
    "print(just_f1[8:12])\n",
    "print(best_idx)"
   ]
  },
  {
   "cell_type": "code",
   "execution_count": null,
   "metadata": {},
   "outputs": [],
   "source": []
  }
 ],
 "metadata": {
  "kernelspec": {
   "display_name": "Python 3.6.13 ('miso_new')",
   "language": "python",
   "name": "python3"
  },
  "language_info": {
   "codemirror_mode": {
    "name": "ipython",
    "version": 3
   },
   "file_extension": ".py",
   "mimetype": "text/x-python",
   "name": "python",
   "nbconvert_exporter": "python",
   "pygments_lexer": "ipython3",
   "version": "3.6.13"
  },
  "orig_nbformat": 4,
  "vscode": {
   "interpreter": {
    "hash": "9db1c0e1c59df8b57e6ccdbb7c3746bf45f553f1d28626d748c067e213df640a"
   }
  }
 },
 "nbformat": 4,
 "nbformat_minor": 2
}
