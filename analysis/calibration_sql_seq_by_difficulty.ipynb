{
 "cells": [
  {
   "cell_type": "code",
   "execution_count": 1,
   "metadata": {},
   "outputs": [
    {
     "name": "stderr",
     "output_type": "stream",
     "text": [
      "/brtx/601-nvme1/estengel/miniconda3/envs/bclamp2/lib/python3.7/site-packages/tqdm/auto.py:22: TqdmWarning: IProgress not found. Please update jupyter and ipywidgets. See https://ipywidgets.readthedocs.io/en/stable/user_install.html\n",
      "  from .autonotebook import tqdm as notebook_tqdm\n"
     ]
    }
   ],
   "source": [
    "import json\n",
    "import re \n",
    "import numpy as np \n",
    "import matplotlib.pyplot as plt\n",
    "import pandas as pd \n",
    "from collections import Counter, defaultdict\n",
    "from scipy import stats\n",
    "\n",
    "from calibration_metric.vis.calibration_plot import plot_df\n",
    "from calibration_metric.metric import ECEMetric\n",
    "\n",
    "plt.rcParams[\"font.family\"] = \"Nimbus Roman\"\n",
    "\n",
    "from calibration_utils import (read_nucleus_file, \n",
    "                                read_gold_file,get_probs_and_accs, \n",
    "                                read_benchclamp_file, \n",
    "                                get_probs_and_accs_benchclamp,\n",
    "                                get_probs_and_accs_sql,\n",
    "                                get_accs_sql)"
   ]
  },
  {
   "cell_type": "code",
   "execution_count": 4,
   "metadata": {},
   "outputs": [
    {
     "name": "stderr",
     "output_type": "stream",
     "text": [
      "/home/estengel/calibration_metric/calibration_metric/utils/warnings.py:12: RuntimeWarning: Metric Weighted ECE has less than 3 active bins\n",
      "  warnings.warn(f\"Metric {metric_name} has less than 3 active bins\", RuntimeWarning)\n"
     ]
    },
    {
     "name": "stdout",
     "output_type": "stream",
     "text": [
      "Difficulty: easy, ECE: 0.30566072846471776\n",
      "Difficulty: medium, ECE: 0.43655301296926585\n",
      "Difficulty: hard, ECE: 0.4391015605949273\n",
      "Difficulty: extra, ECE: 0.5828184968563385\n"
     ]
    }
   ],
   "source": [
    "import pathlib\n",
    "path_to_files = pathlib.Path(\"/brtx/602-nvme1/estengel/calflow_calibration/benchclamp/logs/1.0/t5-base-lm-adapt_spider_past_none_db_val_all_0.0001_10000_test_eval_unconstrained-beam_bs_5/by_difficulty/\")\n",
    "ece_metric = ECEMetric(n_bins=10, binning_strategy='adaptive', return_df = True)\n",
    "dfs = []\n",
    "for path in path_to_files.glob(\"*.jsonl\"):\n",
    "    difficulty = path.stem.split(\"_\")[0]\n",
    "    data = read_benchclamp_file(path) \n",
    "    min_probs, mean_probs, exact_accs = get_probs_and_accs_benchclamp(data) \n",
    "    ece, df = ece_metric(np.array(min_probs), np.array(exact_accs))\n",
    "    print(f\"Difficulty: {difficulty}, ECE: {ece}\")\n",
    "    df['difficulty'] = difficulty\n",
    "    dfs.append(df)\n",
    "\n",
    "big_df = pd.concat(dfs)"
   ]
  },
  {
   "cell_type": "code",
   "execution_count": null,
   "metadata": {},
   "outputs": [],
   "source": []
  }
 ],
 "metadata": {
  "kernelspec": {
   "display_name": "bclamp2",
   "language": "python",
   "name": "python3"
  },
  "language_info": {
   "codemirror_mode": {
    "name": "ipython",
    "version": 3
   },
   "file_extension": ".py",
   "mimetype": "text/x-python",
   "name": "python",
   "nbconvert_exporter": "python",
   "pygments_lexer": "ipython3",
   "version": "3.7.16"
  },
  "orig_nbformat": 4
 },
 "nbformat": 4,
 "nbformat_minor": 2
}
