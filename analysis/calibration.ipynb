{
 "cells": [
  {
   "cell_type": "code",
   "execution_count": 2,
   "metadata": {},
   "outputs": [],
   "source": [
    "import json \n",
    "import numpy as np \n",
    "from tqdm import tqdm \n",
    "from pathlib import Path\n",
    "from collections import defaultdict\n",
    "\n",
    "def get_prediction(prob_dict_list):\n",
    "    predicted_toks_and_probs = []\n",
    "    for timestep, prob_dict in enumerate(prob_dict_list): \n",
    "        toks, probs = zip(*prob_dict.items())\n",
    "        # print(prob_dict['SourceCopy'])\n",
    "        best_prob_idx = np.argmax(probs)\n",
    "        best_prob, best_tok = probs[best_prob_idx], toks[best_prob_idx]\n",
    "        predicted_toks_and_probs.append((best_tok, best_prob))\n",
    "    return predicted_toks_and_probs\n",
    "\n",
    "def check_tokens(pred_tok, tgt_tok, prev_tgts):\n",
    "    if \"SourceCopy\" not in pred_tok and \"TargetCopy\" not in pred_tok:\n",
    "        return pred_tok == tgt_tok\n",
    "    elif \"SourceCopy\" in pred_tok:\n",
    "        return pred_tok.split(\"_\")[1] == tgt_tok\n",
    "    else:\n",
    "        try:\n",
    "            tok_idx = int(pred_tok.split(\"_\")[1])-5\n",
    "            return prev_tgts[tok_idx] == tgt_tok\n",
    "        except IndexError:\n",
    "            print(len(prev_tgts))\n",
    "            print(pred_tok)\n",
    "            print(prev_tgts)\n",
    "            raise AssertionError\n",
    "    \n",
    "\n",
    "def read_json(path): \n",
    "    print(f\"opening data\")\n",
    "    with open(path) as f1:\n",
    "        data = json.load(f1)\n",
    "    print(f\"got data\")\n",
    "    return data\n",
    "\n",
    "def get_probs(data):\n",
    "    probs_to_ret = defaultdict(list)\n",
    "    func_ontology = set()\n",
    "\n",
    "    mistakes, corrects = [], []\n",
    "\n",
    "    for instance in tqdm(data): \n",
    "        instance = instance\n",
    "        left_context = [x[0] for x in instance['left_context']][1:]\n",
    "        target_toks = left_context + [\"@end@\"]\n",
    "        probs = instance['prob_dist']\n",
    "        predicted_toks = get_prediction(probs)\n",
    "\n",
    "        source_tokens = \" \".join([x[0] for x in instance['source_tokens']])\n",
    "        for i in range(len(left_context)):\n",
    "            input_token = left_context[i]\n",
    "            output_token = predicted_toks[i][0]\n",
    "            output_prob = predicted_toks[i][1]\n",
    "            target_token = target_toks[i]\n",
    "            tokens_are_equal = check_tokens(output_token, target_token, left_context[:i])\n",
    "            if not tokens_are_equal:\n",
    "                mistake = {\"source_tokens\": source_tokens,\n",
    "                           \"left_context\": left_context[0:i],\n",
    "                           \"target_toks\": target_toks[0:i],\n",
    "                           \"output_token\": output_token,\n",
    "                           \"output_prob\": output_prob,\n",
    "                           \"target_token\": target_token}\n",
    "                mistakes.append(mistake)\n",
    "            else:\n",
    "                correct = {\"source_tokens\": source_tokens,\n",
    "                           \"left_context\": left_context[0:i],\n",
    "                           \"target_toks\": target_toks[0:i],\n",
    "                           \"output_token\": output_token,\n",
    "                           \"output_prob\": output_prob,\n",
    "                           \"target_token\": target_token}\n",
    "                corrects.append(correct)\n",
    "\n",
    "\n",
    "    return mistakes, corrects"
   ]
  },
  {
   "cell_type": "code",
   "execution_count": 3,
   "metadata": {},
   "outputs": [
    {
     "name": "stdout",
     "output_type": "stream",
     "text": [
      "opening data\n",
      "got data\n"
     ]
    }
   ],
   "source": [
    "data = read_json(\"/brtx/604-nvme2/estengel/miso_models/tune_roberta//translate_output/dev_valid_losses.json\")"
   ]
  },
  {
   "cell_type": "code",
   "execution_count": 4,
   "metadata": {},
   "outputs": [
    {
     "name": "stderr",
     "output_type": "stream",
     "text": [
      "100%|██████████| 6815/6815 [01:18<00:00, 86.65it/s] \n"
     ]
    }
   ],
   "source": [
    "mistakes, corrects = get_probs(data)"
   ]
  },
  {
   "cell_type": "code",
   "execution_count": 6,
   "metadata": {},
   "outputs": [
    {
     "name": "stdout",
     "output_type": "stream",
     "text": [
      "2271\n",
      "89518\n"
     ]
    }
   ],
   "source": [
    "print(len(mistakes))\n",
    "print(len(corrects))"
   ]
  },
  {
   "cell_type": "code",
   "execution_count": 7,
   "metadata": {},
   "outputs": [],
   "source": [
    "import seaborn as sns\n",
    "import matplotlib.pyplot as plt\n",
    "import numpy as np \n",
    "import pandas as pd \n",
    "\n"
   ]
  },
  {
   "cell_type": "code",
   "execution_count": 26,
   "metadata": {},
   "outputs": [
    {
     "name": "stdout",
     "output_type": "stream",
     "text": [
      "0.8095576212709037\n",
      "0.9928329907630354\n"
     ]
    }
   ],
   "source": [
    "mistake_probs = [x['output_prob'] for x in mistakes]\n",
    "correct_probs = [x['output_prob'] for x in corrects]\n",
    "\n",
    "\n",
    "print(np.mean(mistake_probs))\n",
    "print(np.mean(correct_probs))\n",
    "\n",
    "# prob_df = pd.DataFrame(columns=['prob', 'correct'])\n",
    "prob_df_data = []\n",
    "for prob in mistake_probs:\n",
    "    prob_df_data.append({'prob': prob, 'correct': False}) \n",
    "for prob in correct_probs:\n",
    "    prob_df_data.append({'prob': prob, 'correct': True}) \n",
    "\n",
    "\n",
    "prob_df = pd.DataFrame(prob_df_data)\n",
    "\n",
    "\n"
   ]
  },
  {
   "cell_type": "code",
   "execution_count": 27,
   "metadata": {},
   "outputs": [],
   "source": [
    "import scipy \n",
    "from collections import Counter\n",
    "\n",
    "values, bin_edges, bin_number = scipy.stats.binned_statistic(prob_df['prob'], prob_df['correct'], statistic='mean', bins=20)\n",
    "bin_lookup = Counter(bin_number)"
   ]
  },
  {
   "cell_type": "code",
   "execution_count": 31,
   "metadata": {},
   "outputs": [
    {
     "data": {
      "text/plain": [
       "<matplotlib.axes._subplots.AxesSubplot at 0x7f1a15532518>"
      ]
     },
     "execution_count": 31,
     "metadata": {},
     "output_type": "execute_result"
    },
    {
     "data": {
      "image/png": "[encoded data removed]",
      "text/plain": [
       "<Figure size 360x360 with 1 Axes>"
      ]
     },
     "metadata": {
      "needs_background": "light"
     },
     "output_type": "display_data"
    }
   ],
   "source": [
    "fig, ax = plt.subplots(figsize=(5,5))\n",
    "\n",
    "\n",
    "df_to_plot = pd.DataFrame(columns=[\"prob_model\", \"prob_correct\", \"count\"])\n",
    "for val, edge, bin_num in zip(values, bin_edges, bin_number):\n",
    "    df_to_plot = df_to_plot.append({\"prob_model\": edge, \"prob_correct\": val, \"count\": bin_lookup[bin_num]}, ignore_index=True)\n",
    "\n",
    "\n",
    "sns.scatterplot(data=df_to_plot, x = \"prob_model\", y=\"prob_correct\", size=\"count\", sizes=(100, 200), ax=ax)"
   ]
  },
  {
   "cell_type": "code",
   "execution_count": null,
   "metadata": {},
   "outputs": [],
   "source": []
  }
 ],
 "metadata": {
  "kernelspec": {
   "display_name": "Python 3.6.13 ('miso_new')",
   "language": "python",
   "name": "python3"
  },
  "language_info": {
   "codemirror_mode": {
    "name": "ipython",
    "version": 3
   },
   "file_extension": ".py",
   "mimetype": "text/x-python",
   "name": "python",
   "nbconvert_exporter": "python",
   "pygments_lexer": "ipython3",
   "version": "3.6.13"
  },
  "orig_nbformat": 4,
  "vscode": {
   "interpreter": {
    "hash": "9db1c0e1c59df8b57e6ccdbb7c3746bf45f553f1d28626d748c067e213df640a"
   }
  }
 },
 "nbformat": 4,
 "nbformat_minor": 2
}
