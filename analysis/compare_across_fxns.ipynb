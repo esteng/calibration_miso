{
 "cells": [
  {
   "cell_type": "code",
   "execution_count": 1,
   "metadata": {},
   "outputs": [],
   "source": [
    "\n",
    "import seaborn as sns\n",
    "from matplotlib import pyplot as plt\n",
    "\n",
    "\n",
    "from dataflow.core.lispress import parse_lispress, lispress_to_program\n",
    "\n",
    "from collections import Counter"
   ]
  },
  {
   "cell_type": "code",
   "execution_count": 11,
   "metadata": {},
   "outputs": [],
   "source": [
    "from dataflow.core.program import BuildStructOp, ValueOp, CallLikeOp\n",
    "\n",
    "def get_frequencies(path):\n",
    "    fxns = []\n",
    "\n",
    "\n",
    "    with open(path) as f1:\n",
    "        for line in f1:\n",
    "            program = lispress_to_program(parse_lispress(line),0)[0]\n",
    "\n",
    "            for expr in program.expressions:\n",
    "                op = expr.op\n",
    "                if isinstance(op, BuildStructOp):\n",
    "                    fxns.append(op.op_schema)\n",
    "                elif isinstance(op, ValueOp):\n",
    "                    continue\n",
    "                elif isinstance(op, CallLikeOp):\n",
    "                    continue\n",
    "#                     fxns.append(op.name)\n",
    "                    \n",
    "    return Counter(fxns)\n",
    "\n",
    "\n"
   ]
  },
  {
   "cell_type": "code",
   "execution_count": 12,
   "metadata": {},
   "outputs": [],
   "source": [
    "counts = get_frequencies(\"/srv/local1/estengel/resources/data/smcalflow.agent.data/train.tgt\")\n",
    "\n",
    "\n",
    "\n",
    "\n"
   ]
  },
  {
   "cell_type": "code",
   "execution_count": 8,
   "metadata": {},
   "outputs": [],
   "source": [
    "from collections import defaultdict \n",
    "\n",
    "def get_accuracies(true_path, pred_path):\n",
    "    acc_by_fxn = defaultdict(lambda: defaultdict(int))\n",
    "    with open(true_path) as tf, pred_path as pf:\n",
    "        for tl, pl in zip(tf, pf): \n",
    "            match = tl.strip() == pl.strip() \n",
    "            true_prog = lispress_to_program(parse_lispress(tl),0)[0]\n",
    "            try:\n",
    "                pred_prog = lispress_to_program(parse_lispress(pl),0)[0]\n",
    "            except:\n",
    "                pred_prog = None\n",
    "            for expr in true_prog.expressions:\n",
    "                op = expr.op\n",
    "                if isinstance(op, BuildStructOp):\n",
    "                    op_name = op.op_schema\n",
    "                elif isinstance(op, ValueOp):\n",
    "                    continue\n",
    "                elif isinstance(op, CallLikeOp):\n",
    "                    op_name = op.name \n",
    "                    \n",
    "                if match:\n",
    "                    acc_by_fxn[op_name][\"correct\"] += 1\n",
    "                acc_by_fxn[op_name][\"total\"] += 1\n",
    "            \n",
    "    return acc_by_fxn "
   ]
  },
  {
   "cell_type": "code",
   "execution_count": 9,
   "metadata": {},
   "outputs": [
    {
     "ename": "TypeError",
     "evalue": "get_accuracies() missing 1 required positional argument: 'pred_path'",
     "output_type": "error",
     "traceback": [
      "\u001b[0;31m---------------------------------------------------------------------------\u001b[0m",
      "\u001b[0;31mTypeError\u001b[0m                                 Traceback (most recent call last)",
      "\u001b[0;32m<ipython-input-9-dacfa3c3b397>\u001b[0m in \u001b[0;36m<module>\u001b[0;34m\u001b[0m\n\u001b[0;32m----> 1\u001b[0;31m \u001b[0maccs\u001b[0m \u001b[0;34m=\u001b[0m \u001b[0mget_accuracies\u001b[0m\u001b[0;34m(\u001b[0m\u001b[0;34m\"/srv/local1/estengel/resources/data/smcalflow.agent.data/train.tgt\"\u001b[0m\u001b[0;34m)\u001b[0m\u001b[0;34m\u001b[0m\u001b[0;34m\u001b[0m\u001b[0m\n\u001b[0m",
      "\u001b[0;31mTypeError\u001b[0m: get_accuracies() missing 1 required positional argument: 'pred_path'"
     ]
    }
   ],
   "source": [
    "accs = get_accuracies(\"/srv/local1/estengel/resources/data/smcalflow.agent.data/train.tgt\")"
   ]
  },
  {
   "cell_type": "code",
   "execution_count": 17,
   "metadata": {},
   "outputs": [
    {
     "name": "stdout",
     "output_type": "stream",
     "text": [
      "356\n",
      "178\n"
     ]
    }
   ],
   "source": [
    "import numpy as np \n",
    "count_items = counts.items()\n",
    "count_median = np.median([x[1] for x in count_items])\n",
    "below_median = [x for x in count_items if x[1] < count_median]\n",
    "lower_median = np.median([x[1] for x in below_median])\n",
    "lower_quartile = [x for x in below_median if x[1] < lower_median]\n",
    "print(len(count_items))\n",
    "print(len(below_median))"
   ]
  },
  {
   "cell_type": "code",
   "execution_count": 20,
   "metadata": {},
   "outputs": [],
   "source": [
    "import json\n",
    "\n",
    "with open(\"/srv/local1/estengel/resources/data/smcalflow.agent.data/train_freqs.json\", \"w\") as f1:\n",
    "    \n",
    "    json.dump(counts, f1)"
   ]
  },
  {
   "cell_type": "code",
   "execution_count": null,
   "metadata": {},
   "outputs": [],
   "source": []
  }
 ],
 "metadata": {
  "interpreter": {
   "hash": "fd396659589a650ce70559ba8cfa1a7ea39d84c4037259c7552d1d18a7b58af9"
  },
  "kernelspec": {
   "display_name": "Python 3",
   "language": "python",
   "name": "python3"
  },
  "language_info": {
   "codemirror_mode": {
    "name": "ipython",
    "version": 3
   },
   "file_extension": ".py",
   "mimetype": "text/x-python",
   "name": "python",
   "nbconvert_exporter": "python",
   "pygments_lexer": "ipython3",
   "version": "3.6.13"
  }
 },
 "nbformat": 4,
 "nbformat_minor": 2
}
