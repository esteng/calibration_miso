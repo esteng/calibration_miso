{
 "cells": [
  {
   "cell_type": "code",
   "execution_count": 1,
   "metadata": {},
   "outputs": [],
   "source": [
    "from matplotlib import pyplot as plt\n",
    "import seaborn as sns \n",
    "import pandas as pd\n",
    "import numpy as np \n",
    "import pathlib "
   ]
  },
  {
   "cell_type": "code",
   "execution_count": 2,
   "metadata": {},
   "outputs": [
    {
     "data": {
      "text/plain": [
       "Index(['Model', 'Dataset', 'Split', 'EM', 'Calibration Error',\n",
       "       'Calibration Error (above)', 'Calibration Error (below)', 'Params',\n",
       "       'Model Path', 'Prediction Path', 'Logit Path', 'Calibration command'],\n",
       "      dtype='object')"
      ]
     },
     "execution_count": 2,
     "metadata": {},
     "output_type": "execute_result"
    }
   ],
   "source": [
    "with open(\"calibration_results/metrics.csv\") as f:\n",
    "    metric_df = pd.read_csv(f)\n",
    "\n",
    "metric_df.columns"
   ]
  },
  {
   "cell_type": "code",
   "execution_count": 7,
   "metadata": {},
   "outputs": [
    {
     "data": {
      "image/png": "[encoded data removed]",
      "text/plain": [
       "<Figure size 252x252 with 1 Axes>"
      ]
     },
     "metadata": {
      "needs_background": "light"
     },
     "output_type": "display_data"
    }
   ],
   "source": [
    "cf_metric_df = metric_df[metric_df['Dataset'] == \"CalflowV2\"]\n",
    "fig, ax = plt.subplots(figsize=(3.5, 3.5))\n",
    "sns.scatterplot(data = cf_metric_df, x = \"EM\", y = \"Calibration Error\", hue = \"Model\", style = \"Model\", s = 100)\n",
    "ax.invert_yaxis()\n",
    "sns.despine()\n",
    "for i, row in cf_metric_df.iterrows():\n",
    "    ax.annotate(row['Model'], (row['EM'], row['Calibration Error']), xytext=(5, 0), textcoords='offset points')\n",
    "# plt.legend(frameon=False)\n",
    "plt.legend().remove()\n",
    "\n",
    "\n",
    "plt.tight_layout()\n",
    "plt.savefig(\"/home/estengel/papers/did-you-mean-2022/figures/pareto.pdf\")"
   ]
  },
  {
   "cell_type": "code",
   "execution_count": 3,
   "metadata": {},
   "outputs": [
    {
     "data": {
      "text/html": [
       "<div>\n",
       "<style scoped>\n",
       "    .dataframe tbody tr th:only-of-type {\n",
       "        vertical-align: middle;\n",
       "    }\n",
       "\n",
       "    .dataframe tbody tr th {\n",
       "        vertical-align: top;\n",
       "    }\n",
       "\n",
       "    .dataframe thead th {\n",
       "        text-align: right;\n",
       "    }\n",
       "</style>\n",
       "<table border=\"1\" class=\"dataframe\">\n",
       "  <thead>\n",
       "    <tr style=\"text-align: right;\">\n",
       "      <th></th>\n",
       "      <th>Model</th>\n",
       "      <th>Dataset</th>\n",
       "      <th>Split</th>\n",
       "      <th>EM</th>\n",
       "      <th>Calibration Error</th>\n",
       "      <th>Calibration Error (above)</th>\n",
       "      <th>Calibration Error (below)</th>\n",
       "      <th>Params</th>\n",
       "      <th>Model Path</th>\n",
       "      <th>Prediction Path</th>\n",
       "      <th>Logit Path</th>\n",
       "      <th>Calibration command</th>\n",
       "    </tr>\n",
       "  </thead>\n",
       "  <tbody>\n",
       "    <tr>\n",
       "      <th>0</th>\n",
       "      <td>MISO</td>\n",
       "      <td>CalflowV2</td>\n",
       "      <td>test_all</td>\n",
       "      <td>78.85</td>\n",
       "      <td>0.0369</td>\n",
       "      <td>0.0035</td>\n",
       "      <td>0.0334</td>\n",
       "      <td>127M</td>\n",
       "      <td>/brtx/604-nvme1/estengel/calflow_calibration/m...</td>\n",
       "      <td>/brtx/604-nvme1/estengel/calflow_calibration/m...</td>\n",
       "      <td>/brtx/604-nvme1/estengel/calflow_calibration/m...</td>\n",
       "      <td>NaN</td>\n",
       "    </tr>\n",
       "    <tr>\n",
       "      <th>1</th>\n",
       "      <td>T5-small</td>\n",
       "      <td>CalflowV2</td>\n",
       "      <td>test_all</td>\n",
       "      <td>58.77</td>\n",
       "      <td>0.0427</td>\n",
       "      <td>0.0000</td>\n",
       "      <td>0.0426</td>\n",
       "      <td>60M</td>\n",
       "      <td>/brtx/603-nvme1/estengel/calflow_calibration/b...</td>\n",
       "      <td>/brtx/601-nvme1/estengel/calflow_calibration/b...</td>\n",
       "      <td>/brtx/603-nvme1/estengel/calflow_calibration/b...</td>\n",
       "      <td>NaN</td>\n",
       "    </tr>\n",
       "    <tr>\n",
       "      <th>2</th>\n",
       "      <td>T5-base</td>\n",
       "      <td>CalflowV2</td>\n",
       "      <td>test_all</td>\n",
       "      <td>76.96</td>\n",
       "      <td>0.0433</td>\n",
       "      <td>0.0004</td>\n",
       "      <td>0.0428</td>\n",
       "      <td>220M</td>\n",
       "      <td>/brtx/603-nvme1/estengel/calflow_calibration/b...</td>\n",
       "      <td>/brtx/601-nvme1/estengel/calflow_calibration/b...</td>\n",
       "      <td>/brtx/603-nvme1/estengel/calflow_calibration/b...</td>\n",
       "      <td>NaN</td>\n",
       "    </tr>\n",
       "    <tr>\n",
       "      <th>3</th>\n",
       "      <td>T5-large</td>\n",
       "      <td>CalflowV2</td>\n",
       "      <td>test_all</td>\n",
       "      <td>81.72</td>\n",
       "      <td>0.0395</td>\n",
       "      <td>0.0005</td>\n",
       "      <td>0.0390</td>\n",
       "      <td>770M</td>\n",
       "      <td>/brtx/603-nvme1/estengel/calflow_calibration/b...</td>\n",
       "      <td>running</td>\n",
       "      <td>/brtx/603-nvme1/estengel/calflow_calibration/b...</td>\n",
       "      <td>NaN</td>\n",
       "    </tr>\n",
       "    <tr>\n",
       "      <th>4</th>\n",
       "      <td>BART-base</td>\n",
       "      <td>CalflowV2</td>\n",
       "      <td>test_all</td>\n",
       "      <td>81.51</td>\n",
       "      <td>0.0434</td>\n",
       "      <td>0.0008</td>\n",
       "      <td>0.0425</td>\n",
       "      <td>139M</td>\n",
       "      <td>/brtx/604-nvme1/estengel/calflow_calibration/b...</td>\n",
       "      <td>/brtx/601-nvme1/estengel/calflow_calibration/b...</td>\n",
       "      <td>/brtx/604-nvme1/estengel/calflow_calibration/b...</td>\n",
       "      <td>NaN</td>\n",
       "    </tr>\n",
       "  </tbody>\n",
       "</table>\n",
       "</div>"
      ],
      "text/plain": [
       "       Model    Dataset     Split     EM  Calibration Error  \\\n",
       "0       MISO  CalflowV2  test_all  78.85             0.0369   \n",
       "1   T5-small  CalflowV2  test_all  58.77             0.0427   \n",
       "2    T5-base  CalflowV2  test_all  76.96             0.0433   \n",
       "3   T5-large  CalflowV2  test_all  81.72             0.0395   \n",
       "4  BART-base  CalflowV2  test_all  81.51             0.0434   \n",
       "\n",
       "   Calibration Error (above)  Calibration Error (below) Params  \\\n",
       "0                     0.0035                     0.0334   127M   \n",
       "1                     0.0000                     0.0426    60M   \n",
       "2                     0.0004                     0.0428   220M   \n",
       "3                     0.0005                     0.0390   770M   \n",
       "4                     0.0008                     0.0425   139M   \n",
       "\n",
       "                                          Model Path  \\\n",
       "0  /brtx/604-nvme1/estengel/calflow_calibration/m...   \n",
       "1  /brtx/603-nvme1/estengel/calflow_calibration/b...   \n",
       "2  /brtx/603-nvme1/estengel/calflow_calibration/b...   \n",
       "3  /brtx/603-nvme1/estengel/calflow_calibration/b...   \n",
       "4  /brtx/604-nvme1/estengel/calflow_calibration/b...   \n",
       "\n",
       "                                     Prediction Path  \\\n",
       "0  /brtx/604-nvme1/estengel/calflow_calibration/m...   \n",
       "1  /brtx/601-nvme1/estengel/calflow_calibration/b...   \n",
       "2  /brtx/601-nvme1/estengel/calflow_calibration/b...   \n",
       "3                                            running   \n",
       "4  /brtx/601-nvme1/estengel/calflow_calibration/b...   \n",
       "\n",
       "                                          Logit Path  Calibration command  \n",
       "0  /brtx/604-nvme1/estengel/calflow_calibration/m...                  NaN  \n",
       "1  /brtx/603-nvme1/estengel/calflow_calibration/b...                  NaN  \n",
       "2  /brtx/603-nvme1/estengel/calflow_calibration/b...                  NaN  \n",
       "3  /brtx/603-nvme1/estengel/calflow_calibration/b...                  NaN  \n",
       "4  /brtx/604-nvme1/estengel/calflow_calibration/b...                  NaN  "
      ]
     },
     "execution_count": 3,
     "metadata": {},
     "output_type": "execute_result"
    }
   ],
   "source": [
    "metric_df.head()"
   ]
  },
  {
   "cell_type": "code",
   "execution_count": 6,
   "metadata": {},
   "outputs": [
    {
     "name": "stdout",
     "output_type": "stream",
     "text": [
      "\\begin{tabular}{lrr}\n",
      "\\toprule\n",
      "      Model &     EM &  Calibration Error \\\\\n",
      "\\midrule\n",
      "       MISO &  78.85 &               3.69 \\\\\n",
      "   T5-small &  58.77 &               4.27 \\\\\n",
      "    T5-base &  76.96 &               4.33 \\\\\n",
      "   T5-large &  81.72 &               3.95 \\\\\n",
      "  BART-base &  81.51 &               4.34 \\\\\n",
      " BART-large &  82.62 &               4.50 \\\\\n",
      "\\bottomrule\n",
      "\\end{tabular}\n",
      "\n",
      "\\begin{tabular}{lrr}\n",
      "\\toprule\n",
      "                                Model &     EM &  Calibration Error \\\\\n",
      "\\midrule\n",
      " MISO+roberta tuned, tokenization fix &  91.03 &               4.74 \\\\\n",
      "                             T5-small &  81.29 &               4.75 \\\\\n",
      "                              T5-base &    NaN &               4.81 \\\\\n",
      "                             T5-large &    NaN &               4.81 \\\\\n",
      "                            BART-base &  91.32 &               4.74 \\\\\n",
      "                           BART-large &  91.60 &               4.86 \\\\\n",
      "\\bottomrule\n",
      "\\end{tabular}\n",
      "\n"
     ]
    }
   ],
   "source": [
    "metric_df_to_print = metric_df.copy()\n",
    "metric_df_to_print['Calibration Error'] = metric_df_to_print['Calibration Error']*100\n",
    "metric_df_to_print['Calibration Error'] = metric_df_to_print['Calibration Error'].round(2)\n",
    "\n",
    "calflow_df = metric_df_to_print[metric_df_to_print['Dataset'] == \"CalflowV2\"]\n",
    "tree_dst_df = metric_df_to_print[metric_df_to_print['Dataset'] == \"TreeDST\"]\n",
    "calflow_table = calflow_df.to_latex(columns = [\"Model\", \"EM\", \"Calibration Error\"], index=False)\n",
    "tree_dst_table = tree_dst_df.to_latex(columns = [\"Model\",  \"EM\", \"Calibration Error\"], index=False)\n",
    "print(calflow_table)\n",
    "print(tree_dst_table)\n"
   ]
  },
  {
   "cell_type": "code",
   "execution_count": null,
   "metadata": {},
   "outputs": [],
   "source": []
  }
 ],
 "metadata": {
  "kernelspec": {
   "display_name": "Python 3.6.13 ('miso_new')",
   "language": "python",
   "name": "python3"
  },
  "language_info": {
   "codemirror_mode": {
    "name": "ipython",
    "version": 3
   },
   "file_extension": ".py",
   "mimetype": "text/x-python",
   "name": "python",
   "nbconvert_exporter": "python",
   "pygments_lexer": "ipython3",
   "version": "3.6.13"
  },
  "orig_nbformat": 4,
  "vscode": {
   "interpreter": {
    "hash": "9db1c0e1c59df8b57e6ccdbb7c3746bf45f553f1d28626d748c067e213df640a"
   }
  }
 },
 "nbformat": 4,
 "nbformat_minor": 2
}
