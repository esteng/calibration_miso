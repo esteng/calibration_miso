{
 "cells": [
  {
   "cell_type": "code",
   "execution_count": 1,
   "metadata": {},
   "outputs": [],
   "source": [
    "import json \n",
    "\n",
    "\n",
    "def read_json(path):\n",
    "    with open(path) as f1:\n",
    "        data = [json.loads(x) for x in f1]\n",
    "    return data\n",
    "\n",
    "paths = [\"../data_subsets/calflow/test/\", \"../data_subsets/treedst/test/\"]\n",
    "\n",
    "all_data = {}\n",
    "\n",
    "for dataset, path in zip([\"calflow\", \"treedst\"], paths):\n",
    "    easy_data = read_json(path + \"easy.jsonl\")\n",
    "    hard_data = read_json(path + \"hard.jsonl\")\n",
    "    all_data[dataset] = (easy_data, hard_data)\n",
    "\n",
    "\n",
    "\n",
    "\n",
    "\n"
   ]
  },
  {
   "cell_type": "markdown",
   "metadata": {},
   "source": [
    "# Factors making examples easy and hard\n",
    "Which factors make an example easy or hard? We will look at 3 factors:\n",
    "- length (numer of tokens)\n",
    "- number of sentences \n",
    "- percentage of value op values that are present in the source \n",
    "\n",
    "## Length"
   ]
  },
  {
   "cell_type": "code",
   "execution_count": 2,
   "metadata": {},
   "outputs": [
    {
     "name": "stdout",
     "output_type": "stream",
     "text": [
      "{'calflow': {'easy': '7.14', 'hard': '10.49'}, 'treedst': {'easy': '9.16', 'hard': '7.61'}}\n"
     ]
    }
   ],
   "source": [
    "import re\n",
    "import numpy as np \n",
    "# get input length\n",
    "\n",
    "lengths_by_dataset_and_split = {\"calflow\": {\"easy\": [], \"hard\": []}, \"treedst\": {\"easy\": [], \"hard\": []}}\n",
    "\n",
    "for dataset, (easy_data, hard_data) in all_data.items():\n",
    "    for split, data in zip([\"easy\", \"hard\"], [easy_data, hard_data]):\n",
    "        for example in data:\n",
    "            split_input = re.split(\"\\s+\", example['user_turn_1']) \n",
    "            lengths_by_dataset_and_split[dataset][split].append(len(split_input))\n",
    "\n",
    "\n",
    "mean_lengths_by_dataset_and_split = {\"calflow\": {\"easy\": [], \"hard\": []}, \"treedst\": {\"easy\": [], \"hard\": []}}\n",
    "for dataset, split_data in lengths_by_dataset_and_split.items():\n",
    "    for split, lengths in split_data.items():\n",
    "        mean_lengths_by_dataset_and_split[dataset][split] = f\"{np.mean(lengths):.2f}\"\n",
    "print(mean_lengths_by_dataset_and_split)"
   ]
  },
  {
   "cell_type": "code",
   "execution_count": 3,
   "metadata": {},
   "outputs": [
    {
     "name": "stdout",
     "output_type": "stream",
     "text": [
      "19.85580088552469 28.206289032909687\n",
      "calflow: t=-38.31827481040881, p=1.9426166068653645e-300\n",
      "31.72171276276142 22.825978329793212\n",
      "treedst: t=22.43181271193647, p=3.272451993003214e-110\n"
     ]
    }
   ],
   "source": [
    "# for a given dataset, is there a significant difference in input length between easy and hard examples?\n",
    "from scipy.stats import ttest_ind\n",
    "\n",
    "for dataset, split_data in lengths_by_dataset_and_split.items():\n",
    "    easy_lengths = split_data[\"easy\"]\n",
    "    hard_lengths = split_data[\"hard\"]\n",
    "    var_easy = np.var(easy_lengths)\n",
    "    var_hard = np.var(hard_lengths)\n",
    "    print(var_easy, var_hard)\n",
    "    t, p = ttest_ind(easy_lengths, hard_lengths, equal_var=False)\n",
    "    print(f\"{dataset}: t={t}, p={p}\")"
   ]
  },
  {
   "cell_type": "markdown",
   "metadata": {},
   "source": [
    "## Percentage of examples with multiple sentences\n",
    "For each dataset, what percentage of examples have more than one sentence (as measured by the presence of a period)"
   ]
  },
  {
   "cell_type": "code",
   "execution_count": 4,
   "metadata": {},
   "outputs": [
    {
     "name": "stdout",
     "output_type": "stream",
     "text": [
      "{'calflow': {'easy': '3.49', 'hard': '7.92'}, 'treedst': {'easy': '8.47', 'hard': '8.44'}}\n"
     ]
    }
   ],
   "source": [
    "multi_sentence_by_dataset_and_split = {\"calflow\": {\"easy\": [], \"hard\": []}, \"treedst\": {\"easy\": [], \"hard\": []}}\n",
    "for dataset, (easy_data, hard_data) in all_data.items():\n",
    "    for split, data in zip([\"easy\", \"hard\"], [easy_data, hard_data]):\n",
    "        for example in data:\n",
    "            split_input = re.split(\"\\s+\", example['user_turn_1']) \n",
    "            if split_input[-1] == \".\":\n",
    "                split_input = split_input[0:-1]\n",
    "            if \".\" in split_input: \n",
    "                period_index = split_input.index(\".\")\n",
    "                try:\n",
    "                    before, after = split_input[period_index-1], split_input[period_index+1]\n",
    "                    # check if they're numbers \n",
    "                    if before.isdigit() and after.isdigit():\n",
    "                        continue\n",
    "                except IndexError:\n",
    "                    pass\n",
    "                multi_sentence_by_dataset_and_split[dataset][split].append(1)\n",
    "            else:\n",
    "                multi_sentence_by_dataset_and_split[dataset][split].append(0)\n",
    "\n",
    "mean_multi_sentence_by_dataset_and_split = {\"calflow\": {\"easy\": [], \"hard\": []}, \"treedst\": {\"easy\": [], \"hard\": []}}\n",
    "for dataset, split_data in multi_sentence_by_dataset_and_split.items():\n",
    "    for split, multi_sentence in split_data.items():\n",
    "        mean_multi_sentence_by_dataset_and_split[dataset][split] = f\"{np.mean(multi_sentence)*100:.2f}\"\n",
    "    \n",
    "print(mean_multi_sentence_by_dataset_and_split)"
   ]
  },
  {
   "cell_type": "code",
   "execution_count": 5,
   "metadata": {},
   "outputs": [
    {
     "name": "stdout",
     "output_type": "stream",
     "text": [
      "0.03365337642619752 0.07296488018961152\n",
      "calflow: t=-10.546594620167555, p=7.538932976975875e-26\n",
      "0.07754773395449474 0.07724279652510087\n",
      "treedst: t=0.0996735841608333, p=0.9206043481021734\n"
     ]
    }
   ],
   "source": [
    "# check for significance \n",
    "\n",
    "for dataset, split_data in multi_sentence_by_dataset_and_split.items():\n",
    "    easy_lengths = split_data[\"easy\"]\n",
    "    hard_lengths = split_data[\"hard\"]\n",
    "    var_easy = np.var(easy_lengths)\n",
    "    var_hard = np.var(hard_lengths)\n",
    "    print(var_easy, var_hard)\n",
    "    t, p = ttest_ind(easy_lengths, hard_lengths, equal_var=False)\n",
    "    print(f\"{dataset}: t={t}, p={p}\")"
   ]
  },
  {
   "cell_type": "markdown",
   "metadata": {},
   "source": [
    "## Copying\n",
    "For TreeDST, it seems like a lot of hard examples are based on not having access to enough context.\n",
    "We will see what percentage of values_op values we can copy from the input "
   ]
  },
  {
   "cell_type": "code",
   "execution_count": 6,
   "metadata": {},
   "outputs": [
    {
     "name": "stdout",
     "output_type": "stream",
     "text": [
      "{'calflow': {'easy': 0.47910122164048863, 'hard': 0.4865278612063178}, 'treedst': {'easy': 0.6166151130046543, 'hard': 0.47262370174407214}}\n"
     ]
    }
   ],
   "source": [
    "## get set of value ops \n",
    "from dataflow.core.lispress import parse_lispress, lispress_to_program\n",
    "from dataflow.core.program import ValueOp\n",
    "def get_value_ops(lispress):\n",
    "    all_values = []\n",
    "    lispress = parse_lispress(lispress)\n",
    "    program, __ = lispress_to_program(lispress, 0)\n",
    "    for expression in program.expressions:\n",
    "        if isinstance(expression.op, ValueOp):\n",
    "            underlying = str(json.loads(expression.op.value)['underlying']).strip()\n",
    "            all_values.append(underlying.lower())\n",
    "    return all_values \n",
    "\n",
    "value_ops_in_src_by_dataset_and_split = {\"calflow\": {\"easy\": [], \"hard\": []}, \"treedst\": {\"easy\": [], \"hard\": []}}\n",
    "for dataset, (easy_data, hard_data) in all_data.items():\n",
    "    for split, data in zip([\"easy\", \"hard\"], [easy_data, hard_data]):\n",
    "        for example in data:\n",
    "            value_ops = get_value_ops(example['tgt'])\n",
    "            input = \" __BLAH__ \".join([str(example['user_turn_0']), str(example['agent_turn_0']), example['user_turn_1']])\n",
    "            split_input = re.split(\"\\s+\", input) \n",
    "            split_input = [x.lower().strip() for x in split_input]\n",
    "            # get percentage of value ops in input \n",
    "            in_input, total = 0, 0\n",
    "            for v in value_ops:\n",
    "                if v in split_input:\n",
    "                    in_input += 1\n",
    "                total += 1\n",
    "            if total > 0:\n",
    "                value_ops_in_src_by_dataset_and_split[dataset][split].append(in_input / total)\n",
    "\n",
    "mean_value_ops_in_src_by_dataset_and_split = {\"calflow\": {\"easy\": [], \"hard\": []}, \"treedst\": {\"easy\": [], \"hard\": []}}\n",
    "for dataset, split_data in value_ops_in_src_by_dataset_and_split.items():\n",
    "    for split, value_ops in split_data.items():\n",
    "        mean_value_ops_in_src_by_dataset_and_split[dataset][split] = np.mean(value_ops)\n",
    "\n",
    "print(mean_value_ops_in_src_by_dataset_and_split)\n",
    "            "
   ]
  },
  {
   "cell_type": "code",
   "execution_count": 7,
   "metadata": {},
   "outputs": [
    {
     "name": "stdout",
     "output_type": "stream",
     "text": [
      "0.1928253413615224 0.16959852250031587\n",
      "calflow: t=-0.7826401259757607, p=0.43386160639845783\n",
      "0.14237940380810524 0.07861051503484183\n",
      "treedst: t=30.267611356408107, p=2.3639567870757093e-196\n"
     ]
    }
   ],
   "source": [
    "# check for significance \n",
    "\n",
    "for dataset, split_data in value_ops_in_src_by_dataset_and_split.items():\n",
    "    easy_lengths = split_data[\"easy\"]\n",
    "    hard_lengths = split_data[\"hard\"]\n",
    "    var_easy = np.var(easy_lengths)\n",
    "    var_hard = np.var(hard_lengths)\n",
    "    print(var_easy, var_hard)\n",
    "    t, p = ttest_ind(easy_lengths, hard_lengths, equal_var=False)\n",
    "    print(f\"{dataset}: t={t}, p={p}\")"
   ]
  },
  {
   "cell_type": "code",
   "execution_count": null,
   "metadata": {},
   "outputs": [],
   "source": []
  }
 ],
 "metadata": {
  "kernelspec": {
   "display_name": "Python 3.6.13 ('miso_new')",
   "language": "python",
   "name": "python3"
  },
  "language_info": {
   "codemirror_mode": {
    "name": "ipython",
    "version": 3
   },
   "file_extension": ".py",
   "mimetype": "text/x-python",
   "name": "python",
   "nbconvert_exporter": "python",
   "pygments_lexer": "ipython3",
   "version": "3.6.13"
  },
  "orig_nbformat": 4,
  "vscode": {
   "interpreter": {
    "hash": "9db1c0e1c59df8b57e6ccdbb7c3746bf45f553f1d28626d748c067e213df640a"
   }
  }
 },
 "nbformat": 4,
 "nbformat_minor": 2
}
