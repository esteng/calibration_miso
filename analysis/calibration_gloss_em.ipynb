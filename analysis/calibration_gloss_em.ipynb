{
 "cells": [
  {
   "cell_type": "code",
   "execution_count": 13,
   "metadata": {},
   "outputs": [],
   "source": [
    "from matplotlib import pyplot as plt \n",
    "import seaborn as sns\n",
    "import pandas as pd \n",
    "import numpy as np\n",
    "plt.rcParams[\"font.family\"] = \"Nimbus Roman\""
   ]
  },
  {
   "cell_type": "code",
   "execution_count": 33,
   "metadata": {},
   "outputs": [
    {
     "name": "stderr",
     "output_type": "stream",
     "text": [
      "'NimbusRoman-Regular.otf' can not be subsetted into a Type 3 font. The entire font will be embedded in the output.\n"
     ]
    },
    {
     "name": "stdout",
     "output_type": "stream",
     "text": [
      "79.51\n",
      "82.99\n",
      "82.78\n",
      "84.00\n"
     ]
    },
    {
     "data": {
      "image/png": "[encoded data removed]",
      "text/plain": [
       "<Figure size 432x144 with 1 Axes>"
      ]
     },
     "metadata": {
      "needs_background": "light"
     },
     "output_type": "display_data"
    }
   ],
   "source": [
    "data = [{\"model\": \"T5-base\", \"em\": 79.51},\n",
    "        {\"model\": \"T5-large\", \"em\": 82.99},\n",
    "        {\"model\": \"BART-base\", \"em\": 82.78},\n",
    "        {\"model\": \"BART-large\", \"em\": 84.00}]\n",
    "\n",
    "df = pd.DataFrame(data)\n",
    "fig, ax = plt.subplots(figsize=(6, 2))\n",
    "ax.set_ylim(75, 86)\n",
    "palette = sns.color_palette(\"colorblind\")\n",
    "sns.barplot(data=df, x = 'model', y = 'em', ax = ax, palette=palette)\n",
    "sns.despine()\n",
    "\n",
    "ax.set_xlabel(\"Model\", fontsize=14)\n",
    "ax.set_xticklabels(ax.get_xticklabels(), fontsize=14)\n",
    "ax.set_yticks([75, 80, 85])\n",
    "ax.set_yticklabels([75, 80, 85], fontsize=14)\n",
    "# ax.set_yticklabels([ax.get_yticklabels()[0], ax.get_yticklabels()[-1]], fontsize=14)\n",
    "ax.set_ylabel(\"Exact Match\", fontsize=14)\n",
    "\n",
    "baseline_line = ([-0.5, 3.5], [78.85, 78.85])\n",
    "ax.plot(*baseline_line, color='black', linestyle='--', linewidth=1)\n",
    "\n",
    "for p in ax.patches:\n",
    "    h, w, x = p.get_height(), p.get_width(), p.get_x()\n",
    "    # xy = (x + w / 2., h / 2)A\n",
    "    xy = (x + w/2, h+2)\n",
    "    text = f'{h:0.2f}'\n",
    "    print(text)\n",
    "    ax.annotate(text=text, xy=xy, ha='center', va='top', fontsize=14)\n",
    "\n",
    "plt.tight_layout()\n",
    "plt.savefig(\"/home/estengel/papers/did-you-mean-2022/figures/gloss_acc.pdf\")"
   ]
  },
  {
   "cell_type": "code",
   "execution_count": null,
   "metadata": {},
   "outputs": [],
   "source": []
  }
 ],
 "metadata": {
  "kernelspec": {
   "display_name": "Python 3.6.13 ('miso_new')",
   "language": "python",
   "name": "python3"
  },
  "language_info": {
   "codemirror_mode": {
    "name": "ipython",
    "version": 3
   },
   "file_extension": ".py",
   "mimetype": "text/x-python",
   "name": "python",
   "nbconvert_exporter": "python",
   "pygments_lexer": "ipython3",
   "version": "3.6.13"
  },
  "orig_nbformat": 4,
  "vscode": {
   "interpreter": {
    "hash": "9db1c0e1c59df8b57e6ccdbb7c3746bf45f553f1d28626d748c067e213df640a"
   }
  }
 },
 "nbformat": 4,
 "nbformat_minor": 2
}
