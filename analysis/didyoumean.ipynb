{
 "cells": [
  {
   "cell_type": "code",
   "execution_count": 4,
   "metadata": {},
   "outputs": [],
   "source": [
    "import json \n",
    "\n",
    "from dataflow.core.lispress import parse_lispress, render_compact, lispress_to_program"
   ]
  },
  {
   "cell_type": "code",
   "execution_count": 5,
   "metadata": {},
   "outputs": [],
   "source": [
    "\n",
    "data = [json.loads(x) for x in open(\"/brtx/603-nvme1/estengel/calflow_calibration/tune_roberta_number_tokenize/translate_output_calibrated/calibration.tgt\").readlines()]"
   ]
  },
  {
   "cell_type": "code",
   "execution_count": 6,
   "metadata": {},
   "outputs": [],
   "source": [
    "data_by_src_str = {x['src_str']: [] for x in data}\n",
    "for x in data: \n",
    "    data_by_src_str[x['src_str']].append(x)"
   ]
  },
  {
   "cell_type": "code",
   "execution_count": null,
   "metadata": {},
   "outputs": [],
   "source": [
    "from typing import List\n",
    "import numpy as np\n",
    "\n",
    "from dataflow.core.program import Expression\n",
    "\n",
    "class Lattice:\n",
    "    def __init__(self,\n",
    "                expressions: List[List[Expression]],\n",
    "                probs: List[List[float]]\n",
    "        ) -> None:\n",
    "        self.expressions = expressions\n",
    "        self.probs = probs \n",
    "\n",
    "        self.lattice = self.build_lattice()\n",
    "\n",
    "    @property\n",
    "    def max_expression_length(self):\n",
    "        return max([len(x) for x in self.expressions])\n",
    "\n",
    "    def build_lattice(self):\n",
    "        # build lattice of expressions; last dim is prob and pointer to expression id \n",
    "        lattice = np.zeros((len(self.expressions), self.max_expression_length, 2))\n",
    "\n",
    "        "
   ]
  },
  {
   "cell_type": "code",
   "execution_count": 7,
   "metadata": {},
   "outputs": [],
   "source": [
    "\n",
    "def get_confident_prefix(list_of_outputs, threshold = 0.30):\n",
    "    prefix = []\n",
    "    options = []\n",
    "    for output in list_of_outputs:\n",
    "        program, __ = lispress_to_program(parse_lispress(output['tgt_str']),0)\n",
    "        expressions = program.expressions\n",
    "        expressions.reverse()\n",
    "        probs = output['expression_probs']\n",
    "        for i, (e, p) in enumerate(zip(expressions, probs)):\n",
    "            if p > threshold:\n",
    "                prefix.append(e)\n",
    "            else:\n",
    "                options.append(expressions[i:]) \n",
    "    return prefix, options\n",
    "\n",
    "\n",
    "datapoint = data_by_src_str['__User create a meeting 0907 tomorrow']\n",
    "prefix, options = get_confident_prefix(datapoint)\n",
    "\n"
   ]
  },
  {
   "cell_type": "code",
   "execution_count": 8,
   "metadata": {},
   "outputs": [],
   "source": [
    "import sys\n",
    "\n",
    "sys.path.insert(0, \"/home/estengel/semantic_parsing_with_constrained_lm/src\")\n",
    "\n",
    "# from semantic_parsing_with_constrained_lm.\n",
    "from semantic_parsing_with_constrained_lm.scfg.generate import parse_and_render\n",
    "from semantic_parsing_with_constrained_lm.scfg.scfg import SCFG\n"
   ]
  },
  {
   "cell_type": "code",
   "execution_count": null,
   "metadata": {},
   "outputs": [],
   "source": [
    "scfg = SCFG.from_folder(str(\"/home/estengel/semantic_parsing_with_constrained_lm/src/semantic_parsing_with_constrained_lm/domains/calflow/grammar/\"))\n"
   ]
  },
  {
   "cell_type": "code",
   "execution_count": 10,
   "metadata": {},
   "outputs": [
    {
     "name": "stdout",
     "output_type": "stream",
     "text": [
      "(Yield (CreateCommitEventWrapper (CreatePreflightEventWrapper (Event.start_? (?= (DateAtTimeWithDefaults (Tomorrow) (HourMilitary 8L)))))))\n",
      "At \"\"\" (Yield ^\"\"\",\n",
      "expected one of [':'],\n",
      "but got \"(\".\n"
     ]
    }
   ],
   "source": [
    "def canonicalize(lispress, scfg):\n",
    "    lispress = render_compact(parse_lispress(lispress))\n",
    "    print(lispress)\n",
    "    canonical_utterances = parse_and_render(\n",
    "        scfg, \" \" + lispress, source_is_plan=True\n",
    "    )\n",
    "    return canonical_utterances\n",
    "\n",
    "lispress = datapoint[0]['tgt_str']\n",
    "print(canonicalize(lispress, scfg))"
   ]
  },
  {
   "cell_type": "code",
   "execution_count": null,
   "metadata": {},
   "outputs": [],
   "source": []
  }
 ],
 "metadata": {
  "kernelspec": {
   "display_name": "Python 3.7.13 ('bclamp')",
   "language": "python",
   "name": "python3"
  },
  "language_info": {
   "codemirror_mode": {
    "name": "ipython",
    "version": 3
   },
   "file_extension": ".py",
   "mimetype": "text/x-python",
   "name": "python",
   "nbconvert_exporter": "python",
   "pygments_lexer": "ipython3",
   "version": "3.7.13"
  },
  "orig_nbformat": 4,
  "vscode": {
   "interpreter": {
    "hash": "a5838cd6d3aa9395e77de8eb86a5b18574c2a5a3b61b7b1f2baa99b5eb005498"
   }
  }
 },
 "nbformat": 4,
 "nbformat_minor": 2
}
