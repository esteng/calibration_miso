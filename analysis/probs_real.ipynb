{
 "cells": [
  {
   "cell_type": "code",
   "execution_count": null,
   "source": [
    "import json\n",
    "import numpy as np \n",
    "\n",
    "from matplotlib import pyplot as plt \n",
    "import seaborn as sns\n"
   ],
   "outputs": [],
   "metadata": {}
  },
  {
   "cell_type": "code",
   "execution_count": 34,
   "source": [
    "from collections import defaultdict\n",
    "import pdb\n",
    "from pathlib import Path\n",
    "import sys\n",
    "sys.path.insert(0, \"/home/t-eliass/miso_sm/\")\n",
    "from miso.data.dataset_readers.calflow_parsing.calflow_graph import CalFlowGraph\n",
    "\n",
    "\n",
    "def get_vocab_idxs(checkpoint_dir, tokens):\n",
    "    with open(Path(checkpoint_dir).joinpath(\"ckpt/vocabulary/target_tokens.txt\")) as f1:\n",
    "        tgt_tokens = [x.strip() for x in f1.readlines()]\n",
    "\n",
    "    print(f\"vocab size: {len(tgt_tokens)}\")\n",
    "    indices = [tgt_tokens.index(tok) for tok in tokens]\n",
    "    return {tok:ind for tok, ind in zip(tokens, indices)}\n",
    "\n",
    "def get_prefix_prob(probs, idx, tokens):\n",
    "    total_log_prob = 0.0\n",
    "    for i, tok in enumerate(tokens[0:idx]):\n",
    "        log_prob_correct_token = np.log(probs[i][tok])\n",
    "        total_log_prob += log_prob_correct_token\n",
    "    return total_log_prob\n",
    "\n",
    "def process_json(path, a_tok, b_tok, fxn_of_interest, prefix_of_interest = None):\n",
    "    with open(path) as f1:\n",
    "        data = json.load(f1)\n",
    "\n",
    "    to_ret = defaultdict(list)\n",
    "    for instance in data: \n",
    "        instance = instance\n",
    "        target_toks = [x[0] for x in instance['next_token']]\n",
    "        left_context = [x[0] for x in instance['left_context']][1:]\n",
    "        if fxn_of_interest not in target_toks:\n",
    "            continue\n",
    "        if prefix_of_interest is not None:\n",
    "            if left_context != prefix_of_interest:\n",
    "                continue \n",
    "\n",
    "        probs = instance['prob_dist']\n",
    "\n",
    "        idxs_of_interest = [i for i,x in enumerate(target_toks) if x == fxn_of_interest]\n",
    "        for idx in idxs_of_interest:\n",
    "            log_prob_prefix = get_prefix_prob(probs, idx, target_toks)\n",
    "            \n",
    "            log_prob_a = np.log(probs[idx][a_tok]) + log_prob_prefix\n",
    "            log_prob_b = np.log(probs[idx][b_tok]) + log_prob_prefix\n",
    "            prefix = left_context[0:idx]\n",
    "\n",
    "            to_ret[\" \".join(prefix)].append({a_tok:np.exp(log_prob_a), b_tok: np.exp(log_prob_b)})\n",
    "    return to_ret \n",
    "\n",
    "\n",
    "def get_prefix_frequency(prefix, train_tgt_toks):\n",
    "    freq = 0\n",
    "    for seq in train_tgt_toks:\n",
    "\n",
    "        seq = seq[2:]\n",
    "        if seq[0:len(prefix)] == prefix:\n",
    "            freq += 1\n",
    "    return freq\n",
    "\n",
    "def get_token_frequency(token, train_tgt_toks):\n",
    "    freq = 0\n",
    "    for seq in train_tgt_toks:\n",
    "        if token in seq:\n",
    "            freq += 1\n",
    "    return freq\n",
    "\n",
    "def get_train_toks(train_dir, fxn):\n",
    "    train_dir = Path(train_dir)\n",
    "    train_src = train_dir.joinpath(\"train.src_tok\")\n",
    "    train_tgt = train_dir.joinpath(\"train.tgt\")\n",
    "\n",
    "    with open(train_src)  as src_f, open(train_tgt) as tgt_f: \n",
    "        train_src_lines = src_f.readlines()\n",
    "        train_tgt_lines = tgt_f.readlines() \n",
    "    tgt_seqs = []\n",
    "    for src_line, tgt_line in zip(train_src_lines, train_tgt_lines): \n",
    "        graph = CalFlowGraph(src_line.strip(), tgt_line.strip(), use_program=False, use_agent_utterance=True, use_context = True, fxn_of_interest = fxn) \n",
    "        data = graph.get_list_data(\"@start@\",\"@end@\")\n",
    "        tgt_tokens = data['tgt_tokens']\n",
    "        tgt_seqs.append(tgt_tokens)\n",
    "    return tgt_seqs\n",
    "\n",
    "def get_total_prob(probs, shared_prefixes):\n",
    "    prob_items = list(probs.items())\n",
    "    random_val = prob_items[0][1][0]\n",
    "    to_ret = {k: [] for k in random_val.keys()}\n",
    "    for prefix, prob_dict_list in prob_items:\n",
    "        # check prefix against data \n",
    "        if prefix.split(\" \") not in shared_prefixes:\n",
    "            continue\n",
    "\n",
    "        for prob_dict in prob_dict_list:\n",
    "            for k, p in prob_dict.items():\n",
    "                to_ret[k].append(p)\n",
    "    \n",
    "    to_ret = {k : np.mean(v) for k,v in to_ret.items()}\n",
    "    return to_ret \n",
    "\n",
    "\n",
    "def get_shared_prefixes(train_seqs, fxn1, fxn2): \n",
    "    fxn1_prefixes = []\n",
    "    fxn2_prefixes = []\n",
    "    for seq in train_seqs:\n",
    "        if fxn1 in seq:\n",
    "            fxn1_index = seq.index(fxn1)\n",
    "            # for i in range(0, fxn1_index): \n",
    "            fxn1_prefixes.append(seq[1:fxn1_index])\n",
    "        if fxn2 in seq:\n",
    "            fxn2_index = seq.index(fxn2)\n",
    "            # for i in range(0, fxn2_index): \n",
    "            fxn2_prefixes.append(seq[1:fxn2_index])\n",
    "\n",
    "    shared_prefixes = [x for x in fxn1_prefixes if x in fxn2_prefixes]\n",
    "    return shared_prefixes\n"
   ],
   "outputs": [],
   "metadata": {}
  },
  {
   "cell_type": "code",
   "execution_count": null,
   "source": [
    "\n",
    "probs_no_add = process_json(\"/home/t-eliass/amlt_models/transformer_min_pair_generated_v100/FindManager_12_seed/5000_100//translate_output/test_valid_probs.json\", \"FindManager\", \"FindReports\", \"FindManager\")"
   ],
   "outputs": [],
   "metadata": {}
  },
  {
   "cell_type": "code",
   "execution_count": null,
   "source": [
    "probs_add = process_json(\"/home/t-eliass/amlt_models/transformer_min_pair_generated_v100/FindManager_12_seed/5000_100//translate_output/test_valid_probs.json\", \"FindManager\", \"FindReports\", \"FindManager\", shared_prefix=True)"
   ],
   "outputs": [],
   "metadata": {}
  },
  {
   "cell_type": "code",
   "execution_count": 35,
   "source": [
    "# data_dir = f\"/home/t-eliass/resources/data/smcalflow_samples_curated/FindManager/max_100\"\n",
    "# all_train_tgt_toks = get_train_toks(data_dir,None)\n",
    "# print(\"getting seqs\")\n",
    "# shared_prefixes = get_shared_prefixes(all_train_tgt_toks, \"FindManager\", \"FindReports\")\n",
    "total_no_add = get_total_prob(probs_no_add, shared_prefixes)\n",
    "\n",
    "# total_add = get_total_prob(probs_add)\n",
    "\n",
    "print(total_no_add)\n",
    "# print(total_add)"
   ],
   "outputs": [
    {
     "output_type": "stream",
     "name": "stdout",
     "text": [
      "{'FindManager': 0.74402166042593, 'FindReports': 0.09096018403649085}\n"
     ]
    }
   ],
   "metadata": {}
  },
  {
   "cell_type": "code",
   "execution_count": 33,
   "source": [
    "\n",
    "print(probs_no_add['@ROOT@ Yield'])\n"
   ],
   "outputs": [
    {
     "output_type": "stream",
     "name": "stdout",
     "text": [
      "[{'FindManager': 0.9070095346839969, 'FindReports': 0.0017368206928593845}, {'FindManager': 0.03014991629722177, 'FindReports': 0.004193189885475206}, {'FindManager': 0.00035501523300738344, 'FindReports': 0.0005646409388658561}, {'FindManager': 0.9445018648219465, 'FindReports': 0.01565385860779355}, {'FindManager': 0.9453301031824849, 'FindReports': 0.006250443170996547}, {'FindManager': 0.9971066763508386, 'FindReports': 0.0002393387623898245}, {'FindManager': 0.9886131593840685, 'FindReports': 0.002190197695980583}, {'FindManager': 0.9929403903669975, 'FindReports': 0.0009532257435182266}, {'FindManager': 0.47196642327089827, 'FindReports': 0.24268142116882344}, {'FindManager': 0.9689927183870629, 'FindReports': 0.0011985624409724509}, {'FindManager': 0.9833293737050386, 'FindReports': 0.003041060112658836}, {'FindManager': 0.03785513213144863, 'FindReports': 0.8381233812811992}, {'FindManager': 0.9954019192836087, 'FindReports': 0.00089963466720711}, {'FindManager': 0.3392038626723122, 'FindReports': 0.25047221945413706}, {'FindManager': 0.8981810041020734, 'FindReports': 0.05101801906476489}, {'FindManager': 0.9671641488922464, 'FindReports': 0.02091454609211102}, {'FindManager': 0.9881004467872186, 'FindReports': 0.0011867810329667257}, {'FindManager': 0.9933559391945229, 'FindReports': 0.0022039497304091773}, {'FindManager': 0.02746148505024314, 'FindReports': 0.7798352106997078}, {'FindManager': 0.996332181993911, 'FindReports': 0.0004769986309573969}, {'FindManager': 0.9959326751989823, 'FindReports': 0.0008027028833424914}, {'FindManager': 0.0074485868220584475, 'FindReports': 0.0031684173296338165}, {'FindManager': 0.9860485198621979, 'FindReports': 0.0009176657394975941}, {'FindManager': 0.9956270673150355, 'FindReports': 0.0010380292674038484}, {'FindManager': 0.9919361964000009, 'FindReports': 0.0007824072741780903}, {'FindManager': 0.9807776943743984, 'FindReports': 0.0010731515404292823}, {'FindManager': 0.6574627957362885, 'FindReports': 0.2243090950769739}]\n"
     ]
    }
   ],
   "metadata": {}
  },
  {
   "cell_type": "markdown",
   "source": [
    "# FindManager vs FindReports\n",
    "\n",
    "## Questions:\n",
    "1. Is $P_{model}(FindManager)$ correlated with $Freq(FindReports)$ \n",
    "2. Is $P_{model}(FindManager)$ correlated with $P_{data}(FindReports)$\n",
    "3. Is $P_{model}(FindManager | prefix, input)$ correlated with $P_{data}(FindReports | prefix, input')$ where $input$ and $input'$ are similar \n",
    "  "
   ],
   "metadata": {}
  },
  {
   "cell_type": "code",
   "execution_count": 38,
   "source": [
    "\n",
    "\n",
    "\n",
    "all_probs = {}\n",
    "all_freqs = {}\n",
    "for split in [5000, 10000, 20000, 50000, 100000, \"max\"]:\n",
    "    data_dir = f\"/home/t-eliass/resources/data/smcalflow_samples_curated/FindManager/{split}_100\"\n",
    "    train_tgt_toks = get_train_toks(data_dir,\"FindManager\")\n",
    "    fr_token_freq = get_token_frequency(\"FindReports\", train_tgt_toks)\n",
    "    fm_token_freq = 100\n",
    "    all_freqs[f\"{split}_100\"] = (fm_token_freq, fr_token_freq)\n",
    "    # for seed in [31, 64]: \n",
    "    #     probs = process_json(f\"/home/t-eliass/amlt_models/transformer/FindManager_{seed}_seed/{split}_100//translate_output/test_valid_probs.json\", \"FindManager\", \"FindReports\", \"FindManager\")\n",
    "    #     all_probs[f\"{split}_100_{seed}\"] = probs\n",
    "\n",
    "    \n",
    "\n",
    "        "
   ],
   "outputs": [],
   "metadata": {}
  },
  {
   "cell_type": "code",
   "execution_count": 39,
   "source": [
    "# with open('/home/t-eliass/scratch/FindManager_12,31,64_all_probs.json', \"w\") as f1:\n",
    "#     json.dump(all_probs, f1)\n",
    "\n",
    "with open('/home/t-eliass/scratch/FindManager_31,64_all_probs.json') as f1:\n",
    "#      #json.dump(all_probs, f1)\n",
    "    all_probs = json.load(f1)\n",
    "    "
   ],
   "outputs": [],
   "metadata": {}
  },
  {
   "cell_type": "code",
   "execution_count": 40,
   "source": [
    "# procedure: For each prefix type, try to aggregate FM and FR probs\n",
    "# - log the prefixes that didn't work \n",
    "\n",
    "\n",
    "fr_counts = []\n",
    "fr_freqs = []\n",
    "fr_probs = []\n",
    "fm_probs = []\n",
    "data_sizes = [5000, 10000, 20000, 50000, 100000, 119141]\n",
    "\n",
    "\n",
    "for i, split in enumerate([5000, 10000, 20000, 50000, 100000, \"max\"]):\n",
    "    data_dir = f\"/home/t-eliass/resources/data/smcalflow_samples_curated/FindManager/{split}_100\"\n",
    "    train_tgt_toks = get_train_toks(data_dir,\"FindManager\")\n",
    "    shared_prefixes = get_shared_prefixes(train_tgt_toks, \"FindManager\", \"FindReports\")\n",
    "\n",
    "    (fm_token_freq, fr_token_freq) = all_freqs[f\"{split}_100\"]\n",
    "    for seed in [31, 64]: \n",
    "        total_probs = get_total_prob(all_probs[f\"{split}_100_{seed}\"], shared_prefixes)\n",
    "        fr_counts.append(fr_token_freq)\n",
    "        fr_freqs.append(fr_token_freq/data_sizes[i])\n",
    "        fr_probs.append(total_probs[\"FindReports\"])\n",
    "        fm_probs.append(total_probs[\"FindManager\"])\n"
   ],
   "outputs": [],
   "metadata": {}
  },
  {
   "cell_type": "code",
   "execution_count": 43,
   "source": [
    "\n",
    "fig, ax = plt.subplots(1,2, sharex=False, sharey=False, figsize=(10,3))\n",
    "sns.lineplot(x=fr_counts, y=fr_probs, ax = ax[0])\n",
    "sns.despine()\n",
    "ax[0].set_ylabel(\"P(FindReports)\")\n",
    "ax[0].set_xlabel(\"# of FindReports\")\n",
    "ax[0].set_title(\"P(FindReports) by count of FindReports\")\n",
    "\n",
    "sns.lineplot(x=fr_counts, y=fm_probs, ax = ax[1])\n",
    "sns.despine()\n",
    "ax[1].set_ylabel(\"P(FindManager)\")\n",
    "ax[1].set_xlabel(\"# of FindReports\")\n",
    "ax[1].set_title(\"P(FindManager) by count of FindReports\")\n",
    "\n",
    "plt.tight_layout()\n",
    "plt.savefig(\"/home/t-eliass/papers/incremental_function_learning/figures/FindManager_vs_FindReports_controlled_prefix.pdf\")"
   ],
   "outputs": [
    {
     "output_type": "display_data",
     "data": {
      "text/plain": [
       "<Figure size 720x216 with 2 Axes>"
      ],
      "image/svg+xml": "<?xml version=\"1.0\" encoding=\"utf-8\" standalone=\"no\"?>\n<!DOCTYPE svg PUBLIC \"-//W3C//DTD SVG 1.1//EN\"\n  \"http://www.w3.org/Graphics/SVG/1.1/DTD/svg11.dtd\">\n<!-- Created with matplotlib (https://matplotlib.org/) -->\n<svg height=\"207.274375pt\" version=\"1.1\" viewBox=\"0 0 706.11875 207.274375\" width=\"706.11875pt\" xmlns=\"http://www.w3.org/2000/svg\" xmlns:xlink=\"http://www.w3.org/1999/xlink\">\n <metadata>\n  <rdf:RDF xmlns:cc=\"http://creativecommons.org/ns#\" xmlns:dc=\"http://purl.org/dc/elements/1.1/\" xmlns:rdf=\"http://www.w3.org/1999/02/22-rdf-syntax-ns#\">\n   <cc:Work>\n    <dc:type rdf:resource=\"http://purl.org/dc/dcmitype/StillImage\"/>\n    <dc:date>2021-08-23T20:32:14.666329</dc:date>\n    <dc:format>image/svg+xml</dc:format>\n    <dc:creator>\n     <cc:Agent>\n      <dc:title>Matplotlib v3.3.4, https://matplotlib.org/</dc:title>\n     </cc:Agent>\n    </dc:creator>\n   </cc:Work>\n  </rdf:RDF>\n </metadata>\n <defs>\n  <style type=\"text/css\">*{stroke-linecap:butt;stroke-linejoin:round;}</style>\n </defs>\n <g id=\"figure_1\">\n  <g id=\"patch_1\">\n   <path d=\"M 0 207.274375 \nL 706.11875 207.274375 \nL 706.11875 0 \nL 0 0 \nz\n\" style=\"fill:none;\"/>\n  </g>\n  <g id=\"axes_1\">\n   <g id=\"patch_2\">\n    <path d=\"M 50.14375 169.718125 \nL 347.50625 169.718125 \nL 347.50625 22.318125 \nL 50.14375 22.318125 \nz\n\" style=\"fill:#ffffff;\"/>\n   </g>\n   <g id=\"PolyCollection_1\">\n    <defs>\n     <path d=\"M 63.660227 -100.544565 \nL 63.660227 -97.864961 \nL 74.923958 -44.25625 \nL 97.45142 -49.367026 \nL 188.812795 -110.717653 \nL 303.953157 -146.531518 \nL 333.989773 -113.462869 \nL 333.989773 -132.765531 \nL 333.989773 -132.765531 \nL 303.953157 -178.25625 \nL 188.812795 -113.963242 \nL 97.45142 -50.921825 \nL 74.923958 -60.12619 \nL 63.660227 -100.544565 \nz\n\" id=\"m213364f371\" style=\"stroke:#1f77b4;stroke-opacity:0.2;\"/>\n    </defs>\n    <g clip-path=\"url(#p6603acaa1a)\">\n     <use style=\"fill:#1f77b4;fill-opacity:0.2;stroke:#1f77b4;stroke-opacity:0.2;\" x=\"0\" xlink:href=\"#m213364f371\" y=\"207.274375\"/>\n    </g>\n   </g>\n   <g id=\"matplotlib.axis_1\">\n    <g id=\"xtick_1\">\n     <g id=\"line2d_1\">\n      <defs>\n       <path d=\"M 0 0 \nL 0 3.5 \n\" id=\"m0ea6f5e9c6\" style=\"stroke:#000000;stroke-width:0.8;\"/>\n      </defs>\n      <g>\n       <use style=\"stroke:#000000;stroke-width:0.8;\" x=\"58.654125\" xlink:href=\"#m0ea6f5e9c6\" y=\"169.718125\"/>\n      </g>\n     </g>\n     <g id=\"text_1\">\n      <!-- 0 -->\n      <g transform=\"translate(55.472875 184.316562)scale(0.1 -0.1)\">\n       <defs>\n        <path d=\"M 31.78125 66.40625 \nQ 24.171875 66.40625 20.328125 58.90625 \nQ 16.5 51.421875 16.5 36.375 \nQ 16.5 21.390625 20.328125 13.890625 \nQ 24.171875 6.390625 31.78125 6.390625 \nQ 39.453125 6.390625 43.28125 13.890625 \nQ 47.125 21.390625 47.125 36.375 \nQ 47.125 51.421875 43.28125 58.90625 \nQ 39.453125 66.40625 31.78125 66.40625 \nz\nM 31.78125 74.21875 \nQ 44.046875 74.21875 50.515625 64.515625 \nQ 56.984375 54.828125 56.984375 36.375 \nQ 56.984375 17.96875 50.515625 8.265625 \nQ 44.046875 -1.421875 31.78125 -1.421875 \nQ 19.53125 -1.421875 13.0625 8.265625 \nQ 6.59375 17.96875 6.59375 36.375 \nQ 6.59375 54.828125 13.0625 64.515625 \nQ 19.53125 74.21875 31.78125 74.21875 \nz\n\" id=\"DejaVuSans-48\"/>\n       </defs>\n       <use xlink:href=\"#DejaVuSans-48\"/>\n      </g>\n     </g>\n    </g>\n    <g id=\"xtick_2\">\n     <g id=\"line2d_2\">\n      <g>\n       <use style=\"stroke:#000000;stroke-width:0.8;\" x=\"121.230408\" xlink:href=\"#m0ea6f5e9c6\" y=\"169.718125\"/>\n      </g>\n     </g>\n     <g id=\"text_2\">\n      <!-- 50 -->\n      <g transform=\"translate(114.867908 184.316562)scale(0.1 -0.1)\">\n       <defs>\n        <path d=\"M 10.796875 72.90625 \nL 49.515625 72.90625 \nL 49.515625 64.59375 \nL 19.828125 64.59375 \nL 19.828125 46.734375 \nQ 21.96875 47.46875 24.109375 47.828125 \nQ 26.265625 48.1875 28.421875 48.1875 \nQ 40.625 48.1875 47.75 41.5 \nQ 54.890625 34.8125 54.890625 23.390625 \nQ 54.890625 11.625 47.5625 5.09375 \nQ 40.234375 -1.421875 26.90625 -1.421875 \nQ 22.3125 -1.421875 17.546875 -0.640625 \nQ 12.796875 0.140625 7.71875 1.703125 \nL 7.71875 11.625 \nQ 12.109375 9.234375 16.796875 8.0625 \nQ 21.484375 6.890625 26.703125 6.890625 \nQ 35.15625 6.890625 40.078125 11.328125 \nQ 45.015625 15.765625 45.015625 23.390625 \nQ 45.015625 31 40.078125 35.4375 \nQ 35.15625 39.890625 26.703125 39.890625 \nQ 22.75 39.890625 18.8125 39.015625 \nQ 14.890625 38.140625 10.796875 36.28125 \nz\n\" id=\"DejaVuSans-53\"/>\n       </defs>\n       <use xlink:href=\"#DejaVuSans-53\"/>\n       <use x=\"63.623047\" xlink:href=\"#DejaVuSans-48\"/>\n      </g>\n     </g>\n    </g>\n    <g id=\"xtick_3\">\n     <g id=\"line2d_3\">\n      <g>\n       <use style=\"stroke:#000000;stroke-width:0.8;\" x=\"183.806692\" xlink:href=\"#m0ea6f5e9c6\" y=\"169.718125\"/>\n      </g>\n     </g>\n     <g id=\"text_3\">\n      <!-- 100 -->\n      <g transform=\"translate(174.262942 184.316562)scale(0.1 -0.1)\">\n       <defs>\n        <path d=\"M 12.40625 8.296875 \nL 28.515625 8.296875 \nL 28.515625 63.921875 \nL 10.984375 60.40625 \nL 10.984375 69.390625 \nL 28.421875 72.90625 \nL 38.28125 72.90625 \nL 38.28125 8.296875 \nL 54.390625 8.296875 \nL 54.390625 0 \nL 12.40625 0 \nz\n\" id=\"DejaVuSans-49\"/>\n       </defs>\n       <use xlink:href=\"#DejaVuSans-49\"/>\n       <use x=\"63.623047\" xlink:href=\"#DejaVuSans-48\"/>\n       <use x=\"127.246094\" xlink:href=\"#DejaVuSans-48\"/>\n      </g>\n     </g>\n    </g>\n    <g id=\"xtick_4\">\n     <g id=\"line2d_4\">\n      <g>\n       <use style=\"stroke:#000000;stroke-width:0.8;\" x=\"246.382976\" xlink:href=\"#m0ea6f5e9c6\" y=\"169.718125\"/>\n      </g>\n     </g>\n     <g id=\"text_4\">\n      <!-- 150 -->\n      <g transform=\"translate(236.839226 184.316562)scale(0.1 -0.1)\">\n       <use xlink:href=\"#DejaVuSans-49\"/>\n       <use x=\"63.623047\" xlink:href=\"#DejaVuSans-53\"/>\n       <use x=\"127.246094\" xlink:href=\"#DejaVuSans-48\"/>\n      </g>\n     </g>\n    </g>\n    <g id=\"xtick_5\">\n     <g id=\"line2d_5\">\n      <g>\n       <use style=\"stroke:#000000;stroke-width:0.8;\" x=\"308.959259\" xlink:href=\"#m0ea6f5e9c6\" y=\"169.718125\"/>\n      </g>\n     </g>\n     <g id=\"text_5\">\n      <!-- 200 -->\n      <g transform=\"translate(299.415509 184.316562)scale(0.1 -0.1)\">\n       <defs>\n        <path d=\"M 19.1875 8.296875 \nL 53.609375 8.296875 \nL 53.609375 0 \nL 7.328125 0 \nL 7.328125 8.296875 \nQ 12.9375 14.109375 22.625 23.890625 \nQ 32.328125 33.6875 34.8125 36.53125 \nQ 39.546875 41.84375 41.421875 45.53125 \nQ 43.3125 49.21875 43.3125 52.78125 \nQ 43.3125 58.59375 39.234375 62.25 \nQ 35.15625 65.921875 28.609375 65.921875 \nQ 23.96875 65.921875 18.8125 64.3125 \nQ 13.671875 62.703125 7.8125 59.421875 \nL 7.8125 69.390625 \nQ 13.765625 71.78125 18.9375 73 \nQ 24.125 74.21875 28.421875 74.21875 \nQ 39.75 74.21875 46.484375 68.546875 \nQ 53.21875 62.890625 53.21875 53.421875 \nQ 53.21875 48.921875 51.53125 44.890625 \nQ 49.859375 40.875 45.40625 35.40625 \nQ 44.1875 33.984375 37.640625 27.21875 \nQ 31.109375 20.453125 19.1875 8.296875 \nz\n\" id=\"DejaVuSans-50\"/>\n       </defs>\n       <use xlink:href=\"#DejaVuSans-50\"/>\n       <use x=\"63.623047\" xlink:href=\"#DejaVuSans-48\"/>\n       <use x=\"127.246094\" xlink:href=\"#DejaVuSans-48\"/>\n      </g>\n     </g>\n    </g>\n    <g id=\"text_6\">\n     <!-- # of FindReports -->\n     <g transform=\"translate(157.2125 197.994687)scale(0.1 -0.1)\">\n      <defs>\n       <path d=\"M 51.125 44 \nL 36.921875 44 \nL 32.8125 27.6875 \nL 47.125 27.6875 \nz\nM 43.796875 71.78125 \nL 38.71875 51.515625 \nL 52.984375 51.515625 \nL 58.109375 71.78125 \nL 65.921875 71.78125 \nL 60.890625 51.515625 \nL 76.125 51.515625 \nL 76.125 44 \nL 58.984375 44 \nL 54.984375 27.6875 \nL 70.515625 27.6875 \nL 70.515625 20.21875 \nL 53.078125 20.21875 \nL 48 0 \nL 40.1875 0 \nL 45.21875 20.21875 \nL 30.90625 20.21875 \nL 25.875 0 \nL 18.015625 0 \nL 23.09375 20.21875 \nL 7.71875 20.21875 \nL 7.71875 27.6875 \nL 24.90625 27.6875 \nL 29 44 \nL 13.28125 44 \nL 13.28125 51.515625 \nL 30.90625 51.515625 \nL 35.890625 71.78125 \nz\n\" id=\"DejaVuSans-35\"/>\n       <path id=\"DejaVuSans-32\"/>\n       <path d=\"M 30.609375 48.390625 \nQ 23.390625 48.390625 19.1875 42.75 \nQ 14.984375 37.109375 14.984375 27.296875 \nQ 14.984375 17.484375 19.15625 11.84375 \nQ 23.34375 6.203125 30.609375 6.203125 \nQ 37.796875 6.203125 41.984375 11.859375 \nQ 46.1875 17.53125 46.1875 27.296875 \nQ 46.1875 37.015625 41.984375 42.703125 \nQ 37.796875 48.390625 30.609375 48.390625 \nz\nM 30.609375 56 \nQ 42.328125 56 49.015625 48.375 \nQ 55.71875 40.765625 55.71875 27.296875 \nQ 55.71875 13.875 49.015625 6.21875 \nQ 42.328125 -1.421875 30.609375 -1.421875 \nQ 18.84375 -1.421875 12.171875 6.21875 \nQ 5.515625 13.875 5.515625 27.296875 \nQ 5.515625 40.765625 12.171875 48.375 \nQ 18.84375 56 30.609375 56 \nz\n\" id=\"DejaVuSans-111\"/>\n       <path d=\"M 37.109375 75.984375 \nL 37.109375 68.5 \nL 28.515625 68.5 \nQ 23.6875 68.5 21.796875 66.546875 \nQ 19.921875 64.59375 19.921875 59.515625 \nL 19.921875 54.6875 \nL 34.71875 54.6875 \nL 34.71875 47.703125 \nL 19.921875 47.703125 \nL 19.921875 0 \nL 10.890625 0 \nL 10.890625 47.703125 \nL 2.296875 47.703125 \nL 2.296875 54.6875 \nL 10.890625 54.6875 \nL 10.890625 58.5 \nQ 10.890625 67.625 15.140625 71.796875 \nQ 19.390625 75.984375 28.609375 75.984375 \nz\n\" id=\"DejaVuSans-102\"/>\n       <path d=\"M 9.8125 72.90625 \nL 51.703125 72.90625 \nL 51.703125 64.59375 \nL 19.671875 64.59375 \nL 19.671875 43.109375 \nL 48.578125 43.109375 \nL 48.578125 34.8125 \nL 19.671875 34.8125 \nL 19.671875 0 \nL 9.8125 0 \nz\n\" id=\"DejaVuSans-70\"/>\n       <path d=\"M 9.421875 54.6875 \nL 18.40625 54.6875 \nL 18.40625 0 \nL 9.421875 0 \nz\nM 9.421875 75.984375 \nL 18.40625 75.984375 \nL 18.40625 64.59375 \nL 9.421875 64.59375 \nz\n\" id=\"DejaVuSans-105\"/>\n       <path d=\"M 54.890625 33.015625 \nL 54.890625 0 \nL 45.90625 0 \nL 45.90625 32.71875 \nQ 45.90625 40.484375 42.875 44.328125 \nQ 39.84375 48.1875 33.796875 48.1875 \nQ 26.515625 48.1875 22.3125 43.546875 \nQ 18.109375 38.921875 18.109375 30.90625 \nL 18.109375 0 \nL 9.078125 0 \nL 9.078125 54.6875 \nL 18.109375 54.6875 \nL 18.109375 46.1875 \nQ 21.34375 51.125 25.703125 53.5625 \nQ 30.078125 56 35.796875 56 \nQ 45.21875 56 50.046875 50.171875 \nQ 54.890625 44.34375 54.890625 33.015625 \nz\n\" id=\"DejaVuSans-110\"/>\n       <path d=\"M 45.40625 46.390625 \nL 45.40625 75.984375 \nL 54.390625 75.984375 \nL 54.390625 0 \nL 45.40625 0 \nL 45.40625 8.203125 \nQ 42.578125 3.328125 38.25 0.953125 \nQ 33.9375 -1.421875 27.875 -1.421875 \nQ 17.96875 -1.421875 11.734375 6.484375 \nQ 5.515625 14.40625 5.515625 27.296875 \nQ 5.515625 40.1875 11.734375 48.09375 \nQ 17.96875 56 27.875 56 \nQ 33.9375 56 38.25 53.625 \nQ 42.578125 51.265625 45.40625 46.390625 \nz\nM 14.796875 27.296875 \nQ 14.796875 17.390625 18.875 11.75 \nQ 22.953125 6.109375 30.078125 6.109375 \nQ 37.203125 6.109375 41.296875 11.75 \nQ 45.40625 17.390625 45.40625 27.296875 \nQ 45.40625 37.203125 41.296875 42.84375 \nQ 37.203125 48.484375 30.078125 48.484375 \nQ 22.953125 48.484375 18.875 42.84375 \nQ 14.796875 37.203125 14.796875 27.296875 \nz\n\" id=\"DejaVuSans-100\"/>\n       <path d=\"M 44.390625 34.1875 \nQ 47.5625 33.109375 50.5625 29.59375 \nQ 53.5625 26.078125 56.59375 19.921875 \nL 66.609375 0 \nL 56 0 \nL 46.6875 18.703125 \nQ 43.0625 26.03125 39.671875 28.421875 \nQ 36.28125 30.8125 30.421875 30.8125 \nL 19.671875 30.8125 \nL 19.671875 0 \nL 9.8125 0 \nL 9.8125 72.90625 \nL 32.078125 72.90625 \nQ 44.578125 72.90625 50.734375 67.671875 \nQ 56.890625 62.453125 56.890625 51.90625 \nQ 56.890625 45.015625 53.6875 40.46875 \nQ 50.484375 35.9375 44.390625 34.1875 \nz\nM 19.671875 64.796875 \nL 19.671875 38.921875 \nL 32.078125 38.921875 \nQ 39.203125 38.921875 42.84375 42.21875 \nQ 46.484375 45.515625 46.484375 51.90625 \nQ 46.484375 58.296875 42.84375 61.546875 \nQ 39.203125 64.796875 32.078125 64.796875 \nz\n\" id=\"DejaVuSans-82\"/>\n       <path d=\"M 56.203125 29.59375 \nL 56.203125 25.203125 \nL 14.890625 25.203125 \nQ 15.484375 15.921875 20.484375 11.0625 \nQ 25.484375 6.203125 34.421875 6.203125 \nQ 39.59375 6.203125 44.453125 7.46875 \nQ 49.3125 8.734375 54.109375 11.28125 \nL 54.109375 2.78125 \nQ 49.265625 0.734375 44.1875 -0.34375 \nQ 39.109375 -1.421875 33.890625 -1.421875 \nQ 20.796875 -1.421875 13.15625 6.1875 \nQ 5.515625 13.8125 5.515625 26.8125 \nQ 5.515625 40.234375 12.765625 48.109375 \nQ 20.015625 56 32.328125 56 \nQ 43.359375 56 49.78125 48.890625 \nQ 56.203125 41.796875 56.203125 29.59375 \nz\nM 47.21875 32.234375 \nQ 47.125 39.59375 43.09375 43.984375 \nQ 39.0625 48.390625 32.421875 48.390625 \nQ 24.90625 48.390625 20.390625 44.140625 \nQ 15.875 39.890625 15.1875 32.171875 \nz\n\" id=\"DejaVuSans-101\"/>\n       <path d=\"M 18.109375 8.203125 \nL 18.109375 -20.796875 \nL 9.078125 -20.796875 \nL 9.078125 54.6875 \nL 18.109375 54.6875 \nL 18.109375 46.390625 \nQ 20.953125 51.265625 25.265625 53.625 \nQ 29.59375 56 35.59375 56 \nQ 45.5625 56 51.78125 48.09375 \nQ 58.015625 40.1875 58.015625 27.296875 \nQ 58.015625 14.40625 51.78125 6.484375 \nQ 45.5625 -1.421875 35.59375 -1.421875 \nQ 29.59375 -1.421875 25.265625 0.953125 \nQ 20.953125 3.328125 18.109375 8.203125 \nz\nM 48.6875 27.296875 \nQ 48.6875 37.203125 44.609375 42.84375 \nQ 40.53125 48.484375 33.40625 48.484375 \nQ 26.265625 48.484375 22.1875 42.84375 \nQ 18.109375 37.203125 18.109375 27.296875 \nQ 18.109375 17.390625 22.1875 11.75 \nQ 26.265625 6.109375 33.40625 6.109375 \nQ 40.53125 6.109375 44.609375 11.75 \nQ 48.6875 17.390625 48.6875 27.296875 \nz\n\" id=\"DejaVuSans-112\"/>\n       <path d=\"M 41.109375 46.296875 \nQ 39.59375 47.171875 37.8125 47.578125 \nQ 36.03125 48 33.890625 48 \nQ 26.265625 48 22.1875 43.046875 \nQ 18.109375 38.09375 18.109375 28.8125 \nL 18.109375 0 \nL 9.078125 0 \nL 9.078125 54.6875 \nL 18.109375 54.6875 \nL 18.109375 46.1875 \nQ 20.953125 51.171875 25.484375 53.578125 \nQ 30.03125 56 36.53125 56 \nQ 37.453125 56 38.578125 55.875 \nQ 39.703125 55.765625 41.0625 55.515625 \nz\n\" id=\"DejaVuSans-114\"/>\n       <path d=\"M 18.3125 70.21875 \nL 18.3125 54.6875 \nL 36.8125 54.6875 \nL 36.8125 47.703125 \nL 18.3125 47.703125 \nL 18.3125 18.015625 \nQ 18.3125 11.328125 20.140625 9.421875 \nQ 21.96875 7.515625 27.59375 7.515625 \nL 36.8125 7.515625 \nL 36.8125 0 \nL 27.59375 0 \nQ 17.1875 0 13.234375 3.875 \nQ 9.28125 7.765625 9.28125 18.015625 \nL 9.28125 47.703125 \nL 2.6875 47.703125 \nL 2.6875 54.6875 \nL 9.28125 54.6875 \nL 9.28125 70.21875 \nz\n\" id=\"DejaVuSans-116\"/>\n       <path d=\"M 44.28125 53.078125 \nL 44.28125 44.578125 \nQ 40.484375 46.53125 36.375 47.5 \nQ 32.28125 48.484375 27.875 48.484375 \nQ 21.1875 48.484375 17.84375 46.4375 \nQ 14.5 44.390625 14.5 40.28125 \nQ 14.5 37.15625 16.890625 35.375 \nQ 19.28125 33.59375 26.515625 31.984375 \nL 29.59375 31.296875 \nQ 39.15625 29.25 43.1875 25.515625 \nQ 47.21875 21.78125 47.21875 15.09375 \nQ 47.21875 7.46875 41.1875 3.015625 \nQ 35.15625 -1.421875 24.609375 -1.421875 \nQ 20.21875 -1.421875 15.453125 -0.5625 \nQ 10.6875 0.296875 5.421875 2 \nL 5.421875 11.28125 \nQ 10.40625 8.6875 15.234375 7.390625 \nQ 20.0625 6.109375 24.8125 6.109375 \nQ 31.15625 6.109375 34.5625 8.28125 \nQ 37.984375 10.453125 37.984375 14.40625 \nQ 37.984375 18.0625 35.515625 20.015625 \nQ 33.0625 21.96875 24.703125 23.78125 \nL 21.578125 24.515625 \nQ 13.234375 26.265625 9.515625 29.90625 \nQ 5.8125 33.546875 5.8125 39.890625 \nQ 5.8125 47.609375 11.28125 51.796875 \nQ 16.75 56 26.8125 56 \nQ 31.78125 56 36.171875 55.265625 \nQ 40.578125 54.546875 44.28125 53.078125 \nz\n\" id=\"DejaVuSans-115\"/>\n      </defs>\n      <use xlink:href=\"#DejaVuSans-35\"/>\n      <use x=\"83.789062\" xlink:href=\"#DejaVuSans-32\"/>\n      <use x=\"115.576172\" xlink:href=\"#DejaVuSans-111\"/>\n      <use x=\"176.757812\" xlink:href=\"#DejaVuSans-102\"/>\n      <use x=\"211.962891\" xlink:href=\"#DejaVuSans-32\"/>\n      <use x=\"243.75\" xlink:href=\"#DejaVuSans-70\"/>\n      <use x=\"294.019531\" xlink:href=\"#DejaVuSans-105\"/>\n      <use x=\"321.802734\" xlink:href=\"#DejaVuSans-110\"/>\n      <use x=\"385.181641\" xlink:href=\"#DejaVuSans-100\"/>\n      <use x=\"448.658203\" xlink:href=\"#DejaVuSans-82\"/>\n      <use x=\"513.640625\" xlink:href=\"#DejaVuSans-101\"/>\n      <use x=\"575.164062\" xlink:href=\"#DejaVuSans-112\"/>\n      <use x=\"638.640625\" xlink:href=\"#DejaVuSans-111\"/>\n      <use x=\"699.822266\" xlink:href=\"#DejaVuSans-114\"/>\n      <use x=\"740.935547\" xlink:href=\"#DejaVuSans-116\"/>\n      <use x=\"780.144531\" xlink:href=\"#DejaVuSans-115\"/>\n     </g>\n    </g>\n   </g>\n   <g id=\"matplotlib.axis_2\">\n    <g id=\"ytick_1\">\n     <g id=\"line2d_6\">\n      <defs>\n       <path d=\"M 0 0 \nL -3.5 0 \n\" id=\"m82c589d152\" style=\"stroke:#000000;stroke-width:0.8;\"/>\n      </defs>\n      <g>\n       <use style=\"stroke:#000000;stroke-width:0.8;\" x=\"50.14375\" xlink:href=\"#m82c589d152\" y=\"165.111182\"/>\n      </g>\n     </g>\n     <g id=\"text_7\">\n      <!-- 0.00 -->\n      <g transform=\"translate(20.878125 168.9104)scale(0.1 -0.1)\">\n       <defs>\n        <path d=\"M 10.6875 12.40625 \nL 21 12.40625 \nL 21 0 \nL 10.6875 0 \nz\n\" id=\"DejaVuSans-46\"/>\n       </defs>\n       <use xlink:href=\"#DejaVuSans-48\"/>\n       <use x=\"63.623047\" xlink:href=\"#DejaVuSans-46\"/>\n       <use x=\"95.410156\" xlink:href=\"#DejaVuSans-48\"/>\n       <use x=\"159.033203\" xlink:href=\"#DejaVuSans-48\"/>\n      </g>\n     </g>\n    </g>\n    <g id=\"ytick_2\">\n     <g id=\"line2d_7\">\n      <g>\n       <use style=\"stroke:#000000;stroke-width:0.8;\" x=\"50.14375\" xlink:href=\"#m82c589d152\" y=\"127.190361\"/>\n      </g>\n     </g>\n     <g id=\"text_8\">\n      <!-- 0.05 -->\n      <g transform=\"translate(20.878125 130.98958)scale(0.1 -0.1)\">\n       <use xlink:href=\"#DejaVuSans-48\"/>\n       <use x=\"63.623047\" xlink:href=\"#DejaVuSans-46\"/>\n       <use x=\"95.410156\" xlink:href=\"#DejaVuSans-48\"/>\n       <use x=\"159.033203\" xlink:href=\"#DejaVuSans-53\"/>\n      </g>\n     </g>\n    </g>\n    <g id=\"ytick_3\">\n     <g id=\"line2d_8\">\n      <g>\n       <use style=\"stroke:#000000;stroke-width:0.8;\" x=\"50.14375\" xlink:href=\"#m82c589d152\" y=\"89.269541\"/>\n      </g>\n     </g>\n     <g id=\"text_9\">\n      <!-- 0.10 -->\n      <g transform=\"translate(20.878125 93.068759)scale(0.1 -0.1)\">\n       <use xlink:href=\"#DejaVuSans-48\"/>\n       <use x=\"63.623047\" xlink:href=\"#DejaVuSans-46\"/>\n       <use x=\"95.410156\" xlink:href=\"#DejaVuSans-49\"/>\n       <use x=\"159.033203\" xlink:href=\"#DejaVuSans-48\"/>\n      </g>\n     </g>\n    </g>\n    <g id=\"ytick_4\">\n     <g id=\"line2d_9\">\n      <g>\n       <use style=\"stroke:#000000;stroke-width:0.8;\" x=\"50.14375\" xlink:href=\"#m82c589d152\" y=\"51.34872\"/>\n      </g>\n     </g>\n     <g id=\"text_10\">\n      <!-- 0.15 -->\n      <g transform=\"translate(20.878125 55.147939)scale(0.1 -0.1)\">\n       <use xlink:href=\"#DejaVuSans-48\"/>\n       <use x=\"63.623047\" xlink:href=\"#DejaVuSans-46\"/>\n       <use x=\"95.410156\" xlink:href=\"#DejaVuSans-49\"/>\n       <use x=\"159.033203\" xlink:href=\"#DejaVuSans-53\"/>\n      </g>\n     </g>\n    </g>\n    <g id=\"text_11\">\n     <!-- P(FindReports) -->\n     <g transform=\"translate(14.798438 132.359531)rotate(-90)scale(0.1 -0.1)\">\n      <defs>\n       <path d=\"M 19.671875 64.796875 \nL 19.671875 37.40625 \nL 32.078125 37.40625 \nQ 38.96875 37.40625 42.71875 40.96875 \nQ 46.484375 44.53125 46.484375 51.125 \nQ 46.484375 57.671875 42.71875 61.234375 \nQ 38.96875 64.796875 32.078125 64.796875 \nz\nM 9.8125 72.90625 \nL 32.078125 72.90625 \nQ 44.34375 72.90625 50.609375 67.359375 \nQ 56.890625 61.8125 56.890625 51.125 \nQ 56.890625 40.328125 50.609375 34.8125 \nQ 44.34375 29.296875 32.078125 29.296875 \nL 19.671875 29.296875 \nL 19.671875 0 \nL 9.8125 0 \nz\n\" id=\"DejaVuSans-80\"/>\n       <path d=\"M 31 75.875 \nQ 24.46875 64.65625 21.28125 53.65625 \nQ 18.109375 42.671875 18.109375 31.390625 \nQ 18.109375 20.125 21.3125 9.0625 \nQ 24.515625 -2 31 -13.1875 \nL 23.1875 -13.1875 \nQ 15.875 -1.703125 12.234375 9.375 \nQ 8.59375 20.453125 8.59375 31.390625 \nQ 8.59375 42.28125 12.203125 53.3125 \nQ 15.828125 64.359375 23.1875 75.875 \nz\n\" id=\"DejaVuSans-40\"/>\n       <path d=\"M 8.015625 75.875 \nL 15.828125 75.875 \nQ 23.140625 64.359375 26.78125 53.3125 \nQ 30.421875 42.28125 30.421875 31.390625 \nQ 30.421875 20.453125 26.78125 9.375 \nQ 23.140625 -1.703125 15.828125 -13.1875 \nL 8.015625 -13.1875 \nQ 14.5 -2 17.703125 9.0625 \nQ 20.90625 20.125 20.90625 31.390625 \nQ 20.90625 42.671875 17.703125 53.65625 \nQ 14.5 64.65625 8.015625 75.875 \nz\n\" id=\"DejaVuSans-41\"/>\n      </defs>\n      <use xlink:href=\"#DejaVuSans-80\"/>\n      <use x=\"60.302734\" xlink:href=\"#DejaVuSans-40\"/>\n      <use x=\"99.316406\" xlink:href=\"#DejaVuSans-70\"/>\n      <use x=\"149.585938\" xlink:href=\"#DejaVuSans-105\"/>\n      <use x=\"177.369141\" xlink:href=\"#DejaVuSans-110\"/>\n      <use x=\"240.748047\" xlink:href=\"#DejaVuSans-100\"/>\n      <use x=\"304.224609\" xlink:href=\"#DejaVuSans-82\"/>\n      <use x=\"369.207031\" xlink:href=\"#DejaVuSans-101\"/>\n      <use x=\"430.730469\" xlink:href=\"#DejaVuSans-112\"/>\n      <use x=\"494.207031\" xlink:href=\"#DejaVuSans-111\"/>\n      <use x=\"555.388672\" xlink:href=\"#DejaVuSans-114\"/>\n      <use x=\"596.501953\" xlink:href=\"#DejaVuSans-116\"/>\n      <use x=\"635.710938\" xlink:href=\"#DejaVuSans-115\"/>\n      <use x=\"687.810547\" xlink:href=\"#DejaVuSans-41\"/>\n     </g>\n    </g>\n   </g>\n   <g id=\"line2d_10\">\n    <path clip-path=\"url(#p6603acaa1a)\" d=\"M 63.660227 108.069612 \nL 74.923958 155.083155 \nL 97.45142 157.12995 \nL 188.812795 94.933927 \nL 303.953157 44.880491 \nL 333.989773 84.160175 \n\" style=\"fill:none;stroke:#1f77b4;stroke-linecap:square;stroke-width:1.5;\"/>\n   </g>\n   <g id=\"patch_3\">\n    <path d=\"M 50.14375 169.718125 \nL 50.14375 22.318125 \n\" style=\"fill:none;stroke:#000000;stroke-linecap:square;stroke-linejoin:miter;stroke-width:0.8;\"/>\n   </g>\n   <g id=\"patch_4\">\n    <path d=\"M 50.14375 169.718125 \nL 347.50625 169.718125 \n\" style=\"fill:none;stroke:#000000;stroke-linecap:square;stroke-linejoin:miter;stroke-width:0.8;\"/>\n   </g>\n   <g id=\"text_12\">\n    <!-- P(FindReports) by count of FindReports -->\n    <g transform=\"translate(82.206562 16.318125)scale(0.12 -0.12)\">\n     <defs>\n      <path d=\"M 48.6875 27.296875 \nQ 48.6875 37.203125 44.609375 42.84375 \nQ 40.53125 48.484375 33.40625 48.484375 \nQ 26.265625 48.484375 22.1875 42.84375 \nQ 18.109375 37.203125 18.109375 27.296875 \nQ 18.109375 17.390625 22.1875 11.75 \nQ 26.265625 6.109375 33.40625 6.109375 \nQ 40.53125 6.109375 44.609375 11.75 \nQ 48.6875 17.390625 48.6875 27.296875 \nz\nM 18.109375 46.390625 \nQ 20.953125 51.265625 25.265625 53.625 \nQ 29.59375 56 35.59375 56 \nQ 45.5625 56 51.78125 48.09375 \nQ 58.015625 40.1875 58.015625 27.296875 \nQ 58.015625 14.40625 51.78125 6.484375 \nQ 45.5625 -1.421875 35.59375 -1.421875 \nQ 29.59375 -1.421875 25.265625 0.953125 \nQ 20.953125 3.328125 18.109375 8.203125 \nL 18.109375 0 \nL 9.078125 0 \nL 9.078125 75.984375 \nL 18.109375 75.984375 \nz\n\" id=\"DejaVuSans-98\"/>\n      <path d=\"M 32.171875 -5.078125 \nQ 28.375 -14.84375 24.75 -17.8125 \nQ 21.140625 -20.796875 15.09375 -20.796875 \nL 7.90625 -20.796875 \nL 7.90625 -13.28125 \nL 13.1875 -13.28125 \nQ 16.890625 -13.28125 18.9375 -11.515625 \nQ 21 -9.765625 23.484375 -3.21875 \nL 25.09375 0.875 \nL 2.984375 54.6875 \nL 12.5 54.6875 \nL 29.59375 11.921875 \nL 46.6875 54.6875 \nL 56.203125 54.6875 \nz\n\" id=\"DejaVuSans-121\"/>\n      <path d=\"M 48.78125 52.59375 \nL 48.78125 44.1875 \nQ 44.96875 46.296875 41.140625 47.34375 \nQ 37.3125 48.390625 33.40625 48.390625 \nQ 24.65625 48.390625 19.8125 42.84375 \nQ 14.984375 37.3125 14.984375 27.296875 \nQ 14.984375 17.28125 19.8125 11.734375 \nQ 24.65625 6.203125 33.40625 6.203125 \nQ 37.3125 6.203125 41.140625 7.25 \nQ 44.96875 8.296875 48.78125 10.40625 \nL 48.78125 2.09375 \nQ 45.015625 0.34375 40.984375 -0.53125 \nQ 36.96875 -1.421875 32.421875 -1.421875 \nQ 20.0625 -1.421875 12.78125 6.34375 \nQ 5.515625 14.109375 5.515625 27.296875 \nQ 5.515625 40.671875 12.859375 48.328125 \nQ 20.21875 56 33.015625 56 \nQ 37.15625 56 41.109375 55.140625 \nQ 45.0625 54.296875 48.78125 52.59375 \nz\n\" id=\"DejaVuSans-99\"/>\n      <path d=\"M 8.5 21.578125 \nL 8.5 54.6875 \nL 17.484375 54.6875 \nL 17.484375 21.921875 \nQ 17.484375 14.15625 20.5 10.265625 \nQ 23.53125 6.390625 29.59375 6.390625 \nQ 36.859375 6.390625 41.078125 11.03125 \nQ 45.3125 15.671875 45.3125 23.6875 \nL 45.3125 54.6875 \nL 54.296875 54.6875 \nL 54.296875 0 \nL 45.3125 0 \nL 45.3125 8.40625 \nQ 42.046875 3.421875 37.71875 1 \nQ 33.40625 -1.421875 27.6875 -1.421875 \nQ 18.265625 -1.421875 13.375 4.4375 \nQ 8.5 10.296875 8.5 21.578125 \nz\nM 31.109375 56 \nz\n\" id=\"DejaVuSans-117\"/>\n     </defs>\n     <use xlink:href=\"#DejaVuSans-80\"/>\n     <use x=\"60.302734\" xlink:href=\"#DejaVuSans-40\"/>\n     <use x=\"99.316406\" xlink:href=\"#DejaVuSans-70\"/>\n     <use x=\"149.585938\" xlink:href=\"#DejaVuSans-105\"/>\n     <use x=\"177.369141\" xlink:href=\"#DejaVuSans-110\"/>\n     <use x=\"240.748047\" xlink:href=\"#DejaVuSans-100\"/>\n     <use x=\"304.224609\" xlink:href=\"#DejaVuSans-82\"/>\n     <use x=\"369.207031\" xlink:href=\"#DejaVuSans-101\"/>\n     <use x=\"430.730469\" xlink:href=\"#DejaVuSans-112\"/>\n     <use x=\"494.207031\" xlink:href=\"#DejaVuSans-111\"/>\n     <use x=\"555.388672\" xlink:href=\"#DejaVuSans-114\"/>\n     <use x=\"596.501953\" xlink:href=\"#DejaVuSans-116\"/>\n     <use x=\"635.710938\" xlink:href=\"#DejaVuSans-115\"/>\n     <use x=\"687.810547\" xlink:href=\"#DejaVuSans-41\"/>\n     <use x=\"726.824219\" xlink:href=\"#DejaVuSans-32\"/>\n     <use x=\"758.611328\" xlink:href=\"#DejaVuSans-98\"/>\n     <use x=\"822.087891\" xlink:href=\"#DejaVuSans-121\"/>\n     <use x=\"881.267578\" xlink:href=\"#DejaVuSans-32\"/>\n     <use x=\"913.054688\" xlink:href=\"#DejaVuSans-99\"/>\n     <use x=\"968.035156\" xlink:href=\"#DejaVuSans-111\"/>\n     <use x=\"1029.216797\" xlink:href=\"#DejaVuSans-117\"/>\n     <use x=\"1092.595703\" xlink:href=\"#DejaVuSans-110\"/>\n     <use x=\"1155.974609\" xlink:href=\"#DejaVuSans-116\"/>\n     <use x=\"1195.183594\" xlink:href=\"#DejaVuSans-32\"/>\n     <use x=\"1226.970703\" xlink:href=\"#DejaVuSans-111\"/>\n     <use x=\"1288.152344\" xlink:href=\"#DejaVuSans-102\"/>\n     <use x=\"1323.357422\" xlink:href=\"#DejaVuSans-32\"/>\n     <use x=\"1355.144531\" xlink:href=\"#DejaVuSans-70\"/>\n     <use x=\"1405.414062\" xlink:href=\"#DejaVuSans-105\"/>\n     <use x=\"1433.197266\" xlink:href=\"#DejaVuSans-110\"/>\n     <use x=\"1496.576172\" xlink:href=\"#DejaVuSans-100\"/>\n     <use x=\"1560.052734\" xlink:href=\"#DejaVuSans-82\"/>\n     <use x=\"1625.035156\" xlink:href=\"#DejaVuSans-101\"/>\n     <use x=\"1686.558594\" xlink:href=\"#DejaVuSans-112\"/>\n     <use x=\"1750.035156\" xlink:href=\"#DejaVuSans-111\"/>\n     <use x=\"1811.216797\" xlink:href=\"#DejaVuSans-114\"/>\n     <use x=\"1852.330078\" xlink:href=\"#DejaVuSans-116\"/>\n     <use x=\"1891.539062\" xlink:href=\"#DejaVuSans-115\"/>\n    </g>\n   </g>\n  </g>\n  <g id=\"axes_2\">\n   <g id=\"patch_5\">\n    <path d=\"M 401.55625 169.718125 \nL 698.91875 169.718125 \nL 698.91875 22.318125 \nL 401.55625 22.318125 \nz\n\" style=\"fill:#ffffff;\"/>\n   </g>\n   <g id=\"PolyCollection_2\">\n    <defs>\n     <path d=\"M 415.072727 -150.621339 \nL 415.072727 -127.061166 \nL 426.336458 -152.462031 \nL 448.86392 -136.427896 \nL 540.225295 -82.147134 \nL 655.365657 -57.599478 \nL 685.402273 -44.25625 \nL 685.402273 -102.618639 \nL 685.402273 -102.618639 \nL 655.365657 -66.685978 \nL 540.225295 -104.503258 \nL 448.86392 -167.060187 \nL 426.336458 -178.25625 \nL 415.072727 -150.621339 \nz\n\" id=\"m39b6bb93c1\" style=\"stroke:#1f77b4;stroke-opacity:0.2;\"/>\n    </defs>\n    <g clip-path=\"url(#p86e66d8599)\">\n     <use style=\"fill:#1f77b4;fill-opacity:0.2;stroke:#1f77b4;stroke-opacity:0.2;\" x=\"0\" xlink:href=\"#m39b6bb93c1\" y=\"207.274375\"/>\n    </g>\n   </g>\n   <g id=\"matplotlib.axis_3\">\n    <g id=\"xtick_6\">\n     <g id=\"line2d_11\">\n      <g>\n       <use style=\"stroke:#000000;stroke-width:0.8;\" x=\"410.066625\" xlink:href=\"#m0ea6f5e9c6\" y=\"169.718125\"/>\n      </g>\n     </g>\n     <g id=\"text_13\">\n      <!-- 0 -->\n      <g transform=\"translate(406.885375 184.316562)scale(0.1 -0.1)\">\n       <use xlink:href=\"#DejaVuSans-48\"/>\n      </g>\n     </g>\n    </g>\n    <g id=\"xtick_7\">\n     <g id=\"line2d_12\">\n      <g>\n       <use style=\"stroke:#000000;stroke-width:0.8;\" x=\"472.642908\" xlink:href=\"#m0ea6f5e9c6\" y=\"169.718125\"/>\n      </g>\n     </g>\n     <g id=\"text_14\">\n      <!-- 50 -->\n      <g transform=\"translate(466.280408 184.316562)scale(0.1 -0.1)\">\n       <use xlink:href=\"#DejaVuSans-53\"/>\n       <use x=\"63.623047\" xlink:href=\"#DejaVuSans-48\"/>\n      </g>\n     </g>\n    </g>\n    <g id=\"xtick_8\">\n     <g id=\"line2d_13\">\n      <g>\n       <use style=\"stroke:#000000;stroke-width:0.8;\" x=\"535.219192\" xlink:href=\"#m0ea6f5e9c6\" y=\"169.718125\"/>\n      </g>\n     </g>\n     <g id=\"text_15\">\n      <!-- 100 -->\n      <g transform=\"translate(525.675442 184.316562)scale(0.1 -0.1)\">\n       <use xlink:href=\"#DejaVuSans-49\"/>\n       <use x=\"63.623047\" xlink:href=\"#DejaVuSans-48\"/>\n       <use x=\"127.246094\" xlink:href=\"#DejaVuSans-48\"/>\n      </g>\n     </g>\n    </g>\n    <g id=\"xtick_9\">\n     <g id=\"line2d_14\">\n      <g>\n       <use style=\"stroke:#000000;stroke-width:0.8;\" x=\"597.795476\" xlink:href=\"#m0ea6f5e9c6\" y=\"169.718125\"/>\n      </g>\n     </g>\n     <g id=\"text_16\">\n      <!-- 150 -->\n      <g transform=\"translate(588.251726 184.316562)scale(0.1 -0.1)\">\n       <use xlink:href=\"#DejaVuSans-49\"/>\n       <use x=\"63.623047\" xlink:href=\"#DejaVuSans-53\"/>\n       <use x=\"127.246094\" xlink:href=\"#DejaVuSans-48\"/>\n      </g>\n     </g>\n    </g>\n    <g id=\"xtick_10\">\n     <g id=\"line2d_15\">\n      <g>\n       <use style=\"stroke:#000000;stroke-width:0.8;\" x=\"660.371759\" xlink:href=\"#m0ea6f5e9c6\" y=\"169.718125\"/>\n      </g>\n     </g>\n     <g id=\"text_17\">\n      <!-- 200 -->\n      <g transform=\"translate(650.828009 184.316562)scale(0.1 -0.1)\">\n       <use xlink:href=\"#DejaVuSans-50\"/>\n       <use x=\"63.623047\" xlink:href=\"#DejaVuSans-48\"/>\n       <use x=\"127.246094\" xlink:href=\"#DejaVuSans-48\"/>\n      </g>\n     </g>\n    </g>\n    <g id=\"text_18\">\n     <!-- # of FindReports -->\n     <g transform=\"translate(508.625 197.994687)scale(0.1 -0.1)\">\n      <use xlink:href=\"#DejaVuSans-35\"/>\n      <use x=\"83.789062\" xlink:href=\"#DejaVuSans-32\"/>\n      <use x=\"115.576172\" xlink:href=\"#DejaVuSans-111\"/>\n      <use x=\"176.757812\" xlink:href=\"#DejaVuSans-102\"/>\n      <use x=\"211.962891\" xlink:href=\"#DejaVuSans-32\"/>\n      <use x=\"243.75\" xlink:href=\"#DejaVuSans-70\"/>\n      <use x=\"294.019531\" xlink:href=\"#DejaVuSans-105\"/>\n      <use x=\"321.802734\" xlink:href=\"#DejaVuSans-110\"/>\n      <use x=\"385.181641\" xlink:href=\"#DejaVuSans-100\"/>\n      <use x=\"448.658203\" xlink:href=\"#DejaVuSans-82\"/>\n      <use x=\"513.640625\" xlink:href=\"#DejaVuSans-101\"/>\n      <use x=\"575.164062\" xlink:href=\"#DejaVuSans-112\"/>\n      <use x=\"638.640625\" xlink:href=\"#DejaVuSans-111\"/>\n      <use x=\"699.822266\" xlink:href=\"#DejaVuSans-114\"/>\n      <use x=\"740.935547\" xlink:href=\"#DejaVuSans-116\"/>\n      <use x=\"780.144531\" xlink:href=\"#DejaVuSans-115\"/>\n     </g>\n    </g>\n   </g>\n   <g id=\"matplotlib.axis_4\">\n    <g id=\"ytick_5\">\n     <g id=\"line2d_16\">\n      <g>\n       <use style=\"stroke:#000000;stroke-width:0.8;\" x=\"401.55625\" xlink:href=\"#m82c589d152\" y=\"157.823218\"/>\n      </g>\n     </g>\n     <g id=\"text_19\">\n      <!-- 0.50 -->\n      <g transform=\"translate(372.290625 161.622437)scale(0.1 -0.1)\">\n       <use xlink:href=\"#DejaVuSans-48\"/>\n       <use x=\"63.623047\" xlink:href=\"#DejaVuSans-46\"/>\n       <use x=\"95.410156\" xlink:href=\"#DejaVuSans-53\"/>\n       <use x=\"159.033203\" xlink:href=\"#DejaVuSans-48\"/>\n      </g>\n     </g>\n    </g>\n    <g id=\"ytick_6\">\n     <g id=\"line2d_17\">\n      <g>\n       <use style=\"stroke:#000000;stroke-width:0.8;\" x=\"401.55625\" xlink:href=\"#m82c589d152\" y=\"134.242034\"/>\n      </g>\n     </g>\n     <g id=\"text_20\">\n      <!-- 0.55 -->\n      <g transform=\"translate(372.290625 138.041253)scale(0.1 -0.1)\">\n       <use xlink:href=\"#DejaVuSans-48\"/>\n       <use x=\"63.623047\" xlink:href=\"#DejaVuSans-46\"/>\n       <use x=\"95.410156\" xlink:href=\"#DejaVuSans-53\"/>\n       <use x=\"159.033203\" xlink:href=\"#DejaVuSans-53\"/>\n      </g>\n     </g>\n    </g>\n    <g id=\"ytick_7\">\n     <g id=\"line2d_18\">\n      <g>\n       <use style=\"stroke:#000000;stroke-width:0.8;\" x=\"401.55625\" xlink:href=\"#m82c589d152\" y=\"110.660851\"/>\n      </g>\n     </g>\n     <g id=\"text_21\">\n      <!-- 0.60 -->\n      <g transform=\"translate(372.290625 114.460069)scale(0.1 -0.1)\">\n       <defs>\n        <path d=\"M 33.015625 40.375 \nQ 26.375 40.375 22.484375 35.828125 \nQ 18.609375 31.296875 18.609375 23.390625 \nQ 18.609375 15.53125 22.484375 10.953125 \nQ 26.375 6.390625 33.015625 6.390625 \nQ 39.65625 6.390625 43.53125 10.953125 \nQ 47.40625 15.53125 47.40625 23.390625 \nQ 47.40625 31.296875 43.53125 35.828125 \nQ 39.65625 40.375 33.015625 40.375 \nz\nM 52.59375 71.296875 \nL 52.59375 62.3125 \nQ 48.875 64.0625 45.09375 64.984375 \nQ 41.3125 65.921875 37.59375 65.921875 \nQ 27.828125 65.921875 22.671875 59.328125 \nQ 17.53125 52.734375 16.796875 39.40625 \nQ 19.671875 43.65625 24.015625 45.921875 \nQ 28.375 48.1875 33.59375 48.1875 \nQ 44.578125 48.1875 50.953125 41.515625 \nQ 57.328125 34.859375 57.328125 23.390625 \nQ 57.328125 12.15625 50.6875 5.359375 \nQ 44.046875 -1.421875 33.015625 -1.421875 \nQ 20.359375 -1.421875 13.671875 8.265625 \nQ 6.984375 17.96875 6.984375 36.375 \nQ 6.984375 53.65625 15.1875 63.9375 \nQ 23.390625 74.21875 37.203125 74.21875 \nQ 40.921875 74.21875 44.703125 73.484375 \nQ 48.484375 72.75 52.59375 71.296875 \nz\n\" id=\"DejaVuSans-54\"/>\n       </defs>\n       <use xlink:href=\"#DejaVuSans-48\"/>\n       <use x=\"63.623047\" xlink:href=\"#DejaVuSans-46\"/>\n       <use x=\"95.410156\" xlink:href=\"#DejaVuSans-54\"/>\n       <use x=\"159.033203\" xlink:href=\"#DejaVuSans-48\"/>\n      </g>\n     </g>\n    </g>\n    <g id=\"ytick_8\">\n     <g id=\"line2d_19\">\n      <g>\n       <use style=\"stroke:#000000;stroke-width:0.8;\" x=\"401.55625\" xlink:href=\"#m82c589d152\" y=\"87.079667\"/>\n      </g>\n     </g>\n     <g id=\"text_22\">\n      <!-- 0.65 -->\n      <g transform=\"translate(372.290625 90.878886)scale(0.1 -0.1)\">\n       <use xlink:href=\"#DejaVuSans-48\"/>\n       <use x=\"63.623047\" xlink:href=\"#DejaVuSans-46\"/>\n       <use x=\"95.410156\" xlink:href=\"#DejaVuSans-54\"/>\n       <use x=\"159.033203\" xlink:href=\"#DejaVuSans-53\"/>\n      </g>\n     </g>\n    </g>\n    <g id=\"ytick_9\">\n     <g id=\"line2d_20\">\n      <g>\n       <use style=\"stroke:#000000;stroke-width:0.8;\" x=\"401.55625\" xlink:href=\"#m82c589d152\" y=\"63.498483\"/>\n      </g>\n     </g>\n     <g id=\"text_23\">\n      <!-- 0.70 -->\n      <g transform=\"translate(372.290625 67.297702)scale(0.1 -0.1)\">\n       <defs>\n        <path d=\"M 8.203125 72.90625 \nL 55.078125 72.90625 \nL 55.078125 68.703125 \nL 28.609375 0 \nL 18.3125 0 \nL 43.21875 64.59375 \nL 8.203125 64.59375 \nz\n\" id=\"DejaVuSans-55\"/>\n       </defs>\n       <use xlink:href=\"#DejaVuSans-48\"/>\n       <use x=\"63.623047\" xlink:href=\"#DejaVuSans-46\"/>\n       <use x=\"95.410156\" xlink:href=\"#DejaVuSans-55\"/>\n       <use x=\"159.033203\" xlink:href=\"#DejaVuSans-48\"/>\n      </g>\n     </g>\n    </g>\n    <g id=\"ytick_10\">\n     <g id=\"line2d_21\">\n      <g>\n       <use style=\"stroke:#000000;stroke-width:0.8;\" x=\"401.55625\" xlink:href=\"#m82c589d152\" y=\"39.917299\"/>\n      </g>\n     </g>\n     <g id=\"text_24\">\n      <!-- 0.75 -->\n      <g transform=\"translate(372.290625 43.716518)scale(0.1 -0.1)\">\n       <use xlink:href=\"#DejaVuSans-48\"/>\n       <use x=\"63.623047\" xlink:href=\"#DejaVuSans-46\"/>\n       <use x=\"95.410156\" xlink:href=\"#DejaVuSans-55\"/>\n       <use x=\"159.033203\" xlink:href=\"#DejaVuSans-53\"/>\n      </g>\n     </g>\n    </g>\n    <g id=\"text_25\">\n     <!-- P(FindManager) -->\n     <g transform=\"translate(366.210938 135.097031)rotate(-90)scale(0.1 -0.1)\">\n      <defs>\n       <path d=\"M 9.8125 72.90625 \nL 24.515625 72.90625 \nL 43.109375 23.296875 \nL 61.8125 72.90625 \nL 76.515625 72.90625 \nL 76.515625 0 \nL 66.890625 0 \nL 66.890625 64.015625 \nL 48.09375 14.015625 \nL 38.1875 14.015625 \nL 19.390625 64.015625 \nL 19.390625 0 \nL 9.8125 0 \nz\n\" id=\"DejaVuSans-77\"/>\n       <path d=\"M 34.28125 27.484375 \nQ 23.390625 27.484375 19.1875 25 \nQ 14.984375 22.515625 14.984375 16.5 \nQ 14.984375 11.71875 18.140625 8.90625 \nQ 21.296875 6.109375 26.703125 6.109375 \nQ 34.1875 6.109375 38.703125 11.40625 \nQ 43.21875 16.703125 43.21875 25.484375 \nL 43.21875 27.484375 \nz\nM 52.203125 31.203125 \nL 52.203125 0 \nL 43.21875 0 \nL 43.21875 8.296875 \nQ 40.140625 3.328125 35.546875 0.953125 \nQ 30.953125 -1.421875 24.3125 -1.421875 \nQ 15.921875 -1.421875 10.953125 3.296875 \nQ 6 8.015625 6 15.921875 \nQ 6 25.140625 12.171875 29.828125 \nQ 18.359375 34.515625 30.609375 34.515625 \nL 43.21875 34.515625 \nL 43.21875 35.40625 \nQ 43.21875 41.609375 39.140625 45 \nQ 35.0625 48.390625 27.6875 48.390625 \nQ 23 48.390625 18.546875 47.265625 \nQ 14.109375 46.140625 10.015625 43.890625 \nL 10.015625 52.203125 \nQ 14.9375 54.109375 19.578125 55.046875 \nQ 24.21875 56 28.609375 56 \nQ 40.484375 56 46.34375 49.84375 \nQ 52.203125 43.703125 52.203125 31.203125 \nz\n\" id=\"DejaVuSans-97\"/>\n       <path d=\"M 45.40625 27.984375 \nQ 45.40625 37.75 41.375 43.109375 \nQ 37.359375 48.484375 30.078125 48.484375 \nQ 22.859375 48.484375 18.828125 43.109375 \nQ 14.796875 37.75 14.796875 27.984375 \nQ 14.796875 18.265625 18.828125 12.890625 \nQ 22.859375 7.515625 30.078125 7.515625 \nQ 37.359375 7.515625 41.375 12.890625 \nQ 45.40625 18.265625 45.40625 27.984375 \nz\nM 54.390625 6.78125 \nQ 54.390625 -7.171875 48.1875 -13.984375 \nQ 42 -20.796875 29.203125 -20.796875 \nQ 24.46875 -20.796875 20.265625 -20.09375 \nQ 16.0625 -19.390625 12.109375 -17.921875 \nL 12.109375 -9.1875 \nQ 16.0625 -11.328125 19.921875 -12.34375 \nQ 23.78125 -13.375 27.78125 -13.375 \nQ 36.625 -13.375 41.015625 -8.765625 \nQ 45.40625 -4.15625 45.40625 5.171875 \nL 45.40625 9.625 \nQ 42.625 4.78125 38.28125 2.390625 \nQ 33.9375 0 27.875 0 \nQ 17.828125 0 11.671875 7.65625 \nQ 5.515625 15.328125 5.515625 27.984375 \nQ 5.515625 40.671875 11.671875 48.328125 \nQ 17.828125 56 27.875 56 \nQ 33.9375 56 38.28125 53.609375 \nQ 42.625 51.21875 45.40625 46.390625 \nL 45.40625 54.6875 \nL 54.390625 54.6875 \nz\n\" id=\"DejaVuSans-103\"/>\n      </defs>\n      <use xlink:href=\"#DejaVuSans-80\"/>\n      <use x=\"60.302734\" xlink:href=\"#DejaVuSans-40\"/>\n      <use x=\"99.316406\" xlink:href=\"#DejaVuSans-70\"/>\n      <use x=\"149.585938\" xlink:href=\"#DejaVuSans-105\"/>\n      <use x=\"177.369141\" xlink:href=\"#DejaVuSans-110\"/>\n      <use x=\"240.748047\" xlink:href=\"#DejaVuSans-100\"/>\n      <use x=\"304.224609\" xlink:href=\"#DejaVuSans-77\"/>\n      <use x=\"390.503906\" xlink:href=\"#DejaVuSans-97\"/>\n      <use x=\"451.783203\" xlink:href=\"#DejaVuSans-110\"/>\n      <use x=\"515.162109\" xlink:href=\"#DejaVuSans-97\"/>\n      <use x=\"576.441406\" xlink:href=\"#DejaVuSans-103\"/>\n      <use x=\"639.917969\" xlink:href=\"#DejaVuSans-101\"/>\n      <use x=\"701.441406\" xlink:href=\"#DejaVuSans-114\"/>\n      <use x=\"742.554688\" xlink:href=\"#DejaVuSans-41\"/>\n     </g>\n    </g>\n   </g>\n   <g id=\"line2d_22\">\n    <path clip-path=\"url(#p86e66d8599)\" d=\"M 415.072727 68.433123 \nL 426.336458 41.915234 \nL 448.86392 55.530333 \nL 540.225295 113.949179 \nL 655.365657 145.131647 \nL 685.402273 133.83693 \n\" style=\"fill:none;stroke:#1f77b4;stroke-linecap:square;stroke-width:1.5;\"/>\n   </g>\n   <g id=\"patch_6\">\n    <path d=\"M 401.55625 169.718125 \nL 401.55625 22.318125 \n\" style=\"fill:none;stroke:#000000;stroke-linecap:square;stroke-linejoin:miter;stroke-width:0.8;\"/>\n   </g>\n   <g id=\"patch_7\">\n    <path d=\"M 401.55625 169.718125 \nL 698.91875 169.718125 \n\" style=\"fill:none;stroke:#000000;stroke-linecap:square;stroke-linejoin:miter;stroke-width:0.8;\"/>\n   </g>\n   <g id=\"text_26\">\n    <!-- P(FindManager) by count of FindReports -->\n    <g transform=\"translate(430.334062 16.318125)scale(0.12 -0.12)\">\n     <use xlink:href=\"#DejaVuSans-80\"/>\n     <use x=\"60.302734\" xlink:href=\"#DejaVuSans-40\"/>\n     <use x=\"99.316406\" xlink:href=\"#DejaVuSans-70\"/>\n     <use x=\"149.585938\" xlink:href=\"#DejaVuSans-105\"/>\n     <use x=\"177.369141\" xlink:href=\"#DejaVuSans-110\"/>\n     <use x=\"240.748047\" xlink:href=\"#DejaVuSans-100\"/>\n     <use x=\"304.224609\" xlink:href=\"#DejaVuSans-77\"/>\n     <use x=\"390.503906\" xlink:href=\"#DejaVuSans-97\"/>\n     <use x=\"451.783203\" xlink:href=\"#DejaVuSans-110\"/>\n     <use x=\"515.162109\" xlink:href=\"#DejaVuSans-97\"/>\n     <use x=\"576.441406\" xlink:href=\"#DejaVuSans-103\"/>\n     <use x=\"639.917969\" xlink:href=\"#DejaVuSans-101\"/>\n     <use x=\"701.441406\" xlink:href=\"#DejaVuSans-114\"/>\n     <use x=\"742.554688\" xlink:href=\"#DejaVuSans-41\"/>\n     <use x=\"781.568359\" xlink:href=\"#DejaVuSans-32\"/>\n     <use x=\"813.355469\" xlink:href=\"#DejaVuSans-98\"/>\n     <use x=\"876.832031\" xlink:href=\"#DejaVuSans-121\"/>\n     <use x=\"936.011719\" xlink:href=\"#DejaVuSans-32\"/>\n     <use x=\"967.798828\" xlink:href=\"#DejaVuSans-99\"/>\n     <use x=\"1022.779297\" xlink:href=\"#DejaVuSans-111\"/>\n     <use x=\"1083.960938\" xlink:href=\"#DejaVuSans-117\"/>\n     <use x=\"1147.339844\" xlink:href=\"#DejaVuSans-110\"/>\n     <use x=\"1210.71875\" xlink:href=\"#DejaVuSans-116\"/>\n     <use x=\"1249.927734\" xlink:href=\"#DejaVuSans-32\"/>\n     <use x=\"1281.714844\" xlink:href=\"#DejaVuSans-111\"/>\n     <use x=\"1342.896484\" xlink:href=\"#DejaVuSans-102\"/>\n     <use x=\"1378.101562\" xlink:href=\"#DejaVuSans-32\"/>\n     <use x=\"1409.888672\" xlink:href=\"#DejaVuSans-70\"/>\n     <use x=\"1460.158203\" xlink:href=\"#DejaVuSans-105\"/>\n     <use x=\"1487.941406\" xlink:href=\"#DejaVuSans-110\"/>\n     <use x=\"1551.320312\" xlink:href=\"#DejaVuSans-100\"/>\n     <use x=\"1614.796875\" xlink:href=\"#DejaVuSans-82\"/>\n     <use x=\"1679.779297\" xlink:href=\"#DejaVuSans-101\"/>\n     <use x=\"1741.302734\" xlink:href=\"#DejaVuSans-112\"/>\n     <use x=\"1804.779297\" xlink:href=\"#DejaVuSans-111\"/>\n     <use x=\"1865.960938\" xlink:href=\"#DejaVuSans-114\"/>\n     <use x=\"1907.074219\" xlink:href=\"#DejaVuSans-116\"/>\n     <use x=\"1946.283203\" xlink:href=\"#DejaVuSans-115\"/>\n    </g>\n   </g>\n  </g>\n </g>\n <defs>\n  <clipPath id=\"p6603acaa1a\">\n   <rect height=\"147.4\" width=\"297.3625\" x=\"50.14375\" y=\"22.318125\"/>\n  </clipPath>\n  <clipPath id=\"p86e66d8599\">\n   <rect height=\"147.4\" width=\"297.3625\" x=\"401.55625\" y=\"22.318125\"/>\n  </clipPath>\n </defs>\n</svg>\n",
      "image/png": "[encoded data removed]"
     },
     "metadata": {
      "needs_background": "light"
     }
    }
   ],
   "metadata": {}
  },
  {
   "cell_type": "code",
   "execution_count": null,
   "source": [
    "\n",
    "\n",
    "\n",
    "fig, ax = plt.subplots(1,2, sharex=False, sharey=False, figsize=(10,3))\n",
    "\n",
    "sns.lineplot(x=fr_freqs, y=fr_probs, ax = ax[0])\n",
    "sns.despine()\n",
    "ax[0].set_ylabel(\"P(FindReports)\")\n",
    "ax[0].set_xlabel(\"Freq. of FindReports\")\n",
    "ax[0].set_title(\"P(FindReports) by frequency of FindReports\")\n",
    "\n",
    "sns.lineplot(x=fr_freqs, y=fm_probs, ax = ax[1])\n",
    "sns.despine()\n",
    "ax[1].set_ylabel(\"P(FindManager)\")\n",
    "ax[1].set_xlabel(\"Freq. of FindReports\")\n",
    "ax[1].set_title(\"P(FindManager) by frequency of FindReports\")\n",
    "\n"
   ],
   "outputs": [],
   "metadata": {}
  },
  {
   "cell_type": "code",
   "execution_count": null,
   "source": [],
   "outputs": [],
   "metadata": {}
  },
  {
   "cell_type": "markdown",
   "source": [
    "# FindManager vs FindReports follow-up questions \n",
    "1. It looks like FindReports accounts for the drop in $P(FindManager)$ but not for the initial difference from 100%, i.e. mass is not always split between FindManager and FindReports. If FindReports isn't accounting for the gap between FindManager and 100, what is? "
   ],
   "metadata": {}
  },
  {
   "cell_type": "markdown",
   "source": [
    "# Full data correlation\n",
    "In the full data, is there a correlation between $P_{model}(Function)$ and $P_{data}(Function)$? \n",
    "\n",
    "\n"
   ],
   "metadata": {}
  },
  {
   "cell_type": "markdown",
   "source": [],
   "metadata": {}
  },
  {
   "cell_type": "code",
   "execution_count": null,
   "source": [
    "from tqdm import tqdm \n",
    "\n",
    "def process_json(path, a_tok, b_tok, fxn_of_interest):\n",
    "    with open(path) as f1:\n",
    "        data = json.load(f1)\n",
    "\n",
    "    to_ret = defaultdict(list)\n",
    "    for instance in data: \n",
    "        instance = instance\n",
    "        target_toks = [x[0] for x in instance['next_token']]\n",
    "        left_context = [x[0] for x in instance['left_context']][1:]\n",
    "        if fxn_of_interest not in target_toks:\n",
    "            continue\n",
    "        probs = instance['prob_dist']\n",
    "\n",
    "        idxs_of_interest = [i for i,x in enumerate(target_toks) if x == fxn_of_interest]\n",
    "        for idx in idxs_of_interest:\n",
    "            prob_a = probs[idx][a_tok]\n",
    "            prob_b = probs[idx][b_tok]\n",
    "            prefix = left_context[0:idx]\n",
    "            print(f\"prefix: {prefix}\")\n",
    "            to_ret[\" \".join(prefix)].append({a_tok: prob_a, b_tok: prob_b})\n",
    "    return to_ret \n",
    "\n",
    "\n",
    "def get_correlation(split, path): \n",
    "    path = Path(path) \n",
    "    path_to_dict = path.joinpath(split, \"translate_output\", \"test_valid_probs.json\")\n",
    "    print(f\"opening data\")\n",
    "    with open(path_to_dict) as f1:\n",
    "        data = json.load(f1)\n",
    "    print(f\"got data\")\n",
    "    freqs = {}\n",
    "    counts = {}\n",
    "    probs_to_ret = defaultdict(list)\n",
    "    func_ontology = set()\n",
    "\n",
    "    for instance in tqdm(data): \n",
    "        instance = instance\n",
    "        target_toks = [x[0] for x in instance['next_token']]\n",
    "        left_context = [x[0] for x in instance['left_context']][1:]\n",
    "        probs = instance['prob_dist']\n",
    "\n",
    "        for idx in range( len(target_toks)):\n",
    "            prob_dict = probs[idx]\n",
    "            for func, prob in prob_dict.items():\n",
    "                if func in [\"@ROOT@\", \"@start@\", \"@end@\"]:\n",
    "                    continue\n",
    "                probs_to_ret[func].append(prob)\n",
    "                func_ontology.add(func)\n",
    "\n",
    "    train_tgt_toks = get_train_toks(f\"/home/t-eliass/resources/data/smcalflow_samples_curated/FindManager/{split}\", \"\")\n",
    "    for func in func_ontology:\n",
    "        freq = get_token_frequency(func, train_tgt_toks)\n",
    "\n",
    "        counts[func] = freq\n",
    "\n",
    "    return counts, probs_to_ret\n",
    "\n",
    "\n"
   ],
   "outputs": [],
   "metadata": {}
  },
  {
   "cell_type": "code",
   "execution_count": null,
   "source": [
    "all_counts = []\n",
    "all_probs = []\n",
    "all_freqs = []\n",
    "\n",
    "data_sizes = [5000, 10000, 20000, 50000, 100000, 119141]\n",
    "for seed in [31, 64]: \n",
    "    for i, split in enumerate([5000, 10000, 20000, 50000, 100000, \"max\"]): \n",
    "        print(f\"split {split} seed: {seed}\")\n",
    "        data_size = data_sizes[i]\n",
    "        counts, probs = get_correlation(f\"{split}_100\", f\"/home/t-eliass/amlt_models/transformer/FindManager_{seed}_seed\")\n",
    "\n",
    "        functions = counts.keys()\n",
    "        flat_counts = [counts[k] for k in functions]\n",
    "        flat_freqs = [counts[k]/data_size for k in functions]\n",
    "        flat_probs = [np.mean(probs[k]) for k in functions]\n",
    "        all_counts += counts\n",
    "        all_probs += flat_probs\n",
    "        all_freqs += flat_freqs"
   ],
   "outputs": [],
   "metadata": {}
  },
  {
   "cell_type": "code",
   "execution_count": null,
   "source": [
    "\n",
    "\n",
    "\n",
    "fig, ax = plt.subplots()\n",
    "plt.scatter(x=all_freqs, y=all_probs)\n",
    "\n"
   ],
   "outputs": [],
   "metadata": {}
  },
  {
   "cell_type": "code",
   "execution_count": null,
   "source": [
    "outlier = [func for func in functions if counts[func] == 5000]\n",
    "outlier = [func for func in outlier if np.mean(probs[func]) < 0.01]\n",
    "print(outlier)"
   ],
   "outputs": [],
   "metadata": {}
  },
  {
   "cell_type": "markdown",
   "source": [
    "# FindManager vs Fence\n",
    "\n",
    "Previous analysis just compared overall model prob of FindManager and FindReports, but what about the probability given a particular input. I think that's "
   ],
   "metadata": {}
  },
  {
   "cell_type": "code",
   "execution_count": null,
   "source": [],
   "outputs": [],
   "metadata": {}
  }
 ],
 "metadata": {
  "orig_nbformat": 4,
  "language_info": {
   "name": "python",
   "version": "3.7.10",
   "mimetype": "text/x-python",
   "codemirror_mode": {
    "name": "ipython",
    "version": 3
   },
   "pygments_lexer": "ipython3",
   "nbconvert_exporter": "python",
   "file_extension": ".py"
  },
  "kernelspec": {
   "name": "python3",
   "display_name": "Python 3.7.10 64-bit ('miso': conda)"
  },
  "interpreter": {
   "hash": "df6f5a0739b2b5d315aeae3ad40535b5c77cf79d551814f856482f576d3e5601"
  }
 },
 "nbformat": 4,
 "nbformat_minor": 2
}