{
 "cells": [
  {
   "cell_type": "code",
   "execution_count": null,
   "metadata": {},
   "outputs": [],
   "source": [
    "# get calibration by each type of token\n",
    "\n",
    "sql_funcs = [\"SELECT\", \"WHERE\", \"GROUP BY\", \"HAVING\", \"ORDER BY\", \"LIMIT\", \"JOIN\", \"INTERSECT\", \"EXCEPT\", \"UNION\", \"NOT IN\", \"OR\", \"AND\", \"EXISTS\", \"LIKE\"]\n",
    "\n",
    "def get_token_type(tokens, probs):\n",
    "    \n",
    "\n",
    "\n",
    "\n",
    "\n",
    "\n",
    "\n"
   ]
  },
  {
   "cell_type": "code",
   "execution_count": null,
   "metadata": {},
   "outputs": [],
   "source": []
  }
 ],
 "metadata": {
  "language_info": {
   "name": "python"
  },
  "orig_nbformat": 4
 },
 "nbformat": 4,
 "nbformat_minor": 2
}
