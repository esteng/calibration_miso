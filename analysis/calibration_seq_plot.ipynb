{
 "cells": [
  {
   "cell_type": "code",
   "execution_count": 1,
   "metadata": {},
   "outputs": [],
   "source": [
    "import json\n",
    "import re \n",
    "import numpy as np \n",
    "import matplotlib.pyplot as plt\n",
    "import pandas as pd \n",
    "from collections import Counter, defaultdict\n",
    "from scipy import stats\n",
    "\n",
    "from calibration_metric.vis.calibration_plot import plot_df\n",
    "from calibration_metric.metric import ECEMetric\n",
    "\n",
    "plt.rcParams[\"font.family\"] = \"Nimbus Roman\"\n",
    "\n",
    "from calibration_utils import read_nucleus_file, read_gold_file,get_probs_and_accs, read_benchclamp_file, get_probs_and_accs_benchclamp"
   ]
  },
  {
   "cell_type": "code",
   "execution_count": 2,
   "metadata": {},
   "outputs": [
    {
     "name": "stdout",
     "output_type": "stream",
     "text": [
      "(Yield (UpdateCommitEventWrapper (UpdatePreflightEventWrapper (Event.id (singleton (QueryEventResponse.results (FindEventWrapperWithDefaults (& (Event.subject_? (?~= \"reservation\")) (EventOnDateWithTimeRange (EventOnDate (Today) (^(Event) EmptyStructConstraint)) (Night))))))) (Event.start_? (DateTime.time_? (?= (NumberPM 6L)))))))\n",
      "(FenceScope)\n",
      "(Yield (Execute (ReviseConstraint (refer (^(Dynamic) roleConstraint (Path.apply \"output\"))) (^(Event) ConstraintTypeIntension) (Event.showAs_? (?= (ShowAsStatus.OutOfOffice))))))\n",
      "(let (x0 (Execute (^(Dynamic) ConfirmAndReturnAction))) (do (Yield x0) (Yield (CreateCommitEventWrapper (CreatePreflightEventWrapper (& (Event.showAs_? (?= (ShowAsStatus.OutOfOffice))) (EventAllDayStartingDateForPeriod (^(Event) EmptyStructConstraint) (DateTime.date (Event.start (^(Dynamic) item x0))) (toDays 1))))))))\n",
      "(Yield (CreateCommitEventWrapper (CreatePreflightEventWrapper (EventAllDayStartingDateForPeriod (Event.subject_? (?= \" buyer's conference \")) (adjustByPeriod (Today) (toMonths 2)) (toDays 2)))))\n",
      "(Yield (CreateCommitEventWrapper (CreatePreflightEventWrapper (EventAllDayStartingDateForPeriod (Event.subject_? (?= \" buyer's conference \")) (MD 2L (NextMonth)) (toDays 2)))))\n",
      "(Yield (Execute (ReviseConstraint (refer (^(Dynamic) roleConstraint (Path.apply \"output\"))) (^(Event) ConstraintTypeIntension) (Event.start_? (DateTime.time_? (?= (NumberAM 10L)))))))\n",
      "(Yield (Execute (ReviseConstraint (refer (^(Dynamic) roleConstraint (Path.apply \"output\"))) (^(Event) ConstraintTypeIntension) (Event.start_? (DateTime.time_? (?= (NumberAM 9L)))))))\n",
      "(Yield (UpdateCommitEventWrapper (UpdatePreflightEventWrapper (Event.id (Execute (refer (extensionConstraint (^(Event) EmptyStructConstraint))))) (Event.duration_? (?= (addDurations (Event.duration (Execute (refer (extensionConstraint (^(Event) EmptyStructConstraint))))) (toHours 1)))))))\n",
      "(let (x0 (Execute (refer (extensionConstraint (^(Event) EmptyStructConstraint))))) (Yield (UpdateCommitEventWrapper (UpdatePreflightEventWrapper (Event.id x0) (Event.duration_? (?= (addDurations (Event.duration x0) (toHours 1))))))))\n",
      "(FenceDateTime)\n",
      "(let (x0 (DowOfWeekNew (Friday) (NextWeekList))) (Yield (CreateCommitEventWrapper (CreatePreflightEventWrapper (EventAllDayForDateRange (Event.subject_? (?= \"vacation\")) (DateAndConstraint x0 (nextDayOfWeek x0 (Sunday))))))))\n",
      "(Yield (Execute (ReviseConstraint (refer (^(Dynamic) roleConstraint (Path.apply \"output\"))) (^(Event) ConstraintTypeIntension) (EventAllDayStartingDateForPeriod (^(Event) EmptyStructConstraint) (Execute (refer (& (^(Date) roleConstraint (Path.apply \"start\")) (extensionConstraint (^(Date) EmptyStructConstraint))))) (toDays 5)))))\n",
      "(Yield (Execute (ReviseConstraint (refer (^(Dynamic) roleConstraint (Path.apply \"output\"))) (^(Event) ConstraintTypeIntension) (Event.end_? (DateTime.date_? (?= (adjustByPeriod (Execute (refer (& (^(Date) roleConstraint (Path.apply \"start\")) (extensionConstraint (^(Date) EmptyStructConstraint))))) (toDays 5))))))))\n",
      "(FenceSpecify)\n",
      "(PleasantryCalendar)\n",
      "(Yield (UpdateCommitEventWrapper (UpdatePreflightEventWrapper (Event.id (singleton (QueryEventResponse.results (FindEventWrapperWithDefaults (EventOnDate (NextDOW (Thursday)) (& (Event.subject_? (?~= \"lunchdate\")) (Event.attendees_? (AttendeeListHasRecipientConstraint (RecipientWithNameLike (^(Recipient) EmptyStructConstraint) (PersonName.apply \"Lisa\")))))))))) (Event.start_? (DateTime.date_? (?= (NextDOW (Friday))))))))\n",
      "(do (singleton (QueryEventResponse.results (FindEventWrapperWithDefaults (& (& (Event.subject_? (?~= \"lunchdate\")) (Event.start_? (DateTime.date_? (?= (NextDOW (Thursday)))))) (Event.attendees_? (AttendeeListHasRecipientConstraint (RecipientWithNameLike (^(Recipient) EmptyStructConstraint) (PersonName.apply \"Lisa\")))))))) (Yield (UpdateCommitEventWrapper (UpdatePreflightEventWrapper (Event.id (Execute (refer (extensionConstraint (^(Event) EmptyStructConstraint))))) (Event.start_? (DateTime.date_? (?= (ClosestDayOfWeek (DateTime.date (Event.start (Execute (refer (extensionConstraint (^(Event) EmptyStructConstraint)))))) (Friday)))))))))\n",
      "(Yield (CreateCommitEventWrapper (CreatePreflightEventWrapper (& (Event.subject_? (?= \" get my hair done \")) (Event.start_? (?= (DateAtTimeWithDefaults (Tomorrow) (HourMinuteAm 10L 30L))))))))\n",
      "(Yield (CreateCommitEventWrapper (CreatePreflightEventWrapper (& (Event.subject_? (?= \" get my hair done \")) (Event.start_? (?= (DateAtTimeWithDefaults (Tomorrow) (HourMinuteMilitary 10L 30L))))))))\n",
      "Mean acc: 0.788335322195704\n",
      "len accs: 13408\n"
     ]
    }
   ],
   "source": [
    "miso_min_probs, miso_mean_probs, miso_accs = get_probs_and_accs(\"/brtx/604-nvme1/estengel/calflow_calibration/miso/tune_roberta_tok_fix_benchclamp_data/translate_output_calibrated/test_all.tgt\",\n",
    "                                \"/brtx/601-nvme1/estengel/resources/data/smcalflow.agent.data.from_benchclamp/test_all.src_tok\",\n",
    "                                \"/brtx/601-nvme1/estengel/resources/data/smcalflow.agent.data.from_benchclamp/test_all.tgt\") \n",
    "\n",
    "\n",
    "bart_data = read_benchclamp_file(\"/brtx/602-nvme1/estengel/calflow_calibration/benchclamp/logs/1.0/bart-large_calflow_last_user_all_0.0001_10000_test_eval_unconstrained-beam_bs_5/model_outputs.20221101T105421.jsonl\")\n",
    "bart_min_probs, bart_mean_probs, bart_accs = get_probs_and_accs_benchclamp(bart_data) \n",
    "\n",
    "t5_data = read_benchclamp_file(\"/brtx/602-nvme1/estengel/calflow_calibration/benchclamp/logs/1.0/t5-large-lm-adapt_calflow_last_user_all_0.0001_10000_test_eval_unconstrained-beam_bs_5/model_outputs.20221102T103315.jsonl\")\n",
    "t5_min_probs, t5_mean_probs, t5_accs = get_probs_and_accs_benchclamp(t5_data)"
   ]
  },
  {
   "cell_type": "code",
   "execution_count": 3,
   "metadata": {},
   "outputs": [],
   "source": [
    "def bins_to_df(\n",
    "    values: np.array,\n",
    "    bin_edges: np.array,\n",
    "    bin_number: np.array,\n",
    "    ) -> pd.DataFrame:\n",
    "    \"\"\"\n",
    "    Convert the output of bin_preds to a pandas dataframe.\n",
    "    DataFrame has following columns:\n",
    "    - prob_model: the probability for the bin\n",
    "    - prob_correct: the average number of correct examples in the bin\n",
    "    - count: the number of examples in the bin\n",
    "    \"\"\"\n",
    "    # create LUT for bin number to number of items in that bin \n",
    "    bin_lookup = Counter(bin_number)\n",
    "    # instantiate df \n",
    "    # df = pd.DataFrame(columns=[\"prob_model\", \"prob_correct\", \"count\"])\n",
    "    # populate df\n",
    "    df_data = []\n",
    "    for i, (val, edge_start, bin_num) in enumerate(zip(values, bin_edges, bin_number)):\n",
    "        edge_end = bin_edges[i+1]\n",
    "        midpoint = (edge_start + edge_end) / 2\n",
    "        df_data.append({\"prob_model\": midpoint, \n",
    "                        \"prob_correct\": val, \n",
    "                        \"count\": bin_lookup[i+1]})\n",
    "    df = pd.DataFrame.from_dict(df_data)\n",
    "    df['normalized_count'] = df['count'] / df['count'].sum()\n",
    "    df['log_count'] = np.log(df['count']) \n",
    "    # NOTE: this is not the same as the log of the normalized count; it is intended to\n",
    "    # discount high count bins.\n",
    "    df['normalized_log_count'] = df['log_count'] / df['log_count'].sum()\n",
    "    return df"
   ]
  },
  {
   "cell_type": "code",
   "execution_count": 4,
   "metadata": {},
   "outputs": [
    {
     "name": "stderr",
     "output_type": "stream",
     "text": [
      "'NimbusRoman-Regular.otf' can not be subsetted into a Type 3 font. The entire font will be embedded in the output.\n",
      "'NimbusRoman-Regular.otf' can not be subsetted into a Type 3 font. The entire font will be embedded in the output.\n",
      "'NimbusRoman-Regular.otf' can not be subsetted into a Type 3 font. The entire font will be embedded in the output.\n"
     ]
    },
    {
     "data": {
      "image/png": "[encoded data removed]",
      "text/plain": [
       "<Figure size 360x129.6 with 2 Axes>"
      ]
     },
     "metadata": {
      "needs_background": "light"
     },
     "output_type": "display_data"
    },
    {
     "data": {
      "image/png": "[encoded data removed]",
      "text/plain": [
       "<Figure size 360x129.6 with 2 Axes>"
      ]
     },
     "metadata": {
      "needs_background": "light"
     },
     "output_type": "display_data"
    },
    {
     "data": {
      "image/png": "[encoded data removed]",
      "text/plain": [
       "<Figure size 360x129.6 with 2 Axes>"
      ]
     },
     "metadata": {
      "needs_background": "light"
     },
     "output_type": "display_data"
    }
   ],
   "source": [
    "def comparison_plot(min_probs, mean_probs, accs, path, n_bins = 10):\n",
    "    (min_values, \n",
    "    min_bins, \n",
    "    min_bin_number) = stats.binned_statistic(\n",
    "        min_probs, \n",
    "        accs, \n",
    "        statistic='mean', \n",
    "        bins=n_bins)\n",
    "\n",
    "    min_df_to_plot = bins_to_df(min_values, min_bins, min_bin_number)\n",
    "    min_ece = ECEMetric(n_bins=n_bins)(np.array(min_probs), np.array(accs))\n",
    "    min_ece *= 100\n",
    "\n",
    "\n",
    "    (mean_values, \n",
    "    mean_bins, \n",
    "    mean_bin_number) = stats.binned_statistic(\n",
    "        mean_probs, \n",
    "        accs, \n",
    "        statistic='mean', \n",
    "        bins=n_bins)\n",
    "\n",
    "    mean_df_to_plot = bins_to_df(mean_values, mean_bins, mean_bin_number)\n",
    "    mean_ece = ECEMetric(n_bins=n_bins)(np.array(mean_probs), np.array(accs))\n",
    "    mean_ece *= 100\n",
    "\n",
    "    fig, ax = plt.subplots(1,2, figsize=(5,1.8), sharex=True, sharey=True)\n",
    "    metric_kwargs = {\"x\": 0.000, \"y\": 0.9, \"fontsize\": 10, \"horizontalalignment\": \"left\"}\n",
    "\n",
    "    ax[0].set_title(\"Min. Prob.\", fontsize=10)\n",
    "    ax[1].set_title(\"Mean Prob.\", fontsize=10)\n",
    "    plot = plot_df(min_df_to_plot, ylabel=\"Model Prob.\", xlabel=None, ax = ax[0], show_legend=False, metric_value=min_ece, metric_value_kwargs = metric_kwargs)\n",
    "    plot = plot_df(mean_df_to_plot, ylabel=\"Model Prob.\", xlabel=None, ax=ax[1], show_legend=False, metric_value=mean_ece, metric_value_kwargs=metric_kwargs) \n",
    "    # ax[0].set_xlabel(\"EM Accuracy\", fontsize=10) # , bbox = {\"xy\": (0.7,0.0)})\n",
    "    fig.text(0.5, -0.05, \"Exact Match Accuracy\", ha=\"center\", va=\"center\", fontsize=10)\n",
    "\n",
    "    handles, labels = plt.gca().get_legend_handles_labels()\n",
    "    fig.legend(handles, labels, fontsize=8, ncol=2, title=\"Log Count\", frameon=False, bbox_to_anchor=(0.53, 0.71), handletextpad=0.1, columnspacing=0.1)\n",
    "\n",
    "    # plt.tight_layout()\n",
    "    # plt.savefig(\"/home/estengel/papers/did-you-mean-2022/figures/seq_calibration.pdf\", bbox_inches='tight')\n",
    "    plt.savefig(path, bbox_inches='tight')\n",
    "\n",
    "\n",
    "\n",
    "comparison_plot(miso_min_probs, miso_mean_probs, miso_accs, \"/home/estengel/papers/did-you-mean-2022/figures/miso_seq_calibration.pdf\", n_bins=10)\n",
    "comparison_plot(bart_min_probs, bart_mean_probs, bart_accs, \"/home/estengel/papers/did-you-mean-2022/figures/bart_seq_calibration.pdf\", n_bins=10)\n",
    "comparison_plot(t5_min_probs, t5_mean_probs, t5_accs, \"/home/estengel/papers/did-you-mean-2022/figures/t5_seq_calibration.pdf\", n_bins=10)"
   ]
  },
  {
   "cell_type": "code",
   "execution_count": 5,
   "metadata": {},
   "outputs": [
    {
     "name": "stdout",
     "output_type": "stream",
     "text": [
      "(plan (revise (^(Unit) Path.apply \"Create\") (^((Option (Constraint PhoneCall))) Path.apply \"object\") (lambda (^((Option (Constraint PhoneCall))) lambda_arg) (^(PhoneCall) Create$default$object))))\n",
      "(plan (revise (^(Unit) Path.apply \"Create\") (^((Option (Constraint PhoneCall))) Path.apply \"object\") (lambda (^(Option (Constraint PhoneCall)) x0) (^(PhoneCall) Create$default$object))))\n",
      "(plan (revise (^(Unit) Path.apply \"Create\") (^((Option (Constraint PhoneCall))) Path.apply \"object\") (lambda (^((Option (Constraint PhoneCall))) lambda_arg) (Some (PhoneCall.recipients_? (Contact.person_? (Person.name_? (?= \"Lillian\"))))))))\n",
      "(plan (revise (^(Unit) Path.apply \"Create\") (^((Option (Constraint PhoneCall))) Path.apply \"object\") (lambda (^(Option (Constraint PhoneCall)) x0) (Some (PhoneCall.recipients_? (Contact.person_? (Person.name_? (?= \"Lillian\"))))))))\n",
      "(plan (revise (^(Unit) Path.apply \"Create\") (^((Option (Constraint PhoneCall))) Path.apply \"object\") (lambda (^((Option (Constraint PhoneCall))) lambda_arg) (^(PhoneCall) Create$default$object))))\n",
      "(plan (revise (^(Unit) Path.apply \"Create\") (^((Option (Constraint PhoneCall))) Path.apply \"object\") (lambda (^(Option (Constraint PhoneCall)) x0) (^(PhoneCall) Create$default$object))))\n",
      "(plan (revise (^(Unit) Path.apply \"Create\") (^((Option (Constraint PhoneCall))) Path.apply \"object\") (lambda (^((Option (Constraint PhoneCall))) lambda_arg) (Some (PhoneCall.recipients_? (Contact.person_? (& (Person.name_? (?= \"Hunter\")) (Person.namePrefix_? (?= \"Mr\")))))))))\n",
      "(plan (revise (^(Unit) Path.apply \"Create\") (^((Option (Constraint PhoneCall))) Path.apply \"object\") (lambda (^(Option (Constraint PhoneCall)) x0) (Some (PhoneCall.recipients_? (Contact.person_? (& (Person.name_? (?= \"Hunter\")) (Person.namePrefix_? (?= \"Mr\")))))))))\n",
      "(plan (revise (^(Unit) Path.apply \"Book\") (^((Option (Constraint ConfirmStatus))) Path.apply \"confirmation\") (lambda (^((Option (Constraint ConfirmStatus))) lambda_arg) (Some (?= (ConfirmStatus.Accepted))))))\n",
      "(plan (revise (^(Unit) Path.apply \"Book\") (^((Option (Constraint ConfirmStatus))) Path.apply \"confirmation\") (lambda (^(Option (Constraint ConfirmStatus)) x0) (Some (?= (ConfirmStatus.Accepted))))))\n",
      "(plan (revise (^(Unit) Path.apply \"Book\") (^((Constraint Taxi)) Path.apply \"object\") (lambda (^((Constraint Taxi)) lambda_arg) (Taxi.destination_? (?= (^(Place CalendarEvent) reference (CalendarEvent.eventName_? (?= \" Home Cleaning \"))))))))\n",
      "(plan (revise (^(Unit) Path.apply \"Book\") (^((Constraint Taxi)) Path.apply \"object\") (lambda (^(Constraint Taxi) x0) (Taxi.destination_? (?= (^(Place CalendarEvent) reference (CalendarEvent.eventName_? (?= \" Home Cleaning \"))))))))\n",
      "(plan (revise (^(Unit) Path.apply \"Book\") (^((Option (Constraint ConfirmStatus))) Path.apply \"confirmation\") (lambda (^((Option (Constraint ConfirmStatus))) lambda_arg) (Some (?= (ConfirmStatus.Accepted))))))\n",
      "(plan (revise (^(Unit) Path.apply \"Book\") (^((Option (Constraint ConfirmStatus))) Path.apply \"confirmation\") (lambda (^(Option (Constraint ConfirmStatus)) x0) (Some (?= (ConfirmStatus.Accepted))))))\n",
      "(plan (revise (^(Unit) Path.apply \"Create\") (^((Option (Constraint PhoneCall))) Path.apply \"object\") (lambda (^((Option (Constraint PhoneCall))) lambda_arg) (Some (PhoneCall.recipients_? (Contact.person_? (Person.relationshipType_? (?= (RelationshipType.Daughter)))))))))\n",
      "(plan (revise (^(Unit) Path.apply \"Create\") (^((Option (Constraint PhoneCall))) Path.apply \"object\") (lambda (^(Option (Constraint PhoneCall)) x0) (Some (PhoneCall.recipients_? (Contact.person_? (Person.relationshipType_? (?= (RelationshipType.Daughter)))))))))\n",
      "(plan (revise (^(Unit) Path.apply \"Book\") (^((Option (Constraint ConfirmStatus))) Path.apply \"confirmation\") (lambda (^((Option (Constraint ConfirmStatus))) lambda_arg) (Some (?= (ConfirmStatus.Accepted))))))\n",
      "(plan (revise (^(Unit) Path.apply \"Book\") (^((Option (Constraint ConfirmStatus))) Path.apply \"confirmation\") (lambda (^(Option (Constraint ConfirmStatus)) x0) (Some (?= (ConfirmStatus.Accepted))))))\n",
      "(plan (revise (^(Unit) Path.apply \"Book\") (^((Option (Constraint ConfirmStatus))) Path.apply \"confirmation\") (lambda (^((Option (Constraint ConfirmStatus))) lambda_arg) (Some (?= (ConfirmStatus.Accepted))))))\n",
      "(plan (revise (^(Unit) Path.apply \"Book\") (^((Option (Constraint ConfirmStatus))) Path.apply \"confirmation\") (lambda (^(Option (Constraint ConfirmStatus)) x0) (Some (?= (ConfirmStatus.Accepted))))))\n",
      "Mean acc: 0.8941639750453519\n",
      "len accs: 22601\n"
     ]
    },
    {
     "data": {
      "image/png": "[encoded data removed]",
      "text/plain": [
       "<Figure size 360x129.6 with 2 Axes>"
      ]
     },
     "metadata": {
      "needs_background": "light"
     },
     "output_type": "display_data"
    }
   ],
   "source": [
    "(treedst_min_probs, \n",
    "treedst_mean_probs, \n",
    "treedst_accs) = get_probs_and_accs(\n",
    "                \"/brtx/603-nvme1//estengel/calflow_calibration/tree_dst/tune_roberta/translate_output_calibrated/test.tgt\",\n",
    "                \"/brtx/601-nvme1/estengel/resources/data/tree_dst.agent.data/test.src_tok\",\n",
    "                \"/brtx/601-nvme1/estengel/resources/data/tree_dst.agent.data/test.tgt\"\n",
    "                ) \n",
    "\n",
    "comparison_plot(treedst_min_probs, treedst_mean_probs, treedst_accs, \"/home/estengel/scratch/scratch.png\", n_bins=10)"
   ]
  },
  {
   "cell_type": "code",
   "execution_count": 6,
   "metadata": {},
   "outputs": [
    {
     "ename": "NameError",
     "evalue": "name 'bin_number' is not defined",
     "output_type": "error",
     "traceback": [
      "\u001b[0;31m---------------------------------------------------------------------------\u001b[0m",
      "\u001b[0;31mNameError\u001b[0m                                 Traceback (most recent call last)",
      "\u001b[0;32m<ipython-input-6-b0b041a6bf37>\u001b[0m in \u001b[0;36m<module>\u001b[0;34m\u001b[0m\n\u001b[1;32m      8\u001b[0m \u001b[0mexamples_by_bin\u001b[0m \u001b[0;34m=\u001b[0m \u001b[0mdefaultdict\u001b[0m\u001b[0;34m(\u001b[0m\u001b[0mlist\u001b[0m\u001b[0;34m)\u001b[0m\u001b[0;34m\u001b[0m\u001b[0;34m\u001b[0m\u001b[0m\n\u001b[1;32m      9\u001b[0m \u001b[0midxs_by_bin_number\u001b[0m \u001b[0;34m=\u001b[0m \u001b[0mdefaultdict\u001b[0m\u001b[0;34m(\u001b[0m\u001b[0mlist\u001b[0m\u001b[0;34m)\u001b[0m\u001b[0;34m\u001b[0m\u001b[0;34m\u001b[0m\u001b[0m\n\u001b[0;32m---> 10\u001b[0;31m \u001b[0;32mfor\u001b[0m \u001b[0mi\u001b[0m\u001b[0;34m,\u001b[0m \u001b[0mbin_num\u001b[0m \u001b[0;32min\u001b[0m \u001b[0menumerate\u001b[0m\u001b[0;34m(\u001b[0m\u001b[0mbin_number\u001b[0m\u001b[0;34m)\u001b[0m\u001b[0;34m:\u001b[0m\u001b[0;34m\u001b[0m\u001b[0;34m\u001b[0m\u001b[0m\n\u001b[0m\u001b[1;32m     11\u001b[0m     \u001b[0midxs_by_bin_number\u001b[0m\u001b[0;34m[\u001b[0m\u001b[0mbin_num\u001b[0m\u001b[0;34m]\u001b[0m\u001b[0;34m.\u001b[0m\u001b[0mappend\u001b[0m\u001b[0;34m(\u001b[0m\u001b[0mi\u001b[0m\u001b[0;34m)\u001b[0m\u001b[0;34m\u001b[0m\u001b[0;34m\u001b[0m\u001b[0m\n\u001b[1;32m     12\u001b[0m \u001b[0;34m\u001b[0m\u001b[0m\n",
      "\u001b[0;31mNameError\u001b[0m: name 'bin_number' is not defined"
     ]
    }
   ],
   "source": [
    "import numpy as np\n",
    "np.random.seed(12)\n",
    "# stratified sample \n",
    "# bin_number has bin assignment \n",
    "# values has the mean acc of the bin \n",
    "# bins has the bin edges \n",
    "\n",
    "examples_by_bin = defaultdict(list)\n",
    "idxs_by_bin_number = defaultdict(list)\n",
    "for i, bin_num in enumerate(bin_number):\n",
    "    idxs_by_bin_number[bin_num].append(i)\n",
    "\n",
    "\n",
    "for i, (acc, edge_start) in enumerate(zip(values, bins)):\n",
    "    edge_end = bins[i+1]\n",
    "    midpoint = (edge_start + edge_end) / 2\n",
    "    midpoint = f\"{midpoint:.2f}\"\n",
    "    examples_by_bin[midpoint] = idxs_by_bin_number[i+1]\n",
    "\n",
    "gold_src = read_gold_file(\"/brtx/601-nvme1/estengel/resources/data/smcalflow.agent.data.from_benchclamp/dev_all.src_tok\")\n",
    "gold_tgt = read_gold_file(\"/brtx/601-nvme1/estengel/resources/data/smcalflow.agent.data.from_benchclamp/dev_all.tgt\") \n",
    "nucleus = read_nucleus_file(\"/brtx/604-nvme1/estengel/calflow_calibration/miso/tune_roberta_tok_fix_benchclamp_data/translate_output_calibrated/dev_all.tgt\")\n",
    "\n",
    "\n",
    "# we want 100 total examples, 10 per bin \n",
    "n_samples_per_bin = 10 \n",
    "\n",
    "sampled_source = defaultdict(list)\n",
    "sampled_target = defaultdict(list)\n",
    "sampled_nucleus = defaultdict(list)\n",
    "sampled_idx_dict = defaultdict(list)\n",
    "for midpoint, idxs in examples_by_bin.items():\n",
    "    # reduce to idxs that are not fences \n",
    "    before_len = len(idxs)\n",
    "    idxs = [i for i in idxs if \"Fence\" not in gold_tgt[i] and \"Pleasantry\" not in gold_tgt[i]]\n",
    "    after_len = len(idxs)\n",
    "    assert(before_len > after_len)\n",
    "\n",
    "    sampled_idxs = np.random.choice(idxs, size=n_samples_per_bin, replace=False)\n",
    "    for idx in sampled_idxs:\n",
    "        sampled_source[midpoint].append(gold_src[idx])\n",
    "        sampled_target[midpoint].append(gold_tgt[idx])\n",
    "        nucleus_list = nucleus[gold_src[idx]]\n",
    "        sampled_nucleus[midpoint].append(nucleus_list)\n",
    "        sampled_idx_dict[midpoint].append(idx)\n",
    "\n",
    "# write tgt \n",
    "out_file = \"../hit/data/for_hit_round_2/stratified_data_by_bin.tgt\"\n",
    "tgt_out_file = \"../hit/data/for_hit_round_2/gold_data/stratified_data_by_bin.tgt\"\n",
    "idx_out_file = \"../hit/data/for_hit_round_2/gold_data/stratified_data_by_bin.idx\"\n",
    "src_out_file = \"../hit/data/for_hit_round_2/gold_data/stratified_data_by_bin.src_tok\"\n",
    "bin_out_file = \"../hit/data/for_hit_round_2/gold_data/stratified_data_by_bin.bins\"\n",
    "with open(out_file, \"w\") as f1, \\\n",
    "    open(tgt_out_file, \"w\") as tgtf, \\\n",
    "    open(src_out_file, \"w\") as srcf, \\\n",
    "    open(idx_out_file, \"w\") as idxf, \\\n",
    "    open(bin_out_file, \"w\") as binf:\n",
    "    for midpoint, nuc_list in sampled_nucleus.items():\n",
    "        for nuc_sublist in nuc_list:\n",
    "            for nuc, min_prob, total_prob in nuc_sublist:\n",
    "                nuc['midpoint'] = float(midpoint) \n",
    "                nuc['min_prob'] = min_prob\n",
    "                nuc = json.dumps(nuc)\n",
    "                f1.write(nuc + \"\\n\")\n",
    "            binf.write(str(midpoint) + \"\\n\")\n",
    "        tgt_str_list = sampled_target[midpoint]\n",
    "        for tgt_str in tgt_str_list:\n",
    "            tgtf.write(tgt_str.strip() + \"\\n\")\n",
    "\n",
    "        src_str_list = sampled_source[midpoint]\n",
    "        for src_str in src_str_list:\n",
    "            srcf.write(src_str.strip() + \"\\n\")\n",
    "        idx_list = sampled_idx_dict[midpoint]\n",
    "        for idx in idx_list:\n",
    "            idxf.write(str(idx) + \"\\n\")"
   ]
  },
  {
   "cell_type": "code",
   "execution_count": null,
   "metadata": {},
   "outputs": [],
   "source": [
    "\n",
    "# stratified sample number 2 \n",
    "# bin_number has bin assignment \n",
    "# values has the mean acc of the bin \n",
    "# bins has the bin edges \n",
    "\n",
    "prev_idx_file = \"../hit/data/for_hit_round_2/gold_data/stratified_data_by_bin.idx\"\n",
    "with open(prev_idx_file) as f1:\n",
    "    prev_idxs = [int(line.strip()) for line in f1]\n",
    "prev_idx_file = \"../hit/data/for_hit_round_3/gold_data/stratified_data_by_bin.idx\"\n",
    "with open(prev_idx_file) as f1:\n",
    "    prev_idxs += [int(line.strip()) for line in f1]\n",
    "\n",
    "sampled_source = defaultdict(list)\n",
    "sampled_target = defaultdict(list)\n",
    "sampled_nucleus = defaultdict(list)\n",
    "sampled_idx_dict = defaultdict(list)\n",
    "for midpoint, idxs in examples_by_bin.items():\n",
    "    # reduce to idxs that are not fences \n",
    "    before_len = len(idxs)\n",
    "    # restrict to examples that we didn't do before\n",
    "    idxs = [i for i in idxs if \"Fence\" not in gold_tgt[i] and \"Pleasantry\" not in gold_tgt[i] and i not in prev_idxs]\n",
    "    after_len = len(idxs)\n",
    "    assert(before_len > after_len)\n",
    "\n",
    "    sampled_idxs = np.random.choice(idxs, size=n_samples_per_bin, replace=False)\n",
    "    for idx in sampled_idxs:\n",
    "        sampled_source[midpoint].append(gold_src[idx])\n",
    "        sampled_target[midpoint].append(gold_tgt[idx])\n",
    "        nucleus_list = nucleus[gold_src[idx]]\n",
    "        sampled_nucleus[midpoint].append(nucleus_list)\n",
    "        sampled_idx_dict[midpoint].append(idx)\n",
    "\n",
    "# write tgt \n",
    "out_file = \"../hit/data/for_hit_round_4/stratified_data_by_bin.tgt\"\n",
    "tgt_out_file = \"../hit/data/for_hit_round_4/gold_data/stratified_data_by_bin.tgt\"\n",
    "idx_out_file = \"../hit/data/for_hit_round_4/gold_data/stratified_data_by_bin.idx\"\n",
    "src_out_file = \"../hit/data/for_hit_round_4/gold_data/stratified_data_by_bin.src_tok\"\n",
    "bin_out_file = \"../hit/data/for_hit_round_4/gold_data/stratified_data_by_bin.bins\"\n",
    "with open(out_file, \"w\") as f1, \\\n",
    "    open(tgt_out_file, \"w\") as tgtf, \\\n",
    "    open(src_out_file, \"w\") as srcf, \\\n",
    "    open(idx_out_file, \"w\") as idxf, \\\n",
    "    open(bin_out_file, \"w\") as binf:\n",
    "    for midpoint, nuc_list in sampled_nucleus.items():\n",
    "        for nuc_sublist in nuc_list:\n",
    "            for nuc, min_prob, total_prob in nuc_sublist:\n",
    "                nuc['midpoint'] = float(midpoint) \n",
    "                nuc['min_prob'] = min_prob\n",
    "                nuc = json.dumps(nuc)\n",
    "                f1.write(nuc + \"\\n\")\n",
    "            binf.write(str(midpoint) + \"\\n\")\n",
    "        tgt_str_list = sampled_target[midpoint]\n",
    "        for tgt_str in tgt_str_list:\n",
    "            tgtf.write(tgt_str.strip() + \"\\n\")\n",
    "\n",
    "        src_str_list = sampled_source[midpoint]\n",
    "        for src_str in src_str_list:\n",
    "            srcf.write(src_str.strip() + \"\\n\")\n",
    "        idx_list = sampled_idx_dict[midpoint]\n",
    "        for idx in idx_list:\n",
    "            idxf.write(str(idx) + \"\\n\")"
   ]
  },
  {
   "cell_type": "markdown",
   "metadata": {},
   "source": [
    "# Now that we've run the HIT, let's analyze the results"
   ]
  },
  {
   "cell_type": "code",
   "execution_count": null,
   "metadata": {},
   "outputs": [],
   "source": [
    "import sys\n",
    "sys.path.insert(0, \"/home/estengel/incremental-function-learning/\")\n",
    "sys.path.insert(0, \"/home/estengel/incremental-function-learning/hit\")\n",
    "sys.path.insert(0, \"/home/estengel/incremental-function-learning/hit/scripts\")\n",
    "from hit.results.analyze_csv import run_choose_and_rewrite, read_json, read_csv, clean_lispress\n",
    "import pdb \n",
    "import os \n",
    "os.environ[\"CUDA_VISIBLE_DEVICES\"] = \"4\"\n",
    "\n",
    "turk_file = \"../hit/results/round5_probs/Batch_4907707_batch_results.csv\"\n",
    "json_file = \"../hit/data/for_hit/from_stratified_round_4/for_hit_list_with_probs/data.json\"\n",
    "\n",
    "turk_data, is_list = read_csv(turk_file)\n",
    "json_data = read_json(json_file)\n",
    "\n",
    "class Args:\n",
    "    checkpoint_dir = \"/brtx/604-nvme1/estengel/calflow_calibration/miso/tune_roberta_tok_fix_benchclamp_data\"\n",
    "    aggregator = \"none\"\n",
    "    n_redundant = 1\n",
    "\n",
    "args = Args()\n",
    "non_rewritten_data, rewritten_data = run_choose_and_rewrite(turk_data, json_data, args, is_list=is_list)"
   ]
  },
  {
   "cell_type": "code",
   "execution_count": null,
   "metadata": {},
   "outputs": [],
   "source": [
    "from collections import defaultdict\n",
    "from matplotlib import pyplot as plt\n",
    "import seaborn as sns\n",
    "import numpy as np \n",
    "\n",
    "non_rewritten_correct_to_plot = []\n",
    "hit_dict = defaultdict(list)\n",
    "for nr in non_rewritten_data:\n",
    "    hit_dict[nr['json_entry']['bin']].append(int(nr['is_correct_most_likely']))\n",
    "\n",
    "# we can add rewritten to the same plot\n",
    "for r in rewritten_data:\n",
    "    hit_dict[r['json_entry']['bin']].append(int(r['is_correct'])) \n",
    "\n",
    "\n",
    "\n",
    "\n",
    "# TODO (elias): get the line from nucleus data for this bin, then get the accuracy, so we can plot \n",
    "# the same examples as were run in the HIT \n",
    "accs_by_bin_nuc = defaultdict(list)\n",
    "nucleus_data_by_src = read_nucleus_file(\"../hit/data/for_hit_round_4/stratified_data_by_bin.tgt\")\n",
    "tgt_data = read_gold_file(\"../hit/data/for_hit_round_4/gold_data/stratified_data_by_bin.tgt\")\n",
    "src_data = read_gold_file(\"../hit/data/for_hit_round_4/gold_data/stratified_data_by_bin.src_tok\")\n",
    "tgt_data_by_src = {src: tgt for src, tgt in zip(src_data, tgt_data)}\n",
    "\n",
    "data_for_df = []\n",
    "for bin, hit_is_correct_list in hit_dict.items(): \n",
    "    p = np.mean(hit_is_correct_list)\n",
    "    q = 1 - p\n",
    "    n = len(hit_is_correct_list)\n",
    "    datapoint = {\"bin\": bin, \"hit_is_correct_mean\": p, \"hit_is_correct_var\": p*q} \n",
    "    for src, nuc_list in nucleus_data_by_src.items():\n",
    "        # get highest-scoring \n",
    "        nuc, min_prob, total_prob = nuc_list[0]\n",
    "\n",
    "        if nuc['midpoint'] == bin:\n",
    "            gold_tgt = tgt_data_by_src[src]\n",
    "            pred_tgt = nuc['tgt_str']\n",
    "            gold_tgt = clean_lispress(gold_tgt)\n",
    "            pred_tgt = clean_lispress(pred_tgt)\n",
    "            if gold_tgt.strip() == pred_tgt.strip():\n",
    "                accs_by_bin_nuc[bin].append(1) \n",
    "            else:\n",
    "                accs_by_bin_nuc[bin].append(0)\n",
    "    pnuc = np.mean(accs_by_bin_nuc[bin])\n",
    "    qnuc = 1 - pnuc\n",
    "    nnuc = len(accs_by_bin_nuc[bin])\n",
    "    datapoint[\"nuc_is_correct_mean\"] = pnuc \n",
    "    datapoint[\"nuc_is_correct_var\"] = pnuc*qnuc\n",
    "    data_for_df.append(datapoint)\n",
    "\n",
    "# ys_nuc = []\n",
    "# for bin in bins:\n",
    "#     ys_nuc.append(np.mean(accs_by_bin_nuc[bin]))\n",
    "\n",
    "# print(bins)\n",
    "# print(ys_nuc)\n",
    "hit_df = pd.DataFrame(data_for_df)\n",
    "print(hit_df.head())"
   ]
  },
  {
   "cell_type": "code",
   "execution_count": null,
   "metadata": {},
   "outputs": [],
   "source": [
    "# Old: plot the same as before\n",
    "# fig, ax = plt.subplots()\n",
    "# swap df \n",
    "# swapped_df = df_to_plot.copy()\n",
    "# swapped_df['prob_correct'] = df_to_plot['prob_model']\n",
    "# swapped_df['prob_model'] = df_to_plot['prob_correct']\n",
    "\n",
    "# plot = plot_df(swapped_df, xlabel=\"Minimum Model Prob.\", ylabel=\"Exact Match Accuracy\", ax = ax) \n",
    "# xys = list(zip(xs, ys))\n",
    "# # sort by bin \n",
    "# xys = sorted(xys, key=lambda x: x[0])\n",
    "# xs, ys = zip(*xys)\n",
    "# print(\"xs\", xs)\n",
    "# print(\"ys\", ys)\n",
    "# # now we've swapped to have accuracy on the y axis\n",
    "# ax.plot(xs, ys, label=\"Non-Rewritten\", color=\"red\")\n",
    "\n",
    "\n"
   ]
  },
  {
   "cell_type": "code",
   "execution_count": null,
   "metadata": {},
   "outputs": [],
   "source": [
    "\n",
    "# sort hit df by bin\n",
    "hit_df = hit_df.sort_values(by=['bin'])\n",
    "\n",
    "fig, ax = plt.subplots()\n",
    "# new: plot with two lines with variances \n",
    "sns.lineplot(data = hit_df, \n",
    "            x = \"bin\", \n",
    "            y = \"hit_is_correct_mean\",  \n",
    "            label = \"Human-corrected\", \n",
    "            color = \"red\",\n",
    "            ax=ax)\n",
    "\n",
    "# ax.fill_between(hit_df['hit_is_correct_mean'], \n",
    "#                 hit_df['hit_is_correct_mean']-hit_df['hit_is_correct_var'],\n",
    "#                 hit_df['hit_is_correct_mean']+hit_df['hit_is_correct_var'],\n",
    "#                 alpha=0.2)\n",
    "\n",
    "sns.lineplot(data = hit_df, \n",
    "            x = \"bin\", \n",
    "            y = \"nuc_is_correct_mean\", \n",
    "            ci=\"nuc_is_correct_var\", \n",
    "            label = \"Nucleus\", \n",
    "            color = \"b\")\n",
    "ax.set_ylabel(\"Exact Match Accuracy\")"
   ]
  },
  {
   "cell_type": "code",
   "execution_count": null,
   "metadata": {},
   "outputs": [],
   "source": [
    "hit_df[hit_df['bin'] == 0.05]"
   ]
  },
  {
   "cell_type": "code",
   "execution_count": null,
   "metadata": {},
   "outputs": [],
   "source": [
    "__, nuc_data = read_nucleus_file('../hit2.0/data/from_miso/dev_all.tgt')\n",
    "gold_data = read_gold_file('/srv/local1/estengel/resources/data/smcalflow.agent.data.from_benchclamp/dev_all.tgt')\n",
    "gold_idxs = read_gold_file('/srv/local1/estengel/resources/data/smcalflow.agent.data.from_benchclamp/dev_all.idx')\n"
   ]
  },
  {
   "cell_type": "code",
   "execution_count": null,
   "metadata": {},
   "outputs": [],
   "source": [
    "gold_lookup = {idx: tgt for idx, tgt in zip(gold_idxs, gold_data)}\n",
    "\n",
    "len(nuc_data)\n",
    "\n",
    "\n",
    "correct = 0\n",
    "total = 0\n",
    "for idx, sorted_list in nuc_data.items():\n",
    "    gold = gold_lookup[idx]\n",
    "    gold = clean_lispress(gold)\n",
    "    try:\n",
    "        pred = sorted_list[0][0]['tgt_str']\n",
    "    except KeyError:\n",
    "        pred = sorted_list[0]['tgt_str']\n",
    "\n",
    "    pred = clean_lispress(pred)\n",
    "    if gold == pred:\n",
    "        correct += 1\n",
    "    total += 1"
   ]
  },
  {
   "cell_type": "code",
   "execution_count": null,
   "metadata": {},
   "outputs": [],
   "source": [
    "correct/total"
   ]
  },
  {
   "cell_type": "code",
   "execution_count": null,
   "metadata": {},
   "outputs": [],
   "source": []
  }
 ],
 "metadata": {
  "kernelspec": {
   "display_name": "Python 3.6.13 ('miso_new')",
   "language": "python",
   "name": "python3"
  },
  "language_info": {
   "codemirror_mode": {
    "name": "ipython",
    "version": 3
   },
   "file_extension": ".py",
   "mimetype": "text/x-python",
   "name": "python",
   "nbconvert_exporter": "python",
   "pygments_lexer": "ipython3",
   "version": "3.6.13"
  },
  "orig_nbformat": 4,
  "vscode": {
   "interpreter": {
    "hash": "9db1c0e1c59df8b57e6ccdbb7c3746bf45f553f1d28626d748c067e213df640a"
   }
  }
 },
 "nbformat": 4,
 "nbformat_minor": 2
}
