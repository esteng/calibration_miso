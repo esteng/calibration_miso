{
 "cells": [
  {
   "cell_type": "code",
   "execution_count": 1,
   "metadata": {},
   "outputs": [],
   "source": [
    "import json\n",
    "import pathlib\n",
    "from collections import defaultdict\n",
    "import numpy as np \n",
    "import re \n",
    "from dataflow.core.lispress import parse_lispress, render_compact, render_pretty\n",
    "from dataflow.core.linearize import lispress_to_seq\n",
    "\n",
    "from calibration_utils import read_nucleus_file, read_gold_file, single_exact_match"
   ]
  },
  {
   "cell_type": "code",
   "execution_count": 2,
   "metadata": {},
   "outputs": [],
   "source": [
    "calflow_bart = \"/brtx/602-nvme1/estengel/calflow_calibration/benchclamp/logs/1.0/bart-large_calflow_last_user_all_0.0001_10000_test_eval_unconstrained-beam_bs_5/model_outputs.20221101T105421.jsonl\" \n",
    "calflow_t5 = \"/brtx/602-nvme1/estengel/calflow_calibration/benchclamp/logs/1.0/t5-large-lm-adapt_calflow_last_user_all_0.0001_10000_test_eval_unconstrained-beam_bs_5/model_outputs.20221102T103315.jsonl\"\n",
    "calflow_miso = \"/brtx/604-nvme1/estengel/calflow_calibration/miso/tune_roberta_tok_fix_benchclamp_data/translate_output_calibrated/test_all.tgt\"\n",
    "\n",
    "calflow_models_and_paths = {\"miso\": calflow_miso, \"bart\": calflow_bart, \"t5\": calflow_t5} \n",
    "\n",
    "calflow_gold_path = \"/brtx/601-nvme1/estengel/resources/data/smcalflow.agent.data.from_benchclamp\"\n",
    "\n",
    "calflow_gold_src = read_gold_file(f\"{calflow_gold_path}/test_all.src_tok\")\n",
    "calflow_gold_tgt = read_gold_file(f\"{calflow_gold_path}/test_all.tgt\")\n",
    "calflow_gold_idx = read_gold_file(f\"{calflow_gold_path}/test_all.idx\")\n",
    "with open(f\"{calflow_gold_path}/test.datum_id\") as f1:\n",
    "    calflow_gold_datum_id = [json.loads() for x in f1.readlines()]\n",
    "calflow_gold_tgt_by_idx = {idx: gold for idx, gold in zip(calflow_gold_idx, calflow_gold_tgt)}\n",
    "\n",
    "\n",
    "\n",
    "calflow_data_by_model = {}\n",
    "\n",
    "__, nuc_data = read_nucleus_file(calflow_miso)\n",
    "calflow_data_by_model[\"miso\"] = nuc_data\n",
    "\n",
    "with open(calflow_bart) as f1:\n",
    "    bart_data = [json.loads(x) for x in f1.readlines()]\n",
    "calflow_data_by_model['bart'] = bart_data\n",
    "\n",
    "with open(calflow_t5) as f1:\n",
    "    t5_data = [json.loads(x) for x in f1.readlines()]\n",
    "calflow_data_by_model['t5'] = t5_data\n"
   ]
  },
  {
   "cell_type": "code",
   "execution_count": 3,
   "metadata": {},
   "outputs": [],
   "source": [
    "treedst_bart = \"/brtx/602-nvme1/estengel/calflow_calibration/benchclamp/logs/1.0/bart-large_tree_dst_last_user_all_0.0001_10000_test_eval_unconstrained-beam_bs_5/model_outputs.20221102T103357.jsonl\" \n",
    "# not ready yet\n",
    "treedst_t5 = \"/brtx/602-nvme1/estengel/calflow_calibration/benchclamp/logs/1.0/t5-large-lm-adapt_tree_dst_last_user_all_0.0001_10000_test_eval_unconstrained-beam_bs_5/model_outputs.20221106T140554.jsonl\" \n",
    "treedst_miso = \"/brtx/603-nvme1//estengel/calflow_calibration/tree_dst/tune_roberta/translate_output_calibrated/test.tgt\"\n",
    "\n",
    "treedst_models_and_paths = {\"miso\": treedst_miso, \"bart\": treedst_bart, \"t5\": treedst_t5} \n",
    "\n",
    "treedst_gold_path = \"/brtx/601-nvme1/estengel/resources/data/tree_dst.agent.data\"\n",
    "\n",
    "treedst_gold_src = read_gold_file(f\"{treedst_gold_path}/test.src_tok\")\n",
    "treedst_gold_tgt = read_gold_file(f\"{treedst_gold_path}/test.tgt\")\n",
    "treedst_gold_idx = read_gold_file(f\"{treedst_gold_path}/test.idx\")\n",
    "with open(f\"{treedst_gold_path}/test.datum_id\") as f1:\n",
    "    treedst_gold_datum_id = [json.loads() for x in f1.readlines()]\n",
    "treedst_gold_tgt_by_idx = {idx: gold for idx, gold in zip(treedst_gold_idx, treedst_gold_tgt)}\n",
    "\n",
    "\n",
    "\n",
    "treedst_data_by_model = {}\n",
    "\n",
    "__, nuc_data = read_nucleus_file(treedst_miso)\n",
    "treedst_data_by_model[\"miso\"] = nuc_data\n",
    "\n",
    "with open(treedst_bart) as f1:\n",
    "    bart_data = [json.loads(x) for x in f1.readlines()]\n",
    "treedst_data_by_model['bart'] = bart_data\n",
    "\n",
    "with open(treedst_t5) as f1:\n",
    "    t5_data = [json.loads(x) for x in f1.readlines()]\n",
    "treedst_data_by_model['t5'] = t5_data"
   ]
  },
  {
   "cell_type": "code",
   "execution_count": 4,
   "metadata": {},
   "outputs": [],
   "source": [
    "def get_low_prob(iterator, is_miso = False, threshold = 0.6):\n",
    "    low_prob_idxs = []\n",
    "    for idx, example in iterator:\n",
    "        if is_miso: \n",
    "            try:\n",
    "                min_prob = example[0][1]\n",
    "                assert min_prob is not None\n",
    "            except:\n",
    "                min_prob = np.min(example[0]['expression_probs'])\n",
    "                if min_prob is None:\n",
    "                    min_prob = 1.0\n",
    "        else:\n",
    "            probs = np.exp(np.array(example['token_logprobs'][0]))\n",
    "            min_prob = np.min(probs)\n",
    "\n",
    "        if min_prob < threshold:\n",
    "            low_prob_idxs.append(idx) \n",
    "    return low_prob_idxs\n",
    "\n",
    "def report_low_idxs(low_idxs_by_model):\n",
    "    done = []\n",
    "    for model_a in low_idxs_by_model.keys():\n",
    "        for model_b in low_idxs_by_model.keys():\n",
    "            if model_a == model_b or (model_a, model_b) in done or (model_b, model_a) in done:\n",
    "                continue\n",
    "            done.append((model_a, model_b))\n",
    "\n",
    "            # compute the overlap between the two \n",
    "            intersection = set(low_idxs_by_model[model_a]).intersection(set(low_idxs_by_model[model_b]))\n",
    "            union = set(low_idxs_by_model[model_a]).union(set(low_idxs_by_model[model_b]))\n",
    "            print(f\"{model_a}: {len(low_idxs_by_model[model_a])/13496*100:.2f}%\")\n",
    "            print(f\"{model_b}: {len(low_idxs_by_model[model_b])/13496*100:.2f}%\")\n",
    "            print(f\"intersection of {model_a} and {model_b}: {len(intersection)} / {len(union)}: {len(intersection) / len(union):.2f}\")"
   ]
  },
  {
   "cell_type": "code",
   "execution_count": 5,
   "metadata": {},
   "outputs": [
    {
     "name": "stdout",
     "output_type": "stream",
     "text": [
      "miso: 21.01%\n",
      "bart: 6.09%\n",
      "intersection of miso and bart: 555 / 3103: 0.18\n",
      "miso: 21.01%\n",
      "t5: 8.49%\n",
      "intersection of miso and t5: 724 / 3258: 0.22\n",
      "bart: 6.09%\n",
      "t5: 8.49%\n",
      "intersection of bart and t5: 312 / 1656: 0.19\n"
     ]
    }
   ],
   "source": [
    "## CALFLOW \n",
    "\n",
    "calflow_low_idxs_by_model = {}\n",
    "for model, data in calflow_data_by_model.items():\n",
    "    if model == \"miso\":\n",
    "        low_prob_idxs = get_low_prob(data.items(), is_miso=True)\n",
    "    else:\n",
    "        low_prob_idxs = get_low_prob(zip(calflow_gold_idx,  data), is_miso=False)\n",
    "    calflow_low_idxs_by_model[model] = low_prob_idxs\n",
    "\n",
    "report_low_idxs(calflow_low_idxs_by_model)"
   ]
  },
  {
   "cell_type": "code",
   "execution_count": 6,
   "metadata": {},
   "outputs": [
    {
     "name": "stdout",
     "output_type": "stream",
     "text": [
      "miso: 22.15%\n",
      "bart: 8.28%\n",
      "intersection of miso and bart: 1050 / 3058: 0.34\n",
      "miso: 22.15%\n",
      "t5: 7.68%\n",
      "intersection of miso and t5: 923 / 3104: 0.30\n",
      "bart: 8.28%\n",
      "t5: 7.68%\n",
      "intersection of bart and t5: 726 / 1429: 0.51\n"
     ]
    }
   ],
   "source": [
    "## TREE DST\n",
    "treedst_low_idxs_by_model = {}\n",
    "for model, data in treedst_data_by_model.items():\n",
    "    if model == \"miso\":\n",
    "        low_prob_idxs = get_low_prob(data.items(), is_miso=True)\n",
    "    else:\n",
    "        low_prob_idxs = get_low_prob(zip(treedst_gold_idx, data), is_miso=False)\n",
    "    treedst_low_idxs_by_model[model] = low_prob_idxs\n",
    "\n",
    "report_low_idxs(treedst_low_idxs_by_model)"
   ]
  },
  {
   "cell_type": "code",
   "execution_count": 7,
   "metadata": {},
   "outputs": [
    {
     "name": "stdout",
     "output_type": "stream",
     "text": [
      "22841\n"
     ]
    }
   ],
   "source": [
    "# low_prob_idxs = get_low_prob(list(treedst_data_by_model['miso'].items())[0:100], is_miso=True)\n",
    "# print(len(treedst_data_by_model['miso']))A\n",
    "print(len(nuc_data))\n"
   ]
  },
  {
   "cell_type": "code",
   "execution_count": 14,
   "metadata": {},
   "outputs": [],
   "source": [
    "def get_counts(data, low_idxs, is_miso=False, gold_idxs = None, gold_tgt_by_idx=None): \n",
    "    counts = {\"low_correct\": 0, \"low_total\": 0, \"all_correct\": 0, \"all_total\": 0, \"high_correct\": 0, \"high_total\": 0}\n",
    "    if is_miso:\n",
    "        enumerator = list(data.items())\n",
    "    else:\n",
    "        enumerator = list(zip(gold_idxs, data))\n",
    "\n",
    "    for idx, example in enumerator:\n",
    "        if is_miso: \n",
    "            try:\n",
    "                pred_str = example[0][0]['tgt_str']\n",
    "            except KeyError:\n",
    "                pred_str = example[0]['tgt_str']\n",
    "            gold_str = gold_tgt_by_idx[idx]\n",
    "        else:\n",
    "            pred_str = example['outputs'][0]\n",
    "            gold_str = example['test_datum_canonical']\n",
    "        try:\n",
    "            pred_tgt = render_compact(parse_lispress(pred_str))\n",
    "        except (AssertionError, IndexError) as e:\n",
    "            pred_tgt = \"(Error)\"\n",
    "\n",
    "        gold_tgt = render_compact(parse_lispress(gold_str))\n",
    "        is_correct, __ = single_exact_match(pred_tgt, gold_tgt)\n",
    "\n",
    "        # is_correct = pred_tgt == gold_tgt\n",
    "        if idx in low_idxs:\n",
    "            counts[\"low_total\"] += 1\n",
    "            if is_correct:\n",
    "                counts[\"low_correct\"] += 1\n",
    "        else:\n",
    "            counts[\"high_total\"] += 1\n",
    "            if is_correct:\n",
    "                counts[\"high_correct\"] += 1\n",
    "        counts[\"all_total\"] += 1\n",
    "        if is_correct:\n",
    "            counts[\"all_correct\"] += 1\n",
    "    return counts \n"
   ]
  },
  {
   "cell_type": "code",
   "execution_count": 9,
   "metadata": {},
   "outputs": [
    {
     "name": "stdout",
     "output_type": "stream",
     "text": [
      "evaluating miso on low conf. from miso\n",
      "evaluating miso on low conf. from bart\n",
      "evaluating miso on low conf. from t5\n",
      "evaluating bart on low conf. from miso\n",
      "evaluating bart on low conf. from bart\n",
      "evaluating bart on low conf. from t5\n",
      "evaluating t5 on low conf. from miso\n",
      "evaluating t5 on low conf. from bart\n",
      "evaluating t5 on low conf. from t5\n",
      "MISO on low conf. from MISO\n",
      "low: 1028 / 2836: 36.25\n",
      "high: 9607 / 10660: 90.12\n",
      "all: 10635 / 13496: 78.80\n",
      "\n",
      "MISO on low conf. from BART\n",
      "low: 277 / 822: 33.70\n",
      "high: 10358 / 12674: 81.73\n",
      "all: 10635 / 13496: 78.80\n",
      "\n",
      "MISO on low conf. from T5\n",
      "low: 454 / 1146: 39.62\n",
      "high: 10181 / 12350: 82.44\n",
      "all: 10635 / 13496: 78.80\n",
      "\n",
      "BART on low conf. from MISO\n",
      "low: 1574 / 2836: 55.50\n",
      "high: 9573 / 10660: 89.80\n",
      "all: 11147 / 13496: 82.59\n",
      "\n",
      "BART on low conf. from BART\n",
      "low: 258 / 822: 31.39\n",
      "high: 10889 / 12674: 85.92\n",
      "all: 11147 / 13496: 82.59\n",
      "\n",
      "BART on low conf. from T5\n",
      "low: 516 / 1146: 45.03\n",
      "high: 10631 / 12350: 86.08\n",
      "all: 11147 / 13496: 82.59\n",
      "\n",
      "T5 on low conf. from MISO\n",
      "low: 1484 / 2836: 52.33\n",
      "high: 9540 / 10660: 89.49\n",
      "all: 11024 / 13496: 81.68\n",
      "\n",
      "T5 on low conf. from BART\n",
      "low: 304 / 822: 36.98\n",
      "high: 10720 / 12674: 84.58\n",
      "all: 11024 / 13496: 81.68\n",
      "\n",
      "T5 on low conf. from T5\n",
      "low: 381 / 1146: 33.25\n",
      "high: 10643 / 12350: 86.18\n",
      "all: 11024 / 13496: 81.68\n",
      "\n"
     ]
    }
   ],
   "source": [
    "\n",
    "calflow_counts_by_model_pair = {}\n",
    "done = []\n",
    "for model_a in calflow_data_by_model.keys():\n",
    "    for model_b in calflow_data_by_model.keys():\n",
    "        print(f\"evaluating {model_a} on low conf. from {model_b}\")\n",
    "        if (model_a, model_b) in done: \n",
    "            continue\n",
    "        done.append((model_a, model_b))\n",
    "        calflow_counts_by_model_pair[(model_a, model_b)] = get_counts(calflow_data_by_model[model_a], \n",
    "                                                              calflow_low_idxs_by_model[model_b], \n",
    "                                                              is_miso=model_a == \"miso\", \n",
    "                                                              gold_idxs=calflow_gold_idx, \n",
    "                                                              gold_tgt_by_idx=calflow_gold_tgt_by_idx)\n",
    "\n",
    "# print report \n",
    "for (model_a, model_b), count_data in calflow_counts_by_model_pair.items():\n",
    "    print(f\"{model_a.upper()} on low conf. from {model_b.upper()}\")\n",
    "    print(f\"low: {count_data['low_correct']} / {count_data['low_total']}: {count_data['low_correct'] / count_data['low_total']*100:.2f}\")\n",
    "    print(f\"high: {count_data['high_correct']} / {count_data['high_total']}: {count_data['high_correct'] / count_data['high_total']*100:.2f}\")\n",
    "    print(f\"all: {count_data['all_correct']} / {count_data['all_total']}: {count_data['all_correct'] / count_data['all_total']*100:.2f}\")\n",
    "    print()\n"
   ]
  },
  {
   "cell_type": "code",
   "execution_count": 16,
   "metadata": {},
   "outputs": [
    {
     "name": "stdout",
     "output_type": "stream",
     "text": [
      "Size of three-way union: 3440\n",
      "MISO on low conf. from UNION\n",
      "low: 1369 / 3440: 39.80\n",
      "high: 9271 / 10056: 92.19\n",
      "all: 10640 / 13496: 78.84\n",
      "\n",
      "BART on low conf. from UNION\n",
      "low: 1879 / 3440: 54.62\n",
      "high: 9272 / 10056: 92.20\n",
      "all: 11151 / 13496: 82.62\n",
      "\n",
      "T5 on low conf. from UNION\n",
      "low: 1750 / 3440: 50.87\n",
      "high: 9279 / 10056: 92.27\n",
      "all: 11029 / 13496: 81.72\n",
      "\n"
     ]
    }
   ],
   "source": [
    "calflow_three_way_union = set(calflow_low_idxs_by_model['miso']).union(set(calflow_low_idxs_by_model['t5'])).union(set(calflow_low_idxs_by_model['bart']))\n",
    "print(f\"Size of three-way union: {len(calflow_three_way_union)}\")\n",
    "for model_a in calflow_data_by_model.keys():\n",
    "    calflow_counts_by_model_pair[(model_a, 'union')] = get_counts(calflow_data_by_model[model_a], \n",
    "                                                            calflow_three_way_union,\n",
    "                                                            is_miso=model_a == \"miso\", \n",
    "                                                            gold_idxs=calflow_gold_idx, \n",
    "                                                            gold_tgt_by_idx=calflow_gold_tgt_by_idx)\n",
    "for (model_a, model_b), count_data in calflow_counts_by_model_pair.items():\n",
    "    if model_b == \"union\": \n",
    "        print(f\"{model_a.upper()} on low conf. from {model_b.upper()}\")\n",
    "        print(f\"low: {count_data['low_correct']} / {count_data['low_total']}: {count_data['low_correct'] / count_data['low_total']*100:.2f}\")\n",
    "        print(f\"high: {count_data['high_correct']} / {count_data['high_total']}: {count_data['high_correct'] / count_data['high_total']*100:.2f}\")\n",
    "        print(f\"all: {count_data['all_correct']} / {count_data['all_total']}: {count_data['all_correct'] / count_data['all_total']*100:.2f}\")\n",
    "        print()"
   ]
  },
  {
   "cell_type": "code",
   "execution_count": 11,
   "metadata": {},
   "outputs": [
    {
     "name": "stdout",
     "output_type": "stream",
     "text": [
      "evaluating miso on low conf. from miso\n",
      "evaluating miso on low conf. from bart\n",
      "evaluating miso on low conf. from t5\n",
      "evaluating bart on low conf. from miso\n",
      "evaluating bart on low conf. from bart\n",
      "evaluating bart on low conf. from t5\n",
      "evaluating t5 on low conf. from miso\n",
      "evaluating t5 on low conf. from bart\n",
      "evaluating t5 on low conf. from t5\n",
      "MISO on low conf. from MISO\n",
      "low: 758 / 2990: 25.35\n",
      "high: 14488 / 19851: 72.98\n",
      "all: 15246 / 22841: 66.75\n",
      "\n",
      "MISO on low conf. from BART\n",
      "low: 173 / 1118: 15.47\n",
      "high: 15073 / 21723: 69.39\n",
      "all: 15246 / 22841: 66.75\n",
      "\n",
      "MISO on low conf. from T5\n",
      "low: 174 / 1037: 16.78\n",
      "high: 15072 / 21804: 69.12\n",
      "all: 15246 / 22841: 66.75\n",
      "\n",
      "BART on low conf. from MISO\n",
      "low: 1600 / 2990: 53.51\n",
      "high: 19357 / 19851: 97.51\n",
      "all: 20957 / 22841: 91.75\n",
      "\n",
      "BART on low conf. from BART\n",
      "low: 320 / 1118: 28.62\n",
      "high: 20637 / 21723: 95.00\n",
      "all: 20957 / 22841: 91.75\n",
      "\n",
      "BART on low conf. from T5\n",
      "low: 337 / 1037: 32.50\n",
      "high: 20620 / 21804: 94.57\n",
      "all: 20957 / 22841: 91.75\n",
      "\n",
      "T5 on low conf. from MISO\n",
      "low: 1528 / 2990: 51.10\n",
      "high: 19322 / 19851: 97.34\n",
      "all: 20850 / 22841: 91.28\n",
      "\n",
      "T5 on low conf. from BART\n",
      "low: 320 / 1118: 28.62\n",
      "high: 20530 / 21723: 94.51\n",
      "all: 20850 / 22841: 91.28\n",
      "\n",
      "T5 on low conf. from T5\n",
      "low: 267 / 1037: 25.75\n",
      "high: 20583 / 21804: 94.40\n",
      "all: 20850 / 22841: 91.28\n",
      "\n"
     ]
    }
   ],
   "source": [
    "# TREE DST\n",
    "\n",
    "treedst_counts_by_model_pair = {}\n",
    "done = []\n",
    "for model_a in treedst_data_by_model.keys():\n",
    "    for model_b in treedst_data_by_model.keys():\n",
    "        print(f\"evaluating {model_a} on low conf. from {model_b}\")\n",
    "        if (model_a, model_b) in done: \n",
    "            continue\n",
    "        done.append((model_a, model_b))\n",
    "        treedst_counts_by_model_pair[(model_a, model_b)] = get_counts(treedst_data_by_model[model_a], \n",
    "                                                              treedst_low_idxs_by_model[model_b], \n",
    "                                                              is_miso=model_a == \"miso\", \n",
    "                                                              gold_idxs=treedst_gold_idx, \n",
    "                                                              gold_tgt_by_idx=treedst_gold_tgt_by_idx)\n",
    "\n",
    "# print report \n",
    "for (model_a, model_b), count_data in treedst_counts_by_model_pair.items():\n",
    "    print(f\"{model_a.upper()} on low conf. from {model_b.upper()}\")\n",
    "    print(f\"low: {count_data['low_correct']} / {count_data['low_total']}: {count_data['low_correct'] / count_data['low_total']*100:.2f}\")\n",
    "    print(f\"high: {count_data['high_correct']} / {count_data['high_total']}: {count_data['high_correct'] / count_data['high_total']*100:.2f}\")\n",
    "    print(f\"all: {count_data['all_correct']} / {count_data['all_total']}: {count_data['all_correct'] / count_data['all_total']*100:.2f}\")\n",
    "    print()"
   ]
  },
  {
   "cell_type": "code",
   "execution_count": 15,
   "metadata": {},
   "outputs": [
    {
     "name": "stdout",
     "output_type": "stream",
     "text": [
      "Size of three-way union: 3155\n",
      "Model miso-union\n",
      "Model bart-union\n",
      "Model t5-union\n",
      "MISO on low conf. from UNION\n",
      "low: 1196 / 3155: 37.91\n",
      "high: 19225 / 19686: 97.66\n",
      "all: 20421 / 22841: 89.41\n",
      "\n",
      "BART on low conf. from UNION\n",
      "low: 1699 / 3155: 53.85\n",
      "high: 19258 / 19686: 97.83\n",
      "all: 20957 / 22841: 91.75\n",
      "\n",
      "T5 on low conf. from UNION\n",
      "low: 1616 / 3155: 51.22\n",
      "high: 19234 / 19686: 97.70\n",
      "all: 20850 / 22841: 91.28\n",
      "\n"
     ]
    }
   ],
   "source": [
    "treedst_three_way_union = set(treedst_low_idxs_by_model['miso']).union(set(treedst_low_idxs_by_model['t5'])).union(set(treedst_low_idxs_by_model['bart']))\n",
    "print(f\"Size of three-way union: {len(treedst_three_way_union)}\")\n",
    "for model_a in treedst_data_by_model.keys():\n",
    "    print(f\"Model {model_a}-union\")\n",
    "    treedst_counts_by_model_pair[(model_a, 'union')] = get_counts(treedst_data_by_model[model_a], \n",
    "                                                            treedst_three_way_union,\n",
    "                                                            is_miso=model_a == \"miso\", \n",
    "                                                            gold_idxs=treedst_gold_idx, \n",
    "                                                            gold_tgt_by_idx=treedst_gold_tgt_by_idx)\n",
    "for (model_a, model_b), count_data in treedst_counts_by_model_pair.items():\n",
    "    if model_b == \"union\": \n",
    "        print(f\"{model_a.upper()} on low conf. from {model_b.upper()}\")\n",
    "        print(f\"low: {count_data['low_correct']} / {count_data['low_total']}: {count_data['low_correct'] / count_data['low_total']*100:.2f}\")\n",
    "        print(f\"high: {count_data['high_correct']} / {count_data['high_total']}: {count_data['high_correct'] / count_data['high_total']*100:.2f}\")\n",
    "        print(f\"all: {count_data['all_correct']} / {count_data['all_total']}: {count_data['all_correct'] / count_data['all_total']*100:.2f}\")\n",
    "        print()"
   ]
  },
  {
   "cell_type": "code",
   "execution_count": 13,
   "metadata": {},
   "outputs": [
    {
     "data": {
      "text/plain": [
       "22841"
      ]
     },
     "execution_count": 13,
     "metadata": {},
     "output_type": "execute_result"
    }
   ],
   "source": [
    "len(treedst_data_by_model['bart'])"
   ]
  }
 ],
 "metadata": {
  "kernelspec": {
   "display_name": "Python 3.6.13 ('miso_new')",
   "language": "python",
   "name": "python3"
  },
  "language_info": {
   "codemirror_mode": {
    "name": "ipython",
    "version": 3
   },
   "file_extension": ".py",
   "mimetype": "text/x-python",
   "name": "python",
   "nbconvert_exporter": "python",
   "pygments_lexer": "ipython3",
   "version": "3.6.13"
  },
  "orig_nbformat": 4,
  "vscode": {
   "interpreter": {
    "hash": "9db1c0e1c59df8b57e6ccdbb7c3746bf45f553f1d28626d748c067e213df640a"
   }
  }
 },
 "nbformat": 4,
 "nbformat_minor": 2
}
