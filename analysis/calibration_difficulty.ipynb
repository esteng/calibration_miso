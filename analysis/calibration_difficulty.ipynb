{
 "cells": [
  {
   "cell_type": "code",
   "execution_count": 1,
   "metadata": {},
   "outputs": [
    {
     "name": "stderr",
     "output_type": "stream",
     "text": [
      "/brtx/601-nvme1/estengel/miniconda3/envs/bclamp2/lib/python3.7/site-packages/tqdm/auto.py:22: TqdmWarning: IProgress not found. Please update jupyter and ipywidgets. See https://ipywidgets.readthedocs.io/en/stable/user_install.html\n",
      "  from .autonotebook import tqdm as notebook_tqdm\n"
     ]
    }
   ],
   "source": [
    "import json\n",
    "import pathlib\n",
    "from collections import defaultdict\n",
    "import numpy as np \n",
    "import re \n",
    "from dataflow.core.lispress import parse_lispress, render_compact, render_pretty\n",
    "from dataflow.core.linearize import lispress_to_seq\n",
    "\n",
    "from calibration_utils import read_nucleus_file, read_gold_file, single_exact_match"
   ]
  },
  {
   "cell_type": "code",
   "execution_count": 2,
   "metadata": {},
   "outputs": [],
   "source": [
    "calflow_bart = \"/brtx/602-nvme1/estengel/calflow_calibration/benchclamp/logs/1.0/bart-large_calflow_last_user_all_0.0001_10000_test_eval_unconstrained-beam_bs_5/model_outputs.20221101T105421.jsonl\" \n",
    "calflow_t5 = \"/brtx/602-nvme1/estengel/calflow_calibration/benchclamp/logs/1.0/t5-large-lm-adapt_calflow_last_user_all_0.0001_10000_test_eval_unconstrained-beam_bs_5/model_outputs.20221102T103315.jsonl\"\n",
    "calflow_miso = \"/brtx/604-nvme1/estengel/calflow_calibration/miso/tune_roberta_tok_fix_benchclamp_data/translate_output_calibrated/test_all.tgt\"\n",
    "\n",
    "calflow_models_and_paths = {\"miso\": calflow_miso, \"bart\": calflow_bart, \"t5\": calflow_t5} \n",
    "\n",
    "calflow_gold_path = \"/brtx/601-nvme1/estengel/resources/data/smcalflow.agent.data.from_benchclamp\"\n",
    "\n",
    "calflow_gold_src = read_gold_file(f\"{calflow_gold_path}/test_all.src_tok\")\n",
    "calflow_gold_tgt = read_gold_file(f\"{calflow_gold_path}/test_all.tgt\")\n",
    "calflow_gold_idx = read_gold_file(f\"{calflow_gold_path}/test_all.idx\")\n",
    "with open(f\"{calflow_gold_path}/test_all.datum_id\") as f1:\n",
    "    calflow_gold_datum_id = [json.loads(x) for x in f1.readlines()]\n",
    "calflow_gold_tgt_by_idx = {idx: gold for idx, gold in zip(calflow_gold_idx, calflow_gold_tgt)}\n",
    "\n",
    "\n",
    "\n",
    "calflow_data_by_model = {}\n",
    "\n",
    "__, nuc_data = read_nucleus_file(calflow_miso)\n",
    "calflow_data_by_model[\"miso\"] = nuc_data\n",
    "\n",
    "with open(calflow_bart) as f1:\n",
    "    bart_data = [json.loads(x) for x in f1.readlines()]\n",
    "calflow_data_by_model['bart'] = bart_data\n",
    "\n",
    "with open(calflow_t5) as f1:\n",
    "    t5_data = [json.loads(x) for x in f1.readlines()]\n",
    "calflow_data_by_model['t5'] = t5_data\n"
   ]
  },
  {
   "cell_type": "code",
   "execution_count": 3,
   "metadata": {},
   "outputs": [],
   "source": [
    "treedst_bart = \"/brtx/602-nvme1/estengel/calflow_calibration/benchclamp/logs/1.0/bart-large_tree_dst_last_user_all_0.0001_10000_test_eval_unconstrained-beam_bs_5/model_outputs.20221102T103357.jsonl\" \n",
    "# not ready yet\n",
    "treedst_t5 = \"/brtx/602-nvme1/estengel/calflow_calibration/benchclamp/logs/1.0/t5-large-lm-adapt_tree_dst_last_user_all_0.0001_10000_test_eval_unconstrained-beam_bs_5/model_outputs.20221106T140554.jsonl\" \n",
    "treedst_miso = \"/brtx/603-nvme1//estengel/calflow_calibration/tree_dst/tune_roberta/translate_output_calibrated/test.tgt\"\n",
    "\n",
    "treedst_models_and_paths = {\"miso\": treedst_miso, \"bart\": treedst_bart, \"t5\": treedst_t5} \n",
    "\n",
    "treedst_gold_path = \"/brtx/601-nvme1/estengel/resources/data/tree_dst.agent.data\"\n",
    "\n",
    "treedst_gold_src = read_gold_file(f\"{treedst_gold_path}/test.src_tok\")\n",
    "treedst_gold_tgt = read_gold_file(f\"{treedst_gold_path}/test.tgt\")\n",
    "treedst_gold_idx = read_gold_file(f\"{treedst_gold_path}/test.idx\")\n",
    "with open(f\"{treedst_gold_path}/test.datum_id\") as f1:\n",
    "    treedst_gold_datum_id = [json.loads(x) for x in f1.readlines()]\n",
    "treedst_gold_tgt_by_idx = {idx: gold for idx, gold in zip(treedst_gold_idx, treedst_gold_tgt)}\n",
    "\n",
    "\n",
    "\n",
    "treedst_data_by_model = {}\n",
    "\n",
    "__, nuc_data = read_nucleus_file(treedst_miso)\n",
    "treedst_data_by_model[\"miso\"] = nuc_data\n",
    "\n",
    "with open(treedst_bart) as f1:\n",
    "    bart_data = [json.loads(x) for x in f1.readlines()]\n",
    "treedst_data_by_model['bart'] = bart_data\n",
    "\n",
    "with open(treedst_t5) as f1:\n",
    "    t5_data = [json.loads(x) for x in f1.readlines()]\n",
    "treedst_data_by_model['t5'] = t5_data"
   ]
  },
  {
   "cell_type": "code",
   "execution_count": 29,
   "metadata": {},
   "outputs": [],
   "source": [
    "def get_low_prob(iterator, is_miso = False, threshold = 0.6):\n",
    "    low_prob_idxs = []\n",
    "    for idx, example in iterator:\n",
    "        if is_miso: \n",
    "            try:\n",
    "                min_prob = example[0][1]\n",
    "                assert min_prob is not None\n",
    "            except:\n",
    "                min_prob = np.min(example[0]['expression_probs'])\n",
    "                if min_prob is None:\n",
    "                    min_prob = 1.0\n",
    "        else:\n",
    "            probs = np.exp(np.array(example['token_logprobs'][0]))\n",
    "            min_prob = np.min(probs)\n",
    "\n",
    "        if min_prob < threshold:\n",
    "            low_prob_idxs.append(idx) \n",
    "    return low_prob_idxs\n",
    "\n",
    "def report_low_idxs(low_idxs_by_model, is_treedst=False):\n",
    "    if is_treedst:\n",
    "        denom = 22841\n",
    "    else:\n",
    "        denom = 13496\n",
    "    done = []\n",
    "    for model_a in low_idxs_by_model.keys():\n",
    "        for model_b in low_idxs_by_model.keys():\n",
    "            if model_a == model_b or (model_a, model_b) in done or (model_b, model_a) in done:\n",
    "                continue\n",
    "            done.append((model_a, model_b))\n",
    "\n",
    "            # compute the overlap between the two \n",
    "            intersection = set(low_idxs_by_model[model_a]).intersection(set(low_idxs_by_model[model_b]))\n",
    "            union = set(low_idxs_by_model[model_a]).union(set(low_idxs_by_model[model_b]))\n",
    "            print(f\"{model_a}: {len(low_idxs_by_model[model_a])/denom*100:.2f}%\")\n",
    "            print(f\"{model_b}: {len(low_idxs_by_model[model_b])/denom*100:.2f}%\")\n",
    "            print(f\"intersection of {model_a} and {model_b}: {len(intersection)} / {len(union)}: {len(intersection) / len(union):.2f}\")"
   ]
  },
  {
   "cell_type": "code",
   "execution_count": 35,
   "metadata": {},
   "outputs": [
    {
     "name": "stdout",
     "output_type": "stream",
     "text": [
      "Calflow\n",
      "(40488,)\n",
      "\tmiso: 25.00% of examples have min prob < 0.72: 66.69 easy, 33.31 hard\n",
      "\tbart: 25.00% of examples have min prob < 0.91: 81.46 easy, 18.54 hard\n",
      "\tt5: 25.00% of examples have min prob < 0.88: 76.85 easy, 23.15 hard\n",
      "25.00% of examples have min prob < 0.86: 75.00 easy, 25.00 hard\n",
      "0.8592969851961498\n",
      "TreeDST\n",
      "(68523,)\n",
      "\tmiso: 25.00% of examples have min prob < 0.94: 81.42 easy, 18.58 hard\n",
      "\tbart: 25.00% of examples have min prob < 0.84: 55.50 easy, 44.50 hard\n",
      "\tt5: 25.00% of examples have min prob < 0.99: 88.07 easy, 11.93 hard\n",
      "25.00% of examples have min prob < 0.85: 75.00 easy, 25.00 hard\n",
      "0.8523301291401095\n"
     ]
    }
   ],
   "source": [
    "# find the threshold by quantile\n",
    "# get all the min probs overall \n",
    "def get_percentiles(data_by_model):\n",
    "    min_probs = []\n",
    "    min_probs_by_model = defaultdict(list)\n",
    "    for model, data in data_by_model.items():\n",
    "        is_miso = \"miso\" in model\n",
    "        if is_miso:\n",
    "            iterator = data.items()\n",
    "        else:\n",
    "            iterator = enumerate(data)\n",
    "        for idx, example in iterator:\n",
    "            if is_miso: \n",
    "                try:\n",
    "                    min_prob = example[0][1]\n",
    "                    assert min_prob is not None\n",
    "                except:\n",
    "                    min_prob = np.min(example[0]['expression_probs'])\n",
    "                    if min_prob is None:\n",
    "                        min_prob = 1.0\n",
    "            else:\n",
    "                probs = np.exp(np.array(example['token_logprobs'][0]))\n",
    "                min_prob = np.min(probs)\n",
    "            min_probs.append(min_prob) \n",
    "            min_probs_by_model[model].append(min_prob)\n",
    "\n",
    "    min_probs = np.array(min_probs)\n",
    "    print(min_probs.shape)\n",
    "    threshold = None\n",
    "    # for percentile in range(0, 100, 5):\n",
    "    for percentile in [25]:\n",
    "        value = np.percentile(min_probs, percentile)\n",
    "        num_hard, num_easy = np.sum(min_probs < value), np.sum(min_probs >= value)\n",
    "        for model, model_probs in min_probs_by_model.items():\n",
    "            model_num_hard, model_num_easy = np.sum(np.array(model_probs) < value), np.sum(np.array(model_probs) >= value)\n",
    "            model_value = np.percentile(np.array(model_probs), percentile)\n",
    "            print(f\"\\t{model}: {percentile:.2f}% of examples have min prob < {model_value:.2f}: {model_num_easy/len(model_probs)*100:.2f} easy, {model_num_hard/len(model_probs)*100:.2f} hard\")\n",
    "        perc_easy, perc_hard = num_easy / len(min_probs), num_hard / len(min_probs)\n",
    "        print(f\"{percentile:.2f}% of examples have min prob < {value:.2f}: {perc_easy*100:.2f} easy, {perc_hard*100:.2f} hard\")\n",
    "        # return the 25th percentile \n",
    "        if percentile == 25:\n",
    "            threshold = value\n",
    "    return threshold\n",
    "\n",
    "print(\"Calflow\")\n",
    "cf_thresh = get_percentiles(calflow_data_by_model)\n",
    "print(cf_thresh)\n",
    "print(f\"TreeDST\")\n",
    "tdst_thresh = get_percentiles(treedst_data_by_model)\n",
    "print(tdst_thresh)"
   ]
  },
  {
   "cell_type": "code",
   "execution_count": 15,
   "metadata": {},
   "outputs": [
    {
     "name": "stdout",
     "output_type": "stream",
     "text": [
      "miso: 33.31%\n",
      "bart: 18.54%\n",
      "intersection of miso and bart: 2052 / 4946: 0.41\n",
      "miso: 33.31%\n",
      "t5: 23.15%\n",
      "intersection of miso and t5: 2409 / 5211: 0.46\n",
      "bart: 18.54%\n",
      "t5: 23.15%\n",
      "intersection of bart and t5: 1771 / 3855: 0.46\n"
     ]
    }
   ],
   "source": [
    "## CALFLOW \n",
    "\n",
    "calflow_low_idxs_by_model = {}\n",
    "for model, data in calflow_data_by_model.items():\n",
    "    if model == \"miso\":\n",
    "        low_prob_idxs = get_low_prob(data.items(), is_miso=True, threshold=cf_thresh)\n",
    "    else:\n",
    "        low_prob_idxs = get_low_prob(zip(calflow_gold_idx,  data), is_miso=False, threshold=cf_thresh)\n",
    "    calflow_low_idxs_by_model[model] = low_prob_idxs\n",
    "\n",
    "report_low_idxs(calflow_low_idxs_by_model)"
   ]
  },
  {
   "cell_type": "code",
   "execution_count": 30,
   "metadata": {},
   "outputs": [
    {
     "name": "stdout",
     "output_type": "stream",
     "text": [
      "miso: 18.58%\n",
      "bart: 44.50%\n",
      "intersection of miso and bart: 2971 / 11436: 0.26\n",
      "miso: 18.58%\n",
      "t5: 11.93%\n",
      "intersection of miso and t5: 2555 / 4412: 0.58\n",
      "bart: 44.50%\n",
      "t5: 11.93%\n",
      "intersection of bart and t5: 2371 / 10517: 0.23\n"
     ]
    }
   ],
   "source": [
    "## TREE DST\n",
    "treedst_low_idxs_by_model = {}\n",
    "for model, data in treedst_data_by_model.items():\n",
    "    if model == \"miso\":\n",
    "        low_prob_idxs = get_low_prob(data.items(), is_miso=True, threshold=tdst_thresh)\n",
    "    else:\n",
    "        low_prob_idxs = get_low_prob(zip(treedst_gold_idx, data), is_miso=False, threshold=tdst_thresh)\n",
    "    treedst_low_idxs_by_model[model] = low_prob_idxs\n",
    "\n",
    "report_low_idxs(treedst_low_idxs_by_model, is_treedst=True)"
   ]
  },
  {
   "cell_type": "code",
   "execution_count": 17,
   "metadata": {},
   "outputs": [
    {
     "name": "stdout",
     "output_type": "stream",
     "text": [
      "22841\n"
     ]
    }
   ],
   "source": [
    "# low_prob_idxs = get_low_prob(list(treedst_data_by_model['miso'].items())[0:100], is_miso=True)\n",
    "# print(len(treedst_data_by_model['miso']))A\n",
    "print(len(nuc_data))\n"
   ]
  },
  {
   "cell_type": "code",
   "execution_count": 18,
   "metadata": {},
   "outputs": [],
   "source": [
    "def get_counts(data, low_idxs, is_miso=False, gold_idxs = None, gold_tgt_by_idx=None): \n",
    "    counts = {\"low_correct\": 0, \"low_total\": 0, \"all_correct\": 0, \"all_total\": 0, \"high_correct\": 0, \"high_total\": 0}\n",
    "    if is_miso:\n",
    "        enumerator = list(data.items())\n",
    "    else:\n",
    "        enumerator = list(zip(gold_idxs, data))\n",
    "\n",
    "    for idx, example in enumerator:\n",
    "        if is_miso: \n",
    "            try:\n",
    "                pred_str = example[0][0]['tgt_str']\n",
    "            except KeyError:\n",
    "                pred_str = example[0]['tgt_str']\n",
    "            gold_str = gold_tgt_by_idx[idx]\n",
    "        else:\n",
    "            pred_str = example['outputs'][0]\n",
    "            gold_str = example['test_datum_canonical']\n",
    "        try:\n",
    "            pred_tgt = render_compact(parse_lispress(pred_str))\n",
    "        except (AssertionError, IndexError) as e:\n",
    "            pred_tgt = \"(Error)\"\n",
    "\n",
    "        gold_tgt = render_compact(parse_lispress(gold_str))\n",
    "        is_correct, __ = single_exact_match(pred_tgt, gold_tgt)\n",
    "\n",
    "        # is_correct = pred_tgt == gold_tgt\n",
    "        if idx in low_idxs:\n",
    "            counts[\"low_total\"] += 1\n",
    "            if is_correct:\n",
    "                counts[\"low_correct\"] += 1\n",
    "        else:\n",
    "            counts[\"high_total\"] += 1\n",
    "            if is_correct:\n",
    "                counts[\"high_correct\"] += 1\n",
    "        counts[\"all_total\"] += 1\n",
    "        if is_correct:\n",
    "            counts[\"all_correct\"] += 1\n",
    "    return counts \n"
   ]
  },
  {
   "cell_type": "code",
   "execution_count": 22,
   "metadata": {},
   "outputs": [
    {
     "name": "stdout",
     "output_type": "stream",
     "text": [
      "evaluating miso on low conf. from miso\n",
      "evaluating miso on low conf. from bart\n",
      "evaluating miso on low conf. from t5\n",
      "evaluating bart on low conf. from miso\n",
      "evaluating bart on low conf. from bart\n",
      "evaluating bart on low conf. from t5\n",
      "evaluating t5 on low conf. from miso\n",
      "evaluating t5 on low conf. from bart\n",
      "evaluating t5 on low conf. from t5\n",
      "MISO on low conf. from MISO\n",
      "low: 2229 / 4496: 49.58\n",
      "high: 8411 / 9000: 93.46\n",
      "all: 10640 / 13496: 78.84\n",
      "\n",
      "MISO on low conf. from BART\n",
      "low: 1074 / 2502: 42.93\n",
      "high: 9566 / 10994: 87.01\n",
      "all: 10640 / 13496: 78.84\n",
      "\n",
      "MISO on low conf. from T5\n",
      "low: 1454 / 3124: 46.54\n",
      "high: 9186 / 10372: 88.57\n",
      "all: 10640 / 13496: 78.84\n",
      "\n",
      "BART on low conf. from MISO\n",
      "low: 2774 / 4496: 61.70\n",
      "high: 8377 / 9000: 93.08\n",
      "all: 11151 / 13496: 82.62\n",
      "\n",
      "BART on low conf. from BART\n",
      "low: 1122 / 2502: 44.84\n",
      "high: 10029 / 10994: 91.22\n",
      "all: 11151 / 13496: 82.62\n",
      "\n",
      "BART on low conf. from T5\n",
      "low: 1681 / 3124: 53.81\n",
      "high: 9470 / 10372: 91.30\n",
      "all: 11151 / 13496: 82.62\n",
      "\n",
      "T5 on low conf. from MISO\n",
      "low: 2655 / 4496: 59.05\n",
      "high: 8374 / 9000: 93.04\n",
      "all: 11029 / 13496: 81.72\n",
      "\n",
      "T5 on low conf. from BART\n",
      "low: 1137 / 2502: 45.44\n",
      "high: 9892 / 10994: 89.98\n",
      "all: 11029 / 13496: 81.72\n",
      "\n",
      "T5 on low conf. from T5\n",
      "low: 1455 / 3124: 46.57\n",
      "high: 9574 / 10372: 92.31\n",
      "all: 11029 / 13496: 81.72\n",
      "\n"
     ]
    }
   ],
   "source": [
    "\n",
    "calflow_counts_by_model_pair = {}\n",
    "done = []\n",
    "for model_a in calflow_data_by_model.keys():\n",
    "    for model_b in calflow_data_by_model.keys():\n",
    "        print(f\"evaluating {model_a} on low conf. from {model_b}\")\n",
    "        if (model_a, model_b) in done: \n",
    "            continue\n",
    "        done.append((model_a, model_b))\n",
    "        calflow_counts_by_model_pair[(model_a, model_b)] = get_counts(calflow_data_by_model[model_a], \n",
    "                                                              calflow_low_idxs_by_model[model_b], \n",
    "                                                              is_miso=model_a == \"miso\", \n",
    "                                                              gold_idxs=calflow_gold_idx, \n",
    "                                                              gold_tgt_by_idx=calflow_gold_tgt_by_idx)\n",
    "\n",
    "# print report \n",
    "for (model_a, model_b), count_data in calflow_counts_by_model_pair.items():\n",
    "    print(f\"{model_a.upper()} on low conf. from {model_b.upper()}\")\n",
    "    print(f\"low: {count_data['low_correct']} / {count_data['low_total']}: {count_data['low_correct'] / count_data['low_total']*100:.2f}\")\n",
    "    print(f\"high: {count_data['high_correct']} / {count_data['high_total']}: {count_data['high_correct'] / count_data['high_total']*100:.2f}\")\n",
    "    print(f\"all: {count_data['all_correct']} / {count_data['all_total']}: {count_data['all_correct'] / count_data['all_total']*100:.2f}\")\n",
    "    print()\n"
   ]
  },
  {
   "cell_type": "code",
   "execution_count": 23,
   "metadata": {},
   "outputs": [
    {
     "name": "stdout",
     "output_type": "stream",
     "text": [
      "Size of three-way union: 5450\n",
      "MISO on low conf. from UNION\n",
      "low: 2912 / 5450: 53.43\n",
      "high: 7728 / 8046: 96.05\n",
      "all: 10640 / 13496: 78.84\n",
      "\n",
      "BART on low conf. from UNION\n",
      "low: 3415 / 5450: 62.66\n",
      "high: 7736 / 8046: 96.15\n",
      "all: 11151 / 13496: 82.62\n",
      "\n",
      "T5 on low conf. from UNION\n",
      "low: 3285 / 5450: 60.28\n",
      "high: 7744 / 8046: 96.25\n",
      "all: 11029 / 13496: 81.72\n",
      "\n"
     ]
    }
   ],
   "source": [
    "calflow_three_way_union = set(calflow_low_idxs_by_model['miso']).union(set(calflow_low_idxs_by_model['t5'])).union(set(calflow_low_idxs_by_model['bart']))\n",
    "print(f\"Size of three-way union: {len(calflow_three_way_union)}\")\n",
    "for model_a in calflow_data_by_model.keys():\n",
    "    calflow_counts_by_model_pair[(model_a, 'union')] = get_counts(calflow_data_by_model[model_a], \n",
    "                                                            calflow_three_way_union,\n",
    "                                                            is_miso=model_a == \"miso\", \n",
    "                                                            gold_idxs=calflow_gold_idx, \n",
    "                                                            gold_tgt_by_idx=calflow_gold_tgt_by_idx)\n",
    "for (model_a, model_b), count_data in calflow_counts_by_model_pair.items():\n",
    "    if model_b == \"union\": \n",
    "        print(f\"{model_a.upper()} on low conf. from {model_b.upper()}\")\n",
    "        print(f\"low: {count_data['low_correct']} / {count_data['low_total']}: {count_data['low_correct'] / count_data['low_total']*100:.2f}\")\n",
    "        print(f\"high: {count_data['high_correct']} / {count_data['high_total']}: {count_data['high_correct'] / count_data['high_total']*100:.2f}\")\n",
    "        print(f\"all: {count_data['all_correct']} / {count_data['all_total']}: {count_data['all_correct'] / count_data['all_total']*100:.2f}\")\n",
    "        print()"
   ]
  },
  {
   "cell_type": "code",
   "execution_count": 21,
   "metadata": {},
   "outputs": [
    {
     "name": "stdout",
     "output_type": "stream",
     "text": [
      "evaluating miso on low conf. from miso\n",
      "evaluating miso on low conf. from bart\n"
     ]
    },
    {
     "ename": "KeyboardInterrupt",
     "evalue": "",
     "output_type": "error",
     "traceback": [
      "\u001b[0;31m---------------------------------------------------------------------------\u001b[0m",
      "\u001b[0;31mKeyboardInterrupt\u001b[0m                         Traceback (most recent call last)",
      "\u001b[0;32m/tmp/ipykernel_40826/122168071.py\u001b[0m in \u001b[0;36m<module>\u001b[0;34m\u001b[0m\n\u001b[1;32m     13\u001b[0m                                                               \u001b[0mis_miso\u001b[0m\u001b[0;34m=\u001b[0m\u001b[0mmodel_a\u001b[0m \u001b[0;34m==\u001b[0m \u001b[0;34m\"miso\"\u001b[0m\u001b[0;34m,\u001b[0m\u001b[0;34m\u001b[0m\u001b[0;34m\u001b[0m\u001b[0m\n\u001b[1;32m     14\u001b[0m                                                               \u001b[0mgold_idxs\u001b[0m\u001b[0;34m=\u001b[0m\u001b[0mtreedst_gold_idx\u001b[0m\u001b[0;34m,\u001b[0m\u001b[0;34m\u001b[0m\u001b[0;34m\u001b[0m\u001b[0m\n\u001b[0;32m---> 15\u001b[0;31m                                                               gold_tgt_by_idx=treedst_gold_tgt_by_idx)\n\u001b[0m\u001b[1;32m     16\u001b[0m \u001b[0;34m\u001b[0m\u001b[0m\n\u001b[1;32m     17\u001b[0m \u001b[0;31m# print report\u001b[0m\u001b[0;34m\u001b[0m\u001b[0;34m\u001b[0m\u001b[0;34m\u001b[0m\u001b[0m\n",
      "\u001b[0;32m/tmp/ipykernel_40826/3421779384.py\u001b[0m in \u001b[0;36mget_counts\u001b[0;34m(data, low_idxs, is_miso, gold_idxs, gold_tgt_by_idx)\u001b[0m\n\u001b[1;32m     22\u001b[0m \u001b[0;34m\u001b[0m\u001b[0m\n\u001b[1;32m     23\u001b[0m         \u001b[0mgold_tgt\u001b[0m \u001b[0;34m=\u001b[0m \u001b[0mrender_compact\u001b[0m\u001b[0;34m(\u001b[0m\u001b[0mparse_lispress\u001b[0m\u001b[0;34m(\u001b[0m\u001b[0mgold_str\u001b[0m\u001b[0;34m)\u001b[0m\u001b[0;34m)\u001b[0m\u001b[0;34m\u001b[0m\u001b[0;34m\u001b[0m\u001b[0m\n\u001b[0;32m---> 24\u001b[0;31m         \u001b[0mis_correct\u001b[0m\u001b[0;34m,\u001b[0m \u001b[0m__\u001b[0m \u001b[0;34m=\u001b[0m \u001b[0msingle_exact_match\u001b[0m\u001b[0;34m(\u001b[0m\u001b[0mpred_tgt\u001b[0m\u001b[0;34m,\u001b[0m \u001b[0mgold_tgt\u001b[0m\u001b[0;34m)\u001b[0m\u001b[0;34m\u001b[0m\u001b[0;34m\u001b[0m\u001b[0m\n\u001b[0m\u001b[1;32m     25\u001b[0m \u001b[0;34m\u001b[0m\u001b[0m\n\u001b[1;32m     26\u001b[0m         \u001b[0;31m# is_correct = pred_tgt == gold_tgt\u001b[0m\u001b[0;34m\u001b[0m\u001b[0;34m\u001b[0m\u001b[0;34m\u001b[0m\u001b[0m\n",
      "\u001b[0;32m~/incremental-function-learning/analysis/calibration_utils.py\u001b[0m in \u001b[0;36msingle_exact_match\u001b[0;34m(pred_lispress, gold_lispress)\u001b[0m\n\u001b[1;32m     87\u001b[0m     \u001b[0mpred\u001b[0m \u001b[0;34m=\u001b[0m \u001b[0mTurnPrediction\u001b[0m\u001b[0;34m(\u001b[0m\u001b[0mTurnId\u001b[0m\u001b[0;34m(\u001b[0m\u001b[0;34m\"test\"\u001b[0m\u001b[0;34m,\u001b[0m \u001b[0;36m0\u001b[0m\u001b[0;34m)\u001b[0m\u001b[0;34m,\u001b[0m \u001b[0;34m\"\"\u001b[0m\u001b[0;34m,\u001b[0m \u001b[0mpred_lispress\u001b[0m\u001b[0;34m)\u001b[0m\u001b[0;34m\u001b[0m\u001b[0;34m\u001b[0m\u001b[0m\n\u001b[1;32m     88\u001b[0m     \u001b[0mtrue\u001b[0m \u001b[0;34m=\u001b[0m \u001b[0mTurnAnswer\u001b[0m\u001b[0;34m(\u001b[0m\u001b[0mTurnId\u001b[0m\u001b[0;34m(\u001b[0m\u001b[0;34m\"test\"\u001b[0m\u001b[0;34m,\u001b[0m \u001b[0;36m0\u001b[0m\u001b[0;34m)\u001b[0m\u001b[0;34m,\u001b[0m \u001b[0;34m\"\"\u001b[0m\u001b[0;34m,\u001b[0m \u001b[0mgold_lispress\u001b[0m\u001b[0;34m,\u001b[0m \u001b[0mProgramExecutionOracle\u001b[0m\u001b[0;34m(\u001b[0m\u001b[0;32mFalse\u001b[0m\u001b[0;34m,\u001b[0m \u001b[0;32mTrue\u001b[0m\u001b[0;34m)\u001b[0m\u001b[0;34m)\u001b[0m\u001b[0;34m\u001b[0m\u001b[0;34m\u001b[0m\u001b[0m\n\u001b[0;32m---> 89\u001b[0;31m     \u001b[0mmatch\u001b[0m\u001b[0;34m,\u001b[0m \u001b[0mmatch_no_refer\u001b[0m \u001b[0;34m=\u001b[0m \u001b[0mevaluate_prediction_exact_match\u001b[0m\u001b[0;34m(\u001b[0m\u001b[0mpred\u001b[0m\u001b[0;34m,\u001b[0m \u001b[0mtrue\u001b[0m\u001b[0;34m)\u001b[0m\u001b[0;34m\u001b[0m\u001b[0;34m\u001b[0m\u001b[0m\n\u001b[0m\u001b[1;32m     90\u001b[0m     \u001b[0;32mreturn\u001b[0m \u001b[0mmatch\u001b[0m\u001b[0;34m,\u001b[0m \u001b[0mmatch_no_refer\u001b[0m\u001b[0;34m\u001b[0m\u001b[0;34m\u001b[0m\u001b[0m\n\u001b[1;32m     91\u001b[0m \u001b[0;34m\u001b[0m\u001b[0m\n",
      "\u001b[0;32m~/incremental-function-learning/analysis/calibration_utils.py\u001b[0m in \u001b[0;36mevaluate_prediction_exact_match\u001b[0;34m(pred, gold)\u001b[0m\n\u001b[1;32m     62\u001b[0m ) -> Tuple[bool, bool]:\n\u001b[1;32m     63\u001b[0m     \u001b[0;32massert\u001b[0m \u001b[0mpred\u001b[0m\u001b[0;34m.\u001b[0m\u001b[0mdatum_id\u001b[0m \u001b[0;34m==\u001b[0m \u001b[0mgold\u001b[0m\u001b[0;34m.\u001b[0m\u001b[0mdatum_id\u001b[0m\u001b[0;34m,\u001b[0m \u001b[0;34mf\"mismatched data: {pred}, {gold}\"\u001b[0m\u001b[0;34m\u001b[0m\u001b[0;34m\u001b[0m\u001b[0m\n\u001b[0;32m---> 64\u001b[0;31m     \u001b[0mpred_lispress\u001b[0m \u001b[0;34m=\u001b[0m \u001b[0mtry_round_trip\u001b[0m\u001b[0;34m(\u001b[0m\u001b[0mpred\u001b[0m\u001b[0;34m.\u001b[0m\u001b[0mlispress\u001b[0m\u001b[0;34m)\u001b[0m\u001b[0;34m\u001b[0m\u001b[0;34m\u001b[0m\u001b[0m\n\u001b[0m\u001b[1;32m     65\u001b[0m     \u001b[0mgold_lispress\u001b[0m \u001b[0;34m=\u001b[0m \u001b[0mtry_round_trip\u001b[0m\u001b[0;34m(\u001b[0m\u001b[0mgold\u001b[0m\u001b[0;34m.\u001b[0m\u001b[0mlispress\u001b[0m\u001b[0;34m)\u001b[0m\u001b[0;34m\u001b[0m\u001b[0;34m\u001b[0m\u001b[0m\n\u001b[1;32m     66\u001b[0m     \u001b[0;31m# if pred_lispress != gold_lispress:\u001b[0m\u001b[0;34m\u001b[0m\u001b[0;34m\u001b[0m\u001b[0;34m\u001b[0m\u001b[0m\n",
      "\u001b[0;32m/brtx/601-nvme1/estengel/miniconda3/envs/bclamp2/lib/python3.7/site-packages/dataflow/core/lispress.py\u001b[0m in \u001b[0;36mtry_round_trip\u001b[0;34m(lispress_str)\u001b[0m\n\u001b[1;32m     60\u001b[0m     \"\"\"\n\u001b[1;32m     61\u001b[0m     \u001b[0;32mtry\u001b[0m\u001b[0;34m:\u001b[0m\u001b[0;34m\u001b[0m\u001b[0;34m\u001b[0m\u001b[0m\n\u001b[0;32m---> 62\u001b[0;31m         \u001b[0;32mreturn\u001b[0m \u001b[0m_round_trip\u001b[0m\u001b[0;34m(\u001b[0m\u001b[0mlispress_str\u001b[0m\u001b[0;34m)\u001b[0m\u001b[0;34m\u001b[0m\u001b[0;34m\u001b[0m\u001b[0m\n\u001b[0m\u001b[1;32m     63\u001b[0m     \u001b[0;32mexcept\u001b[0m \u001b[0mException\u001b[0m\u001b[0;34m:\u001b[0m  \u001b[0;31m# pylint: disable=W0703\u001b[0m\u001b[0;34m\u001b[0m\u001b[0;34m\u001b[0m\u001b[0m\n\u001b[1;32m     64\u001b[0m         \u001b[0;32mreturn\u001b[0m \u001b[0mlispress_str\u001b[0m\u001b[0;34m\u001b[0m\u001b[0;34m\u001b[0m\u001b[0m\n",
      "\u001b[0;32m/brtx/601-nvme1/estengel/miniconda3/envs/bclamp2/lib/python3.7/site-packages/dataflow/core/lispress.py\u001b[0m in \u001b[0;36m_round_trip\u001b[0;34m(lispress_str)\u001b[0m\n\u001b[1;32m     81\u001b[0m             \u001b[0;32mreturn\u001b[0m \u001b[0;34m[\u001b[0m\u001b[0mnormalize_numbers\u001b[0m\u001b[0;34m(\u001b[0m\u001b[0me\u001b[0m\u001b[0;34m)\u001b[0m \u001b[0;32mfor\u001b[0m \u001b[0me\u001b[0m \u001b[0;32min\u001b[0m \u001b[0mexp\u001b[0m\u001b[0;34m]\u001b[0m\u001b[0;34m\u001b[0m\u001b[0;34m\u001b[0m\u001b[0m\n\u001b[1;32m     82\u001b[0m \u001b[0;34m\u001b[0m\u001b[0m\n\u001b[0;32m---> 83\u001b[0;31m     \u001b[0;32mreturn\u001b[0m \u001b[0mrender_compact\u001b[0m\u001b[0;34m(\u001b[0m\u001b[0mstrip_copy_strings\u001b[0m\u001b[0;34m(\u001b[0m\u001b[0mnormalize_numbers\u001b[0m\u001b[0;34m(\u001b[0m\u001b[0mround_tripped\u001b[0m\u001b[0;34m)\u001b[0m\u001b[0;34m)\u001b[0m\u001b[0;34m)\u001b[0m\u001b[0;34m\u001b[0m\u001b[0;34m\u001b[0m\u001b[0m\n\u001b[0m\u001b[1;32m     84\u001b[0m \u001b[0;34m\u001b[0m\u001b[0m\n\u001b[1;32m     85\u001b[0m \u001b[0;34m\u001b[0m\u001b[0m\n",
      "\u001b[0;32m/brtx/601-nvme1/estengel/miniconda3/envs/bclamp2/lib/python3.7/site-packages/dataflow/core/lispress.py\u001b[0m in \u001b[0;36mrender_compact\u001b[0;34m(lispress)\u001b[0m\n\u001b[1;32m    144\u001b[0m     (describe (:start (findNextEvent (Constraint[Event] :attendees (attendeeListHasRecipientConstraint (recipientWithNameLike (Constraint[Recipient]) #(PersonName \"Elaine\")))))))\n\u001b[1;32m    145\u001b[0m     \"\"\"\n\u001b[0;32m--> 146\u001b[0;31m     \u001b[0;32mreturn\u001b[0m \u001b[0msexp_to_str\u001b[0m\u001b[0;34m(\u001b[0m\u001b[0mlispress\u001b[0m\u001b[0;34m)\u001b[0m\u001b[0;34m\u001b[0m\u001b[0;34m\u001b[0m\u001b[0m\n\u001b[0m\u001b[1;32m    147\u001b[0m \u001b[0;34m\u001b[0m\u001b[0m\n\u001b[1;32m    148\u001b[0m \u001b[0;34m\u001b[0m\u001b[0m\n",
      "\u001b[0;32m/brtx/601-nvme1/estengel/miniconda3/envs/bclamp2/lib/python3.7/site-packages/dataflow/core/sexp.py\u001b[0m in \u001b[0;36msexp_to_str\u001b[0;34m(sexp)\u001b[0m\n\u001b[1;32m    154\u001b[0m             \u001b[0;32mreturn\u001b[0m \u001b[0mREADER\u001b[0m \u001b[0;34m+\u001b[0m \u001b[0msexp_to_str\u001b[0m\u001b[0;34m(\u001b[0m\u001b[0mexpr\u001b[0m\u001b[0;34m)\u001b[0m\u001b[0;34m\u001b[0m\u001b[0;34m\u001b[0m\u001b[0m\n\u001b[1;32m    155\u001b[0m         \u001b[0;32melse\u001b[0m\u001b[0;34m:\u001b[0m\u001b[0;34m\u001b[0m\u001b[0;34m\u001b[0m\u001b[0m\n\u001b[0;32m--> 156\u001b[0;31m             \u001b[0;32mreturn\u001b[0m \u001b[0;34m\"(\"\u001b[0m \u001b[0;34m+\u001b[0m \u001b[0;34m\" \"\u001b[0m\u001b[0;34m.\u001b[0m\u001b[0mjoin\u001b[0m\u001b[0;34m(\u001b[0m\u001b[0msexp_to_str\u001b[0m\u001b[0;34m(\u001b[0m\u001b[0mf\u001b[0m\u001b[0;34m)\u001b[0m \u001b[0;32mfor\u001b[0m \u001b[0mf\u001b[0m \u001b[0;32min\u001b[0m \u001b[0msexp\u001b[0m\u001b[0;34m)\u001b[0m \u001b[0;34m+\u001b[0m \u001b[0;34m\")\"\u001b[0m\u001b[0;34m\u001b[0m\u001b[0;34m\u001b[0m\u001b[0m\n\u001b[0m\u001b[1;32m    157\u001b[0m     \u001b[0;32melse\u001b[0m\u001b[0;34m:\u001b[0m\u001b[0;34m\u001b[0m\u001b[0;34m\u001b[0m\u001b[0m\n\u001b[1;32m    158\u001b[0m         \u001b[0;32mif\u001b[0m \u001b[0msexp\u001b[0m\u001b[0;34m.\u001b[0m\u001b[0mstartswith\u001b[0m\u001b[0;34m(\u001b[0m\u001b[0;34m'\"'\u001b[0m\u001b[0;34m)\u001b[0m \u001b[0;32mand\u001b[0m \u001b[0msexp\u001b[0m\u001b[0;34m.\u001b[0m\u001b[0mendswith\u001b[0m\u001b[0;34m(\u001b[0m\u001b[0;34m'\"'\u001b[0m\u001b[0;34m)\u001b[0m\u001b[0;34m:\u001b[0m\u001b[0;34m\u001b[0m\u001b[0;34m\u001b[0m\u001b[0m\n",
      "\u001b[0;32m/brtx/601-nvme1/estengel/miniconda3/envs/bclamp2/lib/python3.7/site-packages/dataflow/core/sexp.py\u001b[0m in \u001b[0;36m<genexpr>\u001b[0;34m(.0)\u001b[0m\n\u001b[1;32m    154\u001b[0m             \u001b[0;32mreturn\u001b[0m \u001b[0mREADER\u001b[0m \u001b[0;34m+\u001b[0m \u001b[0msexp_to_str\u001b[0m\u001b[0;34m(\u001b[0m\u001b[0mexpr\u001b[0m\u001b[0;34m)\u001b[0m\u001b[0;34m\u001b[0m\u001b[0;34m\u001b[0m\u001b[0m\n\u001b[1;32m    155\u001b[0m         \u001b[0;32melse\u001b[0m\u001b[0;34m:\u001b[0m\u001b[0;34m\u001b[0m\u001b[0;34m\u001b[0m\u001b[0m\n\u001b[0;32m--> 156\u001b[0;31m             \u001b[0;32mreturn\u001b[0m \u001b[0;34m\"(\"\u001b[0m \u001b[0;34m+\u001b[0m \u001b[0;34m\" \"\u001b[0m\u001b[0;34m.\u001b[0m\u001b[0mjoin\u001b[0m\u001b[0;34m(\u001b[0m\u001b[0msexp_to_str\u001b[0m\u001b[0;34m(\u001b[0m\u001b[0mf\u001b[0m\u001b[0;34m)\u001b[0m \u001b[0;32mfor\u001b[0m \u001b[0mf\u001b[0m \u001b[0;32min\u001b[0m \u001b[0msexp\u001b[0m\u001b[0;34m)\u001b[0m \u001b[0;34m+\u001b[0m \u001b[0;34m\")\"\u001b[0m\u001b[0;34m\u001b[0m\u001b[0;34m\u001b[0m\u001b[0m\n\u001b[0m\u001b[1;32m    157\u001b[0m     \u001b[0;32melse\u001b[0m\u001b[0;34m:\u001b[0m\u001b[0;34m\u001b[0m\u001b[0;34m\u001b[0m\u001b[0m\n\u001b[1;32m    158\u001b[0m         \u001b[0;32mif\u001b[0m \u001b[0msexp\u001b[0m\u001b[0;34m.\u001b[0m\u001b[0mstartswith\u001b[0m\u001b[0;34m(\u001b[0m\u001b[0;34m'\"'\u001b[0m\u001b[0;34m)\u001b[0m \u001b[0;32mand\u001b[0m \u001b[0msexp\u001b[0m\u001b[0;34m.\u001b[0m\u001b[0mendswith\u001b[0m\u001b[0;34m(\u001b[0m\u001b[0;34m'\"'\u001b[0m\u001b[0;34m)\u001b[0m\u001b[0;34m:\u001b[0m\u001b[0;34m\u001b[0m\u001b[0;34m\u001b[0m\u001b[0m\n",
      "\u001b[0;32m/brtx/601-nvme1/estengel/miniconda3/envs/bclamp2/lib/python3.7/site-packages/dataflow/core/sexp.py\u001b[0m in \u001b[0;36msexp_to_str\u001b[0;34m(sexp)\u001b[0m\n\u001b[1;32m    154\u001b[0m             \u001b[0;32mreturn\u001b[0m \u001b[0mREADER\u001b[0m \u001b[0;34m+\u001b[0m \u001b[0msexp_to_str\u001b[0m\u001b[0;34m(\u001b[0m\u001b[0mexpr\u001b[0m\u001b[0;34m)\u001b[0m\u001b[0;34m\u001b[0m\u001b[0;34m\u001b[0m\u001b[0m\n\u001b[1;32m    155\u001b[0m         \u001b[0;32melse\u001b[0m\u001b[0;34m:\u001b[0m\u001b[0;34m\u001b[0m\u001b[0;34m\u001b[0m\u001b[0m\n\u001b[0;32m--> 156\u001b[0;31m             \u001b[0;32mreturn\u001b[0m \u001b[0;34m\"(\"\u001b[0m \u001b[0;34m+\u001b[0m \u001b[0;34m\" \"\u001b[0m\u001b[0;34m.\u001b[0m\u001b[0mjoin\u001b[0m\u001b[0;34m(\u001b[0m\u001b[0msexp_to_str\u001b[0m\u001b[0;34m(\u001b[0m\u001b[0mf\u001b[0m\u001b[0;34m)\u001b[0m \u001b[0;32mfor\u001b[0m \u001b[0mf\u001b[0m \u001b[0;32min\u001b[0m \u001b[0msexp\u001b[0m\u001b[0;34m)\u001b[0m \u001b[0;34m+\u001b[0m \u001b[0;34m\")\"\u001b[0m\u001b[0;34m\u001b[0m\u001b[0;34m\u001b[0m\u001b[0m\n\u001b[0m\u001b[1;32m    157\u001b[0m     \u001b[0;32melse\u001b[0m\u001b[0;34m:\u001b[0m\u001b[0;34m\u001b[0m\u001b[0;34m\u001b[0m\u001b[0m\n\u001b[1;32m    158\u001b[0m         \u001b[0;32mif\u001b[0m \u001b[0msexp\u001b[0m\u001b[0;34m.\u001b[0m\u001b[0mstartswith\u001b[0m\u001b[0;34m(\u001b[0m\u001b[0;34m'\"'\u001b[0m\u001b[0;34m)\u001b[0m \u001b[0;32mand\u001b[0m \u001b[0msexp\u001b[0m\u001b[0;34m.\u001b[0m\u001b[0mendswith\u001b[0m\u001b[0;34m(\u001b[0m\u001b[0;34m'\"'\u001b[0m\u001b[0;34m)\u001b[0m\u001b[0;34m:\u001b[0m\u001b[0;34m\u001b[0m\u001b[0;34m\u001b[0m\u001b[0m\n",
      "\u001b[0;32m/brtx/601-nvme1/estengel/miniconda3/envs/bclamp2/lib/python3.7/site-packages/dataflow/core/sexp.py\u001b[0m in \u001b[0;36m<genexpr>\u001b[0;34m(.0)\u001b[0m\n\u001b[1;32m    154\u001b[0m             \u001b[0;32mreturn\u001b[0m \u001b[0mREADER\u001b[0m \u001b[0;34m+\u001b[0m \u001b[0msexp_to_str\u001b[0m\u001b[0;34m(\u001b[0m\u001b[0mexpr\u001b[0m\u001b[0;34m)\u001b[0m\u001b[0;34m\u001b[0m\u001b[0;34m\u001b[0m\u001b[0m\n\u001b[1;32m    155\u001b[0m         \u001b[0;32melse\u001b[0m\u001b[0;34m:\u001b[0m\u001b[0;34m\u001b[0m\u001b[0;34m\u001b[0m\u001b[0m\n\u001b[0;32m--> 156\u001b[0;31m             \u001b[0;32mreturn\u001b[0m \u001b[0;34m\"(\"\u001b[0m \u001b[0;34m+\u001b[0m \u001b[0;34m\" \"\u001b[0m\u001b[0;34m.\u001b[0m\u001b[0mjoin\u001b[0m\u001b[0;34m(\u001b[0m\u001b[0msexp_to_str\u001b[0m\u001b[0;34m(\u001b[0m\u001b[0mf\u001b[0m\u001b[0;34m)\u001b[0m \u001b[0;32mfor\u001b[0m \u001b[0mf\u001b[0m \u001b[0;32min\u001b[0m \u001b[0msexp\u001b[0m\u001b[0;34m)\u001b[0m \u001b[0;34m+\u001b[0m \u001b[0;34m\")\"\u001b[0m\u001b[0;34m\u001b[0m\u001b[0;34m\u001b[0m\u001b[0m\n\u001b[0m\u001b[1;32m    157\u001b[0m     \u001b[0;32melse\u001b[0m\u001b[0;34m:\u001b[0m\u001b[0;34m\u001b[0m\u001b[0;34m\u001b[0m\u001b[0m\n\u001b[1;32m    158\u001b[0m         \u001b[0;32mif\u001b[0m \u001b[0msexp\u001b[0m\u001b[0;34m.\u001b[0m\u001b[0mstartswith\u001b[0m\u001b[0;34m(\u001b[0m\u001b[0;34m'\"'\u001b[0m\u001b[0;34m)\u001b[0m \u001b[0;32mand\u001b[0m \u001b[0msexp\u001b[0m\u001b[0;34m.\u001b[0m\u001b[0mendswith\u001b[0m\u001b[0;34m(\u001b[0m\u001b[0;34m'\"'\u001b[0m\u001b[0;34m)\u001b[0m\u001b[0;34m:\u001b[0m\u001b[0;34m\u001b[0m\u001b[0;34m\u001b[0m\u001b[0m\n",
      "\u001b[0;32m/brtx/601-nvme1/estengel/miniconda3/envs/bclamp2/lib/python3.7/site-packages/dataflow/core/sexp.py\u001b[0m in \u001b[0;36msexp_to_str\u001b[0;34m(sexp)\u001b[0m\n\u001b[1;32m    154\u001b[0m             \u001b[0;32mreturn\u001b[0m \u001b[0mREADER\u001b[0m \u001b[0;34m+\u001b[0m \u001b[0msexp_to_str\u001b[0m\u001b[0;34m(\u001b[0m\u001b[0mexpr\u001b[0m\u001b[0;34m)\u001b[0m\u001b[0;34m\u001b[0m\u001b[0;34m\u001b[0m\u001b[0m\n\u001b[1;32m    155\u001b[0m         \u001b[0;32melse\u001b[0m\u001b[0;34m:\u001b[0m\u001b[0;34m\u001b[0m\u001b[0;34m\u001b[0m\u001b[0m\n\u001b[0;32m--> 156\u001b[0;31m             \u001b[0;32mreturn\u001b[0m \u001b[0;34m\"(\"\u001b[0m \u001b[0;34m+\u001b[0m \u001b[0;34m\" \"\u001b[0m\u001b[0;34m.\u001b[0m\u001b[0mjoin\u001b[0m\u001b[0;34m(\u001b[0m\u001b[0msexp_to_str\u001b[0m\u001b[0;34m(\u001b[0m\u001b[0mf\u001b[0m\u001b[0;34m)\u001b[0m \u001b[0;32mfor\u001b[0m \u001b[0mf\u001b[0m \u001b[0;32min\u001b[0m \u001b[0msexp\u001b[0m\u001b[0;34m)\u001b[0m \u001b[0;34m+\u001b[0m \u001b[0;34m\")\"\u001b[0m\u001b[0;34m\u001b[0m\u001b[0;34m\u001b[0m\u001b[0m\n\u001b[0m\u001b[1;32m    157\u001b[0m     \u001b[0;32melse\u001b[0m\u001b[0;34m:\u001b[0m\u001b[0;34m\u001b[0m\u001b[0;34m\u001b[0m\u001b[0m\n\u001b[1;32m    158\u001b[0m         \u001b[0;32mif\u001b[0m \u001b[0msexp\u001b[0m\u001b[0;34m.\u001b[0m\u001b[0mstartswith\u001b[0m\u001b[0;34m(\u001b[0m\u001b[0;34m'\"'\u001b[0m\u001b[0;34m)\u001b[0m \u001b[0;32mand\u001b[0m \u001b[0msexp\u001b[0m\u001b[0;34m.\u001b[0m\u001b[0mendswith\u001b[0m\u001b[0;34m(\u001b[0m\u001b[0;34m'\"'\u001b[0m\u001b[0;34m)\u001b[0m\u001b[0;34m:\u001b[0m\u001b[0;34m\u001b[0m\u001b[0;34m\u001b[0m\u001b[0m\n",
      "\u001b[0;32m/brtx/601-nvme1/estengel/miniconda3/envs/bclamp2/lib/python3.7/site-packages/dataflow/core/sexp.py\u001b[0m in \u001b[0;36m<genexpr>\u001b[0;34m(.0)\u001b[0m\n\u001b[1;32m    154\u001b[0m             \u001b[0;32mreturn\u001b[0m \u001b[0mREADER\u001b[0m \u001b[0;34m+\u001b[0m \u001b[0msexp_to_str\u001b[0m\u001b[0;34m(\u001b[0m\u001b[0mexpr\u001b[0m\u001b[0;34m)\u001b[0m\u001b[0;34m\u001b[0m\u001b[0;34m\u001b[0m\u001b[0m\n\u001b[1;32m    155\u001b[0m         \u001b[0;32melse\u001b[0m\u001b[0;34m:\u001b[0m\u001b[0;34m\u001b[0m\u001b[0;34m\u001b[0m\u001b[0m\n\u001b[0;32m--> 156\u001b[0;31m             \u001b[0;32mreturn\u001b[0m \u001b[0;34m\"(\"\u001b[0m \u001b[0;34m+\u001b[0m \u001b[0;34m\" \"\u001b[0m\u001b[0;34m.\u001b[0m\u001b[0mjoin\u001b[0m\u001b[0;34m(\u001b[0m\u001b[0msexp_to_str\u001b[0m\u001b[0;34m(\u001b[0m\u001b[0mf\u001b[0m\u001b[0;34m)\u001b[0m \u001b[0;32mfor\u001b[0m \u001b[0mf\u001b[0m \u001b[0;32min\u001b[0m \u001b[0msexp\u001b[0m\u001b[0;34m)\u001b[0m \u001b[0;34m+\u001b[0m \u001b[0;34m\")\"\u001b[0m\u001b[0;34m\u001b[0m\u001b[0;34m\u001b[0m\u001b[0m\n\u001b[0m\u001b[1;32m    157\u001b[0m     \u001b[0;32melse\u001b[0m\u001b[0;34m:\u001b[0m\u001b[0;34m\u001b[0m\u001b[0;34m\u001b[0m\u001b[0m\n\u001b[1;32m    158\u001b[0m         \u001b[0;32mif\u001b[0m \u001b[0msexp\u001b[0m\u001b[0;34m.\u001b[0m\u001b[0mstartswith\u001b[0m\u001b[0;34m(\u001b[0m\u001b[0;34m'\"'\u001b[0m\u001b[0;34m)\u001b[0m \u001b[0;32mand\u001b[0m \u001b[0msexp\u001b[0m\u001b[0;34m.\u001b[0m\u001b[0mendswith\u001b[0m\u001b[0;34m(\u001b[0m\u001b[0;34m'\"'\u001b[0m\u001b[0;34m)\u001b[0m\u001b[0;34m:\u001b[0m\u001b[0;34m\u001b[0m\u001b[0;34m\u001b[0m\u001b[0m\n",
      "\u001b[0;32m/brtx/601-nvme1/estengel/miniconda3/envs/bclamp2/lib/python3.7/site-packages/dataflow/core/sexp.py\u001b[0m in \u001b[0;36msexp_to_str\u001b[0;34m(sexp)\u001b[0m\n\u001b[1;32m    149\u001b[0m         \u001b[0;32mif\u001b[0m \u001b[0mlen\u001b[0m\u001b[0;34m(\u001b[0m\u001b[0msexp\u001b[0m\u001b[0;34m)\u001b[0m \u001b[0;34m==\u001b[0m \u001b[0;36m3\u001b[0m \u001b[0;32mand\u001b[0m \u001b[0msexp\u001b[0m\u001b[0;34m[\u001b[0m\u001b[0;36m0\u001b[0m\u001b[0;34m]\u001b[0m \u001b[0;34m==\u001b[0m \u001b[0mMETA\u001b[0m\u001b[0;34m:\u001b[0m\u001b[0;34m\u001b[0m\u001b[0;34m\u001b[0m\u001b[0m\n\u001b[1;32m    150\u001b[0m             \u001b[0;34m(\u001b[0m\u001b[0m_meta\u001b[0m\u001b[0;34m,\u001b[0m \u001b[0mtype_expr\u001b[0m\u001b[0;34m,\u001b[0m \u001b[0munderlying_expr\u001b[0m\u001b[0;34m)\u001b[0m \u001b[0;34m=\u001b[0m \u001b[0msexp\u001b[0m\u001b[0;34m\u001b[0m\u001b[0;34m\u001b[0m\u001b[0m\n\u001b[0;32m--> 151\u001b[0;31m             \u001b[0;32mreturn\u001b[0m \u001b[0mMETA\u001b[0m \u001b[0;34m+\u001b[0m \u001b[0msexp_to_str\u001b[0m\u001b[0;34m(\u001b[0m\u001b[0mtype_expr\u001b[0m\u001b[0;34m)\u001b[0m \u001b[0;34m+\u001b[0m \u001b[0;34m\" \"\u001b[0m \u001b[0;34m+\u001b[0m \u001b[0msexp_to_str\u001b[0m\u001b[0;34m(\u001b[0m\u001b[0munderlying_expr\u001b[0m\u001b[0;34m)\u001b[0m\u001b[0;34m\u001b[0m\u001b[0;34m\u001b[0m\u001b[0m\n\u001b[0m\u001b[1;32m    152\u001b[0m         \u001b[0;32melif\u001b[0m \u001b[0mlen\u001b[0m\u001b[0;34m(\u001b[0m\u001b[0msexp\u001b[0m\u001b[0;34m)\u001b[0m \u001b[0;34m==\u001b[0m \u001b[0;36m2\u001b[0m \u001b[0;32mand\u001b[0m \u001b[0msexp\u001b[0m\u001b[0;34m[\u001b[0m\u001b[0;36m0\u001b[0m\u001b[0;34m]\u001b[0m \u001b[0;34m==\u001b[0m \u001b[0mREADER\u001b[0m\u001b[0;34m:\u001b[0m\u001b[0;34m\u001b[0m\u001b[0;34m\u001b[0m\u001b[0m\n\u001b[1;32m    153\u001b[0m             \u001b[0;34m(\u001b[0m\u001b[0m_reader\u001b[0m\u001b[0;34m,\u001b[0m \u001b[0mexpr\u001b[0m\u001b[0;34m)\u001b[0m \u001b[0;34m=\u001b[0m \u001b[0msexp\u001b[0m\u001b[0;34m\u001b[0m\u001b[0;34m\u001b[0m\u001b[0m\n",
      "\u001b[0;32m/brtx/601-nvme1/estengel/miniconda3/envs/bclamp2/lib/python3.7/site-packages/dataflow/core/sexp.py\u001b[0m in \u001b[0;36msexp_to_str\u001b[0;34m(sexp)\u001b[0m\n\u001b[1;32m    154\u001b[0m             \u001b[0;32mreturn\u001b[0m \u001b[0mREADER\u001b[0m \u001b[0;34m+\u001b[0m \u001b[0msexp_to_str\u001b[0m\u001b[0;34m(\u001b[0m\u001b[0mexpr\u001b[0m\u001b[0;34m)\u001b[0m\u001b[0;34m\u001b[0m\u001b[0;34m\u001b[0m\u001b[0m\n\u001b[1;32m    155\u001b[0m         \u001b[0;32melse\u001b[0m\u001b[0;34m:\u001b[0m\u001b[0;34m\u001b[0m\u001b[0;34m\u001b[0m\u001b[0m\n\u001b[0;32m--> 156\u001b[0;31m             \u001b[0;32mreturn\u001b[0m \u001b[0;34m\"(\"\u001b[0m \u001b[0;34m+\u001b[0m \u001b[0;34m\" \"\u001b[0m\u001b[0;34m.\u001b[0m\u001b[0mjoin\u001b[0m\u001b[0;34m(\u001b[0m\u001b[0msexp_to_str\u001b[0m\u001b[0;34m(\u001b[0m\u001b[0mf\u001b[0m\u001b[0;34m)\u001b[0m \u001b[0;32mfor\u001b[0m \u001b[0mf\u001b[0m \u001b[0;32min\u001b[0m \u001b[0msexp\u001b[0m\u001b[0;34m)\u001b[0m \u001b[0;34m+\u001b[0m \u001b[0;34m\")\"\u001b[0m\u001b[0;34m\u001b[0m\u001b[0;34m\u001b[0m\u001b[0m\n\u001b[0m\u001b[1;32m    157\u001b[0m     \u001b[0;32melse\u001b[0m\u001b[0;34m:\u001b[0m\u001b[0;34m\u001b[0m\u001b[0;34m\u001b[0m\u001b[0m\n\u001b[1;32m    158\u001b[0m         \u001b[0;32mif\u001b[0m \u001b[0msexp\u001b[0m\u001b[0;34m.\u001b[0m\u001b[0mstartswith\u001b[0m\u001b[0;34m(\u001b[0m\u001b[0;34m'\"'\u001b[0m\u001b[0;34m)\u001b[0m \u001b[0;32mand\u001b[0m \u001b[0msexp\u001b[0m\u001b[0;34m.\u001b[0m\u001b[0mendswith\u001b[0m\u001b[0;34m(\u001b[0m\u001b[0;34m'\"'\u001b[0m\u001b[0;34m)\u001b[0m\u001b[0;34m:\u001b[0m\u001b[0;34m\u001b[0m\u001b[0;34m\u001b[0m\u001b[0m\n",
      "\u001b[0;32m/brtx/601-nvme1/estengel/miniconda3/envs/bclamp2/lib/python3.7/site-packages/dataflow/core/sexp.py\u001b[0m in \u001b[0;36m<genexpr>\u001b[0;34m(.0)\u001b[0m\n\u001b[1;32m    154\u001b[0m             \u001b[0;32mreturn\u001b[0m \u001b[0mREADER\u001b[0m \u001b[0;34m+\u001b[0m \u001b[0msexp_to_str\u001b[0m\u001b[0;34m(\u001b[0m\u001b[0mexpr\u001b[0m\u001b[0;34m)\u001b[0m\u001b[0;34m\u001b[0m\u001b[0;34m\u001b[0m\u001b[0m\n\u001b[1;32m    155\u001b[0m         \u001b[0;32melse\u001b[0m\u001b[0;34m:\u001b[0m\u001b[0;34m\u001b[0m\u001b[0;34m\u001b[0m\u001b[0m\n\u001b[0;32m--> 156\u001b[0;31m             \u001b[0;32mreturn\u001b[0m \u001b[0;34m\"(\"\u001b[0m \u001b[0;34m+\u001b[0m \u001b[0;34m\" \"\u001b[0m\u001b[0;34m.\u001b[0m\u001b[0mjoin\u001b[0m\u001b[0;34m(\u001b[0m\u001b[0msexp_to_str\u001b[0m\u001b[0;34m(\u001b[0m\u001b[0mf\u001b[0m\u001b[0;34m)\u001b[0m \u001b[0;32mfor\u001b[0m \u001b[0mf\u001b[0m \u001b[0;32min\u001b[0m \u001b[0msexp\u001b[0m\u001b[0;34m)\u001b[0m \u001b[0;34m+\u001b[0m \u001b[0;34m\")\"\u001b[0m\u001b[0;34m\u001b[0m\u001b[0;34m\u001b[0m\u001b[0m\n\u001b[0m\u001b[1;32m    157\u001b[0m     \u001b[0;32melse\u001b[0m\u001b[0;34m:\u001b[0m\u001b[0;34m\u001b[0m\u001b[0;34m\u001b[0m\u001b[0m\n\u001b[1;32m    158\u001b[0m         \u001b[0;32mif\u001b[0m \u001b[0msexp\u001b[0m\u001b[0;34m.\u001b[0m\u001b[0mstartswith\u001b[0m\u001b[0;34m(\u001b[0m\u001b[0;34m'\"'\u001b[0m\u001b[0;34m)\u001b[0m \u001b[0;32mand\u001b[0m \u001b[0msexp\u001b[0m\u001b[0;34m.\u001b[0m\u001b[0mendswith\u001b[0m\u001b[0;34m(\u001b[0m\u001b[0;34m'\"'\u001b[0m\u001b[0;34m)\u001b[0m\u001b[0;34m:\u001b[0m\u001b[0;34m\u001b[0m\u001b[0;34m\u001b[0m\u001b[0m\n",
      "\u001b[0;32m/brtx/601-nvme1/estengel/miniconda3/envs/bclamp2/lib/python3.7/site-packages/dataflow/core/sexp.py\u001b[0m in \u001b[0;36msexp_to_str\u001b[0;34m(sexp)\u001b[0m\n\u001b[1;32m    154\u001b[0m             \u001b[0;32mreturn\u001b[0m \u001b[0mREADER\u001b[0m \u001b[0;34m+\u001b[0m \u001b[0msexp_to_str\u001b[0m\u001b[0;34m(\u001b[0m\u001b[0mexpr\u001b[0m\u001b[0;34m)\u001b[0m\u001b[0;34m\u001b[0m\u001b[0;34m\u001b[0m\u001b[0m\n\u001b[1;32m    155\u001b[0m         \u001b[0;32melse\u001b[0m\u001b[0;34m:\u001b[0m\u001b[0;34m\u001b[0m\u001b[0;34m\u001b[0m\u001b[0m\n\u001b[0;32m--> 156\u001b[0;31m             \u001b[0;32mreturn\u001b[0m \u001b[0;34m\"(\"\u001b[0m \u001b[0;34m+\u001b[0m \u001b[0;34m\" \"\u001b[0m\u001b[0;34m.\u001b[0m\u001b[0mjoin\u001b[0m\u001b[0;34m(\u001b[0m\u001b[0msexp_to_str\u001b[0m\u001b[0;34m(\u001b[0m\u001b[0mf\u001b[0m\u001b[0;34m)\u001b[0m \u001b[0;32mfor\u001b[0m \u001b[0mf\u001b[0m \u001b[0;32min\u001b[0m \u001b[0msexp\u001b[0m\u001b[0;34m)\u001b[0m \u001b[0;34m+\u001b[0m \u001b[0;34m\")\"\u001b[0m\u001b[0;34m\u001b[0m\u001b[0;34m\u001b[0m\u001b[0m\n\u001b[0m\u001b[1;32m    157\u001b[0m     \u001b[0;32melse\u001b[0m\u001b[0;34m:\u001b[0m\u001b[0;34m\u001b[0m\u001b[0;34m\u001b[0m\u001b[0m\n\u001b[1;32m    158\u001b[0m         \u001b[0;32mif\u001b[0m \u001b[0msexp\u001b[0m\u001b[0;34m.\u001b[0m\u001b[0mstartswith\u001b[0m\u001b[0;34m(\u001b[0m\u001b[0;34m'\"'\u001b[0m\u001b[0;34m)\u001b[0m \u001b[0;32mand\u001b[0m \u001b[0msexp\u001b[0m\u001b[0;34m.\u001b[0m\u001b[0mendswith\u001b[0m\u001b[0;34m(\u001b[0m\u001b[0;34m'\"'\u001b[0m\u001b[0;34m)\u001b[0m\u001b[0;34m:\u001b[0m\u001b[0;34m\u001b[0m\u001b[0;34m\u001b[0m\u001b[0m\n",
      "\u001b[0;32m/brtx/601-nvme1/estengel/miniconda3/envs/bclamp2/lib/python3.7/site-packages/dataflow/core/sexp.py\u001b[0m in \u001b[0;36m<genexpr>\u001b[0;34m(.0)\u001b[0m\n\u001b[1;32m    154\u001b[0m             \u001b[0;32mreturn\u001b[0m \u001b[0mREADER\u001b[0m \u001b[0;34m+\u001b[0m \u001b[0msexp_to_str\u001b[0m\u001b[0;34m(\u001b[0m\u001b[0mexpr\u001b[0m\u001b[0;34m)\u001b[0m\u001b[0;34m\u001b[0m\u001b[0;34m\u001b[0m\u001b[0m\n\u001b[1;32m    155\u001b[0m         \u001b[0;32melse\u001b[0m\u001b[0;34m:\u001b[0m\u001b[0;34m\u001b[0m\u001b[0;34m\u001b[0m\u001b[0m\n\u001b[0;32m--> 156\u001b[0;31m             \u001b[0;32mreturn\u001b[0m \u001b[0;34m\"(\"\u001b[0m \u001b[0;34m+\u001b[0m \u001b[0;34m\" \"\u001b[0m\u001b[0;34m.\u001b[0m\u001b[0mjoin\u001b[0m\u001b[0;34m(\u001b[0m\u001b[0msexp_to_str\u001b[0m\u001b[0;34m(\u001b[0m\u001b[0mf\u001b[0m\u001b[0;34m)\u001b[0m \u001b[0;32mfor\u001b[0m \u001b[0mf\u001b[0m \u001b[0;32min\u001b[0m \u001b[0msexp\u001b[0m\u001b[0;34m)\u001b[0m \u001b[0;34m+\u001b[0m \u001b[0;34m\")\"\u001b[0m\u001b[0;34m\u001b[0m\u001b[0;34m\u001b[0m\u001b[0m\n\u001b[0m\u001b[1;32m    157\u001b[0m     \u001b[0;32melse\u001b[0m\u001b[0;34m:\u001b[0m\u001b[0;34m\u001b[0m\u001b[0;34m\u001b[0m\u001b[0m\n\u001b[1;32m    158\u001b[0m         \u001b[0;32mif\u001b[0m \u001b[0msexp\u001b[0m\u001b[0;34m.\u001b[0m\u001b[0mstartswith\u001b[0m\u001b[0;34m(\u001b[0m\u001b[0;34m'\"'\u001b[0m\u001b[0;34m)\u001b[0m \u001b[0;32mand\u001b[0m \u001b[0msexp\u001b[0m\u001b[0;34m.\u001b[0m\u001b[0mendswith\u001b[0m\u001b[0;34m(\u001b[0m\u001b[0;34m'\"'\u001b[0m\u001b[0;34m)\u001b[0m\u001b[0;34m:\u001b[0m\u001b[0;34m\u001b[0m\u001b[0;34m\u001b[0m\u001b[0m\n",
      "\u001b[0;32m/brtx/601-nvme1/estengel/miniconda3/envs/bclamp2/lib/python3.7/site-packages/dataflow/core/sexp.py\u001b[0m in \u001b[0;36msexp_to_str\u001b[0;34m(sexp)\u001b[0m\n\u001b[1;32m    159\u001b[0m             \u001b[0;32mreturn\u001b[0m \u001b[0msexp\u001b[0m\u001b[0;34m\u001b[0m\u001b[0;34m\u001b[0m\u001b[0m\n\u001b[1;32m    160\u001b[0m         \u001b[0;32melse\u001b[0m\u001b[0;34m:\u001b[0m\u001b[0;34m\u001b[0m\u001b[0;34m\u001b[0m\u001b[0m\n\u001b[0;32m--> 161\u001b[0;31m             \u001b[0;32mreturn\u001b[0m \u001b[0m_escape_symbol\u001b[0m\u001b[0;34m(\u001b[0m\u001b[0msexp\u001b[0m\u001b[0;34m)\u001b[0m\u001b[0;34m\u001b[0m\u001b[0;34m\u001b[0m\u001b[0m\n\u001b[0m\u001b[1;32m    162\u001b[0m \u001b[0;34m\u001b[0m\u001b[0m\n\u001b[1;32m    163\u001b[0m \u001b[0;34m\u001b[0m\u001b[0m\n",
      "\u001b[0;32m/brtx/601-nvme1/estengel/miniconda3/envs/bclamp2/lib/python3.7/site-packages/dataflow/core/sexp.py\u001b[0m in \u001b[0;36m_escape_symbol\u001b[0;34m(symbol)\u001b[0m\n\u001b[1;32m    168\u001b[0m             \u001b[0mout\u001b[0m\u001b[0;34m.\u001b[0m\u001b[0mappend\u001b[0m\u001b[0;34m(\u001b[0m\u001b[0;34m\"\\\\\"\u001b[0m\u001b[0;34m)\u001b[0m\u001b[0;34m\u001b[0m\u001b[0;34m\u001b[0m\u001b[0m\n\u001b[1;32m    169\u001b[0m         \u001b[0mout\u001b[0m\u001b[0;34m.\u001b[0m\u001b[0mappend\u001b[0m\u001b[0;34m(\u001b[0m\u001b[0mc\u001b[0m\u001b[0;34m)\u001b[0m\u001b[0;34m\u001b[0m\u001b[0;34m\u001b[0m\u001b[0m\n\u001b[0;32m--> 170\u001b[0;31m     \u001b[0;32mreturn\u001b[0m \u001b[0;34m\"\"\u001b[0m\u001b[0;34m.\u001b[0m\u001b[0mjoin\u001b[0m\u001b[0;34m(\u001b[0m\u001b[0mout\u001b[0m\u001b[0;34m)\u001b[0m\u001b[0;34m\u001b[0m\u001b[0;34m\u001b[0m\u001b[0m\n\u001b[0m",
      "\u001b[0;31mKeyboardInterrupt\u001b[0m: "
     ]
    }
   ],
   "source": [
    "# TREE DST\n",
    "\n",
    "treedst_counts_by_model_pair = {}\n",
    "done = []\n",
    "for model_a in treedst_data_by_model.keys():\n",
    "    for model_b in treedst_data_by_model.keys():\n",
    "        print(f\"evaluating {model_a} on low conf. from {model_b}\")\n",
    "        if (model_a, model_b) in done: \n",
    "            continue\n",
    "        done.append((model_a, model_b))\n",
    "        treedst_counts_by_model_pair[(model_a, model_b)] = get_counts(treedst_data_by_model[model_a], \n",
    "                                                              treedst_low_idxs_by_model[model_b], \n",
    "                                                              is_miso=model_a == \"miso\", \n",
    "                                                              gold_idxs=treedst_gold_idx, \n",
    "                                                              gold_tgt_by_idx=treedst_gold_tgt_by_idx)\n",
    "\n",
    "# print report \n",
    "for (model_a, model_b), count_data in treedst_counts_by_model_pair.items():\n",
    "    print(f\"{model_a.upper()} on low conf. from {model_b.upper()}\")\n",
    "    print(f\"low: {count_data['low_correct']} / {count_data['low_total']}: {count_data['low_correct'] / count_data['low_total']*100:.2f}\")\n",
    "    print(f\"high: {count_data['high_correct']} / {count_data['high_total']}: {count_data['high_correct'] / count_data['high_total']*100:.2f}\")\n",
    "    print(f\"all: {count_data['all_correct']} / {count_data['all_total']}: {count_data['all_correct'] / count_data['all_total']*100:.2f}\")\n",
    "    print()"
   ]
  },
  {
   "cell_type": "code",
   "execution_count": 24,
   "metadata": {},
   "outputs": [
    {
     "name": "stdout",
     "output_type": "stream",
     "text": [
      "Size of three-way union: 11535\n",
      "Model miso-union\n",
      "Model bart-union\n",
      "Model t5-union\n",
      "MISO on low conf. from UNION\n",
      "low: 9265 / 11535: 80.32\n",
      "high: 10675 / 11306: 94.42\n",
      "all: 19940 / 22841: 87.30\n",
      "\n",
      "BART on low conf. from UNION\n",
      "low: 9801 / 11535: 84.97\n",
      "high: 11156 / 11306: 98.67\n",
      "all: 20957 / 22841: 91.75\n",
      "\n",
      "T5 on low conf. from UNION\n",
      "low: 9701 / 11535: 84.10\n",
      "high: 11149 / 11306: 98.61\n",
      "all: 20850 / 22841: 91.28\n",
      "\n"
     ]
    }
   ],
   "source": [
    "treedst_three_way_union = set(treedst_low_idxs_by_model['miso']).union(set(treedst_low_idxs_by_model['t5'])).union(set(treedst_low_idxs_by_model['bart']))\n",
    "print(f\"Size of three-way union: {len(treedst_three_way_union)}\")\n",
    "for model_a in treedst_data_by_model.keys():\n",
    "    print(f\"Model {model_a}-union\")\n",
    "    treedst_counts_by_model_pair[(model_a, 'union')] = get_counts(treedst_data_by_model[model_a], \n",
    "                                                            treedst_three_way_union,\n",
    "                                                            is_miso=model_a == \"miso\", \n",
    "                                                            gold_idxs=treedst_gold_idx, \n",
    "                                                            gold_tgt_by_idx=treedst_gold_tgt_by_idx)\n",
    "for (model_a, model_b), count_data in treedst_counts_by_model_pair.items():\n",
    "    if model_b == \"union\": \n",
    "        print(f\"{model_a.upper()} on low conf. from {model_b.upper()}\")\n",
    "        print(f\"low: {count_data['low_correct']} / {count_data['low_total']}: {count_data['low_correct'] / count_data['low_total']*100:.2f}\")\n",
    "        print(f\"high: {count_data['high_correct']} / {count_data['high_total']}: {count_data['high_correct'] / count_data['high_total']*100:.2f}\")\n",
    "        print(f\"all: {count_data['all_correct']} / {count_data['all_total']}: {count_data['all_correct'] / count_data['all_total']*100:.2f}\")\n",
    "        print()"
   ]
  },
  {
   "cell_type": "code",
   "execution_count": null,
   "metadata": {},
   "outputs": [],
   "source": [
    "len(treedst_data_by_model['bart'])"
   ]
  }
 ],
 "metadata": {
  "kernelspec": {
   "display_name": "Python 3.6.13 ('miso_new')",
   "language": "python",
   "name": "python3"
  },
  "language_info": {
   "codemirror_mode": {
    "name": "ipython",
    "version": 3
   },
   "file_extension": ".py",
   "mimetype": "text/x-python",
   "name": "python",
   "nbconvert_exporter": "python",
   "pygments_lexer": "ipython3",
   "version": "3.7.16"
  },
  "orig_nbformat": 4,
  "vscode": {
   "interpreter": {
    "hash": "9db1c0e1c59df8b57e6ccdbb7c3746bf45f553f1d28626d748c067e213df640a"
   }
  }
 },
 "nbformat": 4,
 "nbformat_minor": 2
}
