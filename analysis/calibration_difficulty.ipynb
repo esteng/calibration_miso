{
 "cells": [
  {
   "cell_type": "code",
   "execution_count": 1,
   "metadata": {},
   "outputs": [],
   "source": [
    "import json\n",
    "import pathlib\n",
    "from collections import defaultdict\n",
    "import numpy as np \n",
    "import re \n",
    "from dataflow.core.lispress import parse_lispress, render_compact\n",
    "from dataflow.core.linearize import lispress_to_seq"
   ]
  },
  {
   "cell_type": "code",
   "execution_count": 2,
   "metadata": {},
   "outputs": [],
   "source": [
    "def read_nucleus_file(miso_pred_file):\n",
    "    with open(miso_pred_file, \"r\") as f:\n",
    "        data = [json.loads(x) for x in f.readlines()]\n",
    "    to_ret = []\n",
    "    data_by_idx = defaultdict(list)\n",
    "    data_by_src_str = defaultdict(list)\n",
    "    for line in data:\n",
    "        data_by_src_str[line['src_str']].append(line) \n",
    "        data_by_idx[line['line_idx']].append(line) \n",
    "\n",
    "    for src_str, lines in data_by_src_str.items():\n",
    "        total_probs = [np.exp(np.sum(np.log(x['expression_probs']))) \n",
    "                                if x['expression_probs'] is not None else 0.0 \n",
    "                                    for x in lines ]\n",
    "        mean_probs = [np.mean(x['expression_probs']) \n",
    "                                if x['expression_probs'] is not None and np.sum(x['expression_probs']) > 0.0 \n",
    "                                else 0.0 for x in lines ]\n",
    "        min_probs = []\n",
    "        for x in lines:\n",
    "            if x['expression_probs'] is not None and len(x['expression_probs']) > 0:\n",
    "                min_probs.append(np.min(x['expression_probs']))\n",
    "            else:\n",
    "                min_probs.append(0.0)\n",
    "\n",
    "        combo_lines = zip(lines, min_probs, mean_probs, total_probs)\n",
    "        sorted_combo_lines = sorted(combo_lines, key=lambda x: x[-1], reverse=True)\n",
    "\n",
    "        data_by_src_str[src_str] = sorted_combo_lines\n",
    "        idx = lines[0]['line_idx']\n",
    "        data_by_idx[idx] = sorted_combo_lines\n",
    "    return data_by_src_str, data_by_idx\n",
    "\n",
    "def read_gold_file(file):\n",
    "    with open(file) as f:\n",
    "        if file.endswith(\".tgt\"):\n",
    "            to_ret = [render_compact(parse_lispress(line)) for line in f.readlines()]\n",
    "        else:\n",
    "            to_ret = [re.sub(\"__StartOfProgram\", \"\", x).strip() for x in f.readlines()]\n",
    "    return to_ret \n",
    "\n",
    "def get_probs_and_accs(nucleus_file, gold_src_file, gold_tgt_file):\n",
    "    nucleus, __ = read_nucleus_file(nucleus_file)\n",
    "    gold_tgt = read_gold_file(gold_tgt_file)\n",
    "    gold_src = read_gold_file(gold_src_file)\n",
    "    # assert(len(nucleus) == len(gold_tgt))\n",
    "    min_probs = []\n",
    "    mean_probs = []\n",
    "    accs = []\n",
    "    for i,  (gold_src, gold_tgt) in enumerate(zip(gold_src, gold_tgt)):\n",
    "        nuc = nucleus[gold_src]\n",
    "        nuc_str = nuc[0][0]['tgt_str']\n",
    "            \n",
    "        nuc_str = render_compact(parse_lispress(nuc_str))\n",
    "        # use the min prob, not the summed prob \n",
    "        min_probs.append(nuc[0][1])\n",
    "        # TODO (elias): add total number of tokens to get mean prob \n",
    "        mean_probs.append(nuc[0][2])\n",
    "        accs.append(nuc_str == gold_tgt)\n",
    "    return min_probs, mean_probs, accs"
   ]
  },
  {
   "cell_type": "code",
   "execution_count": 3,
   "metadata": {},
   "outputs": [],
   "source": [
    "calflow_bart = \"/brtx/602-nvme1/estengel/calflow_calibration/benchclamp/logs/1.0/bart-large_calflow_last_user_all_0.0001_10000_test_eval_unconstrained-beam_bs_5/model_outputs.20221101T105421.jsonl\" \n",
    "calflow_miso = \"/brtx/604-nvme1/estengel/calflow_calibration/miso/tune_roberta_tok_fix_benchclamp_data/translate_output_calibrated/test_all.tgt\"\n",
    "\n",
    "gold_path = \"/brtx/601-nvme1/estengel/resources/data/smcalflow.agent.data.from_benchclamp\"\n",
    "\n",
    "gold_src = read_gold_file(f\"{gold_path}/test_all.src_tok\")\n",
    "gold_tgt = read_gold_file(f\"{gold_path}/test_all.tgt\")\n",
    "gold_idx = read_gold_file(f\"{gold_path}/test_all.idx\")\n",
    "gold_tgt_by_idx = {idx: gold for idx, gold in zip(gold_idx, gold_tgt)}\n",
    "\n",
    "__, nuc_data = read_nucleus_file(calflow_miso)\n",
    "\n",
    "with open(calflow_bart) as f1:\n",
    "    bart_data = [json.loads(x) for x in f1.readlines()]\n"
   ]
  },
  {
   "cell_type": "code",
   "execution_count": 4,
   "metadata": {},
   "outputs": [
    {
     "name": "stdout",
     "output_type": "stream",
     "text": [
      "MISO: 2649\n",
      "BART: 345\n",
      "intersection: 224 / 2770: 0.08086642599277978\n"
     ]
    }
   ],
   "source": [
    "# get the set of low-probability examples from MISO\n",
    "miso_low_prob_idxs = []\n",
    "for idx, example in nuc_data.items():\n",
    "    try:\n",
    "        min_prob = example[0][1]\n",
    "    except:\n",
    "        min_prob = np.min(example[0]['expression_probs'])\n",
    "\n",
    "    if min_prob < 0.5:\n",
    "        miso_low_prob_idxs.append(idx)\n",
    "# get the set of low-probability examples from BART\n",
    "bart_low_prob_idxs = []\n",
    "i=0\n",
    "for idx, src, example in zip(gold_idx, gold_src, bart_data):\n",
    "    probs = np.exp(np.array(example['token_logprobs'][0]))\n",
    "    min_prob = np.min(probs)\n",
    "    if min_prob < 0.5: \n",
    "        bart_low_prob_idxs.append(idx)\n",
    "\n",
    "\n",
    "# compute the overlap between the two \n",
    "intersection = set(miso_low_prob_idxs).intersection(set(bart_low_prob_idxs))\n",
    "union = set(miso_low_prob_idxs).union(set(bart_low_prob_idxs))\n",
    "print(f\"MISO: {len(miso_low_prob_idxs)}\")\n",
    "print(f\"BART: {len(bart_low_prob_idxs)}\")\n",
    "print(f\"intersection: {len(intersection)} / {len(union)}: {len(intersection) / len(union)}\")\n",
    "\n"
   ]
  },
  {
   "cell_type": "code",
   "execution_count": 5,
   "metadata": {},
   "outputs": [],
   "source": [
    "def get_counts(data, low_idxs, is_bart=False, gold_idxs = None, gold_tgt_by_idx=None): \n",
    "    counts = {\"low_correct\": 0, \"low_total\": 0, \"all_correct\": 0, \"all_total\": 0, \"high_correct\": 0, \"high_total\": 0}\n",
    "    if is_bart:\n",
    "        enumerator = list(zip(gold_idxs, data))\n",
    "    else:\n",
    "        enumerator = list(data.items())\n",
    "\n",
    "    for idx, example in enumerator:\n",
    "        if is_bart: \n",
    "            pred_str = example['outputs'][0]\n",
    "            gold_str = example['test_datum_canonical']\n",
    "        else:\n",
    "            try:\n",
    "                pred_str = example[0][0]['tgt_str']\n",
    "            except KeyError:\n",
    "                pred_str = example[0]['tgt_str']\n",
    "            gold_str = gold_tgt_by_idx[idx]\n",
    "        try:\n",
    "            pred_tgt = render_compact(parse_lispress(pred_str))\n",
    "        except (AssertionError, IndexError) as e:\n",
    "            pred_tgt = \"(Error)\"\n",
    "\n",
    "        gold_tgt = render_compact(parse_lispress(gold_str))\n",
    "\n",
    "        is_correct = pred_tgt == gold_tgt\n",
    "        if idx in low_idxs:\n",
    "            counts[\"low_total\"] += 1\n",
    "            if is_correct:\n",
    "                counts[\"low_correct\"] += 1\n",
    "        else:\n",
    "            counts[\"high_total\"] += 1\n",
    "            if is_correct:\n",
    "                counts[\"high_correct\"] += 1\n",
    "        counts[\"all_total\"] += 1\n",
    "        if is_correct:\n",
    "            counts[\"all_correct\"] += 1\n",
    "    return counts \n"
   ]
  },
  {
   "cell_type": "code",
   "execution_count": 6,
   "metadata": {},
   "outputs": [],
   "source": [
    "\n",
    "intra_miso_counts = get_counts(nuc_data, miso_low_prob_idxs, is_bart = False, gold_tgt_by_idx=gold_tgt_by_idx)\n",
    "intra_bart_counts = get_counts(bart_data, bart_low_prob_idxs, is_bart = True, gold_idxs = gold_idx) "
   ]
  },
  {
   "cell_type": "code",
   "execution_count": 7,
   "metadata": {},
   "outputs": [],
   "source": [
    "# performance of miso on bart low-conf examples\n",
    "inter_miso_bart_counts = get_counts(nuc_data, bart_low_prob_idxs, is_bart = False, gold_tgt_by_idx=gold_tgt_by_idx)\n",
    "# performance of bart on miso low-conf examples\n",
    "inter_bart_miso_counts = get_counts(bart_data, miso_low_prob_idxs, is_bart = True, gold_idxs = gold_idx)"
   ]
  },
  {
   "cell_type": "code",
   "execution_count": 8,
   "metadata": {},
   "outputs": [
    {
     "name": "stdout",
     "output_type": "stream",
     "text": [
      "MISO-MISO\n",
      "low: 587 / 2649: 0.22159305398263496\n",
      "high: 9665 / 10847: 0.8910297778187517\n",
      "all: 10252 / 13496: 0.7596324836988737\n",
      "\n",
      "MISO on BART low-conf\n",
      "low: 89 / 345: 0.2579710144927536\n",
      "high: 10163 / 13151: 0.7727929435023952\n",
      "all: 10252 / 13496: 0.7596324836988737\n",
      "\n",
      "BART\n",
      "low: 104 / 345: 0.30144927536231886\n",
      "high: 11043 / 13151: 0.8397080069956657\n",
      "all: 11147 / 13496: 0.8259484291641968\n",
      "\n",
      "BART on MISO low-conf\n",
      "low: 1515 / 2649: 0.5719139297848245\n",
      "high: 9632 / 10847: 0.8879874619710519\n",
      "all: 11147 / 13496: 0.8259484291641968\n",
      "\n"
     ]
    }
   ],
   "source": [
    "# MISO report\n",
    "print(\"MISO-MISO\")\n",
    "print(f\"low: {intra_miso_counts['low_correct']} / {intra_miso_counts['low_total']}: {intra_miso_counts['low_correct'] / intra_miso_counts['low_total']}\")\n",
    "print(f\"high: {intra_miso_counts['high_correct']} / {intra_miso_counts['high_total']}: {intra_miso_counts['high_correct'] / intra_miso_counts['high_total']}\")\n",
    "print(f\"all: {intra_miso_counts['all_correct']} / {intra_miso_counts['all_total']}: {intra_miso_counts['all_correct'] / intra_miso_counts['all_total']}\")\n",
    "print()\n",
    "print(\"MISO on BART low-conf\")\n",
    "print(f\"low: {inter_miso_bart_counts['low_correct']} / {inter_miso_bart_counts['low_total']}: {inter_miso_bart_counts['low_correct'] / inter_miso_bart_counts['low_total']}\")\n",
    "print(f\"high: {inter_miso_bart_counts['high_correct']} / {inter_miso_bart_counts['high_total']}: {inter_miso_bart_counts['high_correct'] / inter_miso_bart_counts['high_total']}\")\n",
    "print(f\"all: {inter_miso_bart_counts['all_correct']} / {inter_miso_bart_counts['all_total']}: {inter_miso_bart_counts['all_correct'] / inter_miso_bart_counts['all_total']}\")\n",
    "print()\n",
    "\n",
    "# BART report\n",
    "print(\"BART\")\n",
    "print(f\"low: {intra_bart_counts['low_correct']} / {intra_bart_counts['low_total']}: {intra_bart_counts['low_correct'] / intra_bart_counts['low_total']}\")\n",
    "print(f\"high: {intra_bart_counts['high_correct']} / {intra_bart_counts['high_total']}: {intra_bart_counts['high_correct'] / intra_bart_counts['high_total']}\")\n",
    "print(f\"all: {intra_bart_counts['all_correct']} / {intra_bart_counts['all_total']}: {intra_bart_counts['all_correct'] / intra_bart_counts['all_total']}\")\n",
    "print()\n",
    "print(\"BART on MISO low-conf\")\n",
    "print(f\"low: {inter_bart_miso_counts['low_correct']} / {inter_bart_miso_counts['low_total']}: {inter_bart_miso_counts['low_correct'] / inter_bart_miso_counts['low_total']}\")\n",
    "print(f\"high: {inter_bart_miso_counts['high_correct']} / {inter_bart_miso_counts['high_total']}: {inter_bart_miso_counts['high_correct'] / inter_bart_miso_counts['high_total']}\")\n",
    "print(f\"all: {inter_bart_miso_counts['all_correct']} / {inter_bart_miso_counts['all_total']}: {inter_bart_miso_counts['all_correct'] / inter_bart_miso_counts['all_total']}\")\n",
    "print()"
   ]
  },
  {
   "cell_type": "code",
   "execution_count": null,
   "metadata": {},
   "outputs": [],
   "source": []
  }
 ],
 "metadata": {
  "kernelspec": {
   "display_name": "Python 3.6.13 ('miso_new')",
   "language": "python",
   "name": "python3"
  },
  "language_info": {
   "codemirror_mode": {
    "name": "ipython",
    "version": 3
   },
   "file_extension": ".py",
   "mimetype": "text/x-python",
   "name": "python",
   "nbconvert_exporter": "python",
   "pygments_lexer": "ipython3",
   "version": "3.6.13"
  },
  "orig_nbformat": 4,
  "vscode": {
   "interpreter": {
    "hash": "9db1c0e1c59df8b57e6ccdbb7c3746bf45f553f1d28626d748c067e213df640a"
   }
  }
 },
 "nbformat": 4,
 "nbformat_minor": 2
}
