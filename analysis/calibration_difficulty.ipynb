{
 "cells": [
  {
   "cell_type": "code",
   "execution_count": 1,
   "metadata": {},
   "outputs": [],
   "source": [
    "import json\n",
    "import pathlib\n",
    "from collections import defaultdict\n",
    "import numpy as np \n",
    "import re \n",
    "from dataflow.core.lispress import parse_lispress, render_compact\n",
    "from dataflow.core.linearize import lispress_to_seq"
   ]
  },
  {
   "cell_type": "code",
   "execution_count": 2,
   "metadata": {},
   "outputs": [],
   "source": [
    "def read_nucleus_file(miso_pred_file):\n",
    "    with open(miso_pred_file, \"r\") as f:\n",
    "        data = [json.loads(x) for x in f.readlines()]\n",
    "    to_ret = []\n",
    "    data_by_idx = defaultdict(list)\n",
    "    data_by_src_str = defaultdict(list)\n",
    "    for line in data:\n",
    "        data_by_src_str[line['src_str']].append(line) \n",
    "        data_by_idx[line['line_idx']].append(line) \n",
    "\n",
    "    for src_str, lines in data_by_src_str.items():\n",
    "        total_probs = [np.exp(np.sum(np.log(x['expression_probs']))) \n",
    "                                if x['expression_probs'] is not None else 0.0 \n",
    "                                    for x in lines ]\n",
    "        mean_probs = [np.mean(x['expression_probs']) \n",
    "                                if x['expression_probs'] is not None and np.sum(x['expression_probs']) > 0.0 \n",
    "                                else 0.0 for x in lines ]\n",
    "        min_probs = []\n",
    "        for x in lines:\n",
    "            if x['expression_probs'] is not None and len(x['expression_probs']) > 0:\n",
    "                min_probs.append(np.min(x['expression_probs']))\n",
    "            else:\n",
    "                min_probs.append(0.0)\n",
    "\n",
    "        combo_lines = zip(lines, min_probs, mean_probs, total_probs)\n",
    "        sorted_combo_lines = sorted(combo_lines, key=lambda x: x[-1], reverse=True)\n",
    "\n",
    "        data_by_src_str[src_str] = sorted_combo_lines\n",
    "        idx = lines[0]['line_idx']\n",
    "        data_by_idx[idx] = sorted_combo_lines\n",
    "    return data_by_src_str, data_by_idx\n",
    "\n",
    "def read_gold_file(file):\n",
    "    with open(file) as f:\n",
    "        if file.endswith(\".tgt\"):\n",
    "            to_ret = [render_compact(parse_lispress(line)) for line in f.readlines()]\n",
    "        else:\n",
    "            to_ret = [re.sub(\"__StartOfProgram\", \"\", x).strip() for x in f.readlines()]\n",
    "    return to_ret \n"
   ]
  },
  {
   "cell_type": "code",
   "execution_count": 3,
   "metadata": {},
   "outputs": [],
   "source": [
    "calflow_bart = \"/brtx/602-nvme1/estengel/calflow_calibration/benchclamp/logs/1.0/bart-large_calflow_last_user_all_0.0001_10000_test_eval_unconstrained-beam_bs_5/model_outputs.20221101T105421.jsonl\" \n",
    "calflow_miso = \"/brtx/604-nvme1/estengel/calflow_calibration/miso/tune_roberta_tok_fix_benchclamp_data/translate_output_calibrated/test_all.tgt\"\n",
    "calflow_t5 = \"\"\n",
    "\n",
    "calflow_models_and_paths = {\"miso\": calflow_miso, \"bart\": calflow_bart} \n",
    "\n",
    "gold_path = \"/brtx/601-nvme1/estengel/resources/data/smcalflow.agent.data.from_benchclamp\"\n",
    "\n",
    "gold_src = read_gold_file(f\"{gold_path}/test_all.src_tok\")\n",
    "gold_tgt = read_gold_file(f\"{gold_path}/test_all.tgt\")\n",
    "gold_idx = read_gold_file(f\"{gold_path}/test_all.idx\")\n",
    "gold_tgt_by_idx = {idx: gold for idx, gold in zip(gold_idx, gold_tgt)}\n",
    "\n",
    "\n",
    "\n",
    "calflow_data_by_model = {}\n",
    "\n",
    "__, nuc_data = read_nucleus_file(calflow_miso)\n",
    "calflow_data_by_model[\"miso\"] = nuc_data\n",
    "\n",
    "with open(calflow_bart) as f1:\n",
    "    bart_data = [json.loads(x) for x in f1.readlines()]\n",
    "calflow_data_by_model['bart'] = bart_data\n"
   ]
  },
  {
   "cell_type": "code",
   "execution_count": 4,
   "metadata": {},
   "outputs": [
    {
     "name": "stdout",
     "output_type": "stream",
     "text": [
      "miso: 2649\n",
      "bart: 345\n",
      "intersection: 224 / 2770: 0.08086642599277978\n"
     ]
    }
   ],
   "source": [
    "def get_low_prob(iterator, is_miso = False, threshold = 0.6):\n",
    "    low_prob_idxs = []\n",
    "    for idx, example in iterator:\n",
    "        if is_miso: \n",
    "            try:\n",
    "                min_prob = example[0][1]\n",
    "            except:\n",
    "                min_prob = np.min(example[0]['expression_probs'])\n",
    "        else:\n",
    "            probs = np.exp(np.array(example['token_logprobs'][0]))\n",
    "            min_prob = np.min(probs)\n",
    "\n",
    "        if min_prob < 0.5:\n",
    "            low_prob_idxs.append(idx) \n",
    "    return low_prob_idxs\n",
    "\n",
    "\n",
    "low_idxs_by_model = {}\n",
    "for model, data in calflow_data_by_model.items():\n",
    "    if model == \"miso\":\n",
    "        low_prob_idxs = get_low_prob(data.items(), is_miso=True)\n",
    "    else:\n",
    "        low_prob_idxs = get_low_prob(zip(gold_idx, data), is_miso=False)\n",
    "\n",
    "    low_idxs_by_model[model] = low_prob_idxs\n",
    "    # print(f\"{model} has {len(low_prob_idxs)} low prob examples\")\n",
    "\n",
    "done = []\n",
    "for model_a in low_idxs_by_model.keys():\n",
    "    for model_b in low_idxs_by_model.keys():\n",
    "        if model_a == model_b or (model_a, model_b) in done or (model_b, model_a) in done:\n",
    "            continue\n",
    "        done.append((model_a, model_b))\n",
    "\n",
    "        # compute the overlap between the two \n",
    "        intersection = set(low_idxs_by_model[model_a]).intersection(set(low_idxs_by_model[model_b]))\n",
    "        union = set(low_idxs_by_model[model_a]).union(set(low_idxs_by_model[model_b]))\n",
    "        print(f\"{model_a}: {len(low_idxs_by_model[model_a])}\")\n",
    "        print(f\"{model_b}: {len(low_idxs_by_model[model_b])}\")\n",
    "        print(f\"intersection: {len(intersection)} / {len(union)}: {len(intersection) / len(union):.2f}\")\n",
    "\n"
   ]
  },
  {
   "cell_type": "code",
   "execution_count": 7,
   "metadata": {},
   "outputs": [],
   "source": [
    "def get_counts(data, low_idxs, is_miso=False, gold_idxs = None, gold_tgt_by_idx=None): \n",
    "    counts = {\"low_correct\": 0, \"low_total\": 0, \"all_correct\": 0, \"all_total\": 0, \"high_correct\": 0, \"high_total\": 0}\n",
    "    if is_miso:\n",
    "        enumerator = list(data.items())\n",
    "    else:\n",
    "        enumerator = list(zip(gold_idxs, data))\n",
    "\n",
    "    for idx, example in enumerator:\n",
    "        if is_miso: \n",
    "            try:\n",
    "                pred_str = example[0][0]['tgt_str']\n",
    "            except KeyError:\n",
    "                pred_str = example[0]['tgt_str']\n",
    "            gold_str = gold_tgt_by_idx[idx]\n",
    "        else:\n",
    "            pred_str = example['outputs'][0]\n",
    "            gold_str = example['test_datum_canonical']\n",
    "        try:\n",
    "            pred_tgt = render_compact(parse_lispress(pred_str))\n",
    "        except (AssertionError, IndexError) as e:\n",
    "            pred_tgt = \"(Error)\"\n",
    "\n",
    "        gold_tgt = render_compact(parse_lispress(gold_str))\n",
    "\n",
    "        is_correct = pred_tgt == gold_tgt\n",
    "        if idx in low_idxs:\n",
    "            counts[\"low_total\"] += 1\n",
    "            if is_correct:\n",
    "                counts[\"low_correct\"] += 1\n",
    "        else:\n",
    "            counts[\"high_total\"] += 1\n",
    "            if is_correct:\n",
    "                counts[\"high_correct\"] += 1\n",
    "        counts[\"all_total\"] += 1\n",
    "        if is_correct:\n",
    "            counts[\"all_correct\"] += 1\n",
    "    return counts \n"
   ]
  },
  {
   "cell_type": "code",
   "execution_count": 9,
   "metadata": {},
   "outputs": [
    {
     "name": "stdout",
     "output_type": "stream",
     "text": [
      "evaluating miso on low conf. from miso\n",
      "evaluating miso on low conf. from bart\n",
      "evaluating bart on low conf. from miso\n",
      "evaluating bart on low conf. from bart\n"
     ]
    }
   ],
   "source": [
    "\n",
    "counts_by_model_pair = {}\n",
    "done = []\n",
    "for model_a in calflow_data_by_model.keys():\n",
    "    for model_b in calflow_data_by_model.keys():\n",
    "        print(f\"evaluating {model_a} on low conf. from {model_b}\")\n",
    "        if model_a == model_b or (model_a, model_b) in done: \n",
    "            continue\n",
    "        done.append((model_a, model_b))\n",
    "        counts_by_model_pair[(model_a, model_b)] = get_counts(calflow_data_by_model[model_a], \n",
    "                                                              low_idxs_by_model[model_b], \n",
    "                                                              is_miso=model_a == \"miso\", \n",
    "                                                              gold_idxs=gold_idx, \n",
    "                                                              gold_tgt_by_idx=gold_tgt_by_idx)\n"
   ]
  },
  {
   "cell_type": "code",
   "execution_count": 11,
   "metadata": {},
   "outputs": [
    {
     "name": "stdout",
     "output_type": "stream",
     "text": [
      "MISO on low conf. from BART\n",
      "low: 89 / 345: 25.80\n",
      "high: 10163 / 13151: 77.28\n",
      "all: 10252 / 13496: 75.96\n",
      "\n",
      "BART on low conf. from MISO\n",
      "low: 1515 / 2649: 57.19\n",
      "high: 9632 / 10847: 88.80\n",
      "all: 11147 / 13496: 82.59\n",
      "\n"
     ]
    }
   ],
   "source": [
    "# print report \n",
    "for (model_a, model_b), count_data in counts_by_model_pair.items():\n",
    "    print(f\"{model_a.upper()} on low conf. from {model_b.upper()}\")\n",
    "    print(f\"low: {count_data['low_correct']} / {count_data['low_total']}: {count_data['low_correct'] / count_data['low_total']*100:.2f}\")\n",
    "    print(f\"high: {count_data['high_correct']} / {count_data['high_total']}: {count_data['high_correct'] / count_data['high_total']*100:.2f}\")\n",
    "    print(f\"all: {count_data['all_correct']} / {count_data['all_total']}: {count_data['all_correct'] / count_data['all_total']*100:.2f}\")\n",
    "    print()"
   ]
  }
 ],
 "metadata": {
  "kernelspec": {
   "display_name": "Python 3.6.13 ('miso_new')",
   "language": "python",
   "name": "python3"
  },
  "language_info": {
   "codemirror_mode": {
    "name": "ipython",
    "version": 3
   },
   "file_extension": ".py",
   "mimetype": "text/x-python",
   "name": "python",
   "nbconvert_exporter": "python",
   "pygments_lexer": "ipython3",
   "version": "3.6.13"
  },
  "orig_nbformat": 4,
  "vscode": {
   "interpreter": {
    "hash": "9db1c0e1c59df8b57e6ccdbb7c3746bf45f553f1d28626d748c067e213df640a"
   }
  }
 },
 "nbformat": 4,
 "nbformat_minor": 2
}
