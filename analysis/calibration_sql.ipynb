{
 "cells": [
  {
   "cell_type": "code",
   "execution_count": 51,
   "metadata": {},
   "outputs": [],
   "source": [
    "import json \n",
    "import numpy as np \n",
    "from tqdm import tqdm \n",
    "from pathlib import Path\n",
    "from collections import defaultdict\n",
    "from transformers import AutoTokenizer \n",
    "\n",
    "tokenizer = AutoTokenizer.from_pretrained(\"t5-base\")\n",
    "\n",
    "def get_prediction(prob_dict):\n",
    "    predicted_toks_and_probs = []\n",
    "    all_top_k_idxs = prob_dict['top_logit_idxs'][0]\n",
    "    all_top_probs = prob_dict['top_logits'][0]\n",
    "    # all_top_probs = [np.exp(x)/np.sum(np.exp(x),keepdims=True) for x in all_top_probs]\n",
    "    # all_top_toks = tokenizer.batch_decode(all_top_k_idxs) \n",
    "    all_top_toks = all_top_k_idxs\n",
    "    # print(all_top_toks)\n",
    "    # sys.exit()\n",
    "    input_str = prob_dict['input_str'][0]\n",
    "\n",
    "    for timestep in range(len(prob_dict['top_logit_idxs'][0])):\n",
    "        # best_prob, best_tok = probs[top_k_idxs[0]], toks[top_k_idxs[0]]\n",
    "        best_prob_idx = np.argmax(all_top_probs[timestep])\n",
    "        best_tok, best_prob = all_top_toks[timestep][best_prob_idx], all_top_probs[timestep][best_prob_idx]\n",
    "        predicted_toks_and_probs.append((best_tok, best_prob, all_top_probs[timestep], all_top_toks[timestep]))\n",
    "    return predicted_toks_and_probs\n",
    "\n",
    "def check_tokens(pred_tok, tgt_tok, prev_tgts):\n",
    "    if \"SourceCopy\" not in pred_tok and \"TargetCopy\" not in pred_tok:\n",
    "        return pred_tok == tgt_tok\n",
    "    elif \"SourceCopy\" in pred_tok:\n",
    "        return pred_tok.split(\"_\")[1] == tgt_tok\n",
    "    else:\n",
    "        try:\n",
    "            tok_idx = int(pred_tok.split(\"_\")[1])-1\n",
    "            return prev_tgts[tok_idx] == tgt_tok\n",
    "        except IndexError:\n",
    "            print(len(prev_tgts))\n",
    "            print(pred_tok)\n",
    "            print(prev_tgts)\n",
    "            raise AssertionError\n",
    "    \n",
    "\n",
    "def read_json(path): \n",
    "    print(f\"opening data\")\n",
    "    with open(path) as f1:\n",
    "        data = [json.loads(l) for l in f1]\n",
    "    print(f\"got data\")\n",
    "    return data\n",
    "\n",
    "def get_probs(data):\n",
    "    probs_to_ret = defaultdict(list)\n",
    "    func_ontology = set()\n",
    "\n",
    "    mistakes, corrects = [], []\n",
    "\n",
    "    for instance_idx, prob_dict in tqdm(enumerate(data)): \n",
    "\n",
    "        # left_context = [x[0] for x in instance['left_context']][1:]\n",
    "        # probs = instance['prob_dist']\n",
    "        predicted_toks = get_prediction(prob_dict)\n",
    "        source_tokens = prob_dict['input_str'][0]\n",
    "        left_context = [''] + prob_dict['labels'][0]\n",
    "        target_toks = left_context + [\"@end@\"]\n",
    "        left_context_str = tokenizer.batch_decode(left_context)[0]\n",
    "        for i in range(len(prob_dict['top_logit_idxs'][0])):\n",
    "            input_token = left_context[i]\n",
    "            output_token, output_prob, top_k_probs, top_k_tokens = predicted_toks[i]\n",
    "            target_token = prob_dict['labels'][0][i]\n",
    "            # tokens_are_equal = check_tokens(output_token, target_token, left_context[:i])\n",
    "            tokens_are_equal = output_token == target_token\n",
    "            if not tokens_are_equal:\n",
    "                mistake = {\"instance_idx\": instance_idx,\n",
    "                           \"source_tokens\": source_tokens,\n",
    "                           \"left_context\": left_context[0:i],\n",
    "                           \"target_toks\": target_toks,\n",
    "                           \"output_token\": output_token,\n",
    "                           \"output_prob\": output_prob,\n",
    "                           \"top_k_tokens\": top_k_tokens,\n",
    "                           \"top_k_probs\": top_k_probs,\n",
    "                           \"target_token\": target_token}\n",
    "                mistakes.append(mistake)\n",
    "            else:\n",
    "                correct = {\"instance_idx\": instance_idx,\n",
    "                           \"source_tokens\": source_tokens,\n",
    "                           \"left_context\": left_context[0:i],\n",
    "                           \"target_toks\": target_toks,\n",
    "                           \"output_token\": output_token,\n",
    "                           \"output_prob\": output_prob,\n",
    "                           \"top_k_tokens\": top_k_tokens,\n",
    "                           \"top_k_probs\": top_k_probs,\n",
    "                           \"target_token\": target_token}\n",
    "                corrects.append(correct)\n",
    "\n",
    "    return mistakes, corrects"
   ]
  },
  {
   "cell_type": "code",
   "execution_count": 52,
   "metadata": {},
   "outputs": [
    {
     "name": "stdout",
     "output_type": "stream",
     "text": [
      "opening data\n",
      "got data\n"
     ]
    }
   ],
   "source": [
    "# data = read_json(\"/home/estengel/scratch/dockeroutput/t5_3b_losses.jsonl\")\n",
    "data = read_json(\"/home/estengel/scratch/dockeroutput/t5_large_losses.jsonl\")\n"
   ]
  },
  {
   "cell_type": "code",
   "execution_count": 53,
   "metadata": {},
   "outputs": [
    {
     "name": "stderr",
     "output_type": "stream",
     "text": [
      "521it [00:00, 1357.14it/s]\n"
     ]
    }
   ],
   "source": [
    "mistakes, corrects = get_probs(data)"
   ]
  },
  {
   "cell_type": "code",
   "execution_count": 54,
   "metadata": {},
   "outputs": [
    {
     "name": "stdout",
     "output_type": "stream",
     "text": [
      "918\n",
      "21693\n",
      "136 of 304 (44.74%) examples have one mistake only\n",
      "number of unique failures: 918\n",
      "number of failure examples: 304\n",
      "number of correct examples: 521\n",
      "accuracy: 0.6315151515151515\n",
      "mistakes per mistake example: 3.0197368421052633\n"
     ]
    }
   ],
   "source": [
    "from collections import Counter\n",
    "print(len(mistakes))\n",
    "print(len(corrects))\n",
    "\n",
    "mistake_examples = len(set([x['instance_idx'] for x in mistakes])) \n",
    "correct_examples = len(set([x['instance_idx'] for x in corrects]))\n",
    "\n",
    "mistake_idxs = [x['instance_idx'] for x in mistakes]\n",
    "mistake_counter = Counter(mistake_idxs)\n",
    "mistake_only_once = [x for x in mistake_counter if mistake_counter[x] == 1]\n",
    "print(f\"{len(mistake_only_once)} of {mistake_examples} ({len(mistake_only_once)/mistake_examples*100:.2f}%) examples have one mistake only\")\n",
    "print(f\"number of unique failures: {len(mistakes)}\")\n",
    "print(\"number of failure examples: \" +  str(mistake_examples))\n",
    "print(\"number of correct examples: \" +  str(correct_examples)) \n",
    "\n",
    "print(f\"accuracy: {correct_examples/(correct_examples+mistake_examples)}\")\n",
    "\n",
    "print(f\"mistakes per mistake example: {len(mistakes)/mistake_examples}\")\n"
   ]
  },
  {
   "cell_type": "code",
   "execution_count": 55,
   "metadata": {},
   "outputs": [],
   "source": [
    "import seaborn as sns\n",
    "import matplotlib.pyplot as plt\n",
    "import numpy as np \n",
    "import pandas as pd \n",
    "\n"
   ]
  },
  {
   "cell_type": "code",
   "execution_count": 56,
   "metadata": {},
   "outputs": [
    {
     "name": "stdout",
     "output_type": "stream",
     "text": [
      "0.9472680997290123\n",
      "0.9979377981401196\n"
     ]
    }
   ],
   "source": [
    "mistake_probs = [x['output_prob'] for x in mistakes if np.isnan(x['output_prob']) == False]\n",
    "correct_probs = [x['output_prob'] for x in corrects]\n",
    "\n",
    "\n",
    "print(np.mean(mistake_probs))\n",
    "print(np.mean(correct_probs))\n",
    "\n",
    "# prob_df = pd.DataFrame(columns=['prob', 'correct'])\n",
    "prob_df_data = []\n",
    "for prob in mistake_probs:\n",
    "    prob_df_data.append({'prob': prob, 'correct': False}) \n",
    "for prob in correct_probs:\n",
    "    prob_df_data.append({'prob': prob, 'correct': True}) \n",
    "\n",
    "\n",
    "prob_df = pd.DataFrame(prob_df_data)\n",
    "\n",
    "\n",
    "\n"
   ]
  },
  {
   "cell_type": "code",
   "execution_count": 57,
   "metadata": {},
   "outputs": [],
   "source": [
    "import scipy \n",
    "from collections import Counter\n",
    "\n",
    "values, bin_edges, bin_number = scipy.stats.binned_statistic(prob_df['prob'], \n",
    "                                                             prob_df['correct'], \n",
    "                                                             statistic='mean', \n",
    "                                                             bins=20)\n",
    "bin_lookup = Counter(bin_number)"
   ]
  },
  {
   "cell_type": "code",
   "execution_count": 59,
   "metadata": {},
   "outputs": [
    {
     "name": "stdout",
     "output_type": "stream",
     "text": [
      "    prob_model  prob_correct    count\n",
      "0     0.327651      0.500000      2.0\n",
      "1     0.361268      0.000000      2.0\n",
      "2     0.394886      0.333333      3.0\n",
      "3     0.428503      0.500000      2.0\n",
      "4     0.462121      1.000000      1.0\n",
      "5     0.495738      0.666667     15.0\n",
      "6     0.529356      0.312500     16.0\n",
      "7     0.562973      0.500000     16.0\n",
      "8     0.596591      0.550000     20.0\n",
      "9     0.630208      0.409091     22.0\n",
      "10    0.663825      0.380952     21.0\n",
      "11    0.697443      0.500000     14.0\n",
      "12    0.731060      0.304348     23.0\n",
      "13    0.764678      0.416667     24.0\n",
      "14    0.798295      0.521739     23.0\n",
      "15    0.831913      0.566667     30.0\n",
      "16    0.865530      0.550000     40.0\n",
      "17    0.899148      0.567164     67.0\n",
      "18    0.932765      0.534653    101.0\n",
      "19    0.966383      0.968515  22169.0\n"
     ]
    },
    {
     "data": {
      "image/png": "[encoded data removed]",
      "text/plain": [
       "<Figure size 360x360 with 1 Axes>"
      ]
     },
     "metadata": {
      "needs_background": "light"
     },
     "output_type": "display_data"
    }
   ],
   "source": [
    "fig, ax = plt.subplots(figsize=(5,5))\n",
    "\n",
    "df_to_plot = pd.DataFrame(columns=[\"prob_model\", \"prob_correct\", \"count\"])\n",
    "for i, (val, edge, bin_num) in enumerate(zip(values, bin_edges, bin_number)):\n",
    "    df_to_plot = df_to_plot.append({\"prob_model\": edge, \n",
    "                                    \"prob_correct\": val, \n",
    "                                    \"count\": bin_lookup[i+1]}, \n",
    "                                    ignore_index=True)\n",
    "\n",
    "\n",
    "sns.scatterplot(data=df_to_plot, x = \"prob_model\", y=\"prob_correct\", size=\"count\", ax=ax, legend='brief')\n",
    "xs_line = np.linspace(0,1,2)\n",
    "ys_line = xs_line\n",
    "sns.lineplot(x = xs_line, y=ys_line, ax=ax, color='black')\n",
    "\n",
    "print(df_to_plot)"
   ]
  },
  {
   "cell_type": "code",
   "execution_count": null,
   "metadata": {},
   "outputs": [],
   "source": [
    "np.random.seed(12)\n",
    "# inspect mistakes \n",
    "# sample 10 from across the range of mistakes\n",
    "n_bins = 20\n",
    "\n",
    "mistakes = [x for x in mistakes if not np.isnan(x['output_prob'])]\n",
    "values, bins, bin_number = scipy.stats.binned_statistic([x['output_prob'] for x in mistakes], [x['output_prob'] for x in mistakes], statistic='mean', bins=n_bins)\n",
    "\n",
    "for i in range(1, len(bins)):\n",
    "    bin_mistakes = [x for j, x in enumerate(mistakes) if bin_number[j] == i]\n",
    "    if len(bin_mistakes) == 0:\n",
    "        print(i)\n",
    "        print(bin_number[0:10])\n",
    "\n",
    "    mistake = np.random.choice(bin_mistakes, size=1)[0]\n",
    "    print(f\"Source: {mistake['source_tokens']}\")\n",
    "    print(f\"Left context: {' '.join(tokenizer.batch_decode(mistake['left_context']))}\")\n",
    "    print(f\"TARGET: {' '.join(tokenizer.batch_decode(mistake['target_toks'][0:-1]))}\")\n",
    "    print(f\"PRED TOK {tokenizer.batch_decode([mistake['output_token']])}\")\n",
    "    print(f\"TOP PREDS: {tokenizer.batch_decode(mistake['top_k_tokens'])}\")\n",
    "    print(f\"TOP PROBS: {mistake['top_k_probs']}\")\n",
    "    print(f\"TRUE TARGET: {tokenizer.batch_decode([mistake['target_token']])}\")\n",
    "    print(\"\")\n"
   ]
  },
  {
   "cell_type": "code",
   "execution_count": null,
   "metadata": {},
   "outputs": [],
   "source": [
    "import scipy\n",
    "from scipy import stats\n",
    "np.random.seed(12)\n",
    "# lets look at inputs for 100 mistakes \n",
    "n_bins = 100\n",
    "values, bins, bin_number = scipy.stats.binned_statistic([x['output_prob'] for x in mistakes], [x['output_prob'] for x in mistakes], statistic='mean', bins=n_bins)\n",
    "\n",
    "for i in range(1, len(bins)):\n",
    "    bin_mistakes = [x for j, x in enumerate(mistakes) if bin_number[j] == i and mistake_counter[x['instance_idx']] == 1]\n",
    "    if len(bin_mistakes) == 0:\n",
    "        continue\n",
    "    mistake = np.random.choice(bin_mistakes, size=1)[0]\n",
    "    utt = mistake['source_tokens'].split(\"__User\")[-1]\n",
    "    print(f\"{utt}, {mistake['output_token']}, {mistake['target_token']}, {mistake['output_prob']:.3f}\")"
   ]
  },
  {
   "cell_type": "code",
   "execution_count": null,
   "metadata": {},
   "outputs": [],
   "source": [
    "# What percentage of mistakes are low probability? \n",
    "# What percentage of correct are high probability? \n",
    "\n",
    "mistake_probs = [x['output_prob'] for x in mistakes]\n",
    "correct_probs = [x['output_prob'] for x in corrects]\n",
    "correct_probs = np.random.choice(correct_probs, size = len(mistake_probs), replace=False)\n",
    "fig, ax = plt.subplots(2,1, figsize=(5,5), sharex=False, sharey=False)\n",
    "sns.histplot(mistake_probs, ax=ax[0], binwidth=0.001)\n",
    "sns.histplot(correct_probs, ax=ax[1], binwidth=0.001)\n",
    "ax[0].set_xlim(0.0, 1.0)\n",
    "ax[1].set_xlim(0.995, 1.0)\n",
    "\n"
   ]
  },
  {
   "cell_type": "code",
   "execution_count": null,
   "metadata": {},
   "outputs": [],
   "source": [
    "# what's the optimal threshold? \n",
    "\n",
    "def compute_f1(df, thresh, downsample=True, min_sample_size=1000):\n",
    "    pred_mistakes = df[df['prob'] < thresh]\n",
    "    pred_corrects = df[df['prob'] >= thresh]\n",
    "    if len(pred_mistakes) < min_sample_size or len(pred_corrects) < min_sample_size:\n",
    "        return [0, 0, 0, 0]\n",
    "    if downsample:\n",
    "        min_len = min(len(pred_mistakes), len(pred_corrects))\n",
    "        pred_mistakes = pred_mistakes.sample(n=min_len, replace=False)\n",
    "        pred_corrects = pred_corrects.sample(n=min_len, replace=False)\n",
    "\n",
    "\n",
    "    false_negatives = len(pred_mistakes[pred_mistakes['correct'] == True])\n",
    "    false_positives = len(pred_corrects[pred_corrects['correct'] == False])\n",
    "    true_positives = len(pred_corrects[pred_corrects['correct'] == True])\n",
    "    true_negatives = len(pred_mistakes[pred_mistakes['correct'] == False])\n",
    "    try:\n",
    "        precision = true_positives/(true_positives + false_positives)\n",
    "    except ZeroDivisionError:\n",
    "        precision = 0\n",
    "    try:\n",
    "        recall = true_positives/(true_positives + false_negatives)\n",
    "    except ZeroDivisionError:\n",
    "        recall = 0\n",
    "    try:\n",
    "        f1 = 2*precision*recall/(precision + recall)\n",
    "    except ZeroDivisionError:\n",
    "        f1 = 0\n",
    "\n",
    "\n",
    "    accuracy = (true_positives + true_negatives)/(true_positives + true_negatives + false_positives + false_negatives)\n",
    "    return [f1, precision, recall, accuracy]\n",
    "\n",
    "threshes = np.arange(0.00, 1.0, 0.01)\n",
    "f1s = [[thresh] + compute_f1(prob_df, thresh) for thresh in threshes]\n",
    "\n",
    "# why is this so low, seems like 0.49 misses most of the true negatives\n",
    "# F1 score doesn't take true negatives into account; since there are a lot more correct than mistake, \n",
    "# maybe classifying everything as correct isn't that bad\n",
    "# we get 0.0.98 precision, 1.0 recall by setting threshold to 0.0; that's not good \n",
    "best_thresh_f1, *best_f1 = max(f1s, key=lambda x: x[1])\n",
    "best_thresh_acc, *best_acc = max(f1s, key=lambda x: x[-1])\n",
    "print(\"f1\", best_thresh_f1, best_f1)\n",
    "print(f\"accuracy\", best_thresh_acc, best_acc)\n",
    "\n",
    "\n",
    "# so anything less than 0.995 confidence can safely be said to be a mistake, with 0.94 F1 (pretty good), super high precision, lower recall "
   ]
  },
  {
   "cell_type": "code",
   "execution_count": null,
   "metadata": {},
   "outputs": [],
   "source": [
    "print(len(prob_df))"
   ]
  },
  {
   "cell_type": "code",
   "execution_count": null,
   "metadata": {},
   "outputs": [],
   "source": []
  }
 ],
 "metadata": {
  "kernelspec": {
   "display_name": "Python 3.6.13 ('miso_new')",
   "language": "python",
   "name": "python3"
  },
  "language_info": {
   "codemirror_mode": {
    "name": "ipython",
    "version": 3
   },
   "file_extension": ".py",
   "mimetype": "text/x-python",
   "name": "python",
   "nbconvert_exporter": "python",
   "pygments_lexer": "ipython3",
   "version": "3.6.13"
  },
  "orig_nbformat": 4,
  "vscode": {
   "interpreter": {
    "hash": "9db1c0e1c59df8b57e6ccdbb7c3746bf45f553f1d28626d748c067e213df640a"
   }
  }
 },
 "nbformat": 4,
 "nbformat_minor": 2
}
