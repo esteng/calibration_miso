{
 "cells": [
  {
   "cell_type": "code",
   "execution_count": 2,
   "metadata": {},
   "outputs": [],
   "source": [
    "import json\n",
    "import numpy as np \n",
    "from collections import defaultdict"
   ]
  },
  {
   "cell_type": "code",
   "execution_count": 3,
   "metadata": {},
   "outputs": [],
   "source": [
    "def read_nucleus_file(miso_pred_file):\n",
    "    with open(miso_pred_file, \"r\") as f:\n",
    "        data = [json.loads(x) for x in f.readlines()]\n",
    "    to_ret = []\n",
    "    data_by_src_str = defaultdict(list)\n",
    "    for line in data:\n",
    "        data_by_src_str[line['src_str']].append(line) \n",
    "\n",
    "    for src_str, lines in data_by_src_str.items():\n",
    "        total_probs = [np.exp(np.sum(np.log(x['expression_probs']))) \n",
    "                                if x['expression_probs'] is not None else 0.0 \n",
    "                                    for x in lines ]\n",
    "        min_probs = []\n",
    "        for x in lines:\n",
    "            if x['expression_probs'] is not None and len(x['expression_probs']) > 0:\n",
    "                min_probs.append(np.min(x['expression_probs']))\n",
    "            else:\n",
    "                min_probs.append(0.0)\n",
    "\n",
    "        combo_lines = zip(lines, min_probs, total_probs)\n",
    "        sorted_combo_lines = sorted(combo_lines, key=lambda x: x[-1], reverse=True)\n",
    "        data_by_src_str[src_str] = sorted_combo_lines\n",
    "    return data_by_src_str"
   ]
  },
  {
   "cell_type": "code",
   "execution_count": 6,
   "metadata": {},
   "outputs": [],
   "source": [
    "nuc_data = read_nucleus_file(\"/brtx/604-nvme1/estengel/calflow_calibration/miso/tune_roberta_tok_fix_benchclamp_data/translate_output_calibrated/dev_all.tgt\")"
   ]
  },
  {
   "cell_type": "code",
   "execution_count": 19,
   "metadata": {},
   "outputs": [
    {
     "name": "stdout",
     "output_type": "stream",
     "text": [
      " Oh , okay , well , can you just mark down a morning check - in with Pete at Starbucks for 10 : 30 am on next Thursday ?\n",
      " can you add my vacation starting Monday at 8 am until Saturday at 8 pm\n",
      " Add packing to the night before , from 8 to 10 pm .\n",
      " Can you schedule me a meeting with Fiona Mason and Karl Boon tomorrow from 2 pm - 4 pm ?\n",
      " Set a meeting with Lisa at 12 : 00 pm 04 / 27 / 2019\n",
      " Yes and Please also accept road trip with Jolene , and let her know I ca n't believe we are going to Napa !\n",
      " can you set meetnig with Tom on Wednesday at 10 am to 11 am ?\n",
      " Yes . I need to decline my invitation to the panel discussion on Tuesday . could you also add the comment \" Sorry my kid has the dentist that day . \"\n",
      " Hi , I need to add a trip to the San Francisco airport for Monday , the first of April at 1 pm .\n",
      " Schedule a meeting with bob between 1 - 5 pm for 45 minutes on friday\n",
      " Schedule a one on one with Elli for We d at 4'00 pm .\n",
      " Yes , thanks ! Decline my Rehearsal Dinner and say that I 'm not going to be in the wedding any more .\n",
      " Add attend Michelle 's 21 st birthday party this Sunday from 3 : 00 PM to 5 : 00 PM please .\n",
      " Create Friendsgiving for this Thursday at 5 pm with Jaron , Bobbin , Steve - O , and Kiandre .\n",
      " Can you add Sharon to the golfing with Don , Moira and Steve and have it end at 4 : 30 pm .\n",
      " I have a meeting with Andy on Tuesday at 1 pm that will go until 1 : 45 pm in Andy 's office\n",
      " I also have the leadership conference from 9 am to 5 pm on March 9 it 's at Haverford College\n",
      " make a meeting with pattinson tomorrow 8 . 30 am - 9 . 00 am\n",
      " Schedule a meet with Chris on Tuesday for 12 - 2 PM\n",
      " 2 - 4 PM is down time with janice .\n",
      " Could you put bike riding with Jim on my calendar for today at 3 pm till the end of the day ?\n",
      " Mark 2 - 3 as lunch with Alex\n",
      " I have a meeting tomorrow with Tom 's boss , it 's from 9 am to 9 : 25 am .\n",
      " Cool , then make a meeting this Friday with Kim and her manager along with Abby and her manager .\n",
      " I need to be with Jesse , Kim , and Abby tomorrow from 3 to 5\n",
      " After the conference I would like to set something up with Wendy and her team .\n",
      " ok , create an event with david lax and his reports for tomorrow night\n",
      " Put Strange Aeons for sunday at 7 : 30 pm until 11 pm . It 'll be in Roll20 as usual .\n",
      " Can you add a meeting with Barack Obama on Wednesday at 2 : 00 pm to 3 : 00 pm .\n",
      " Schedule a work meeting on March 19 , 2039 , from 1 to 3 PM .\n",
      " I want you to put shop for school supplies on March 1 from 2 - 3 pm at Target .\n",
      " Yes . Please add birthday party for Jill the next night at Chili 's restaurant at 8 pm .\n",
      " Can you put horse riding lessons on the schedule for Sunday from 9 : 30 am to 10 : 30 am . It 's at Woodhaven Stable .\n",
      " I have a birthday party Sunday 3 pm to 7 pm\n",
      " Create OBGYN appointment on June 13 th at 11 am to 12 pm with Barack Obama\n",
      " make a meeting with anderson tomorrow 8 . 30 am - 9 . 00 am\n",
      " I have an anniversary date on the 22 nd at Shiro 's Sushi from 5 : 30 pm to 7 pm . Add that to the calendar please .\n",
      " Can you make me a new meeting on Friday with jerry , bob , sam , jim , colette , coleen , brandon , emily , susan , and joe at Frank 's crab house on Main st .\n",
      " Schedule a meeting with Elli from 4 PM until the end of the day tomorrow .\n",
      " create a meeting with david crim and kim possible before noon\n",
      " Looks good . Add lunch with Sophie for right after .\n",
      " I have a pizza party at 4 : 00 to 5 : 30 PM , can you add order pizza an hour before the party ?\n",
      " Okay , now can you also add , go shopping for birthday present to Friday from 1 to 3 pm ?\n",
      " Add a meeting with Abby to my calendar for tomorrow to 2 - 3 pm\n",
      " make a meeting with lucy tomorrow 8 . 00 am - 8 . 30 am\n",
      " I need a meeting with kim and her skip tomorrow morning .\n",
      " Set aside 2 hours on Sunday for a Museum Tour at Long Beach Museum of Art .\n",
      " Please update the meeting with Jared and his manager and Kim and her boss Friday has changed to 2 pm .\n",
      " Create event late evening shopping at Target with Jennie at 8 : 00 pm for 1 hour today .\n",
      " Hi , can you add that I need to meet with Stephen on Wednesday at Starbucks , just from 11 to 11 : 30 am ?\n",
      " Fabulous , now can you also add Lunch with Nico on the day after for 12 : 30 to 1 : 30 pm ?\n",
      " Please book a room in Idaho Pizza Kitchen for Saturday 1 - 3 .\n",
      " Can you set up a presentation with Elli and her Team tomorrow at 3 ?\n",
      " That 's perfect . Also decline Porsche Test Drive . I do n't have enough money for a new car right now .\n",
      " Schedule a meeting on Monday with Patricia at 3 : 00 PM to 3 : 30 PM\n",
      " My cousin Jane and I are going to see BoB at the Slowdown in Omaha on the 16 th\n",
      " Move Tuesday 's meeting with Jefferson to Friday at nine .\n",
      " Thanks . Now I would like you to accept my Winning TI event and say that I 'm gon na be the first three time TI winner\n",
      " Good . Now I need you to accept smash weeklies and say \" I 'm gon na take your money\n",
      " Push back softball today by 30 minutes .\n",
      " schedule a consultation with Max and Ruby next Monday for 1 hour sometime between 8 am and 12 pm to discuss arrangements\n",
      " schedule a dinner meeting with mary for 5 - 6 pm today .\n",
      " Okay , great , can you also mark down a meeting for the following Monday at 12 : 15 at the Olive Garden with Nathaniel and Mark ?\n",
      " Create an event with going to park with Sam on Sunday from 1 to 4 pm .\n",
      " make a meeting with abby tomorrow 9 . 00 am to 9 . 30 am\n",
      " ok please schedule a meeting with me and Jake for noon tomorrow through the end of day\n",
      " And add ping pong practice for 5 pm next Friday to 7 pm .\n",
      " We 've got a team meeting that needs to be added to the schedule on Thursday of next week at 1 : 30 pm for an hour . Put us in a conference room , invite Abby and Lewis , and give Pierre the option to come if he wants to or not .\n",
      " Schedule Tennis at The Casa Cabana tomorrow from 1 to 4 pm .\n",
      " Thanks , can you add another working lunch with Cal on Tuesday the 18 th from 12 : 15 to 1 pm ?\n",
      " Yes , thank you . Also , accept my Charity Bake Sale and say that I will bring chocolate chip cookies , fudge , and brownies .\n",
      " I went to the Opera last night from 7 to 10 pm , add it to my calendar .\n",
      " Input Lady Gaga concert on December 12 from 7 PM to 10 PM .\n",
      " Yes but make it last 3 days .\n",
      " Please accept my invite to John 's wedding and let him know I bought the gift\n",
      " 2 - 5 tomorrow is band practice\n",
      " thanks that ok . Now Accept my Lunch date and say its my turn to pay\n",
      " Please create an event for Tracy 's Birthday on February 10 from 2 pm to 6 pm\n",
      " Create an event called working 5 to 9 pm tomorrow .\n",
      " Schedule John and Jennie 's anniversary party on Sunday at 3 : 00 to 4 : 00 Pm .\n",
      " Yes , thanks so much . Decline my Bacon and Meat Party invitation on Thursday and tell the organizer that I do n't eat meat any more and I do n't want to attend the party .\n",
      " Is Tom coming to the Sunday charity event ?\n",
      " Mark me as busy from 2 to 5 pm tomorrow .\n",
      " I need to change the time I am meeting Thomas to 6 : 00 on Saturday .\n"
     ]
    }
   ],
   "source": [
    "\n",
    "for x, nuc in nuc_data.items():\n",
    "    min_prob = nuc[0][1]\n",
    "    total_prob = nuc[0][2]\n",
    "    nuc = nuc[0][0]\n",
    "    eprobs = nuc['expression_probs']\n",
    "    if min_prob is None or eprobs is None or len(eprobs) == 0:\n",
    "        continue\n",
    "    if min_prob < 0.1 and eprobs[0] > 0.9:\n",
    "        split_x = x.split(\"__User\")[-1]\n",
    "        print(split_x)\n",
    "\n"
   ]
  },
  {
   "cell_type": "code",
   "execution_count": null,
   "metadata": {},
   "outputs": [],
   "source": []
  }
 ],
 "metadata": {
  "kernelspec": {
   "display_name": "Python 3.6.13 ('miso_new')",
   "language": "python",
   "name": "python3"
  },
  "language_info": {
   "codemirror_mode": {
    "name": "ipython",
    "version": 3
   },
   "file_extension": ".py",
   "mimetype": "text/x-python",
   "name": "python",
   "nbconvert_exporter": "python",
   "pygments_lexer": "ipython3",
   "version": "3.6.13"
  },
  "orig_nbformat": 4,
  "vscode": {
   "interpreter": {
    "hash": "9db1c0e1c59df8b57e6ccdbb7c3746bf45f553f1d28626d748c067e213df640a"
   }
  }
 },
 "nbformat": 4,
 "nbformat_minor": 2
}
